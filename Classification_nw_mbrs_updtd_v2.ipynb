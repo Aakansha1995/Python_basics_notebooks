{
 "cells": [
  {
   "cell_type": "code",
   "execution_count": 1,
   "metadata": {
    "collapsed": true
   },
   "outputs": [],
   "source": [
    "from pyspark import SparkContext, SparkConf\n",
    "from pyspark.sql import HiveContext\n",
    "from pyspark.sql import functions as F\n",
    "from pyspark.sql.functions import *\n",
    "from pyspark.sql.types import *\n",
    "from pyspark.sql.window import Window\n",
    "from pyspark.sql.functions import trim\n",
    "\n",
    "from pyspark.sql import SQLContext\n",
    "\n",
    "from pyspark.ml.feature import StandardScaler\n",
    "from pyspark.ml.linalg import Vectors\n",
    "from pyspark.ml.feature import VectorAssembler\n",
    "from pyspark.ml.clustering import KMeans\n",
    "from pyspark.ml.feature import StringIndexer\n",
    "from pyspark.ml.clustering import KMeansModel\n",
    "from pyspark.ml import Pipeline\n",
    "\n",
    "import pandas as pd\n",
    "\n",
    "hc = HiveContext(sc)"
   ]
  },
  {
   "cell_type": "code",
   "execution_count": 2,
   "metadata": {
    "collapsed": true
   },
   "outputs": [],
   "source": [
    "data = hc.table(\"cust_exp_enc.n369087_cp_segmentation_Sub_base_v3\")"
   ]
  },
  {
   "cell_type": "code",
   "execution_count": 4,
   "metadata": {
    "collapsed": true
   },
   "outputs": [
    {
     "data": {
      "text/plain": [
       "['individual_id',\n",
       " 'individual_analytics_identifier',\n",
       " 'proxy_id',\n",
       " 'funding_category',\n",
       " 'customer_sub_segment_code',\n",
       " 'medical_plan_type',\n",
       " 'gender',\n",
       " 'age',\n",
       " 'covered_dependents_count',\n",
       " 'vision_product',\n",
       " 'dental_product',\n",
       " 'rx_ind',\n",
       " 'pas_12_months_login',\n",
       " 'action_atts',\n",
       " 'call_count',\n",
       " 'hdhp_flag',\n",
       " 'high_deductible_flag',\n",
       " 'pas_12_claims',\n",
       " 'pas_12_med_cost',\n",
       " 'pas_12_med_cost_inn',\n",
       " 'pas_12_med_cost_oon',\n",
       " 'pas_12_inn_visits',\n",
       " 'pas_12_oon_visits',\n",
       " 'pas_12_pcp_visits',\n",
       " 'urbsubr',\n",
       " 'employment_index',\n",
       " 'a_hh_median_income',\n",
       " 'higher_education_index',\n",
       " 'physical_inactivity_index',\n",
       " 'hpd_at_risk',\n",
       " 'hpd_child_chronic',\n",
       " 'hpd_behavioral_health',\n",
       " 'hpd_specialty_chronic',\n",
       " 'hpd_at_polychronic',\n",
       " 'hpd_others',\n",
       " 'hpd_category_count',\n",
       " 'disease_count',\n",
       " 'eng_ind',\n",
       " 'soe_active_not_engaged',\n",
       " 'complaint_count',\n",
       " 'appeal_count',\n",
       " 'claim_tenure',\n",
       " 'member_tenure',\n",
       " 'new_ind']"
      ]
     },
     "execution_count": 4,
     "metadata": {},
     "output_type": "execute_result"
    }
   ],
   "source": [
    "data.columns"
   ]
  },
  {
   "cell_type": "code",
   "execution_count": 3,
   "metadata": {
    "collapsed": true
   },
   "outputs": [],
   "source": [
    "cols_to_keep = ['individual_id',\n",
    " 'individual_analytics_identifier',\n",
    " 'proxy_id',\n",
    " 'funding_category',\n",
    " 'customer_sub_segment_code',\n",
    " 'medical_plan_type',\n",
    " 'gender',\n",
    " 'age',\n",
    " 'covered_dependents_count',\n",
    " 'vision_product',\n",
    " 'dental_product',\n",
    " 'rx_ind',\n",
    " 'hdhp_flag',\n",
    " 'high_deductible_flag',\n",
    " 'urbsubr',\n",
    " 'employment_index',\n",
    " 'a_hh_median_income',\n",
    " 'higher_education_index',\n",
    " 'physical_inactivity_index',\n",
    " 'new_ind'\n",
    "]"
   ]
  },
  {
   "cell_type": "code",
   "execution_count": 39,
   "metadata": {
    "collapsed": true
   },
   "outputs": [],
   "source": [
    "data_clssfctn = data[cols_to_keep]"
   ]
  },
  {
   "cell_type": "code",
   "execution_count": 40,
   "metadata": {},
   "outputs": [
    {
     "data": {
      "text/plain": [
       "[Row(new_ind=None, t_cnt=65847, uni_cnt=65847),\n",
       " Row(new_ind=1, t_cnt=2524685, uni_cnt=2524685),\n",
       " Row(new_ind=0, t_cnt=5369927, uni_cnt=5369927)]"
      ]
     },
     "execution_count": 40,
     "metadata": {},
     "output_type": "execute_result"
    }
   ],
   "source": [
    "data_clssfctn.groupby(\"new_ind\").agg(F.count(\"individual_analytics_identifier\").alias(\"t_cnt\"),\\\n",
    "                                    F.countDistinct(\"individual_analytics_identifier\").alias(\"uni_cnt\")).collect()"
   ]
  },
  {
   "cell_type": "code",
   "execution_count": 41,
   "metadata": {
    "collapsed": true
   },
   "outputs": [],
   "source": [
    "#4_clusters\n",
    "data_clustrng = hc.table(\"cust_exp_enc.n275675_cp_segmentation_base_prd_V1\")"
   ]
  },
  {
   "cell_type": "code",
   "execution_count": 42,
   "metadata": {
    "collapsed": true
   },
   "outputs": [],
   "source": [
    "data_clssfctn_1 = data_clssfctn.join(data_clustrng.select(\"individual_analytics_identifier\", \"prediction\"),\\\n",
    "                                     \"individual_analytics_identifier\", \"inner\")"
   ]
  },
  {
   "cell_type": "code",
   "execution_count": 14,
   "metadata": {
    "collapsed": true
   },
   "outputs": [
    {
     "name": "stdout",
     "output_type": "stream",
     "text": [
      "+-------------------------------+----------------+------------+----------------+-------------------------+------+---+------------------------+--------------+--------------+------+---------+--------------------+-------+----------------+------------------+----------------------+-------------------------+-------+----------+\n",
      "|individual_analytics_identifier|   individual_id|    proxy_id|funding_category|customer_sub_segment_code|gender|age|covered_dependents_count|vision_product|dental_product|rx_ind|hdhp_flag|high_deductible_flag|urbsubr|employment_index|a_hh_median_income|higher_education_index|physical_inactivity_index|new_ind|prediction|\n",
      "+-------------------------------+----------------+------------+----------------+-------------------------+------+---+------------------------+--------------+--------------+------+---------+--------------------+-------+----------------+------------------+----------------------+-------------------------+-------+----------+\n",
      "|                       10000108|   6887508685182|DT32G7BBBPXY|               B|                       NA|     M| 63|                       0|             0|             0|     0|        1|                   1|      S|          0.6893|           62604.0|                 0.586|                   0.4523|      0|         1|\n",
      "|                      100014461|       370818470|GT94DBBBBPXY|               B|                       NA|     M| 54|                       4|             0|             1|     0|        1|                   1|      S|          0.6965|          105634.0|                0.6167|                   0.3865|      0|         1|\n",
      "|                      100014594|1575249993044533|9VBR6BBBBPXZ|               B|                      KEY|     M| 56|                       3|             0|             0|     0|        0|                   1|      U|          0.6501|           81698.0|                0.6206|                   0.3459|      0|         1|\n",
      "|                      100018477| 943228606108216|WQT017BBBPXY|               B|                       NA|     F| 60|                       0|             0|             1|     0|        1|                   1|      S|            0.54|          106406.0|                 0.756|                   0.4666|      0|         1|\n",
      "|                      100040824|  40661813011701|D1RHQ7BBBPXY|               B|                       NA|     M| 56|                       1|             0|             0|     0|        0|                   1|      R|          0.2775|           52350.0|                0.1204|                   0.5532|      0|         1|\n",
      "|                      100051582|      3769995804|BZX0QQBBBPXY|               B|                       NA|     M| 64|                       0|             0|             0|     0|        0|                   1|      U|          0.6978|           97716.0|                0.4628|                   0.5532|      0|         1|\n",
      "|                      100112049|        89921598|2BKTVBBBBPXY|               A|                      KEY|     F| 66|                       0|             0|             0|     1|        0|                   0|      R|          0.3986|           33344.0|                0.1897|                   0.3216|      0|         1|\n",
      "|                      100119281|   9615472936823|NR349GBBBPXY|               B|                      NAG|     F| 57|                       2|             0|             1|     0|        0|                   0|      U|          0.5636|           46458.0|                0.2592|                   0.4152|      0|         1|\n",
      "|                      100140837|   9520418671667|LV1NPGBBBPXY|               B|                      NAG|     M| 56|                       1|             0|             1|     1|        0|                   0|      S|           0.461|           37318.0|                0.2803|                   0.2945|      0|         1|\n",
      "|                      100179913|   1874590461083|XF7VCGBBBPXY|               B|                       NA|     F| 54|                       1|             0|             0|     0|        0|                   0|      R|          0.6407|           86972.0|                0.4762|                   0.0054|      0|         1|\n",
      "|                      100231343|6952230491187530|0FNYV7BBBPXY|               B|                       NA|     F| 52|                       0|             0|             0|     0|        0|                   0|      R|          0.5985|           72625.0|                0.3381|                   0.3967|      0|         1|\n",
      "|                      100240252|      2302036388|7H2FVBBBBPXY|               B|                       NA|     M| 59|                       1|             0|             0|     0|        0|                   0|      R|          0.6122|           64175.0|                0.3135|                   0.2945|      0|         1|\n",
      "|                      100398424|       724121607|KJVBTBBBBPXY|               B|                       NA|     M| 59|                       0|             0|             0|     0|        1|                   1|      S|          0.4663|           34409.0|                0.2193|                   0.2945|      0|         1|\n",
      "|                      100439642|    684620763493|NHR96QBBBPXY|               B|                       NA|     M| 48|                       0|             0|             1|     0|        0|                   1|      R|          0.6372|           60833.0|                0.6648|                   0.3216|      0|         3|\n",
      "|                      100621337|        99146321|KSNBMBBBBPXY|               B|                       NA|     M| 64|                       0|             0|             0|     1|        1|                   1|      S|          0.6289|          155250.0|                0.7125|                   0.3133|      0|         1|\n",
      "|                      100621366|9377652108379477|XXR7BKBBBPXY|               B|                       NA|     M| 62|                       0|             0|             0|     1|        1|                   1|      S|          0.7373|           96926.0|                0.6285|                   0.5091|      0|         1|\n",
      "|                      100626427|         6035106|1S4RQBBBBPXY|               B|                       NA|     M| 65|                       1|             0|             0|     1|        0|                   0|      S|          0.6914|          151953.0|                0.6791|                   0.5091|      0|         2|\n",
      "|                      100627320|  33941249658326|PPYSMGBBBPXY|               B|                       NA|     M| 56|                       2|             0|             0|     1|        0|                   0|      S|          0.6721|           61295.0|                0.2414|                   0.5091|      0|         1|\n",
      "|                      100627560| 768393632382337|5D87P7BBBPXY|               B|                       NA|     M| 59|                       0|             0|             0|     1|        1|                   1|      S|          0.4395|           95020.0|                0.3371|                   0.5091|      0|         1|\n",
      "|                      100628744|        92137473|71KYHBBBBPXY|               B|                       NA|     F| 60|                       0|             0|             0|     1|        1|                   1|      S|          0.7415|           80516.0|                0.4213|                   0.5091|      0|         1|\n",
      "+-------------------------------+----------------+------------+----------------+-------------------------+------+---+------------------------+--------------+--------------+------+---------+--------------------+-------+----------------+------------------+----------------------+-------------------------+-------+----------+\n",
      "only showing top 20 rows\n",
      "\n"
     ]
    }
   ],
   "source": [
    "data_clssfctn_1.show()"
   ]
  },
  {
   "cell_type": "code",
   "execution_count": 10,
   "metadata": {},
   "outputs": [
    {
     "data": {
      "text/plain": [
       "2501368"
      ]
     },
     "execution_count": 10,
     "metadata": {},
     "output_type": "execute_result"
    }
   ],
   "source": [
    "data_clssfctn_1.count()#7,828,256"
   ]
  },
  {
   "cell_type": "code",
   "execution_count": 43,
   "metadata": {
    "collapsed": true
   },
   "outputs": [],
   "source": [
    "data_clssfctn_1.write.option(\"sep\",\"|\").format('orc').mode(\"overwrite\").saveAsTable(\"cust_exp_enc.n201366_segmentation_2020_nw_mbrs_clssfctn_inpv1_1\")"
   ]
  },
  {
   "cell_type": "code",
   "execution_count": 44,
   "metadata": {
    "collapsed": true
   },
   "outputs": [],
   "source": [
    "inp_data = hc.table(\"cust_exp_enc.n201366_segmentation_2020_nw_mbrs_clssfctn_inpv1_1\")"
   ]
  },
  {
   "cell_type": "code",
   "execution_count": 45,
   "metadata": {
    "collapsed": true
   },
   "outputs": [],
   "source": [
    "def drop_multiple_values(df, col_list):\n",
    "    for item in col_list:\n",
    "        df = df.filter(~(F.col(item).like('%/%')))\n",
    "    return df"
   ]
  },
  {
   "cell_type": "code",
   "execution_count": 46,
   "metadata": {
    "collapsed": true
   },
   "outputs": [],
   "source": [
    "#Updating urban value in urban suburban indicator :\n",
    "inp_data = inp_data.withColumn(\"urbsubr\", when(trim(col(\"urbsubr\")) == \"U\", \"Urb\").otherwise(col(\"urbsubr\")))"
   ]
  },
  {
   "cell_type": "code",
   "execution_count": 47,
   "metadata": {
    "collapsed": true
   },
   "outputs": [],
   "source": [
    "def drop_unknown_n_nulls(df,col_list):\n",
    "    for item in col_list:\n",
    "        \n",
    "        df = df.withColumn(item, when(F.lower(F.col(item)) == 'u', None).otherwise(F.col(item)))\n",
    "        df = df.withColumn(item, when(trim(col(item)) == '',None).otherwise(col(item)))\n",
    "    df = df.na.drop()\n",
    "    return df"
   ]
  },
  {
   "cell_type": "markdown",
   "metadata": {
    "collapsed": true
   },
   "source": [
    "def string_to_num(df, col_list):\n",
    "    for item in col_list:\n",
    "        categories = df.select(item).distinct().rdd.flatMap(lambda x: x).collect()\n",
    "\n",
    "        print categories\n",
    "        exprs = [(F.when(F.col(item) == category, 1).otherwise(0)).alias(item+\"_\"+category.replace(\" \",\"\").\\\n",
    "                                                                         replace(\"(\",\"\").replace(\")\",\"\")) for category in categories]\n",
    "\n",
    "        df = df.select('*', *exprs)\n",
    "        \n",
    "    return df"
   ]
  },
  {
   "cell_type": "code",
   "execution_count": 48,
   "metadata": {
    "collapsed": true
   },
   "outputs": [],
   "source": [
    "def preprocess_part1(data, cols_to_keep):\n",
    "    data_1 = drop_multiple_values(data, cols_to_keep)\n",
    "    #print data_1.count()\n",
    "    \n",
    "    data_2 = drop_unknown_n_nulls(data_1, cols_to_keep)\n",
    "    #print data_2.count()\n",
    "\n",
    "    \n",
    "    \n",
    "    #data_3 = string_to_num(data_2,cat_list)\n",
    "    #print data_3.count()\n",
    "    \n",
    "    return data_2"
   ]
  },
  {
   "cell_type": "code",
   "execution_count": 49,
   "metadata": {
    "collapsed": true
   },
   "outputs": [],
   "source": [
    "cat_list = ['funding_category',\n",
    "                 'customer_sub_segment_code',\n",
    "                 'gender',\n",
    "                 'urbsubr',\n",
    "           'medical_plan_type']"
   ]
  },
  {
   "cell_type": "code",
   "execution_count": 50,
   "metadata": {
    "scrolled": true
   },
   "outputs": [
    {
     "name": "stdout",
     "output_type": "stream",
     "text": [
      "+-------------------------------+-------------+------------+----------------+-------------------------+-----------------+------+---+------------------------+--------------+--------------+------+---------+--------------------+-------+----------------+------------------+----------------------+-------------------------+-------+----------+\n",
      "|individual_analytics_identifier|individual_id|    proxy_id|funding_category|customer_sub_segment_code|medical_plan_type|gender|age|covered_dependents_count|vision_product|dental_product|rx_ind|hdhp_flag|high_deductible_flag|urbsubr|employment_index|a_hh_median_income|higher_education_index|physical_inactivity_index|new_ind|prediction|\n",
      "+-------------------------------+-------------+------------+----------------+-------------------------+-----------------+------+---+------------------------+--------------+--------------+------+---------+--------------------+-------+----------------+------------------+----------------------+-------------------------+-------+----------+\n",
      "|                       10002666|    171548236|XCKRGQBBBPXY|               B|                       NA|   Managed Choice|     F| 62|                       0|             0|             0|     0|        1|                   1|      S|          0.6278|           57067.0|                0.3766|                   0.4523|      0|         1|\n",
      "|                       10003911|     62761543|BVS50BBBBPXY|               B|                       NA|   Managed Choice|     F| 62|                       0|             0|             0|     0|        1|                   1|    Urb|          0.5766|           68245.0|                0.3897|                   0.4523|      0|         1|\n",
      "|                      100112738|   2457192527|FNNNVBBBBPXY|               B|                      KEY|      PPO Medical|     F| 49|                       3|             0|             1|     0|        0|                   0|    Urb|          0.7196|          136563.0|                 0.612|                   0.3884|      0|         1|\n",
      "|                      100135063|    512667167|XHD09BBBBPXY|               B|                       NA|       HMO (ACAS)|     M| 68|                       1|             0|             0|     0|        0|                   0|    Urb|          0.5995|           49688.0|                0.1765|                   0.4152|      0|         1|\n",
      "|                      100219906|  45491504550|KKV8MQBBBPXY|               B|                       NA|   Managed Choice|     F| 65|                       1|             0|             0|     0|        0|                   0|      R|          0.4798|           40993.0|                0.2703|                   0.3216|      0|         1|\n",
      "+-------------------------------+-------------+------------+----------------+-------------------------+-----------------+------+---+------------------------+--------------+--------------+------+---------+--------------------+-------+----------------+------------------+----------------------+-------------------------+-------+----------+\n",
      "only showing top 5 rows\n",
      "\n"
     ]
    }
   ],
   "source": [
    "data_pre_processed = preprocess_part1(inp_data,cols_to_keep )\n",
    "data_pre_processed.show(5)"
   ]
  },
  {
   "cell_type": "code",
   "execution_count": 51,
   "metadata": {
    "collapsed": true
   },
   "outputs": [],
   "source": [
    "data_pre_processed.write.option(\"sep\",\"|\").format('orc').mode(\"overwrite\").saveAsTable(\"cust_exp_enc.n201366_segmentation_2020_nw_mbrs_clssfctn_inpv2_2\")"
   ]
  },
  {
   "cell_type": "code",
   "execution_count": 2,
   "metadata": {
    "collapsed": true
   },
   "outputs": [],
   "source": [
    "post_pre_process = hc.table(\"cust_exp_enc.n201366_segmentation_2020_nw_mbrs_clssfctn_inpv2_2\")"
   ]
  },
  {
   "cell_type": "code",
   "execution_count": 3,
   "metadata": {
    "collapsed": true
   },
   "outputs": [],
   "source": [
    "to_scale_features = ['age',\n",
    "             'covered_dependents_count',\n",
    "                     'a_hh_median_income']"
   ]
  },
  {
   "cell_type": "code",
   "execution_count": 4,
   "metadata": {
    "collapsed": true
   },
   "outputs": [],
   "source": [
    "_scaled_pre_process = post_pre_process\n",
    "for item in to_scale_features:\n",
    "    vec_assembler = VectorAssembler(inputCols= [item] , outputCol = \"vec\"+item)\n",
    "    scaler = StandardScaler(inputCol=\"vec\"+item, outputCol= 'scaled_'+item)\n",
    "    vec_scaler_pipeline = Pipeline(stages=[vec_assembler, scaler])\n",
    "    scaled = vec_scaler_pipeline.fit(_scaled_pre_process)\n",
    "    _scaled_pre_process = scaled.transform(_scaled_pre_process)\n",
    "    "
   ]
  },
  {
   "cell_type": "code",
   "execution_count": 5,
   "metadata": {
    "collapsed": true
   },
   "outputs": [],
   "source": [
    "data_scaled = _scaled_pre_process.drop('age',\n",
    "                                       'covered_dependents_count',\n",
    "                                       'a_hh_median_income',\n",
    "                                       'vecage',\n",
    "                                       'veccovered_dependents_count',\n",
    "                                       'veca_hh_median_income'\n",
    "                                      )\n",
    "for item in to_scale_features:\n",
    "    \n",
    "    data_scaled = data_scaled.withColumnRenamed(\"scaled_\"+item, item)"
   ]
  },
  {
   "cell_type": "code",
   "execution_count": 6,
   "metadata": {},
   "outputs": [
    {
     "data": {
      "text/plain": [
       "['individual_analytics_identifier',\n",
       " 'individual_id',\n",
       " 'proxy_id',\n",
       " 'funding_category',\n",
       " 'customer_sub_segment_code',\n",
       " 'medical_plan_type',\n",
       " 'gender',\n",
       " 'vision_product',\n",
       " 'dental_product',\n",
       " 'rx_ind',\n",
       " 'hdhp_flag',\n",
       " 'high_deductible_flag',\n",
       " 'urbsubr',\n",
       " 'employment_index',\n",
       " 'higher_education_index',\n",
       " 'physical_inactivity_index',\n",
       " 'new_ind',\n",
       " 'prediction',\n",
       " 'age',\n",
       " 'covered_dependents_count',\n",
       " 'a_hh_median_income']"
      ]
     },
     "execution_count": 6,
     "metadata": {},
     "output_type": "execute_result"
    }
   ],
   "source": [
    "data_scaled.columns"
   ]
  },
  {
   "cell_type": "code",
   "execution_count": 8,
   "metadata": {
    "collapsed": true
   },
   "outputs": [],
   "source": [
    "cat_list = ['funding_category',\n",
    "                 'customer_sub_segment_code',\n",
    "                 'gender',\n",
    "                 'urbsubr',\n",
    "           'medical_plan_type']"
   ]
  },
  {
   "cell_type": "code",
   "execution_count": 9,
   "metadata": {
    "collapsed": true
   },
   "outputs": [],
   "source": [
    "con_list = ['vision_product',\n",
    "            'dental_product',\n",
    "            'rx_ind',\n",
    "            'hdhp_flag',\n",
    "            'high_deductible_flag',\n",
    "            'employment_index',\n",
    "            'higher_education_index',\n",
    "            'physical_inactivity_index',\n",
    "            'new_ind',\n",
    "            'age',\n",
    "            'covered_dependents_count',\n",
    "            'a_hh_median_income'\n",
    "           ]\n",
    "labelcol = 'prediction'\n",
    "indexcol = 'individual_analytics_identifier'"
   ]
  },
  {
   "cell_type": "code",
   "execution_count": 10,
   "metadata": {
    "collapsed": true
   },
   "outputs": [],
   "source": [
    "con_list_wo_income = [x for x in con_list if x != 'a_hh_median_income']"
   ]
  },
  {
   "cell_type": "code",
   "execution_count": 11,
   "metadata": {
    "collapsed": true
   },
   "outputs": [],
   "source": [
    "def string_to_num(df, col_list):\n",
    "    for item in col_list:\n",
    "        categories = df.select(item).distinct().rdd.flatMap(lambda x: x).collect()\n",
    "\n",
    "        print categories\n",
    "        exprs = [(F.when(F.col(item) == categories[i], 1).otherwise(0)).\\\n",
    "                 alias(item+\"_\"+categories[i].replace(\" \",\"\").\\\n",
    "                 replace(\"(\",\"\").replace(\")\",\"\")) for i in range(0, len(categories)-1)]\n",
    "\n",
    "        df = df.select('*', *exprs)\n",
    "        \n",
    "    return df"
   ]
  },
  {
   "cell_type": "code",
   "execution_count": 12,
   "metadata": {},
   "outputs": [
    {
     "name": "stdout",
     "output_type": "stream",
     "text": [
      "[u'B', u'C', u'A']\n",
      "[u'NA', u'SEL', u'BOA', u'SG', u'KEY', u'NAG', u'FED']\n",
      "[u'F', u'M']\n",
      "[u'S', u'R', u'Urb']\n",
      "[u'Managed Choice', u'Indemnity Medical', u'HMO (ACAS)', u'QPOS (ACAS)', u'PPO Medical']\n"
     ]
    }
   ],
   "source": [
    "data_scaled_1 = string_to_num(data_scaled, cat_list)"
   ]
  },
  {
   "cell_type": "code",
   "execution_count": 14,
   "metadata": {
    "collapsed": true
   },
   "outputs": [
    {
     "data": {
      "text/plain": [
       "['individual_analytics_identifier',\n",
       " 'individual_id',\n",
       " 'proxy_id',\n",
       " 'funding_category',\n",
       " 'customer_sub_segment_code',\n",
       " 'medical_plan_type',\n",
       " 'gender',\n",
       " 'vision_product',\n",
       " 'dental_product',\n",
       " 'rx_ind',\n",
       " 'hdhp_flag',\n",
       " 'high_deductible_flag',\n",
       " 'urbsubr',\n",
       " 'employment_index',\n",
       " 'higher_education_index',\n",
       " 'physical_inactivity_index',\n",
       " 'new_ind',\n",
       " 'prediction',\n",
       " 'age',\n",
       " 'covered_dependents_count',\n",
       " 'a_hh_median_income',\n",
       " 'funding_category_B',\n",
       " 'funding_category_C',\n",
       " 'customer_sub_segment_code_NA',\n",
       " 'customer_sub_segment_code_SEL',\n",
       " 'customer_sub_segment_code_BOA',\n",
       " 'customer_sub_segment_code_SG',\n",
       " 'customer_sub_segment_code_KEY',\n",
       " 'customer_sub_segment_code_NAG',\n",
       " 'gender_F',\n",
       " 'urbsubr_S',\n",
       " 'urbsubr_R',\n",
       " 'medical_plan_type_ManagedChoice',\n",
       " 'medical_plan_type_IndemnityMedical',\n",
       " 'medical_plan_type_HMOACAS',\n",
       " 'medical_plan_type_QPOSACAS']"
      ]
     },
     "execution_count": 14,
     "metadata": {},
     "output_type": "execute_result"
    }
   ],
   "source": [
    "data_scaled_1.columns"
   ]
  },
  {
   "cell_type": "code",
   "execution_count": 15,
   "metadata": {
    "collapsed": true
   },
   "outputs": [],
   "source": [
    "cat_list_split = ['funding_category_B',\n",
    " 'funding_category_C',\n",
    " 'customer_sub_segment_code_NA',\n",
    " 'customer_sub_segment_code_SEL',\n",
    " 'customer_sub_segment_code_BOA',\n",
    " 'customer_sub_segment_code_SG',\n",
    " 'customer_sub_segment_code_KEY',\n",
    " 'customer_sub_segment_code_NAG',\n",
    " 'gender_F',\n",
    " 'urbsubr_S',\n",
    " 'urbsubr_R',\n",
    " 'medical_plan_type_ManagedChoice',\n",
    " 'medical_plan_type_IndemnityMedical',\n",
    " 'medical_plan_type_HMOACAS',\n",
    " 'medical_plan_type_QPOSACAS']"
   ]
  },
  {
   "cell_type": "markdown",
   "metadata": {},
   "source": [
    "### Creating features vector with categorical variables to do chi square test"
   ]
  },
  {
   "cell_type": "code",
   "execution_count": 30,
   "metadata": {
    "collapsed": true
   },
   "outputs": [],
   "source": [
    "def get_dummy(df,indexCol,categoricalCols,continuousCols,labelCol):\n",
    "\n",
    "    from pyspark.ml import Pipeline\n",
    "    from pyspark.ml.feature import StringIndexer, OneHotEncoder, VectorAssembler\n",
    "    from pyspark.sql.functions import col\n",
    "\n",
    "    \n",
    "    \n",
    "    assembler = VectorAssembler(inputCols= categoricalCols\n",
    "                                , outputCol=\"features\")\n",
    "\n",
    "    pipeline = Pipeline(stages=[assembler])\n",
    "\n",
    "    model=pipeline.fit(df)\n",
    "    data = model.transform(df)\n",
    "\n",
    "    data = data.withColumn('label',col(labelCol))\n",
    "\n",
    "    return data"
   ]
  },
  {
   "cell_type": "code",
   "execution_count": 31,
   "metadata": {
    "collapsed": true
   },
   "outputs": [],
   "source": [
    "model_input = get_dummy(data_scaled_1,indexcol,cat_list_split,con_list_wo_income,labelcol)"
   ]
  },
  {
   "cell_type": "code",
   "execution_count": 34,
   "metadata": {},
   "outputs": [
    {
     "name": "stdout",
     "output_type": "stream",
     "text": [
      "+--------------------+\n",
      "|            features|\n",
      "+--------------------+\n",
      "|(15,[0,2,8,9,11],...|\n",
      "|(15,[0,2,8,11],[1...|\n",
      "|(15,[0,6,8],[1.0,...|\n",
      "|(15,[0,2,13],[1.0...|\n",
      "|(15,[0,2,8,10,11]...|\n",
      "+--------------------+\n",
      "only showing top 5 rows\n",
      "\n"
     ]
    }
   ],
   "source": [
    "model_input.select(\"features\").show(5)"
   ]
  },
  {
   "cell_type": "markdown",
   "metadata": {},
   "source": [
    "#### Chi Square Tests for Binary and nominal"
   ]
  },
  {
   "cell_type": "code",
   "execution_count": 35,
   "metadata": {
    "collapsed": true
   },
   "outputs": [],
   "source": [
    "# Feature selection using chisquareSelector\n",
    "from pyspark.ml.feature import ChiSqSelector\n",
    "css = ChiSqSelector(featuresCol='features',outputCol='Aspect',labelCol='label',fpr=0.1)\n",
    "css_fit = css.fit(model_input)\n",
    "model_input_1 = css_fit.transform(model_input)\n",
    "\n",
    "#model_input_1.select(\"Aspect\").show(5,truncate=False)"
   ]
  },
  {
   "cell_type": "code",
   "execution_count": 36,
   "metadata": {},
   "outputs": [
    {
     "data": {
      "text/plain": [
       "[0, 1, 2, 3, 4, 5, 6, 7, 8, 9, 10, 11, 12, 13, 14]"
      ]
     },
     "execution_count": 36,
     "metadata": {},
     "output_type": "execute_result"
    }
   ],
   "source": [
    "css_fit.selectedFeatures"
   ]
  },
  {
   "cell_type": "code",
   "execution_count": 38,
   "metadata": {},
   "outputs": [
    {
     "name": "stdout",
     "output_type": "stream",
     "text": [
      "+--------------------+\n",
      "|            features|\n",
      "+--------------------+\n",
      "|(15,[0,2,8,9,11],...|\n",
      "|(15,[0,2,8,11],[1...|\n",
      "|(15,[0,6,8],[1.0,...|\n",
      "|(15,[0,2,13],[1.0...|\n",
      "|(15,[0,2,8,10,11]...|\n",
      "+--------------------+\n",
      "only showing top 5 rows\n",
      "\n"
     ]
    }
   ],
   "source": [
    "model_input.select(\"features\").show(5)"
   ]
  },
  {
   "cell_type": "code",
   "execution_count": 40,
   "metadata": {
    "collapsed": true
   },
   "outputs": [],
   "source": [
    "from pyspark.mllib.linalg import Vectors\n",
    "from pyspark.mllib.regression import LabeledPoint\n",
    "from pyspark.mllib.stat import Statistics"
   ]
  },
  {
   "cell_type": "code",
   "execution_count": 41,
   "metadata": {
    "collapsed": true
   },
   "outputs": [],
   "source": [
    "to_labeled_point = lambda x: LabeledPoint(x[0], Vectors.dense(x[1].toArray()))"
   ]
  },
  {
   "cell_type": "code",
   "execution_count": 42,
   "metadata": {
    "collapsed": true
   },
   "outputs": [],
   "source": [
    "obs = (\n",
    "    model_input\n",
    "    .select('label', 'features')\n",
    "    .rdd\n",
    "    .map(to_labeled_point)\n",
    ")"
   ]
  },
  {
   "cell_type": "code",
   "execution_count": 43,
   "metadata": {
    "collapsed": true
   },
   "outputs": [],
   "source": [
    "feature_test_results = Statistics.chiSqTest(obs)\n",
    "\n",
    "chi_sq_data = []\n",
    "\n",
    "for idx, result in enumerate(feature_test_results):\n",
    "    row = {\n",
    "        'feature_index': idx,\n",
    "        'p_value': result.pValue,\n",
    "        'statistic': result.statistic,\n",
    "        'degrees_of_freedom': result.degreesOfFreedom\n",
    "    }\n",
    "    chi_sq_data.append(row)"
   ]
  },
  {
   "cell_type": "code",
   "execution_count": 44,
   "metadata": {},
   "outputs": [
    {
     "data": {
      "text/plain": [
       "[{'degrees_of_freedom': 3,\n",
       "  'feature_index': 0,\n",
       "  'p_value': 0.0,\n",
       "  'statistic': 178320.53763035915},\n",
       " {'degrees_of_freedom': 3,\n",
       "  'feature_index': 1,\n",
       "  'p_value': 0.0,\n",
       "  'statistic': 9896.189132675601},\n",
       " {'degrees_of_freedom': 3,\n",
       "  'feature_index': 2,\n",
       "  'p_value': 0.0,\n",
       "  'statistic': 32564.321958920526},\n",
       " {'degrees_of_freedom': 3,\n",
       "  'feature_index': 3,\n",
       "  'p_value': 0.0,\n",
       "  'statistic': 73873.9153762902},\n",
       " {'degrees_of_freedom': 3,\n",
       "  'feature_index': 4,\n",
       "  'p_value': 0.0,\n",
       "  'statistic': 8237.96881328679},\n",
       " {'degrees_of_freedom': 3,\n",
       "  'feature_index': 5,\n",
       "  'p_value': 0.0,\n",
       "  'statistic': 89708.4277285771},\n",
       " {'degrees_of_freedom': 3,\n",
       "  'feature_index': 6,\n",
       "  'p_value': 0.0,\n",
       "  'statistic': 50838.460692831555},\n",
       " {'degrees_of_freedom': 3,\n",
       "  'feature_index': 7,\n",
       "  'p_value': 0.0,\n",
       "  'statistic': 119108.73584925431},\n",
       " {'degrees_of_freedom': 3,\n",
       "  'feature_index': 8,\n",
       "  'p_value': 0.0,\n",
       "  'statistic': 2694.8435616040883},\n",
       " {'degrees_of_freedom': 3,\n",
       "  'feature_index': 9,\n",
       "  'p_value': 0.0,\n",
       "  'statistic': 6427.8224282111405},\n",
       " {'degrees_of_freedom': 3,\n",
       "  'feature_index': 10,\n",
       "  'p_value': 0.0,\n",
       "  'statistic': 85531.63611493164},\n",
       " {'degrees_of_freedom': 3,\n",
       "  'feature_index': 11,\n",
       "  'p_value': 0.0,\n",
       "  'statistic': 16926.721283321112},\n",
       " {'degrees_of_freedom': 3,\n",
       "  'feature_index': 12,\n",
       "  'p_value': 0.0,\n",
       "  'statistic': 17249.745648864617},\n",
       " {'degrees_of_freedom': 3,\n",
       "  'feature_index': 13,\n",
       "  'p_value': 0.0,\n",
       "  'statistic': 1609.4063112536244},\n",
       " {'degrees_of_freedom': 3,\n",
       "  'feature_index': 14,\n",
       "  'p_value': 0.0,\n",
       "  'statistic': 1345.6564993773563}]"
      ]
     },
     "execution_count": 44,
     "metadata": {},
     "output_type": "execute_result"
    }
   ],
   "source": [
    "chi_sq_data"
   ]
  },
  {
   "cell_type": "markdown",
   "metadata": {},
   "source": [
    "## Creating Model Input vector"
   ]
  },
  {
   "cell_type": "code",
   "execution_count": 45,
   "metadata": {
    "collapsed": true
   },
   "outputs": [],
   "source": [
    "def get_dummy(df,indexCol,categoricalCols,continuousCols,labelCol):\n",
    "\n",
    "    from pyspark.ml import Pipeline\n",
    "    from pyspark.ml.feature import StringIndexer, OneHotEncoder, VectorAssembler\n",
    "    from pyspark.sql.functions import col\n",
    "\n",
    "    \n",
    "    \n",
    "    assembler = VectorAssembler(inputCols= categoricalCols +continuousCols\n",
    "                                , outputCol=\"features\")\n",
    "\n",
    "    pipeline = Pipeline(stages=[assembler])\n",
    "\n",
    "    model=pipeline.fit(df)\n",
    "    data = model.transform(df)\n",
    "\n",
    "    data = data.withColumn('label',col(labelCol))\n",
    "\n",
    "    return data"
   ]
  },
  {
   "cell_type": "code",
   "execution_count": 46,
   "metadata": {
    "collapsed": true
   },
   "outputs": [],
   "source": [
    "model_input_fn = get_dummy(data_scaled_1,indexcol,cat_list_split,con_list,labelcol)"
   ]
  },
  {
   "cell_type": "code",
   "execution_count": 47,
   "metadata": {
    "collapsed": true
   },
   "outputs": [],
   "source": [
    "model_input_fn_1 = model_input_fn.select(\"individual_analytics_identifier\",\"new_ind\",\"features\", \"label\")"
   ]
  },
  {
   "cell_type": "code",
   "execution_count": 48,
   "metadata": {
    "collapsed": true
   },
   "outputs": [],
   "source": [
    "model_input_fn_1.write.option(\"sep\",\"|\").format('orc').mode(\"overwrite\").saveAsTable(\"cust_exp_enc.n201366_segmentation_2020_nw_mbrs_clssfctn_inpv3_3\")"
   ]
  },
  {
   "cell_type": "code",
   "execution_count": 49,
   "metadata": {
    "collapsed": true
   },
   "outputs": [],
   "source": [
    "model_inp = hc.table(\"cust_exp_enc.n201366_segmentation_2020_nw_mbrs_clssfctn_inpv3_3\")"
   ]
  },
  {
   "cell_type": "code",
   "execution_count": 50,
   "metadata": {},
   "outputs": [
    {
     "name": "stdout",
     "output_type": "stream",
     "text": [
      "Training Dataset Count: 5441106\n",
      "Test Dataset Count: 2333834\n"
     ]
    }
   ],
   "source": [
    "train, test = model_inp.randomSplit([0.7, 0.3], seed = 777)\n",
    "print(\"Training Dataset Count: \" + str(train.count()))\n",
    "print(\"Test Dataset Count: \" + str(test.count()))"
   ]
  },
  {
   "cell_type": "code",
   "execution_count": 52,
   "metadata": {
    "collapsed": true
   },
   "outputs": [],
   "source": [
    "from pyspark.ml.classification import RandomForestClassifier"
   ]
  },
  {
   "cell_type": "code",
   "execution_count": 53,
   "metadata": {
    "collapsed": true
   },
   "outputs": [],
   "source": [
    "rf = RandomForestClassifier(labelCol=\"label\", seed=42)\n",
    "rfModel = rf.fit(train)"
   ]
  },
  {
   "cell_type": "code",
   "execution_count": 54,
   "metadata": {},
   "outputs": [
    {
     "data": {
      "text/plain": [
       "SparseVector(27, {0: 0.0114, 2: 0.0008, 3: 0.0007, 5: 0.0039, 6: 0.0002, 7: 0.0066, 8: 0.0002, 9: 0.0002, 10: 0.0019, 11: 0.0012, 12: 0.0, 13: 0.0003, 14: 0.0001, 15: 0.0001, 16: 0.0022, 17: 0.0029, 18: 0.0006, 19: 0.0033, 20: 0.0032, 21: 0.0007, 22: 0.0008, 23: 0.4168, 24: 0.5264, 25: 0.0142, 26: 0.0014})"
      ]
     },
     "execution_count": 54,
     "metadata": {},
     "output_type": "execute_result"
    }
   ],
   "source": [
    "rfModel.featureImportances"
   ]
  },
  {
   "cell_type": "code",
   "execution_count": 83,
   "metadata": {},
   "outputs": [
    {
     "name": "stdout",
     "output_type": "stream",
     "text": [
      "[{u'name': u'funding_category_B', u'idx': 0}, {u'name': u'funding_category_C', u'idx': 1}, {u'name': u'customer_sub_segment_code_NA', u'idx': 2}, {u'name': u'customer_sub_segment_code_SEL', u'idx': 3}, {u'name': u'customer_sub_segment_code_BOA', u'idx': 4}, {u'name': u'customer_sub_segment_code_SG', u'idx': 5}, {u'name': u'customer_sub_segment_code_KEY', u'idx': 6}, {u'name': u'customer_sub_segment_code_NAG', u'idx': 7}, {u'name': u'gender_F', u'idx': 8}, {u'name': u'urbsubr_S', u'idx': 9}, {u'name': u'urbsubr_R', u'idx': 10}, {u'name': u'medical_plan_type_ManagedChoice', u'idx': 11}, {u'name': u'medical_plan_type_IndemnityMedical', u'idx': 12}, {u'name': u'medical_plan_type_HMOACAS', u'idx': 13}, {u'name': u'medical_plan_type_QPOSACAS', u'idx': 14}, {u'name': u'vision_product', u'idx': 15}, {u'name': u'dental_product', u'idx': 16}, {u'name': u'rx_ind', u'idx': 17}, {u'name': u'hdhp_flag', u'idx': 18}, {u'name': u'high_deductible_flag', u'idx': 19}, {u'name': u'employment_index', u'idx': 20}, {u'name': u'higher_education_index', u'idx': 21}, {u'name': u'physical_inactivity_index', u'idx': 22}, {u'name': u'new_ind', u'idx': 23}, {u'name': u'age_0', u'idx': 24}, {u'name': u'covered_dependents_count_0', u'idx': 25}, {u'name': u'a_hh_median_income_0', u'idx': 26}]\n"
     ]
    }
   ],
   "source": [
    "for i in train.schema[\"features\"].metadata[\"ml_attr\"][\"attrs\"]:\n",
    "    print train.schema[\"features\"].metadata[\"ml_attr\"][\"attrs\"][i]"
   ]
  },
  {
   "cell_type": "code",
   "execution_count": 57,
   "metadata": {
    "collapsed": true
   },
   "outputs": [],
   "source": [
    "def ExtractFeatureImp(featureImp, dataset, featuresCol):\n",
    "    list_extract = []\n",
    "    for i in dataset.schema[featuresCol].metadata[\"ml_attr\"][\"attrs\"]:\n",
    "        list_extract = list_extract + dataset.schema[featuresCol].metadata[\"ml_attr\"][\"attrs\"][i]\n",
    "    varlist = pd.DataFrame(list_extract)\n",
    "    varlist['score'] = varlist['idx'].apply(lambda x: featureImp[x])\n",
    "    return(varlist.sort_values('score', ascending = False))"
   ]
  },
  {
   "cell_type": "code",
   "execution_count": 60,
   "metadata": {},
   "outputs": [
    {
     "data": {
      "text/html": [
       "<div>\n",
       "<style>\n",
       "    .dataframe thead tr:only-child th {\n",
       "        text-align: right;\n",
       "    }\n",
       "\n",
       "    .dataframe thead th {\n",
       "        text-align: left;\n",
       "    }\n",
       "\n",
       "    .dataframe tbody tr th {\n",
       "        vertical-align: top;\n",
       "    }\n",
       "</style>\n",
       "<table border=\"1\" class=\"dataframe\">\n",
       "  <thead>\n",
       "    <tr style=\"text-align: right;\">\n",
       "      <th></th>\n",
       "      <th>idx</th>\n",
       "      <th>name</th>\n",
       "      <th>score</th>\n",
       "    </tr>\n",
       "  </thead>\n",
       "  <tbody>\n",
       "    <tr>\n",
       "      <th>24</th>\n",
       "      <td>24</td>\n",
       "      <td>age_0</td>\n",
       "      <td>0.526369</td>\n",
       "    </tr>\n",
       "    <tr>\n",
       "      <th>23</th>\n",
       "      <td>23</td>\n",
       "      <td>new_ind</td>\n",
       "      <td>0.416823</td>\n",
       "    </tr>\n",
       "    <tr>\n",
       "      <th>25</th>\n",
       "      <td>25</td>\n",
       "      <td>covered_dependents_count_0</td>\n",
       "      <td>0.014202</td>\n",
       "    </tr>\n",
       "    <tr>\n",
       "      <th>0</th>\n",
       "      <td>0</td>\n",
       "      <td>funding_category_B</td>\n",
       "      <td>0.011353</td>\n",
       "    </tr>\n",
       "    <tr>\n",
       "      <th>7</th>\n",
       "      <td>7</td>\n",
       "      <td>customer_sub_segment_code_NAG</td>\n",
       "      <td>0.006622</td>\n",
       "    </tr>\n",
       "    <tr>\n",
       "      <th>5</th>\n",
       "      <td>5</td>\n",
       "      <td>customer_sub_segment_code_SG</td>\n",
       "      <td>0.003901</td>\n",
       "    </tr>\n",
       "    <tr>\n",
       "      <th>19</th>\n",
       "      <td>19</td>\n",
       "      <td>high_deductible_flag</td>\n",
       "      <td>0.003320</td>\n",
       "    </tr>\n",
       "    <tr>\n",
       "      <th>20</th>\n",
       "      <td>20</td>\n",
       "      <td>employment_index</td>\n",
       "      <td>0.003182</td>\n",
       "    </tr>\n",
       "    <tr>\n",
       "      <th>17</th>\n",
       "      <td>17</td>\n",
       "      <td>rx_ind</td>\n",
       "      <td>0.002861</td>\n",
       "    </tr>\n",
       "    <tr>\n",
       "      <th>16</th>\n",
       "      <td>16</td>\n",
       "      <td>dental_product</td>\n",
       "      <td>0.002246</td>\n",
       "    </tr>\n",
       "    <tr>\n",
       "      <th>10</th>\n",
       "      <td>10</td>\n",
       "      <td>urbsubr_R</td>\n",
       "      <td>0.001930</td>\n",
       "    </tr>\n",
       "    <tr>\n",
       "      <th>26</th>\n",
       "      <td>26</td>\n",
       "      <td>a_hh_median_income_0</td>\n",
       "      <td>0.001364</td>\n",
       "    </tr>\n",
       "    <tr>\n",
       "      <th>11</th>\n",
       "      <td>11</td>\n",
       "      <td>medical_plan_type_ManagedChoice</td>\n",
       "      <td>0.001186</td>\n",
       "    </tr>\n",
       "    <tr>\n",
       "      <th>22</th>\n",
       "      <td>22</td>\n",
       "      <td>physical_inactivity_index</td>\n",
       "      <td>0.000817</td>\n",
       "    </tr>\n",
       "    <tr>\n",
       "      <th>2</th>\n",
       "      <td>2</td>\n",
       "      <td>customer_sub_segment_code_NA</td>\n",
       "      <td>0.000809</td>\n",
       "    </tr>\n",
       "    <tr>\n",
       "      <th>3</th>\n",
       "      <td>3</td>\n",
       "      <td>customer_sub_segment_code_SEL</td>\n",
       "      <td>0.000690</td>\n",
       "    </tr>\n",
       "    <tr>\n",
       "      <th>21</th>\n",
       "      <td>21</td>\n",
       "      <td>higher_education_index</td>\n",
       "      <td>0.000658</td>\n",
       "    </tr>\n",
       "    <tr>\n",
       "      <th>18</th>\n",
       "      <td>18</td>\n",
       "      <td>hdhp_flag</td>\n",
       "      <td>0.000584</td>\n",
       "    </tr>\n",
       "    <tr>\n",
       "      <th>13</th>\n",
       "      <td>13</td>\n",
       "      <td>medical_plan_type_HMOACAS</td>\n",
       "      <td>0.000325</td>\n",
       "    </tr>\n",
       "    <tr>\n",
       "      <th>8</th>\n",
       "      <td>8</td>\n",
       "      <td>gender_F</td>\n",
       "      <td>0.000228</td>\n",
       "    </tr>\n",
       "    <tr>\n",
       "      <th>6</th>\n",
       "      <td>6</td>\n",
       "      <td>customer_sub_segment_code_KEY</td>\n",
       "      <td>0.000222</td>\n",
       "    </tr>\n",
       "    <tr>\n",
       "      <th>9</th>\n",
       "      <td>9</td>\n",
       "      <td>urbsubr_S</td>\n",
       "      <td>0.000164</td>\n",
       "    </tr>\n",
       "    <tr>\n",
       "      <th>15</th>\n",
       "      <td>15</td>\n",
       "      <td>vision_product</td>\n",
       "      <td>0.000084</td>\n",
       "    </tr>\n",
       "    <tr>\n",
       "      <th>14</th>\n",
       "      <td>14</td>\n",
       "      <td>medical_plan_type_QPOSACAS</td>\n",
       "      <td>0.000058</td>\n",
       "    </tr>\n",
       "    <tr>\n",
       "      <th>12</th>\n",
       "      <td>12</td>\n",
       "      <td>medical_plan_type_IndemnityMedical</td>\n",
       "      <td>0.000003</td>\n",
       "    </tr>\n",
       "    <tr>\n",
       "      <th>1</th>\n",
       "      <td>1</td>\n",
       "      <td>funding_category_C</td>\n",
       "      <td>0.000000</td>\n",
       "    </tr>\n",
       "    <tr>\n",
       "      <th>4</th>\n",
       "      <td>4</td>\n",
       "      <td>customer_sub_segment_code_BOA</td>\n",
       "      <td>0.000000</td>\n",
       "    </tr>\n",
       "  </tbody>\n",
       "</table>\n",
       "</div>"
      ],
      "text/plain": [
       "    idx                                name     score\n",
       "24   24                               age_0  0.526369\n",
       "23   23                             new_ind  0.416823\n",
       "25   25          covered_dependents_count_0  0.014202\n",
       "0     0                  funding_category_B  0.011353\n",
       "7     7       customer_sub_segment_code_NAG  0.006622\n",
       "5     5        customer_sub_segment_code_SG  0.003901\n",
       "19   19                high_deductible_flag  0.003320\n",
       "20   20                    employment_index  0.003182\n",
       "17   17                              rx_ind  0.002861\n",
       "16   16                      dental_product  0.002246\n",
       "10   10                           urbsubr_R  0.001930\n",
       "26   26                a_hh_median_income_0  0.001364\n",
       "11   11     medical_plan_type_ManagedChoice  0.001186\n",
       "22   22           physical_inactivity_index  0.000817\n",
       "2     2        customer_sub_segment_code_NA  0.000809\n",
       "3     3       customer_sub_segment_code_SEL  0.000690\n",
       "21   21              higher_education_index  0.000658\n",
       "18   18                           hdhp_flag  0.000584\n",
       "13   13           medical_plan_type_HMOACAS  0.000325\n",
       "8     8                            gender_F  0.000228\n",
       "6     6       customer_sub_segment_code_KEY  0.000222\n",
       "9     9                           urbsubr_S  0.000164\n",
       "15   15                      vision_product  0.000084\n",
       "14   14          medical_plan_type_QPOSACAS  0.000058\n",
       "12   12  medical_plan_type_IndemnityMedical  0.000003\n",
       "1     1                  funding_category_C  0.000000\n",
       "4     4       customer_sub_segment_code_BOA  0.000000"
      ]
     },
     "execution_count": 60,
     "metadata": {},
     "output_type": "execute_result"
    }
   ],
   "source": [
    "ExtractFeatureImp(rfModel.featureImportances, train, \"features\")"
   ]
  },
  {
   "cell_type": "code",
   "execution_count": 61,
   "metadata": {
    "collapsed": true
   },
   "outputs": [],
   "source": [
    "train_predictions  = rfModel.transform(train)"
   ]
  },
  {
   "cell_type": "code",
   "execution_count": 62,
   "metadata": {
    "collapsed": true
   },
   "outputs": [],
   "source": [
    "test_predictions  = rfModel.transform(test)"
   ]
  },
  {
   "cell_type": "code",
   "execution_count": 65,
   "metadata": {
    "collapsed": true
   },
   "outputs": [],
   "source": [
    "from pyspark.ml.evaluation import MulticlassClassificationEvaluator as MCE\n",
    "evaluator = MCE()"
   ]
  },
  {
   "cell_type": "code",
   "execution_count": 66,
   "metadata": {},
   "outputs": [
    {
     "name": "stdout",
     "output_type": "stream",
     "text": [
      "0.849629599072\n",
      "0.849633782225\n"
     ]
    }
   ],
   "source": [
    "print evaluator.evaluate(train_predictions)\n",
    "print evaluator.evaluate(test_predictions)"
   ]
  },
  {
   "cell_type": "code",
   "execution_count": 69,
   "metadata": {},
   "outputs": [
    {
     "data": {
      "text/plain": [
       "'cacheNodeIds: If false, the algorithm will pass trees to executors to match instances with nodes. If true, the algorithm will cache node IDs for each instance. Caching can speed up training of deeper trees. Users can set how often should the cache be checkpointed or disable it by setting checkpointInterval. (default: False)\\ncheckpointInterval: set checkpoint interval (>= 1) or disable checkpoint (-1). E.g. 10 means that the cache will get checkpointed every 10 iterations. (default: 10)\\nfeatureSubsetStrategy: The number of features to consider for splits at each tree node. Supported options: auto, all, onethird, sqrt, log2, (0.0-1.0], [1-n]. (default: auto)\\nfeaturesCol: features column name. (default: features)\\nimpurity: Criterion used for information gain calculation (case-insensitive). Supported options: entropy, gini (default: gini)\\nlabelCol: label column name. (default: label, current: label)\\nmaxBins: Max number of bins for discretizing continuous features.  Must be >=2 and >= number of categories for any categorical feature. (default: 32)\\nmaxDepth: Maximum depth of the tree. (>= 0) E.g., depth 0 means 1 leaf node; depth 1 means 1 internal node + 2 leaf nodes. (default: 5)\\nmaxMemoryInMB: Maximum memory in MB allocated to histogram aggregation. If too small, then 1 node will be split per iteration, and its aggregates may exceed this size. (default: 256)\\nminInfoGain: Minimum information gain for a split to be considered at a tree node. (default: 0.0)\\nminInstancesPerNode: Minimum number of instances each child must have after split. If a split causes the left or right child to have fewer than minInstancesPerNode, the split will be discarded as invalid. Should be >= 1. (default: 1)\\nnumTrees: Number of trees to train (>= 1). (default: 20)\\npredictionCol: prediction column name. (default: prediction)\\nprobabilityCol: Column name for predicted class conditional probabilities. Note: Not all models output well-calibrated probability estimates! These probabilities should be treated as confidences, not precise probabilities. (default: probability)\\nrawPredictionCol: raw prediction (a.k.a. confidence) column name. (default: rawPrediction)\\nseed: random seed. (default: -4140900678877021401, current: 42)\\nsubsamplingRate: Fraction of the training data used for learning each decision tree, in range (0, 1]. (default: 1.0)'"
      ]
     },
     "execution_count": 69,
     "metadata": {},
     "output_type": "execute_result"
    }
   ],
   "source": [
    "rf.explainParams()"
   ]
  },
  {
   "cell_type": "code",
   "execution_count": 70,
   "metadata": {
    "collapsed": true
   },
   "outputs": [],
   "source": [
    "train_crschck = train_predictions.groupby(\"new_ind\",\"label\",\"prediction\").count().toPandas()"
   ]
  },
  {
   "cell_type": "code",
   "execution_count": 71,
   "metadata": {},
   "outputs": [
    {
     "data": {
      "text/html": [
       "<div>\n",
       "<style>\n",
       "    .dataframe thead tr:only-child th {\n",
       "        text-align: right;\n",
       "    }\n",
       "\n",
       "    .dataframe thead th {\n",
       "        text-align: left;\n",
       "    }\n",
       "\n",
       "    .dataframe tbody tr th {\n",
       "        vertical-align: top;\n",
       "    }\n",
       "</style>\n",
       "<table border=\"1\" class=\"dataframe\">\n",
       "  <thead>\n",
       "    <tr style=\"text-align: right;\">\n",
       "      <th></th>\n",
       "      <th>new_ind</th>\n",
       "      <th>label</th>\n",
       "      <th>prediction</th>\n",
       "      <th>count</th>\n",
       "    </tr>\n",
       "  </thead>\n",
       "  <tbody>\n",
       "    <tr>\n",
       "      <th>4</th>\n",
       "      <td>1</td>\n",
       "      <td>0</td>\n",
       "      <td>0.0</td>\n",
       "      <td>1040412</td>\n",
       "    </tr>\n",
       "    <tr>\n",
       "      <th>6</th>\n",
       "      <td>0</td>\n",
       "      <td>0</td>\n",
       "      <td>3.0</td>\n",
       "      <td>410193</td>\n",
       "    </tr>\n",
       "    <tr>\n",
       "      <th>9</th>\n",
       "      <td>1</td>\n",
       "      <td>0</td>\n",
       "      <td>2.0</td>\n",
       "      <td>3883</td>\n",
       "    </tr>\n",
       "    <tr>\n",
       "      <th>1</th>\n",
       "      <td>0</td>\n",
       "      <td>1</td>\n",
       "      <td>3.0</td>\n",
       "      <td>5082</td>\n",
       "    </tr>\n",
       "    <tr>\n",
       "      <th>5</th>\n",
       "      <td>0</td>\n",
       "      <td>1</td>\n",
       "      <td>1.0</td>\n",
       "      <td>1446332</td>\n",
       "    </tr>\n",
       "    <tr>\n",
       "      <th>0</th>\n",
       "      <td>0</td>\n",
       "      <td>2</td>\n",
       "      <td>3.0</td>\n",
       "      <td>85941</td>\n",
       "    </tr>\n",
       "    <tr>\n",
       "      <th>3</th>\n",
       "      <td>1</td>\n",
       "      <td>2</td>\n",
       "      <td>2.0</td>\n",
       "      <td>688730</td>\n",
       "    </tr>\n",
       "    <tr>\n",
       "      <th>7</th>\n",
       "      <td>0</td>\n",
       "      <td>2</td>\n",
       "      <td>1.0</td>\n",
       "      <td>262942</td>\n",
       "    </tr>\n",
       "    <tr>\n",
       "      <th>10</th>\n",
       "      <td>1</td>\n",
       "      <td>2</td>\n",
       "      <td>0.0</td>\n",
       "      <td>8410</td>\n",
       "    </tr>\n",
       "    <tr>\n",
       "      <th>2</th>\n",
       "      <td>0</td>\n",
       "      <td>3</td>\n",
       "      <td>1.0</td>\n",
       "      <td>19358</td>\n",
       "    </tr>\n",
       "    <tr>\n",
       "      <th>8</th>\n",
       "      <td>0</td>\n",
       "      <td>3</td>\n",
       "      <td>3.0</td>\n",
       "      <td>1468721</td>\n",
       "    </tr>\n",
       "  </tbody>\n",
       "</table>\n",
       "</div>"
      ],
      "text/plain": [
       "    new_ind  label  prediction    count\n",
       "4         1      0         0.0  1040412\n",
       "6         0      0         3.0   410193\n",
       "9         1      0         2.0     3883\n",
       "1         0      1         3.0     5082\n",
       "5         0      1         1.0  1446332\n",
       "0         0      2         3.0    85941\n",
       "3         1      2         2.0   688730\n",
       "7         0      2         1.0   262942\n",
       "10        1      2         0.0     8410\n",
       "2         0      3         1.0    19358\n",
       "8         0      3         3.0  1468721"
      ]
     },
     "execution_count": 71,
     "metadata": {},
     "output_type": "execute_result"
    }
   ],
   "source": [
    "train_crschck.sort_values(by = [\"label\"])"
   ]
  },
  {
   "cell_type": "code",
   "execution_count": 72,
   "metadata": {},
   "outputs": [
    {
     "data": {
      "text/html": [
       "<div>\n",
       "<style>\n",
       "    .dataframe thead tr:only-child th {\n",
       "        text-align: right;\n",
       "    }\n",
       "\n",
       "    .dataframe thead th {\n",
       "        text-align: left;\n",
       "    }\n",
       "\n",
       "    .dataframe tbody tr th {\n",
       "        vertical-align: top;\n",
       "    }\n",
       "</style>\n",
       "<table border=\"1\" class=\"dataframe\">\n",
       "  <thead>\n",
       "    <tr style=\"text-align: right;\">\n",
       "      <th></th>\n",
       "      <th>new_ind</th>\n",
       "      <th>label</th>\n",
       "      <th>prediction</th>\n",
       "      <th>count</th>\n",
       "    </tr>\n",
       "  </thead>\n",
       "  <tbody>\n",
       "    <tr>\n",
       "      <th>4</th>\n",
       "      <td>1</td>\n",
       "      <td>0</td>\n",
       "      <td>0.0</td>\n",
       "      <td>447008</td>\n",
       "    </tr>\n",
       "    <tr>\n",
       "      <th>6</th>\n",
       "      <td>0</td>\n",
       "      <td>0</td>\n",
       "      <td>3.0</td>\n",
       "      <td>175918</td>\n",
       "    </tr>\n",
       "    <tr>\n",
       "      <th>9</th>\n",
       "      <td>1</td>\n",
       "      <td>0</td>\n",
       "      <td>2.0</td>\n",
       "      <td>1717</td>\n",
       "    </tr>\n",
       "    <tr>\n",
       "      <th>1</th>\n",
       "      <td>0</td>\n",
       "      <td>1</td>\n",
       "      <td>3.0</td>\n",
       "      <td>2184</td>\n",
       "    </tr>\n",
       "    <tr>\n",
       "      <th>5</th>\n",
       "      <td>0</td>\n",
       "      <td>1</td>\n",
       "      <td>1.0</td>\n",
       "      <td>620093</td>\n",
       "    </tr>\n",
       "    <tr>\n",
       "      <th>0</th>\n",
       "      <td>0</td>\n",
       "      <td>2</td>\n",
       "      <td>3.0</td>\n",
       "      <td>36865</td>\n",
       "    </tr>\n",
       "    <tr>\n",
       "      <th>3</th>\n",
       "      <td>1</td>\n",
       "      <td>2</td>\n",
       "      <td>2.0</td>\n",
       "      <td>295720</td>\n",
       "    </tr>\n",
       "    <tr>\n",
       "      <th>7</th>\n",
       "      <td>0</td>\n",
       "      <td>2</td>\n",
       "      <td>1.0</td>\n",
       "      <td>112823</td>\n",
       "    </tr>\n",
       "    <tr>\n",
       "      <th>10</th>\n",
       "      <td>1</td>\n",
       "      <td>2</td>\n",
       "      <td>0.0</td>\n",
       "      <td>3569</td>\n",
       "    </tr>\n",
       "    <tr>\n",
       "      <th>2</th>\n",
       "      <td>0</td>\n",
       "      <td>3</td>\n",
       "      <td>1.0</td>\n",
       "      <td>8114</td>\n",
       "    </tr>\n",
       "    <tr>\n",
       "      <th>8</th>\n",
       "      <td>0</td>\n",
       "      <td>3</td>\n",
       "      <td>3.0</td>\n",
       "      <td>631285</td>\n",
       "    </tr>\n",
       "  </tbody>\n",
       "</table>\n",
       "</div>"
      ],
      "text/plain": [
       "    new_ind  label  prediction   count\n",
       "4         1      0         0.0  447008\n",
       "6         0      0         3.0  175918\n",
       "9         1      0         2.0    1717\n",
       "1         0      1         3.0    2184\n",
       "5         0      1         1.0  620093\n",
       "0         0      2         3.0   36865\n",
       "3         1      2         2.0  295720\n",
       "7         0      2         1.0  112823\n",
       "10        1      2         0.0    3569\n",
       "2         0      3         1.0    8114\n",
       "8         0      3         3.0  631285"
      ]
     },
     "execution_count": 72,
     "metadata": {},
     "output_type": "execute_result"
    }
   ],
   "source": [
    "\n",
    "test_crschck = test_predictions.groupby(\"new_ind\",\"label\",\"prediction\").count().toPandas()\n",
    "test_crschck.sort_values(by = [\"label\"])"
   ]
  },
  {
   "cell_type": "code",
   "execution_count": 92,
   "metadata": {},
   "outputs": [
    {
     "data": {
      "text/plain": [
       "(20,\n",
       " 27,\n",
       " 1224,\n",
       " <bound method RandomForestClassificationModel.extractParamMap of RandomForestClassificationModel (uid=rfc_21c2ddbc87c6) with 20 trees>)"
      ]
     },
     "execution_count": 92,
     "metadata": {},
     "output_type": "execute_result"
    }
   ],
   "source": [
    "rfModel.getNumTrees, rfModel.numFeatures, rfModel.totalNumNodes, rfModel.extractParamMap"
   ]
  }
 ],
 "metadata": {
  "kernelspec": {
   "display_name": "Python 2",
   "language": "python",
   "name": "python2"
  },
  "language_info": {
   "codemirror_mode": {
    "name": "ipython",
    "version": 2
   },
   "file_extension": ".py",
   "mimetype": "text/x-python",
   "name": "python",
   "nbconvert_exporter": "python",
   "pygments_lexer": "ipython2",
   "version": "2.7.13"
  }
 },
 "nbformat": 4,
 "nbformat_minor": 2
}
