{
 "cells": [
  {
   "cell_type": "code",
   "execution_count": 1,
   "metadata": {},
   "outputs": [
    {
     "name": "stdout",
     "output_type": "stream",
     "text": [
      "SparkSession is created.\n",
      "Check http://xhadrevrm2p.aetna.com:10002 for spark job UI\n",
      "\n",
      "The application ID for the spark job is application_1621777416540_86905\n",
      "If you exist without stopping the spark session, use the following command to kill the job:\n",
      "yarn application -kill application_1621777416540_86905\n"
     ]
    }
   ],
   "source": [
    "from pyconnect.spark import SparkCluster\n",
    "sparkcluster = SparkCluster().getOrCreate(\n",
    "  'spark-cluster-pyconnect', \n",
    "  minExecutors=2,\n",
    "  executorMemory = \"4g\",\n",
    "  driverMemory = \"4g\" )"
   ]
  },
  {
   "cell_type": "code",
   "execution_count": 2,
   "metadata": {},
   "outputs": [],
   "source": [
    "\n",
    "from pyspark import SparkContext, SparkConf\n",
    "from pyspark.sql import HiveContext\n",
    "from pyspark.sql import functions as F\n",
    "from pyspark.sql.functions import *\n",
    "from pyspark.sql.types import *\n",
    "from pyspark.sql.window import Window\n",
    "from pyspark.sql.functions import trim\n",
    "\n",
    "from pyspark.sql import SQLContext\n",
    "\n",
    "from pyspark.ml.feature import StandardScaler\n",
    "from pyspark.ml.linalg import Vectors\n",
    "from pyspark.ml.feature import VectorAssembler\n",
    "from pyspark.ml.clustering import KMeans\n",
    "from pyspark.ml.feature import StringIndexer\n",
    "from pyspark.ml.clustering import KMeansModel\n",
    "from pyspark.ml import Pipeline\n",
    "\n",
    "import pandas as pd\n",
    "\n",
    "hc = sparkcluster.session\n"
   ]
  },
  {
   "cell_type": "code",
   "execution_count": 3,
   "metadata": {},
   "outputs": [],
   "source": [
    "data = hc.table('cust_exp_Enc.n323489_pods_v1').toPandas()"
   ]
  },
  {
   "cell_type": "code",
   "execution_count": 4,
   "metadata": {},
   "outputs": [
    {
     "data": {
      "text/html": [
       "<div>\n",
       "<style scoped>\n",
       "    .dataframe tbody tr th:only-of-type {\n",
       "        vertical-align: middle;\n",
       "    }\n",
       "\n",
       "    .dataframe tbody tr th {\n",
       "        vertical-align: top;\n",
       "    }\n",
       "\n",
       "    .dataframe thead th {\n",
       "        text-align: right;\n",
       "    }\n",
       "</style>\n",
       "<table border=\"1\" class=\"dataframe\">\n",
       "  <thead>\n",
       "    <tr style=\"text-align: right;\">\n",
       "      <th></th>\n",
       "      <th>proxy_id</th>\n",
       "      <th>individual_id</th>\n",
       "      <th>experiment_group_type</th>\n",
       "      <th>test_cell_id</th>\n",
       "      <th>run_datetime</th>\n",
       "      <th>channel</th>\n",
       "      <th>surp_ref</th>\n",
       "      <th>cms_county</th>\n",
       "      <th>cms_id</th>\n",
       "      <th>cms_state</th>\n",
       "      <th>...</th>\n",
       "      <th>mbr_mths</th>\n",
       "      <th>new_market</th>\n",
       "      <th>new_segment</th>\n",
       "      <th>sales_channel_updated</th>\n",
       "      <th>open_access</th>\n",
       "      <th>platform</th>\n",
       "      <th>welcome_call_holdout</th>\n",
       "      <th>welcome_call_treatment</th>\n",
       "      <th>mzb_indiv_id</th>\n",
       "      <th>vol_churn</th>\n",
       "    </tr>\n",
       "  </thead>\n",
       "  <tbody>\n",
       "    <tr>\n",
       "      <th>0</th>\n",
       "      <td>0001GRBBBPXY</td>\n",
       "      <td>56889353579</td>\n",
       "      <td>T</td>\n",
       "      <td>T_mapd_no_LIS_remaining_dm_surprise</td>\n",
       "      <td>2021-01-11 09:19:15</td>\n",
       "      <td>DM</td>\n",
       "      <td>Surprise</td>\n",
       "      <td>ALLEGHENY</td>\n",
       "      <td>H3959-010</td>\n",
       "      <td>PA</td>\n",
       "      <td>...</td>\n",
       "      <td>1</td>\n",
       "      <td>KEYSTONE</td>\n",
       "      <td>New to MAPD</td>\n",
       "      <td>remaining</td>\n",
       "      <td>PCPRequired/RefNotRequired</td>\n",
       "      <td>HMO</td>\n",
       "      <td>0</td>\n",
       "      <td>1</td>\n",
       "      <td>814032909</td>\n",
       "      <td>0</td>\n",
       "    </tr>\n",
       "    <tr>\n",
       "      <th>1</th>\n",
       "      <td>0009GRBBBPXY</td>\n",
       "      <td>717828459906311</td>\n",
       "      <td>T</td>\n",
       "      <td>T_mapd_no_LIS_ndp_dm_reframe</td>\n",
       "      <td>2021-01-11 09:19:14</td>\n",
       "      <td>DM</td>\n",
       "      <td>Reframe</td>\n",
       "      <td>DOUGHERTY</td>\n",
       "      <td>H3288-023</td>\n",
       "      <td>GA</td>\n",
       "      <td>...</td>\n",
       "      <td>1</td>\n",
       "      <td>GEORGIAGULFSTATES</td>\n",
       "      <td>New to MAPD</td>\n",
       "      <td>NDP</td>\n",
       "      <td>PCPNotRequired/RefNotRequired</td>\n",
       "      <td>PPO</td>\n",
       "      <td>1</td>\n",
       "      <td>0</td>\n",
       "      <td>671282928</td>\n",
       "      <td>0</td>\n",
       "    </tr>\n",
       "    <tr>\n",
       "      <th>2</th>\n",
       "      <td>000LGRBBBPXY</td>\n",
       "      <td>33208369805108</td>\n",
       "      <td>T</td>\n",
       "      <td>T_HMO_no_LIS_ndp_dm_surprise</td>\n",
       "      <td>2021-01-11 09:19:17</td>\n",
       "      <td>DM</td>\n",
       "      <td>Surprise</td>\n",
       "      <td>MAURY</td>\n",
       "      <td>H3146-012</td>\n",
       "      <td>TN</td>\n",
       "      <td>...</td>\n",
       "      <td>1</td>\n",
       "      <td>MIDSOUTH</td>\n",
       "      <td>HMO</td>\n",
       "      <td>NDP</td>\n",
       "      <td>PCPRequired/RefNotRequired</td>\n",
       "      <td>HMO</td>\n",
       "      <td>0</td>\n",
       "      <td>0</td>\n",
       "      <td>722763345</td>\n",
       "      <td>0</td>\n",
       "    </tr>\n",
       "    <tr>\n",
       "      <th>3</th>\n",
       "      <td>000YXBBBBPXY</td>\n",
       "      <td>1466426556</td>\n",
       "      <td>T</td>\n",
       "      <td>T_HMO_no_LIS_strategic_dm_email_surprise</td>\n",
       "      <td>2021-01-11 09:19:14</td>\n",
       "      <td>DM_EMAIL</td>\n",
       "      <td>Surprise</td>\n",
       "      <td>LAKE</td>\n",
       "      <td>H1609-037</td>\n",
       "      <td>FL</td>\n",
       "      <td>...</td>\n",
       "      <td>1</td>\n",
       "      <td>FLORIDA</td>\n",
       "      <td>HMO</td>\n",
       "      <td>Strategic</td>\n",
       "      <td>PCPRequired/RefRequired</td>\n",
       "      <td>HMO</td>\n",
       "      <td>0</td>\n",
       "      <td>1</td>\n",
       "      <td>267307878</td>\n",
       "      <td>0</td>\n",
       "    </tr>\n",
       "    <tr>\n",
       "      <th>4</th>\n",
       "      <td>001077BBBPXY</td>\n",
       "      <td>188569349324595</td>\n",
       "      <td>T</td>\n",
       "      <td>T_PPO_no_LIS_remaining_dm_email_surprise</td>\n",
       "      <td>2021-01-11 09:19:15</td>\n",
       "      <td>DM_EMAIL</td>\n",
       "      <td>Surprise</td>\n",
       "      <td>BROWARD</td>\n",
       "      <td>H5521-273</td>\n",
       "      <td>FL</td>\n",
       "      <td>...</td>\n",
       "      <td>37</td>\n",
       "      <td>FLORIDA</td>\n",
       "      <td>PPO</td>\n",
       "      <td>remaining</td>\n",
       "      <td>PCPNotRequired/RefNotRequired</td>\n",
       "      <td>PPO</td>\n",
       "      <td>0</td>\n",
       "      <td>0</td>\n",
       "      <td>116293617</td>\n",
       "      <td>0</td>\n",
       "    </tr>\n",
       "  </tbody>\n",
       "</table>\n",
       "<p>5 rows × 31 columns</p>\n",
       "</div>"
      ],
      "text/plain": [
       "       proxy_id    individual_id experiment_group_type  \\\n",
       "0  0001GRBBBPXY      56889353579                     T   \n",
       "1  0009GRBBBPXY  717828459906311                     T   \n",
       "2  000LGRBBBPXY   33208369805108                     T   \n",
       "3  000YXBBBBPXY       1466426556                     T   \n",
       "4  001077BBBPXY  188569349324595                     T   \n",
       "\n",
       "                               test_cell_id        run_datetime   channel  \\\n",
       "0       T_mapd_no_LIS_remaining_dm_surprise 2021-01-11 09:19:15        DM   \n",
       "1              T_mapd_no_LIS_ndp_dm_reframe 2021-01-11 09:19:14        DM   \n",
       "2              T_HMO_no_LIS_ndp_dm_surprise 2021-01-11 09:19:17        DM   \n",
       "3  T_HMO_no_LIS_strategic_dm_email_surprise 2021-01-11 09:19:14  DM_EMAIL   \n",
       "4  T_PPO_no_LIS_remaining_dm_email_surprise 2021-01-11 09:19:15  DM_EMAIL   \n",
       "\n",
       "   surp_ref cms_county     cms_id cms_state  ... mbr_mths         new_market  \\\n",
       "0  Surprise  ALLEGHENY  H3959-010        PA  ...        1           KEYSTONE   \n",
       "1   Reframe  DOUGHERTY  H3288-023        GA  ...        1  GEORGIAGULFSTATES   \n",
       "2  Surprise      MAURY  H3146-012        TN  ...        1           MIDSOUTH   \n",
       "3  Surprise       LAKE  H1609-037        FL  ...        1            FLORIDA   \n",
       "4  Surprise    BROWARD  H5521-273        FL  ...       37            FLORIDA   \n",
       "\n",
       "   new_segment sales_channel_updated                    open_access platform  \\\n",
       "0  New to MAPD             remaining     PCPRequired/RefNotRequired      HMO   \n",
       "1  New to MAPD                   NDP  PCPNotRequired/RefNotRequired      PPO   \n",
       "2          HMO                   NDP     PCPRequired/RefNotRequired      HMO   \n",
       "3          HMO             Strategic        PCPRequired/RefRequired      HMO   \n",
       "4          PPO             remaining  PCPNotRequired/RefNotRequired      PPO   \n",
       "\n",
       "  welcome_call_holdout welcome_call_treatment mzb_indiv_id vol_churn  \n",
       "0                    0                      1    814032909         0  \n",
       "1                    1                      0    671282928         0  \n",
       "2                    0                      0    722763345         0  \n",
       "3                    0                      1    267307878         0  \n",
       "4                    0                      0    116293617         0  \n",
       "\n",
       "[5 rows x 31 columns]"
      ]
     },
     "execution_count": 4,
     "metadata": {},
     "output_type": "execute_result"
    }
   ],
   "source": [
    "data.head()"
   ]
  },
  {
   "cell_type": "code",
   "execution_count": 5,
   "metadata": {},
   "outputs": [
    {
     "data": {
      "text/plain": [
       "proxy_id                  0\n",
       "individual_id             0\n",
       "experiment_group_type     0\n",
       "test_cell_id              0\n",
       "run_datetime              0\n",
       "channel                   0\n",
       "surp_ref                  0\n",
       "cms_county                0\n",
       "cms_id                    0\n",
       "cms_state                 0\n",
       "dig_flag                  0\n",
       "decile                    0\n",
       "dental_ind                0\n",
       "hearing_ind               0\n",
       "otc_ind                   0\n",
       "lis_ind                   0\n",
       "vision_ind                0\n",
       "lis_flag                  0\n",
       "gender                    0\n",
       "rx_flag                   0\n",
       "plan_type                 0\n",
       "mbr_mths                  0\n",
       "new_market                0\n",
       "new_segment               0\n",
       "sales_channel_updated     0\n",
       "open_access               0\n",
       "platform                  0\n",
       "welcome_call_holdout      0\n",
       "welcome_call_treatment    0\n",
       "mzb_indiv_id              0\n",
       "vol_churn                 0\n",
       "dtype: int64"
      ]
     },
     "execution_count": 5,
     "metadata": {},
     "output_type": "execute_result"
    }
   ],
   "source": [
    "data.isnull().sum()"
   ]
  },
  {
   "cell_type": "markdown",
   "metadata": {},
   "source": [
    "# Check Overall Balance"
   ]
  },
  {
   "cell_type": "code",
   "execution_count": null,
   "metadata": {},
   "outputs": [],
   "source": []
  },
  {
   "cell_type": "code",
   "execution_count": 6,
   "metadata": {},
   "outputs": [],
   "source": [
    "from statsmodels.stats import weightstats as stests\n",
    "import scipy\n",
    "\n",
    "def chisquare2(d1,d2,weight_var,agg_var,func):\n",
    "    treat = pd.DataFrame(d1.groupby(weight_var)[agg_var].sum().reset_index())\n",
    "    treat['real_fraction']= treat[agg_var].astype(float)/treat[agg_var].sum()\n",
    "    hold = pd.DataFrame(d2.groupby(weight_var)[agg_var].sum().reset_index())\n",
    "    hold['exp_fraction']= hold[agg_var].astype(float)/hold[agg_var].sum()\n",
    "    merge = hold.merge(treat, on =weight_var, how = 'left' ).fillna(0)\n",
    "    merge['cnt_treat_exp']=merge['exp_fraction']*merge[agg_var +'_y'].sum()\n",
    "    chisq,p_val=scipy.stats.chisquare(merge[agg_var +'_y'],merge['cnt_treat_exp'])\n",
    "    print (\"Test-Statistic :\" + str(chisq))\n",
    "    print (\"P-value :\" + str(p_val))\n",
    "    if p_val < 0.05:\n",
    "        print (\"Since the p-value is less than 0.05, the population is unbalanced\")\n",
    "    else:\n",
    "        print (\"Since the p-value is greater than 0.05,The population is balanced\")\n",
    "        \n",
    "        \n",
    "        \n",
    "#catg_col = ['decile', 'sales_channel_updated', 'new_segment', 'lis_ind']\n",
    "   "
   ]
  },
  {
   "cell_type": "code",
   "execution_count": null,
   "metadata": {},
   "outputs": [],
   "source": []
  },
  {
   "cell_type": "code",
   "execution_count": 7,
   "metadata": {},
   "outputs": [],
   "source": [
    "catg_col = ['decile']"
   ]
  },
  {
   "cell_type": "code",
   "execution_count": 8,
   "metadata": {},
   "outputs": [
    {
     "name": "stdout",
     "output_type": "stream",
     "text": [
      "decile\n",
      "Test-Statistic :62689.336666932475\n",
      "P-value :0.0\n",
      "Since the p-value is less than 0.05, the population is unbalanced\n"
     ]
    }
   ],
   "source": [
    "df8 = data\n",
    "df8['w_ate2'] = 1\n",
    "d1 = df8[df8['experiment_group_type']=='T']\n",
    "d2 = df8[df8['experiment_group_type']=='H']\n",
    "for j in catg_col:\n",
    "    print (j) \n",
    "    chisquare2(d1,d2,j,'w_ate2','sum')"
   ]
  },
  {
   "cell_type": "markdown",
   "metadata": {},
   "source": [
    "# Logistic Regression "
   ]
  },
  {
   "cell_type": "code",
   "execution_count": 9,
   "metadata": {},
   "outputs": [
    {
     "name": "stdout",
     "output_type": "stream",
     "text": [
      "Optimization terminated successfully.\n",
      "         Current function value: 0.461912\n",
      "         Iterations 6\n",
      "                           Logit Regression Results                           \n",
      "==============================================================================\n",
      "Dep. Variable:             expt_label   No. Observations:               218623\n",
      "Model:                          Logit   Df Residuals:                   218612\n",
      "Method:                           MLE   Df Model:                           10\n",
      "Date:                Tue, 13 Apr 2021   Pseudo R-squ.:                 0.04884\n",
      "Time:                        05:24:27   Log-Likelihood:            -1.0098e+05\n",
      "converged:                       True   LL-Null:                   -1.0617e+05\n",
      "Covariance Type:            nonrobust   LLR p-value:                     0.000\n",
      "==============================================================================\n",
      "                 coef    std err          z      P>|z|      [0.025      0.975]\n",
      "------------------------------------------------------------------------------\n",
      "const          1.5972      0.021     76.199      0.000       1.556       1.638\n",
      "decile_1      -1.0054      0.025    -39.435      0.000      -1.055      -0.955\n",
      "decile_10      0.7445      0.034     22.078      0.000       0.678       0.811\n",
      "decile_2      -0.7426      0.026    -28.683      0.000      -0.793      -0.692\n",
      "decile_3      -0.5524      0.026    -21.064      0.000      -0.604      -0.501\n",
      "decile_4      -0.3679      0.027    -13.779      0.000      -0.420      -0.316\n",
      "decile_5      -0.1593      0.027     -5.833      0.000      -0.213      -0.106\n",
      "decile_6       0.1129      0.028      3.965      0.000       0.057       0.169\n",
      "decile_7       0.4265      0.030     14.190      0.000       0.368       0.485\n",
      "decile_8       0.5607      0.031     18.130      0.000       0.500       0.621\n",
      "decile_9       0.7027      0.033     21.023      0.000       0.637       0.768\n",
      "==============================================================================\n",
      "decile_1\n",
      "decile_10\n",
      "decile_2\n",
      "decile_3\n",
      "decile_4\n",
      "decile_5\n",
      "decile_6\n",
      "decile_7\n",
      "decile_8\n",
      "decile_9\n"
     ]
    }
   ],
   "source": [
    "data['expt_label'] = data['experiment_group_type'] == 'T'\n",
    "\n",
    "\n",
    "data['expt_label'].value_counts()\n",
    "\n",
    "all_var = catg_col \n",
    "#converting categorical variables into one-hot vectors\n",
    "X = data[all_var]\n",
    "X = pd.get_dummies(X, columns = catg_col, prefix = catg_col, drop_first = True)\n",
    "Y = data['expt_label']\n",
    "\n",
    "import statsmodels.api as sm\n",
    "X_1=sm.add_constant(X)\n",
    "logit_model=sm.Logit(Y,X_1)\n",
    "result1=logit_model.fit()\n",
    "print(result1.summary())\n",
    "\n",
    "col_list = []\n",
    "for i in range(1,len(X_1.columns)):\n",
    "    if result1.pvalues[i] < 0.05:\n",
    "        print (X_1.columns[i])\n",
    "        col_list.append(X_1.columns[i])\n",
    "        \n",
    "        \n",
    "data['p_scores_lr'] = result1.predict(X_1)"
   ]
  },
  {
   "cell_type": "code",
   "execution_count": null,
   "metadata": {},
   "outputs": [],
   "source": []
  },
  {
   "cell_type": "code",
   "execution_count": 10,
   "metadata": {},
   "outputs": [
    {
     "name": "stdout",
     "output_type": "stream",
     "text": [
      "expt_label\n",
      "False    1.0\n",
      "True     1.0\n",
      "Name: st_wt, dtype: float64\n"
     ]
    },
    {
     "name": "stderr",
     "output_type": "stream",
     "text": [
      "/users/n323489/.conda/envs/n323489_pyconnect_py37/lib/python3.7/site-packages/ipykernel_launcher.py:10: SettingWithCopyWarning: \n",
      "A value is trying to be set on a copy of a slice from a DataFrame\n",
      "\n",
      "See the caveats in the documentation: https://pandas.pydata.org/pandas-docs/stable/user_guide/indexing.html#returning-a-view-versus-a-copy\n",
      "  # Remove the CWD from sys.path while we load stuff.\n",
      "/users/n323489/.conda/envs/n323489_pyconnect_py37/lib/python3.7/site-packages/ipykernel_launcher.py:11: SettingWithCopyWarning: \n",
      "A value is trying to be set on a copy of a slice from a DataFrame\n",
      "\n",
      "See the caveats in the documentation: https://pandas.pydata.org/pandas-docs/stable/user_guide/indexing.html#returning-a-view-versus-a-copy\n",
      "  # This is added back by InteractiveShellApp.init_path()\n"
     ]
    }
   ],
   "source": [
    "def treatment(exp_type,p):\n",
    "    if (exp_type):\n",
    "        return 1.0/p\n",
    "    else:\n",
    "        return 1.0/(1-p) \n",
    "def weightcalc(dfg,p_col,wt_col,std_col):\n",
    "    dfg[wt_col] = dfg.apply(lambda x: treatment(x['expt_label'],x['p_scores_lr']),axis=1)\n",
    "    #weight standardization\n",
    "    dfg[std_col] = 1\n",
    "    dfg[std_col][dfg['expt_label']== False] = dfg[wt_col]/dfg[wt_col][dfg['expt_label']== False].mean()\n",
    "    dfg[std_col][dfg['expt_label']== True] = dfg[wt_col]/dfg[wt_col][dfg['expt_label']== True].mean()\n",
    "    df_wt = dfg.groupby('expt_label')[std_col].mean()\n",
    "    print(df_wt)\n",
    "    return dfg\n",
    "\n",
    "\n",
    "dfni1 = weightcalc(data,'p_scores_lr','weight','st_wt')"
   ]
  },
  {
   "cell_type": "code",
   "execution_count": 11,
   "metadata": {},
   "outputs": [],
   "source": [
    "data['vol_churn_bal'] = data['vol_churn']*data['st_wt']"
   ]
  },
  {
   "cell_type": "code",
   "execution_count": 12,
   "metadata": {},
   "outputs": [
    {
     "data": {
      "text/html": [
       "<div>\n",
       "<style scoped>\n",
       "    .dataframe tbody tr th:only-of-type {\n",
       "        vertical-align: middle;\n",
       "    }\n",
       "\n",
       "    .dataframe tbody tr th {\n",
       "        vertical-align: top;\n",
       "    }\n",
       "\n",
       "    .dataframe thead th {\n",
       "        text-align: right;\n",
       "    }\n",
       "</style>\n",
       "<table border=\"1\" class=\"dataframe\">\n",
       "  <thead>\n",
       "    <tr style=\"text-align: right;\">\n",
       "      <th></th>\n",
       "      <th>proxy_id</th>\n",
       "      <th>individual_id</th>\n",
       "      <th>experiment_group_type</th>\n",
       "      <th>test_cell_id</th>\n",
       "      <th>run_datetime</th>\n",
       "      <th>channel</th>\n",
       "      <th>surp_ref</th>\n",
       "      <th>cms_county</th>\n",
       "      <th>cms_id</th>\n",
       "      <th>cms_state</th>\n",
       "      <th>...</th>\n",
       "      <th>welcome_call_holdout</th>\n",
       "      <th>welcome_call_treatment</th>\n",
       "      <th>mzb_indiv_id</th>\n",
       "      <th>vol_churn</th>\n",
       "      <th>w_ate2</th>\n",
       "      <th>expt_label</th>\n",
       "      <th>p_scores_lr</th>\n",
       "      <th>weight</th>\n",
       "      <th>st_wt</th>\n",
       "      <th>vol_churn_bal</th>\n",
       "    </tr>\n",
       "  </thead>\n",
       "  <tbody>\n",
       "    <tr>\n",
       "      <th>0</th>\n",
       "      <td>0001GRBBBPXY</td>\n",
       "      <td>56889353579</td>\n",
       "      <td>T</td>\n",
       "      <td>T_mapd_no_LIS_remaining_dm_surprise</td>\n",
       "      <td>2021-01-11 09:19:15</td>\n",
       "      <td>DM</td>\n",
       "      <td>Surprise</td>\n",
       "      <td>ALLEGHENY</td>\n",
       "      <td>H3959-010</td>\n",
       "      <td>PA</td>\n",
       "      <td>...</td>\n",
       "      <td>0</td>\n",
       "      <td>1</td>\n",
       "      <td>814032909</td>\n",
       "      <td>0</td>\n",
       "      <td>1</td>\n",
       "      <td>True</td>\n",
       "      <td>0.883259</td>\n",
       "      <td>1.132171</td>\n",
       "      <td>0.917521</td>\n",
       "      <td>0.0</td>\n",
       "    </tr>\n",
       "    <tr>\n",
       "      <th>1</th>\n",
       "      <td>0009GRBBBPXY</td>\n",
       "      <td>717828459906311</td>\n",
       "      <td>T</td>\n",
       "      <td>T_mapd_no_LIS_ndp_dm_reframe</td>\n",
       "      <td>2021-01-11 09:19:14</td>\n",
       "      <td>DM</td>\n",
       "      <td>Reframe</td>\n",
       "      <td>DOUGHERTY</td>\n",
       "      <td>H3288-023</td>\n",
       "      <td>GA</td>\n",
       "      <td>...</td>\n",
       "      <td>1</td>\n",
       "      <td>0</td>\n",
       "      <td>671282928</td>\n",
       "      <td>0</td>\n",
       "      <td>1</td>\n",
       "      <td>True</td>\n",
       "      <td>0.896403</td>\n",
       "      <td>1.115570</td>\n",
       "      <td>0.904068</td>\n",
       "      <td>0.0</td>\n",
       "    </tr>\n",
       "    <tr>\n",
       "      <th>2</th>\n",
       "      <td>000LGRBBBPXY</td>\n",
       "      <td>33208369805108</td>\n",
       "      <td>T</td>\n",
       "      <td>T_HMO_no_LIS_ndp_dm_surprise</td>\n",
       "      <td>2021-01-11 09:19:17</td>\n",
       "      <td>DM</td>\n",
       "      <td>Surprise</td>\n",
       "      <td>MAURY</td>\n",
       "      <td>H3146-012</td>\n",
       "      <td>TN</td>\n",
       "      <td>...</td>\n",
       "      <td>0</td>\n",
       "      <td>0</td>\n",
       "      <td>722763345</td>\n",
       "      <td>0</td>\n",
       "      <td>1</td>\n",
       "      <td>True</td>\n",
       "      <td>0.773683</td>\n",
       "      <td>1.292518</td>\n",
       "      <td>1.047468</td>\n",
       "      <td>0.0</td>\n",
       "    </tr>\n",
       "    <tr>\n",
       "      <th>3</th>\n",
       "      <td>000YXBBBBPXY</td>\n",
       "      <td>1466426556</td>\n",
       "      <td>T</td>\n",
       "      <td>T_HMO_no_LIS_strategic_dm_email_surprise</td>\n",
       "      <td>2021-01-11 09:19:14</td>\n",
       "      <td>DM_EMAIL</td>\n",
       "      <td>Surprise</td>\n",
       "      <td>LAKE</td>\n",
       "      <td>H1609-037</td>\n",
       "      <td>FL</td>\n",
       "      <td>...</td>\n",
       "      <td>0</td>\n",
       "      <td>1</td>\n",
       "      <td>267307878</td>\n",
       "      <td>0</td>\n",
       "      <td>1</td>\n",
       "      <td>True</td>\n",
       "      <td>0.643761</td>\n",
       "      <td>1.553370</td>\n",
       "      <td>1.258865</td>\n",
       "      <td>0.0</td>\n",
       "    </tr>\n",
       "    <tr>\n",
       "      <th>4</th>\n",
       "      <td>001077BBBPXY</td>\n",
       "      <td>188569349324595</td>\n",
       "      <td>T</td>\n",
       "      <td>T_PPO_no_LIS_remaining_dm_email_surprise</td>\n",
       "      <td>2021-01-11 09:19:15</td>\n",
       "      <td>DM_EMAIL</td>\n",
       "      <td>Surprise</td>\n",
       "      <td>BROWARD</td>\n",
       "      <td>H5521-273</td>\n",
       "      <td>FL</td>\n",
       "      <td>...</td>\n",
       "      <td>0</td>\n",
       "      <td>0</td>\n",
       "      <td>116293617</td>\n",
       "      <td>0</td>\n",
       "      <td>1</td>\n",
       "      <td>True</td>\n",
       "      <td>0.912269</td>\n",
       "      <td>1.096168</td>\n",
       "      <td>0.888344</td>\n",
       "      <td>0.0</td>\n",
       "    </tr>\n",
       "  </tbody>\n",
       "</table>\n",
       "<p>5 rows × 37 columns</p>\n",
       "</div>"
      ],
      "text/plain": [
       "       proxy_id    individual_id experiment_group_type  \\\n",
       "0  0001GRBBBPXY      56889353579                     T   \n",
       "1  0009GRBBBPXY  717828459906311                     T   \n",
       "2  000LGRBBBPXY   33208369805108                     T   \n",
       "3  000YXBBBBPXY       1466426556                     T   \n",
       "4  001077BBBPXY  188569349324595                     T   \n",
       "\n",
       "                               test_cell_id        run_datetime   channel  \\\n",
       "0       T_mapd_no_LIS_remaining_dm_surprise 2021-01-11 09:19:15        DM   \n",
       "1              T_mapd_no_LIS_ndp_dm_reframe 2021-01-11 09:19:14        DM   \n",
       "2              T_HMO_no_LIS_ndp_dm_surprise 2021-01-11 09:19:17        DM   \n",
       "3  T_HMO_no_LIS_strategic_dm_email_surprise 2021-01-11 09:19:14  DM_EMAIL   \n",
       "4  T_PPO_no_LIS_remaining_dm_email_surprise 2021-01-11 09:19:15  DM_EMAIL   \n",
       "\n",
       "   surp_ref cms_county     cms_id cms_state  ... welcome_call_holdout  \\\n",
       "0  Surprise  ALLEGHENY  H3959-010        PA  ...                    0   \n",
       "1   Reframe  DOUGHERTY  H3288-023        GA  ...                    1   \n",
       "2  Surprise      MAURY  H3146-012        TN  ...                    0   \n",
       "3  Surprise       LAKE  H1609-037        FL  ...                    0   \n",
       "4  Surprise    BROWARD  H5521-273        FL  ...                    0   \n",
       "\n",
       "  welcome_call_treatment mzb_indiv_id vol_churn w_ate2 expt_label p_scores_lr  \\\n",
       "0                      1    814032909         0      1       True    0.883259   \n",
       "1                      0    671282928         0      1       True    0.896403   \n",
       "2                      0    722763345         0      1       True    0.773683   \n",
       "3                      1    267307878         0      1       True    0.643761   \n",
       "4                      0    116293617         0      1       True    0.912269   \n",
       "\n",
       "     weight     st_wt vol_churn_bal  \n",
       "0  1.132171  0.917521           0.0  \n",
       "1  1.115570  0.904068           0.0  \n",
       "2  1.292518  1.047468           0.0  \n",
       "3  1.553370  1.258865           0.0  \n",
       "4  1.096168  0.888344           0.0  \n",
       "\n",
       "[5 rows x 37 columns]"
      ]
     },
     "execution_count": 12,
     "metadata": {},
     "output_type": "execute_result"
    }
   ],
   "source": [
    "data.head()"
   ]
  },
  {
   "cell_type": "code",
   "execution_count": 13,
   "metadata": {},
   "outputs": [
    {
     "data": {
      "text/plain": [
       "experiment_group_type  new_segment\n",
       "H                      HMO            16836\n",
       "                       New to MAPD     9022\n",
       "                       PPO            15591\n",
       "T                      HMO            41838\n",
       "                       New to MAPD    47901\n",
       "                       PPO            87435\n",
       "Name: individual_id, dtype: int64"
      ]
     },
     "execution_count": 13,
     "metadata": {},
     "output_type": "execute_result"
    }
   ],
   "source": [
    "data.groupby(['experiment_group_type', 'new_segment']).individual_id.count()"
   ]
  },
  {
   "cell_type": "markdown",
   "metadata": {},
   "source": [
    "# Proportions after balance"
   ]
  },
  {
   "cell_type": "code",
   "execution_count": 18,
   "metadata": {},
   "outputs": [],
   "source": [
    "a = pd.DataFrame(data.groupby(['experiment_group_type', 'new_segment']).st_wt.sum())\n",
    "a.reset_index(inplace=True)"
   ]
  },
  {
   "cell_type": "code",
   "execution_count": 19,
   "metadata": {},
   "outputs": [
    {
     "data": {
      "text/html": [
       "<div>\n",
       "<style scoped>\n",
       "    .dataframe tbody tr th:only-of-type {\n",
       "        vertical-align: middle;\n",
       "    }\n",
       "\n",
       "    .dataframe tbody tr th {\n",
       "        vertical-align: top;\n",
       "    }\n",
       "\n",
       "    .dataframe thead th {\n",
       "        text-align: right;\n",
       "    }\n",
       "</style>\n",
       "<table border=\"1\" class=\"dataframe\">\n",
       "  <thead>\n",
       "    <tr style=\"text-align: right;\">\n",
       "      <th></th>\n",
       "      <th>experiment_group_type</th>\n",
       "      <th>new_segment</th>\n",
       "      <th>st_wt</th>\n",
       "    </tr>\n",
       "  </thead>\n",
       "  <tbody>\n",
       "    <tr>\n",
       "      <th>0</th>\n",
       "      <td>H</td>\n",
       "      <td>HMO</td>\n",
       "      <td>15092.513091</td>\n",
       "    </tr>\n",
       "    <tr>\n",
       "      <th>1</th>\n",
       "      <td>H</td>\n",
       "      <td>New to MAPD</td>\n",
       "      <td>10521.764156</td>\n",
       "    </tr>\n",
       "    <tr>\n",
       "      <th>2</th>\n",
       "      <td>H</td>\n",
       "      <td>PPO</td>\n",
       "      <td>15834.722753</td>\n",
       "    </tr>\n",
       "    <tr>\n",
       "      <th>3</th>\n",
       "      <td>T</td>\n",
       "      <td>HMO</td>\n",
       "      <td>44140.490431</td>\n",
       "    </tr>\n",
       "    <tr>\n",
       "      <th>4</th>\n",
       "      <td>T</td>\n",
       "      <td>New to MAPD</td>\n",
       "      <td>46054.385065</td>\n",
       "    </tr>\n",
       "    <tr>\n",
       "      <th>5</th>\n",
       "      <td>T</td>\n",
       "      <td>PPO</td>\n",
       "      <td>86979.124504</td>\n",
       "    </tr>\n",
       "  </tbody>\n",
       "</table>\n",
       "</div>"
      ],
      "text/plain": [
       "  experiment_group_type  new_segment         st_wt\n",
       "0                     H          HMO  15092.513091\n",
       "1                     H  New to MAPD  10521.764156\n",
       "2                     H          PPO  15834.722753\n",
       "3                     T          HMO  44140.490431\n",
       "4                     T  New to MAPD  46054.385065\n",
       "5                     T          PPO  86979.124504"
      ]
     },
     "execution_count": 19,
     "metadata": {},
     "output_type": "execute_result"
    }
   ],
   "source": [
    "a"
   ]
  },
  {
   "cell_type": "code",
   "execution_count": 20,
   "metadata": {},
   "outputs": [],
   "source": [
    "b = pd.DataFrame(data.groupby(['experiment_group_type', 'lis_ind']).st_wt.sum())\n",
    "b.reset_index(inplace=True)"
   ]
  },
  {
   "cell_type": "code",
   "execution_count": 21,
   "metadata": {},
   "outputs": [
    {
     "data": {
      "text/html": [
       "<div>\n",
       "<style scoped>\n",
       "    .dataframe tbody tr th:only-of-type {\n",
       "        vertical-align: middle;\n",
       "    }\n",
       "\n",
       "    .dataframe tbody tr th {\n",
       "        vertical-align: top;\n",
       "    }\n",
       "\n",
       "    .dataframe thead th {\n",
       "        text-align: right;\n",
       "    }\n",
       "</style>\n",
       "<table border=\"1\" class=\"dataframe\">\n",
       "  <thead>\n",
       "    <tr style=\"text-align: right;\">\n",
       "      <th></th>\n",
       "      <th>experiment_group_type</th>\n",
       "      <th>lis_ind</th>\n",
       "      <th>st_wt</th>\n",
       "    </tr>\n",
       "  </thead>\n",
       "  <tbody>\n",
       "    <tr>\n",
       "      <th>0</th>\n",
       "      <td>H</td>\n",
       "      <td>0</td>\n",
       "      <td>31533.079809</td>\n",
       "    </tr>\n",
       "    <tr>\n",
       "      <th>1</th>\n",
       "      <td>H</td>\n",
       "      <td>1</td>\n",
       "      <td>9915.920191</td>\n",
       "    </tr>\n",
       "    <tr>\n",
       "      <th>2</th>\n",
       "      <td>T</td>\n",
       "      <td>0</td>\n",
       "      <td>152414.821552</td>\n",
       "    </tr>\n",
       "    <tr>\n",
       "      <th>3</th>\n",
       "      <td>T</td>\n",
       "      <td>1</td>\n",
       "      <td>24759.178448</td>\n",
       "    </tr>\n",
       "  </tbody>\n",
       "</table>\n",
       "</div>"
      ],
      "text/plain": [
       "  experiment_group_type lis_ind          st_wt\n",
       "0                     H       0   31533.079809\n",
       "1                     H       1    9915.920191\n",
       "2                     T       0  152414.821552\n",
       "3                     T       1   24759.178448"
      ]
     },
     "execution_count": 21,
     "metadata": {},
     "output_type": "execute_result"
    }
   ],
   "source": [
    "b"
   ]
  },
  {
   "cell_type": "code",
   "execution_count": 23,
   "metadata": {},
   "outputs": [
    {
     "data": {
      "text/html": [
       "<div>\n",
       "<style scoped>\n",
       "    .dataframe tbody tr th:only-of-type {\n",
       "        vertical-align: middle;\n",
       "    }\n",
       "\n",
       "    .dataframe tbody tr th {\n",
       "        vertical-align: top;\n",
       "    }\n",
       "\n",
       "    .dataframe thead th {\n",
       "        text-align: right;\n",
       "    }\n",
       "</style>\n",
       "<table border=\"1\" class=\"dataframe\">\n",
       "  <thead>\n",
       "    <tr style=\"text-align: right;\">\n",
       "      <th></th>\n",
       "      <th>experiment_group_type</th>\n",
       "      <th>sales_channel_updated</th>\n",
       "      <th>st_wt</th>\n",
       "    </tr>\n",
       "  </thead>\n",
       "  <tbody>\n",
       "    <tr>\n",
       "      <th>0</th>\n",
       "      <td>H</td>\n",
       "      <td>NDP</td>\n",
       "      <td>11444.0</td>\n",
       "    </tr>\n",
       "    <tr>\n",
       "      <th>1</th>\n",
       "      <td>H</td>\n",
       "      <td>Strategic</td>\n",
       "      <td>17938.0</td>\n",
       "    </tr>\n",
       "    <tr>\n",
       "      <th>2</th>\n",
       "      <td>H</td>\n",
       "      <td>remaining</td>\n",
       "      <td>12067.0</td>\n",
       "    </tr>\n",
       "    <tr>\n",
       "      <th>3</th>\n",
       "      <td>T</td>\n",
       "      <td>NDP</td>\n",
       "      <td>81964.0</td>\n",
       "    </tr>\n",
       "    <tr>\n",
       "      <th>4</th>\n",
       "      <td>T</td>\n",
       "      <td>Strategic</td>\n",
       "      <td>58224.0</td>\n",
       "    </tr>\n",
       "    <tr>\n",
       "      <th>5</th>\n",
       "      <td>T</td>\n",
       "      <td>remaining</td>\n",
       "      <td>36986.0</td>\n",
       "    </tr>\n",
       "  </tbody>\n",
       "</table>\n",
       "</div>"
      ],
      "text/plain": [
       "  experiment_group_type sales_channel_updated    st_wt\n",
       "0                     H                   NDP  11444.0\n",
       "1                     H             Strategic  17938.0\n",
       "2                     H             remaining  12067.0\n",
       "3                     T                   NDP  81964.0\n",
       "4                     T             Strategic  58224.0\n",
       "5                     T             remaining  36986.0"
      ]
     },
     "execution_count": 23,
     "metadata": {},
     "output_type": "execute_result"
    }
   ],
   "source": [
    "c = pd.DataFrame(data.groupby(['experiment_group_type', 'sales_channel_updated']).st_wt.sum().round())\n",
    "c.reset_index(inplace=True)\n",
    "c"
   ]
  },
  {
   "cell_type": "code",
   "execution_count": 26,
   "metadata": {},
   "outputs": [],
   "source": [
    "excelfilename = \"test.xlsx\"\n",
    "with pd.ExcelWriter(excelfilename) as writer:\n",
    "    a.to_excel(writer,sheet_name = 'lis' , startrow = 1  )\n",
    "    b.to_excel(writer,sheet_name = 'lis' , startrow = 12  )\n",
    "    c.to_excel(writer,sheet_name = 'lis' , startrow = 19  )"
   ]
  },
  {
   "cell_type": "code",
   "execution_count": null,
   "metadata": {},
   "outputs": [],
   "source": []
  },
  {
   "cell_type": "code",
   "execution_count": 62,
   "metadata": {},
   "outputs": [
    {
     "data": {
      "text/plain": [
       "<matplotlib.axes._subplots.AxesSubplot at 0x7f9a564b2048>"
      ]
     },
     "execution_count": 62,
     "metadata": {},
     "output_type": "execute_result"
    },
    {
     "data": {
      "image/png": "[encoded data removed]",
      "text/plain": [
       "<Figure size 432x288 with 1 Axes>"
      ]
     },
     "metadata": {
      "needs_background": "light"
     },
     "output_type": "display_data"
    }
   ],
   "source": [
    "data[data['experiment_group_type'] == 'T']['st_wt'].hist()"
   ]
  },
  {
   "cell_type": "code",
   "execution_count": 63,
   "metadata": {},
   "outputs": [
    {
     "data": {
      "text/plain": [
       "<matplotlib.axes._subplots.AxesSubplot at 0x7f9a822150f0>"
      ]
     },
     "execution_count": 63,
     "metadata": {},
     "output_type": "execute_result"
    },
    {
     "data": {
      "image/png": "[encoded data removed]",
      "text/plain": [
       "<Figure size 432x288 with 1 Axes>"
      ]
     },
     "metadata": {
      "needs_background": "light"
     },
     "output_type": "display_data"
    }
   ],
   "source": [
    "data[data['experiment_group_type'] == 'H']['st_wt'].hist()"
   ]
  },
  {
   "cell_type": "code",
   "execution_count": null,
   "metadata": {},
   "outputs": [],
   "source": []
  },
  {
   "cell_type": "code",
   "execution_count": 27,
   "metadata": {},
   "outputs": [
    {
     "data": {
      "text/plain": [
       "<pandas.plotting._core.PlotAccessor object at 0x7fd1eda8c438>"
      ]
     },
     "execution_count": 27,
     "metadata": {},
     "output_type": "execute_result"
    }
   ],
   "source": [
    "data['st_wt'].plot"
   ]
  },
  {
   "cell_type": "markdown",
   "metadata": {},
   "source": [
    "# Churn"
   ]
  },
  {
   "cell_type": "markdown",
   "metadata": {},
   "source": [
    "### Before Balancing "
   ]
  },
  {
   "cell_type": "code",
   "execution_count": 31,
   "metadata": {},
   "outputs": [
    {
     "data": {
      "text/plain": [
       "218623"
      ]
     },
     "execution_count": 31,
     "metadata": {},
     "output_type": "execute_result"
    }
   ],
   "source": [
    "data.individual_id.count()"
   ]
  },
  {
   "cell_type": "code",
   "execution_count": 28,
   "metadata": {},
   "outputs": [
    {
     "data": {
      "text/plain": [
       "(0.09639424946140158, 21074)"
      ]
     },
     "execution_count": 28,
     "metadata": {},
     "output_type": "execute_result"
    }
   ],
   "source": [
    "data.vol_churn.mean(), data.vol_churn.sum()"
   ]
  },
  {
   "cell_type": "code",
   "execution_count": 29,
   "metadata": {},
   "outputs": [
    {
     "data": {
      "text/plain": [
       "experiment_group_type\n",
       "H    0.130256\n",
       "T    0.088472\n",
       "Name: vol_churn, dtype: float64"
      ]
     },
     "execution_count": 29,
     "metadata": {},
     "output_type": "execute_result"
    }
   ],
   "source": [
    "data.groupby('experiment_group_type').vol_churn.mean()"
   ]
  },
  {
   "cell_type": "code",
   "execution_count": 30,
   "metadata": {},
   "outputs": [
    {
     "data": {
      "text/plain": [
       "experiment_group_type\n",
       "H     5399\n",
       "T    15675\n",
       "Name: vol_churn, dtype: int64"
      ]
     },
     "execution_count": 30,
     "metadata": {},
     "output_type": "execute_result"
    }
   ],
   "source": [
    "data.groupby('experiment_group_type').vol_churn.sum()"
   ]
  },
  {
   "cell_type": "markdown",
   "metadata": {},
   "source": [
    "### After Balancing"
   ]
  },
  {
   "cell_type": "code",
   "execution_count": 32,
   "metadata": {},
   "outputs": [
    {
     "data": {
      "text/plain": [
       "(0.09628439730486939, 21049.98379198246)"
      ]
     },
     "execution_count": 32,
     "metadata": {},
     "output_type": "execute_result"
    }
   ],
   "source": [
    "data.vol_churn_bal.mean(), data.vol_churn_bal.sum()"
   ]
  },
  {
   "cell_type": "code",
   "execution_count": 33,
   "metadata": {},
   "outputs": [
    {
     "data": {
      "text/plain": [
       "experiment_group_type\n",
       "H    0.10297\n",
       "T    0.09472\n",
       "Name: vol_churn_bal, dtype: float64"
      ]
     },
     "execution_count": 33,
     "metadata": {},
     "output_type": "execute_result"
    }
   ],
   "source": [
    "data.groupby('experiment_group_type').vol_churn_bal.mean()"
   ]
  },
  {
   "cell_type": "code",
   "execution_count": 34,
   "metadata": {},
   "outputs": [
    {
     "data": {
      "text/plain": [
       "experiment_group_type\n",
       "H     4268.017670\n",
       "T    16781.966122\n",
       "Name: vol_churn_bal, dtype: float64"
      ]
     },
     "execution_count": 34,
     "metadata": {},
     "output_type": "execute_result"
    }
   ],
   "source": [
    "data.groupby('experiment_group_type').vol_churn_bal.sum()"
   ]
  },
  {
   "cell_type": "code",
   "execution_count": 35,
   "metadata": {},
   "outputs": [],
   "source": [
    "from statsmodels.stats.proportion import proportions_ztest\n",
    "import scipy\n",
    "from scipy import stats\n",
    "from scipy.stats import norm\n"
   ]
  },
  {
   "cell_type": "code",
   "execution_count": 36,
   "metadata": {},
   "outputs": [
    {
     "name": "stdout",
     "output_type": "stream",
     "text": [
      "1.4802551250043655e-07 -5.1259437292647965\n",
      "significant at 95%\n"
     ]
    }
   ],
   "source": [
    "import  numpy as np\n",
    "def ztest_prop(df0):\n",
    "    d1 = df0[df0['experiment_group_type']=='T' ]\n",
    "    d2 = df0[df0['experiment_group_type']=='H']\n",
    "    count=np.array([d1['vol_churn_bal'].sum(), d2['vol_churn_bal'].sum()])\n",
    "    nobs = np.array([d1['vol_churn_bal'].count(), d2['vol_churn_bal'].count()])\n",
    "    stat, pval = proportions_ztest(count, nobs,alternative='smaller')   #alter : T<H\n",
    "    pval1 = stats.norm.cdf(stat)\n",
    "    print (pval , stat)\n",
    "    if pval < 0.05:\n",
    "        print('significant at 95%')\n",
    "    elif pval>0.05 and pval <= 0.10 :\n",
    "        print('significant at 90%')\n",
    "    elif pval >0.10 and pval<= .20 :\n",
    "        print('significant at 80%')\n",
    "    else:\n",
    "        print('Same Prop')\n",
    "        \n",
    "ztest_prop(data)"
   ]
  },
  {
   "cell_type": "markdown",
   "metadata": {},
   "source": [
    "# FACTORS"
   ]
  },
  {
   "cell_type": "code",
   "execution_count": 37,
   "metadata": {},
   "outputs": [],
   "source": [
    "catg_col = ['decile']\n",
    "\n",
    "#, 'sales_channel_updated', 'new_segment', 'lis_ind']\n",
    "\n",
    "catg_col_2 = [ 'sales_channel_updated', 'new_segment', 'lis_ind']\n",
    "\n",
    "from statsmodels.stats import weightstats as stests\n",
    "import scipy\n",
    "import numpy as np\n",
    "from statsmodels.stats.proportion import proportions_ztest\n",
    "import scipy\n",
    "from scipy import stats\n",
    "from scipy.stats import norm\n",
    "\n",
    "\n",
    "def treatment(exp_type,p):\n",
    "    if (exp_type):\n",
    "        return 1.0/p\n",
    "    else:\n",
    "        return 1.0/(1-p) \n",
    "def weightcalc(dfg,p_col,wt_col,std_col):\n",
    "    dfg[wt_col] = dfg.apply(lambda x: treatment(x['expt_label'],x['p_scores_lr']),axis=1)\n",
    "    #weight standardization\n",
    "    dfg[std_col] = 1\n",
    "    dfg[std_col][dfg['expt_label']== False] = dfg[wt_col]/dfg[wt_col][dfg['expt_label']== False].mean()\n",
    "    dfg[std_col][dfg['expt_label']== True] = dfg[wt_col]/dfg[wt_col][dfg['expt_label']== True].mean()\n",
    "    df_wt = dfg.groupby('expt_label')[std_col].mean()\n",
    "    print(df_wt)\n",
    "    return dfg\n",
    "\n",
    "\n",
    "\n",
    "def ztest_prop(df0):\n",
    "\n",
    "        d1 = df0[(df0['experiment_group_type']=='T' ) ]\n",
    "        d2 = df0[(df0['experiment_group_type']=='H') ]\n",
    "        count=np.array([d1['vol_churn_bal'].sum(), d2['vol_churn_bal'].sum()])\n",
    "        nobs = np.array([d1['vol_churn_bal'].count(), d2['vol_churn_bal'].count()])\n",
    "        stat, pval = proportions_ztest(count, nobs,alternative='smaller')   #alter : T<H\n",
    "        pval = stats.norm.cdf(stat)\n",
    "        print (pval , stat)\n",
    "        if pval < 0.05:\n",
    "            print('significant at 95%')\n",
    "        elif pval>0.05 and pval <= 0.10 :\n",
    "            print('significant at 90%')\n",
    "        elif pval >0.10 and pval<= .20 :\n",
    "            print('significant at 80%')\n",
    "        else:\n",
    "            print('Same Prop')"
   ]
  },
  {
   "cell_type": "code",
   "execution_count": 38,
   "metadata": {},
   "outputs": [],
   "source": [
    "data = hc.table('cust_exp_Enc.n323489_pods_v1 ').toPandas()"
   ]
  },
  {
   "cell_type": "markdown",
   "metadata": {},
   "source": [
    "# HMO"
   ]
  },
  {
   "cell_type": "code",
   "execution_count": 39,
   "metadata": {},
   "outputs": [
    {
     "name": "stdout",
     "output_type": "stream",
     "text": [
      "58674\n",
      "True     41838\n",
      "False    16836\n",
      "Name: expt_label, dtype: int64\n"
     ]
    },
    {
     "name": "stderr",
     "output_type": "stream",
     "text": [
      "/users/n323489/.conda/envs/n323489_pyconnect_py37/lib/python3.7/site-packages/ipykernel_launcher.py:5: SettingWithCopyWarning: \n",
      "A value is trying to be set on a copy of a slice from a DataFrame.\n",
      "Try using .loc[row_indexer,col_indexer] = value instead\n",
      "\n",
      "See the caveats in the documentation: https://pandas.pydata.org/pandas-docs/stable/user_guide/indexing.html#returning-a-view-versus-a-copy\n",
      "  \"\"\"\n"
     ]
    }
   ],
   "source": [
    "data_hmo = data[data['new_segment'] == 'HMO']\n",
    "print(data_hmo.individual_id.count())\n",
    "\n",
    "\n",
    "data_hmo['expt_label'] = data_hmo['experiment_group_type'] == 'T'\n",
    "\n",
    "print(data_hmo['expt_label'].value_counts())"
   ]
  },
  {
   "cell_type": "code",
   "execution_count": 40,
   "metadata": {},
   "outputs": [
    {
     "name": "stdout",
     "output_type": "stream",
     "text": [
      "Optimization terminated successfully.\n",
      "         Current function value: 0.585797\n",
      "         Iterations 5\n",
      "                           Logit Regression Results                           \n",
      "==============================================================================\n",
      "Dep. Variable:             expt_label   No. Observations:                58674\n",
      "Model:                          Logit   Df Residuals:                    58663\n",
      "Method:                           MLE   Df Model:                           10\n",
      "Date:                Tue, 13 Apr 2021   Pseudo R-squ.:                 0.02268\n",
      "Time:                        08:08:10   Log-Likelihood:                -34371.\n",
      "converged:                       True   LL-Null:                       -35169.\n",
      "Covariance Type:            nonrobust   LLR p-value:                     0.000\n",
      "==============================================================================\n",
      "                 coef    std err          z      P>|z|      [0.025      0.975]\n",
      "------------------------------------------------------------------------------\n",
      "const          0.7022      0.041     17.043      0.000       0.621       0.783\n",
      "decile_1      -0.2756      0.045     -6.085      0.000      -0.364      -0.187\n",
      "decile_10      0.4988      0.090      5.551      0.000       0.323       0.675\n",
      "decile_2      -0.0616      0.047     -1.308      0.191      -0.154       0.031\n",
      "decile_3       0.1435      0.049      2.939      0.003       0.048       0.239\n",
      "decile_4       0.3321      0.051      6.568      0.000       0.233       0.431\n",
      "decile_5       0.6241      0.052     11.898      0.000       0.521       0.727\n",
      "decile_6       0.6539      0.053     12.274      0.000       0.550       0.758\n",
      "decile_7       0.7159      0.055     13.089      0.000       0.609       0.823\n",
      "decile_8       0.5948      0.057     10.368      0.000       0.482       0.707\n",
      "decile_9       0.6597      0.068      9.742      0.000       0.527       0.792\n",
      "==============================================================================\n",
      "decile_1\n",
      "decile_10\n",
      "decile_3\n",
      "decile_4\n",
      "decile_5\n",
      "decile_6\n",
      "decile_7\n",
      "decile_8\n",
      "decile_9\n"
     ]
    },
    {
     "name": "stderr",
     "output_type": "stream",
     "text": [
      "/users/n323489/.conda/envs/n323489_pyconnect_py37/lib/python3.7/site-packages/ipykernel_launcher.py:21: SettingWithCopyWarning: \n",
      "A value is trying to be set on a copy of a slice from a DataFrame.\n",
      "Try using .loc[row_indexer,col_indexer] = value instead\n",
      "\n",
      "See the caveats in the documentation: https://pandas.pydata.org/pandas-docs/stable/user_guide/indexing.html#returning-a-view-versus-a-copy\n"
     ]
    },
    {
     "name": "stdout",
     "output_type": "stream",
     "text": [
      "expt_label\n",
      "False    1.0\n",
      "True     1.0\n",
      "Name: st_wt, dtype: float64\n"
     ]
    },
    {
     "name": "stderr",
     "output_type": "stream",
     "text": [
      "/users/n323489/.conda/envs/n323489_pyconnect_py37/lib/python3.7/site-packages/ipykernel_launcher.py:22: SettingWithCopyWarning: \n",
      "A value is trying to be set on a copy of a slice from a DataFrame.\n",
      "Try using .loc[row_indexer,col_indexer] = value instead\n",
      "\n",
      "See the caveats in the documentation: https://pandas.pydata.org/pandas-docs/stable/user_guide/indexing.html#returning-a-view-versus-a-copy\n",
      "/users/n323489/.conda/envs/n323489_pyconnect_py37/lib/python3.7/site-packages/ipykernel_launcher.py:24: SettingWithCopyWarning: \n",
      "A value is trying to be set on a copy of a slice from a DataFrame.\n",
      "Try using .loc[row_indexer,col_indexer] = value instead\n",
      "\n",
      "See the caveats in the documentation: https://pandas.pydata.org/pandas-docs/stable/user_guide/indexing.html#returning-a-view-versus-a-copy\n",
      "/users/n323489/.conda/envs/n323489_pyconnect_py37/lib/python3.7/site-packages/ipykernel_launcher.py:25: SettingWithCopyWarning: \n",
      "A value is trying to be set on a copy of a slice from a DataFrame\n",
      "\n",
      "See the caveats in the documentation: https://pandas.pydata.org/pandas-docs/stable/user_guide/indexing.html#returning-a-view-versus-a-copy\n",
      "/users/n323489/.conda/envs/n323489_pyconnect_py37/lib/python3.7/site-packages/pandas/core/generic.py:8767: SettingWithCopyWarning: \n",
      "A value is trying to be set on a copy of a slice from a DataFrame\n",
      "\n",
      "See the caveats in the documentation: https://pandas.pydata.org/pandas-docs/stable/user_guide/indexing.html#returning-a-view-versus-a-copy\n",
      "  self._update_inplace(new_data)\n",
      "/users/n323489/.conda/envs/n323489_pyconnect_py37/lib/python3.7/site-packages/ipykernel_launcher.py:26: SettingWithCopyWarning: \n",
      "A value is trying to be set on a copy of a slice from a DataFrame\n",
      "\n",
      "See the caveats in the documentation: https://pandas.pydata.org/pandas-docs/stable/user_guide/indexing.html#returning-a-view-versus-a-copy\n",
      "/users/n323489/.conda/envs/n323489_pyconnect_py37/lib/python3.7/site-packages/ipykernel_launcher.py:26: SettingWithCopyWarning: \n",
      "A value is trying to be set on a copy of a slice from a DataFrame.\n",
      "Try using .loc[row_indexer,col_indexer] = value instead\n",
      "\n",
      "See the caveats in the documentation: https://pandas.pydata.org/pandas-docs/stable/user_guide/indexing.html#returning-a-view-versus-a-copy\n"
     ]
    }
   ],
   "source": [
    "all_var = catg_col \n",
    "#converting categorical variables into one-hot vectors\n",
    "X = data_hmo[all_var]\n",
    "X = pd.get_dummies(X, columns = catg_col, prefix = catg_col, drop_first = True)\n",
    "Y = data_hmo['expt_label']\n",
    "\n",
    "\n",
    "import statsmodels.api as sm\n",
    "X_1=sm.add_constant(X)\n",
    "logit_model=sm.Logit(Y,X_1)\n",
    "result1=logit_model.fit()\n",
    "print(result1.summary())\n",
    "\n",
    "col_list = []\n",
    "for i in range(1,len(X_1.columns)):\n",
    "    if result1.pvalues[i] < 0.05:\n",
    "        print (X_1.columns[i])\n",
    "        col_list.append(X_1.columns[i])\n",
    "        \n",
    "        \n",
    "data_hmo['p_scores_lr'] = result1.predict(X_1)\n",
    "\n",
    "\n",
    "dfni1 = weightcalc(data_hmo,'p_scores_lr','weight','st_wt')\n",
    "\n",
    "data_hmo['vol_churn_bal'] = data_hmo['vol_churn']*data_hmo['st_wt']"
   ]
  },
  {
   "cell_type": "code",
   "execution_count": 41,
   "metadata": {},
   "outputs": [
    {
     "name": "stdout",
     "output_type": "stream",
     "text": [
      "new_segment  experiment_group_type\n",
      "HMO          H                        0.130172\n",
      "             T                        0.125050\n",
      "Name: vol_churn_bal, dtype: float64\n",
      "new_segment  experiment_group_type\n",
      "HMO          H                        0.14867\n",
      "             T                        0.11829\n",
      "Name: vol_churn, dtype: float64\n",
      "0.04569096909681106 -1.6881526066712513\n",
      "significant at 95%\n"
     ]
    }
   ],
   "source": [
    "print(data_hmo.groupby(['new_segment','experiment_group_type']).vol_churn_bal.mean())\n",
    "print(data_hmo.groupby(['new_segment','experiment_group_type']).vol_churn.mean())\n",
    "\n",
    "ztest_prop(data_hmo)"
   ]
  },
  {
   "cell_type": "code",
   "execution_count": 42,
   "metadata": {},
   "outputs": [
    {
     "name": "stdout",
     "output_type": "stream",
     "text": [
      "new_segment  experiment_group_type\n",
      "HMO          H                        16836\n",
      "             T                        41838\n",
      "Name: individual_id, dtype: int64\n"
     ]
    }
   ],
   "source": [
    "print(data_hmo.groupby(['new_segment','experiment_group_type']).individual_id.count())"
   ]
  },
  {
   "cell_type": "code",
   "execution_count": 43,
   "metadata": {},
   "outputs": [
    {
     "name": "stdout",
     "output_type": "stream",
     "text": [
      "new_segment  experiment_group_type\n",
      "HMO          H                        2191.579027\n",
      "             T                        5231.851889\n",
      "Name: vol_churn_bal, dtype: float64\n"
     ]
    }
   ],
   "source": [
    "print(data_hmo.groupby(['new_segment','experiment_group_type']).vol_churn_bal.sum())"
   ]
  },
  {
   "cell_type": "markdown",
   "metadata": {},
   "source": [
    "## Without decile"
   ]
  },
  {
   "cell_type": "markdown",
   "metadata": {},
   "source": [
    "data_hmo = data[data['new_segment'] == 'HMO']\n",
    "print(data_hmo.individual_id.count())\n",
    "\n",
    "\n",
    "data_hmo['expt_label'] = data_hmo['experiment_group_type'] == 'T'\n",
    "\n",
    "print(data_hmo['expt_label'].value_counts())\n",
    "\n",
    "\n",
    "all_var = catg_col_2 \n",
    "#converting categorical variables into one-hot vectors\n",
    "X = data_hmo[all_var]\n",
    "X = pd.get_dummies(X, columns = catg_col_2, prefix = catg_col_2, drop_first = True)\n",
    "Y = data_hmo['expt_label']\n",
    "\n",
    "\n",
    "import statsmodels.api as sm\n",
    "X_1=sm.add_constant(X)\n",
    "logit_model=sm.Logit(Y,X_1)\n",
    "result1=logit_model.fit()\n",
    "print(result1.summary())\n",
    "\n",
    "col_list = []\n",
    "for i in range(1,len(X_1.columns)):\n",
    "    if result1.pvalues[i] < 0.05:\n",
    "        print (X_1.columns[i])\n",
    "        col_list.append(X_1.columns[i])\n",
    "        \n",
    "        \n",
    "data_hmo['p_scores_lr'] = result1.predict(X_1)\n",
    "\n",
    "\n",
    "dfni1 = weightcalc(data_hmo,'p_scores_lr','weight','st_wt')\n",
    "\n",
    "data_hmo['vol_churn_bal'] = data_hmo['vol_churn']*data_hmo['st_wt']\n",
    "\n",
    "\n",
    "print(data_hmo.groupby(['new_segment','experiment_group_type']).vol_churn_bal.mean())\n",
    "print(data_hmo.groupby(['new_segment','experiment_group_type']).vol_churn.mean())\n",
    "\n",
    "ztest_prop(data_hmo)"
   ]
  },
  {
   "cell_type": "markdown",
   "metadata": {},
   "source": [
    "# PPO"
   ]
  },
  {
   "cell_type": "code",
   "execution_count": 44,
   "metadata": {},
   "outputs": [
    {
     "name": "stdout",
     "output_type": "stream",
     "text": [
      "103026\n",
      "True     87435\n",
      "False    15591\n",
      "Name: expt_label, dtype: int64\n"
     ]
    },
    {
     "name": "stderr",
     "output_type": "stream",
     "text": [
      "/users/n323489/.conda/envs/n323489_pyconnect_py37/lib/python3.7/site-packages/ipykernel_launcher.py:4: SettingWithCopyWarning: \n",
      "A value is trying to be set on a copy of a slice from a DataFrame.\n",
      "Try using .loc[row_indexer,col_indexer] = value instead\n",
      "\n",
      "See the caveats in the documentation: https://pandas.pydata.org/pandas-docs/stable/user_guide/indexing.html#returning-a-view-versus-a-copy\n",
      "  after removing the cwd from sys.path.\n"
     ]
    }
   ],
   "source": [
    "data_ppo = data[data['new_segment'] == 'PPO']\n",
    "print(data_ppo.individual_id.count())\n",
    "\n",
    "data_ppo['expt_label'] = data_ppo['experiment_group_type'] == 'T'\n",
    "\n",
    "print(data_ppo['expt_label'].value_counts())"
   ]
  },
  {
   "cell_type": "code",
   "execution_count": 45,
   "metadata": {},
   "outputs": [
    {
     "name": "stdout",
     "output_type": "stream",
     "text": [
      "Optimization terminated successfully.\n",
      "         Current function value: 0.402436\n",
      "         Iterations 6\n",
      "                           Logit Regression Results                           \n",
      "==============================================================================\n",
      "Dep. Variable:             expt_label   No. Observations:               103026\n",
      "Model:                          Logit   Df Residuals:                   103015\n",
      "Method:                           MLE   Df Model:                           10\n",
      "Date:                Tue, 13 Apr 2021   Pseudo R-squ.:                 0.05312\n",
      "Time:                        08:12:43   Log-Likelihood:                -41461.\n",
      "converged:                       True   LL-Null:                       -43787.\n",
      "Covariance Type:            nonrobust   LLR p-value:                     0.000\n",
      "==============================================================================\n",
      "                 coef    std err          z      P>|z|      [0.025      0.975]\n",
      "------------------------------------------------------------------------------\n",
      "const          1.4502      0.040     36.381      0.000       1.372       1.528\n",
      "decile_1      -0.6139      0.047    -13.077      0.000      -0.706      -0.522\n",
      "decile_10      0.9284      0.055     16.870      0.000       0.821       1.036\n",
      "decile_2      -0.3877      0.046     -8.433      0.000      -0.478      -0.298\n",
      "decile_3      -0.2359      0.046     -5.126      0.000      -0.326      -0.146\n",
      "decile_4       0.0328      0.047      0.691      0.489      -0.060       0.126\n",
      "decile_5       0.3314      0.049      6.696      0.000       0.234       0.428\n",
      "decile_6       0.7212      0.052     13.940      0.000       0.620       0.823\n",
      "decile_7       0.9576      0.053     18.208      0.000       0.855       1.061\n",
      "decile_8       1.0621      0.053     19.924      0.000       0.958       1.167\n",
      "decile_9       1.1001      0.056     19.526      0.000       0.990       1.211\n",
      "==============================================================================\n",
      "decile_1\n",
      "decile_10\n",
      "decile_2\n",
      "decile_3\n",
      "decile_5\n",
      "decile_6\n",
      "decile_7\n",
      "decile_8\n",
      "decile_9\n"
     ]
    },
    {
     "name": "stderr",
     "output_type": "stream",
     "text": [
      "/users/n323489/.conda/envs/n323489_pyconnect_py37/lib/python3.7/site-packages/ipykernel_launcher.py:20: SettingWithCopyWarning: \n",
      "A value is trying to be set on a copy of a slice from a DataFrame.\n",
      "Try using .loc[row_indexer,col_indexer] = value instead\n",
      "\n",
      "See the caveats in the documentation: https://pandas.pydata.org/pandas-docs/stable/user_guide/indexing.html#returning-a-view-versus-a-copy\n"
     ]
    },
    {
     "name": "stdout",
     "output_type": "stream",
     "text": [
      "expt_label\n",
      "False    1.0\n",
      "True     1.0\n",
      "Name: st_wt, dtype: float64\n"
     ]
    },
    {
     "name": "stderr",
     "output_type": "stream",
     "text": [
      "/users/n323489/.conda/envs/n323489_pyconnect_py37/lib/python3.7/site-packages/ipykernel_launcher.py:22: SettingWithCopyWarning: \n",
      "A value is trying to be set on a copy of a slice from a DataFrame.\n",
      "Try using .loc[row_indexer,col_indexer] = value instead\n",
      "\n",
      "See the caveats in the documentation: https://pandas.pydata.org/pandas-docs/stable/user_guide/indexing.html#returning-a-view-versus-a-copy\n",
      "/users/n323489/.conda/envs/n323489_pyconnect_py37/lib/python3.7/site-packages/ipykernel_launcher.py:24: SettingWithCopyWarning: \n",
      "A value is trying to be set on a copy of a slice from a DataFrame.\n",
      "Try using .loc[row_indexer,col_indexer] = value instead\n",
      "\n",
      "See the caveats in the documentation: https://pandas.pydata.org/pandas-docs/stable/user_guide/indexing.html#returning-a-view-versus-a-copy\n",
      "/users/n323489/.conda/envs/n323489_pyconnect_py37/lib/python3.7/site-packages/ipykernel_launcher.py:25: SettingWithCopyWarning: \n",
      "A value is trying to be set on a copy of a slice from a DataFrame\n",
      "\n",
      "See the caveats in the documentation: https://pandas.pydata.org/pandas-docs/stable/user_guide/indexing.html#returning-a-view-versus-a-copy\n",
      "/users/n323489/.conda/envs/n323489_pyconnect_py37/lib/python3.7/site-packages/pandas/core/generic.py:8767: SettingWithCopyWarning: \n",
      "A value is trying to be set on a copy of a slice from a DataFrame\n",
      "\n",
      "See the caveats in the documentation: https://pandas.pydata.org/pandas-docs/stable/user_guide/indexing.html#returning-a-view-versus-a-copy\n",
      "  self._update_inplace(new_data)\n",
      "/users/n323489/.conda/envs/n323489_pyconnect_py37/lib/python3.7/site-packages/ipykernel_launcher.py:26: SettingWithCopyWarning: \n",
      "A value is trying to be set on a copy of a slice from a DataFrame\n",
      "\n",
      "See the caveats in the documentation: https://pandas.pydata.org/pandas-docs/stable/user_guide/indexing.html#returning-a-view-versus-a-copy\n",
      "/users/n323489/.conda/envs/n323489_pyconnect_py37/lib/python3.7/site-packages/ipykernel_launcher.py:25: SettingWithCopyWarning: \n",
      "A value is trying to be set on a copy of a slice from a DataFrame.\n",
      "Try using .loc[row_indexer,col_indexer] = value instead\n",
      "\n",
      "See the caveats in the documentation: https://pandas.pydata.org/pandas-docs/stable/user_guide/indexing.html#returning-a-view-versus-a-copy\n"
     ]
    }
   ],
   "source": [
    "all_var = catg_col \n",
    "#converting categorical variables into one-hot vectors\n",
    "X = data_ppo[all_var]\n",
    "X = pd.get_dummies(X, columns = catg_col, prefix = catg_col, drop_first = True)\n",
    "Y = data_ppo['expt_label']\n",
    "\n",
    "import statsmodels.api as sm\n",
    "X_1=sm.add_constant(X)\n",
    "logit_model=sm.Logit(Y,X_1)\n",
    "result1=logit_model.fit()\n",
    "print(result1.summary())\n",
    "\n",
    "col_list = []\n",
    "for i in range(1,len(X_1.columns)):\n",
    "    if result1.pvalues[i] < 0.05:\n",
    "        print (X_1.columns[i])\n",
    "        col_list.append(X_1.columns[i])\n",
    "        \n",
    "        \n",
    "data_ppo['p_scores_lr'] = result1.predict(X_1)\n",
    "\n",
    "dfni1 = weightcalc(data_ppo,'p_scores_lr','weight','st_wt')\n",
    "\n",
    "\n",
    "data_ppo['vol_churn_bal'] = data_ppo['vol_churn']*data_ppo['st_wt']"
   ]
  },
  {
   "cell_type": "code",
   "execution_count": 46,
   "metadata": {},
   "outputs": [
    {
     "name": "stdout",
     "output_type": "stream",
     "text": [
      "new_segment  experiment_group_type\n",
      "PPO          H                        0.103825\n",
      "             T                        0.095753\n",
      "Name: vol_churn_bal, dtype: float64\n",
      "new_segment  experiment_group_type\n",
      "PPO          H                        0.133731\n",
      "             T                        0.090490\n",
      "Name: vol_churn, dtype: float64\n",
      "0.0008517644148080016 -3.137572939381531\n",
      "significant at 95%\n"
     ]
    }
   ],
   "source": [
    "print(data_ppo.groupby(['new_segment','experiment_group_type']).vol_churn_bal.mean())\n",
    "print(data_ppo.groupby(['new_segment','experiment_group_type']).vol_churn.mean())\n",
    "\n",
    "\n",
    "ztest_prop(data_ppo)"
   ]
  },
  {
   "cell_type": "code",
   "execution_count": 47,
   "metadata": {},
   "outputs": [
    {
     "name": "stdout",
     "output_type": "stream",
     "text": [
      "new_segment  experiment_group_type\n",
      "PPO          H                        1618.730561\n",
      "             T                        8372.159578\n",
      "Name: vol_churn_bal, dtype: float64\n"
     ]
    }
   ],
   "source": [
    "print(data_ppo.groupby(['new_segment','experiment_group_type']).vol_churn_bal.sum())"
   ]
  },
  {
   "cell_type": "code",
   "execution_count": 48,
   "metadata": {},
   "outputs": [
    {
     "name": "stdout",
     "output_type": "stream",
     "text": [
      "new_segment  experiment_group_type\n",
      "PPO          H                        15591\n",
      "             T                        87435\n",
      "Name: individual_id, dtype: int64\n"
     ]
    }
   ],
   "source": [
    "print(data_ppo.groupby(['new_segment','experiment_group_type']).individual_id.count())"
   ]
  },
  {
   "cell_type": "markdown",
   "metadata": {},
   "source": [
    "# MAPD"
   ]
  },
  {
   "cell_type": "code",
   "execution_count": 49,
   "metadata": {},
   "outputs": [
    {
     "name": "stdout",
     "output_type": "stream",
     "text": [
      "56923\n",
      "True     47901\n",
      "False     9022\n",
      "Name: expt_label, dtype: int64\n"
     ]
    },
    {
     "name": "stderr",
     "output_type": "stream",
     "text": [
      "/users/n323489/.conda/envs/n323489_pyconnect_py37/lib/python3.7/site-packages/ipykernel_launcher.py:4: SettingWithCopyWarning: \n",
      "A value is trying to be set on a copy of a slice from a DataFrame.\n",
      "Try using .loc[row_indexer,col_indexer] = value instead\n",
      "\n",
      "See the caveats in the documentation: https://pandas.pydata.org/pandas-docs/stable/user_guide/indexing.html#returning-a-view-versus-a-copy\n",
      "  after removing the cwd from sys.path.\n"
     ]
    },
    {
     "name": "stdout",
     "output_type": "stream",
     "text": [
      "Optimization terminated successfully.\n",
      "         Current function value: 0.412136\n",
      "         Iterations 6\n",
      "                           Logit Regression Results                           \n",
      "==============================================================================\n",
      "Dep. Variable:             expt_label   No. Observations:                56923\n",
      "Model:                          Logit   Df Residuals:                    56912\n",
      "Method:                           MLE   Df Model:                           10\n",
      "Date:                Tue, 13 Apr 2021   Pseudo R-squ.:                 0.05725\n",
      "Time:                        08:14:43   Log-Likelihood:                -23460.\n",
      "converged:                       True   LL-Null:                       -24885.\n",
      "Covariance Type:            nonrobust   LLR p-value:                     0.000\n",
      "==============================================================================\n",
      "                 coef    std err          z      P>|z|      [0.025      0.975]\n",
      "------------------------------------------------------------------------------\n",
      "const          2.0554      0.032     63.569      0.000       1.992       2.119\n",
      "decile_1      -1.3072      0.070    -18.632      0.000      -1.445      -1.170\n",
      "decile_10      0.4529      0.053      8.523      0.000       0.349       0.557\n",
      "decile_2      -1.2425      0.056    -22.074      0.000      -1.353      -1.132\n",
      "decile_3      -1.0994      0.051    -21.650      0.000      -1.199      -1.000\n",
      "decile_4      -1.0500      0.046    -22.867      0.000      -1.140      -0.960\n",
      "decile_5      -0.9609      0.044    -21.778      0.000      -1.047      -0.874\n",
      "decile_6      -0.6451      0.047    -13.656      0.000      -0.738      -0.553\n",
      "decile_7      -0.0274      0.056     -0.492      0.623      -0.136       0.082\n",
      "decile_8       0.2766      0.057      4.844      0.000       0.165       0.389\n",
      "decile_9       0.3758      0.056      6.656      0.000       0.265       0.486\n",
      "==============================================================================\n",
      "decile_1\n",
      "decile_10\n",
      "decile_2\n",
      "decile_3\n",
      "decile_4\n",
      "decile_5\n",
      "decile_6\n",
      "decile_8\n",
      "decile_9\n"
     ]
    },
    {
     "name": "stderr",
     "output_type": "stream",
     "text": [
      "/users/n323489/.conda/envs/n323489_pyconnect_py37/lib/python3.7/site-packages/ipykernel_launcher.py:26: SettingWithCopyWarning: \n",
      "A value is trying to be set on a copy of a slice from a DataFrame.\n",
      "Try using .loc[row_indexer,col_indexer] = value instead\n",
      "\n",
      "See the caveats in the documentation: https://pandas.pydata.org/pandas-docs/stable/user_guide/indexing.html#returning-a-view-versus-a-copy\n"
     ]
    },
    {
     "name": "stdout",
     "output_type": "stream",
     "text": [
      "expt_label\n",
      "False    1.0\n",
      "True     1.0\n",
      "Name: st_wt, dtype: float64\n"
     ]
    },
    {
     "name": "stderr",
     "output_type": "stream",
     "text": [
      "/users/n323489/.conda/envs/n323489_pyconnect_py37/lib/python3.7/site-packages/ipykernel_launcher.py:22: SettingWithCopyWarning: \n",
      "A value is trying to be set on a copy of a slice from a DataFrame.\n",
      "Try using .loc[row_indexer,col_indexer] = value instead\n",
      "\n",
      "See the caveats in the documentation: https://pandas.pydata.org/pandas-docs/stable/user_guide/indexing.html#returning-a-view-versus-a-copy\n",
      "/users/n323489/.conda/envs/n323489_pyconnect_py37/lib/python3.7/site-packages/ipykernel_launcher.py:24: SettingWithCopyWarning: \n",
      "A value is trying to be set on a copy of a slice from a DataFrame.\n",
      "Try using .loc[row_indexer,col_indexer] = value instead\n",
      "\n",
      "See the caveats in the documentation: https://pandas.pydata.org/pandas-docs/stable/user_guide/indexing.html#returning-a-view-versus-a-copy\n",
      "/users/n323489/.conda/envs/n323489_pyconnect_py37/lib/python3.7/site-packages/ipykernel_launcher.py:25: SettingWithCopyWarning: \n",
      "A value is trying to be set on a copy of a slice from a DataFrame\n",
      "\n",
      "See the caveats in the documentation: https://pandas.pydata.org/pandas-docs/stable/user_guide/indexing.html#returning-a-view-versus-a-copy\n",
      "/users/n323489/.conda/envs/n323489_pyconnect_py37/lib/python3.7/site-packages/pandas/core/generic.py:8767: SettingWithCopyWarning: \n",
      "A value is trying to be set on a copy of a slice from a DataFrame\n",
      "\n",
      "See the caveats in the documentation: https://pandas.pydata.org/pandas-docs/stable/user_guide/indexing.html#returning-a-view-versus-a-copy\n",
      "  self._update_inplace(new_data)\n",
      "/users/n323489/.conda/envs/n323489_pyconnect_py37/lib/python3.7/site-packages/ipykernel_launcher.py:26: SettingWithCopyWarning: \n",
      "A value is trying to be set on a copy of a slice from a DataFrame\n",
      "\n",
      "See the caveats in the documentation: https://pandas.pydata.org/pandas-docs/stable/user_guide/indexing.html#returning-a-view-versus-a-copy\n",
      "/users/n323489/.conda/envs/n323489_pyconnect_py37/lib/python3.7/site-packages/ipykernel_launcher.py:31: SettingWithCopyWarning: \n",
      "A value is trying to be set on a copy of a slice from a DataFrame.\n",
      "Try using .loc[row_indexer,col_indexer] = value instead\n",
      "\n",
      "See the caveats in the documentation: https://pandas.pydata.org/pandas-docs/stable/user_guide/indexing.html#returning-a-view-versus-a-copy\n"
     ]
    }
   ],
   "source": [
    "data_MAPD = data[data['new_segment'] == 'New to MAPD']\n",
    "print(data_MAPD.individual_id.count())\n",
    "\n",
    "data_MAPD['expt_label'] = data_MAPD['experiment_group_type'] == 'T'\n",
    "\n",
    "print(data_MAPD['expt_label'].value_counts())\n",
    "\n",
    "all_var = catg_col \n",
    "#converting categorical variables into one-hot vectors\n",
    "X = data_MAPD[all_var]\n",
    "X = pd.get_dummies(X, columns = catg_col, prefix = catg_col, drop_first = True)\n",
    "Y = data_MAPD['expt_label']\n",
    "\n",
    "import statsmodels.api as sm\n",
    "X_1=sm.add_constant(X)\n",
    "logit_model=sm.Logit(Y,X_1)\n",
    "result1=logit_model.fit()\n",
    "print(result1.summary())\n",
    "\n",
    "col_list = []\n",
    "for i in range(1,len(X_1.columns)):\n",
    "    if result1.pvalues[i] < 0.05:\n",
    "        print (X_1.columns[i])\n",
    "        col_list.append(X_1.columns[i])\n",
    "        \n",
    "data_MAPD['p_scores_lr'] = result1.predict(X_1)\n",
    "\n",
    "\n",
    "dfni1 = weightcalc(data_MAPD,'p_scores_lr','weight','st_wt')\n",
    "\n",
    "data_MAPD['vol_churn_bal'] = data_MAPD['vol_churn']*data_MAPD['st_wt']\n",
    "\n"
   ]
  },
  {
   "cell_type": "code",
   "execution_count": 50,
   "metadata": {},
   "outputs": [
    {
     "name": "stdout",
     "output_type": "stream",
     "text": [
      "new_segment  experiment_group_type\n",
      "New to MAPD  H                        0.07352\n",
      "             T                        0.06222\n",
      "Name: vol_churn_bal, dtype: float64\n",
      "new_segment  experiment_group_type\n",
      "New to MAPD  H                        0.089891\n",
      "             T                        0.058746\n",
      "Name: vol_churn, dtype: float64\n",
      "2.8768577986829902e-05 -4.0226902019312\n",
      "significant at 95%\n"
     ]
    }
   ],
   "source": [
    "\n",
    "\n",
    "print(data_MAPD.groupby(['new_segment','experiment_group_type']).vol_churn_bal.mean())\n",
    "print(data_MAPD.groupby(['new_segment','experiment_group_type']).vol_churn.mean())\n",
    "\n",
    "\n",
    "ztest_prop(data_MAPD)"
   ]
  },
  {
   "cell_type": "code",
   "execution_count": 51,
   "metadata": {},
   "outputs": [
    {
     "name": "stdout",
     "output_type": "stream",
     "text": [
      "new_segment  experiment_group_type\n",
      "New to MAPD  H                         663.301534\n",
      "             T                        2980.395824\n",
      "Name: vol_churn_bal, dtype: float64\n"
     ]
    }
   ],
   "source": [
    "print(data_MAPD.groupby(['new_segment','experiment_group_type']).vol_churn_bal.sum())"
   ]
  },
  {
   "cell_type": "code",
   "execution_count": 52,
   "metadata": {},
   "outputs": [
    {
     "name": "stdout",
     "output_type": "stream",
     "text": [
      "new_segment  experiment_group_type\n",
      "New to MAPD  H                         9022\n",
      "             T                        47901\n",
      "Name: individual_id, dtype: int64\n"
     ]
    }
   ],
   "source": [
    "print(data_MAPD.groupby(['new_segment','experiment_group_type']).individual_id.count())"
   ]
  },
  {
   "cell_type": "markdown",
   "metadata": {},
   "source": [
    "### Sales Channel"
   ]
  },
  {
   "cell_type": "code",
   "execution_count": 53,
   "metadata": {},
   "outputs": [],
   "source": [
    "def ztest_prop(df0):\n",
    "        d1 = df0[(df0['experiment_group_type']=='T' ) ]\n",
    "        d2 = df0[(df0['experiment_group_type']=='H') ]\n",
    "        count=np.array([d1['vol_churn_bal'].sum(), d2['vol_churn_bal'].sum()])\n",
    "        nobs = np.array([d1['vol_churn_bal'].count(), d2['vol_churn_bal'].count()])\n",
    "        stat, pval = proportions_ztest(count, nobs,alternative='smaller')   #alter : T<H\n",
    "        pval = stats.norm.cdf(stat)\n",
    "        print (pval , stat)\n",
    "        if pval < 0.05:\n",
    "            print('significant at 95%')\n",
    "        elif pval>0.05 and pval <= 0.10 :\n",
    "            print('significant at 90%')\n",
    "        elif pval >0.10 and pval<= .20 :\n",
    "            print('significant at 80%')\n",
    "        else:\n",
    "            print('Same Prop')\n"
   ]
  },
  {
   "cell_type": "code",
   "execution_count": 54,
   "metadata": {},
   "outputs": [
    {
     "data": {
      "text/plain": [
       "NDP          94522\n",
       "Strategic    76330\n",
       "remaining    47771\n",
       "Name: sales_channel_updated, dtype: int64"
      ]
     },
     "execution_count": 54,
     "metadata": {},
     "output_type": "execute_result"
    }
   ],
   "source": [
    "data.sales_channel_updated.value_counts()"
   ]
  },
  {
   "cell_type": "markdown",
   "metadata": {},
   "source": [
    "NDP"
   ]
  },
  {
   "cell_type": "code",
   "execution_count": 55,
   "metadata": {},
   "outputs": [
    {
     "name": "stdout",
     "output_type": "stream",
     "text": [
      "94522\n",
      "True     86079\n",
      "False     8443\n",
      "Name: expt_label, dtype: int64\n"
     ]
    },
    {
     "name": "stderr",
     "output_type": "stream",
     "text": [
      "/users/n323489/.conda/envs/n323489_pyconnect_py37/lib/python3.7/site-packages/ipykernel_launcher.py:3: SettingWithCopyWarning: \n",
      "A value is trying to be set on a copy of a slice from a DataFrame.\n",
      "Try using .loc[row_indexer,col_indexer] = value instead\n",
      "\n",
      "See the caveats in the documentation: https://pandas.pydata.org/pandas-docs/stable/user_guide/indexing.html#returning-a-view-versus-a-copy\n",
      "  This is separate from the ipykernel package so we can avoid doing imports until\n"
     ]
    },
    {
     "name": "stdout",
     "output_type": "stream",
     "text": [
      "Optimization terminated successfully.\n",
      "         Current function value: 0.296960\n",
      "         Iterations 7\n",
      "                           Logit Regression Results                           \n",
      "==============================================================================\n",
      "Dep. Variable:             expt_label   No. Observations:                94522\n",
      "Model:                          Logit   Df Residuals:                    94511\n",
      "Method:                           MLE   Df Model:                           10\n",
      "Date:                Tue, 13 Apr 2021   Pseudo R-squ.:                 0.01332\n",
      "Time:                        08:16:26   Log-Likelihood:                -28069.\n",
      "converged:                       True   LL-Null:                       -28448.\n",
      "Covariance Type:            nonrobust   LLR p-value:                2.271e-156\n",
      "==============================================================================\n",
      "                 coef    std err          z      P>|z|      [0.025      0.975]\n",
      "------------------------------------------------------------------------------\n",
      "const          2.5239      0.044     57.520      0.000       2.438       2.610\n",
      "decile_1      -0.8676      0.098     -8.828      0.000      -1.060      -0.675\n",
      "decile_10      0.2401      0.062      3.865      0.000       0.118       0.362\n",
      "decile_2      -0.9532      0.070    -13.556      0.000      -1.091      -0.815\n",
      "decile_3      -0.7374      0.061    -12.020      0.000      -0.858      -0.617\n",
      "decile_4      -0.5248      0.058     -9.094      0.000      -0.638      -0.412\n",
      "decile_5      -0.4275      0.055     -7.786      0.000      -0.535      -0.320\n",
      "decile_6      -0.2895      0.054     -5.391      0.000      -0.395      -0.184\n",
      "decile_7      -0.1380      0.053     -2.604      0.009      -0.242      -0.034\n",
      "decile_8      -0.0423      0.054     -0.790      0.430      -0.147       0.063\n",
      "decile_9       0.1887      0.058      3.274      0.001       0.076       0.302\n",
      "==============================================================================\n",
      "decile_1\n",
      "decile_10\n",
      "decile_2\n",
      "decile_3\n",
      "decile_4\n",
      "decile_5\n",
      "decile_6\n",
      "decile_7\n",
      "decile_9\n"
     ]
    },
    {
     "name": "stderr",
     "output_type": "stream",
     "text": [
      "/users/n323489/.conda/envs/n323489_pyconnect_py37/lib/python3.7/site-packages/ipykernel_launcher.py:25: SettingWithCopyWarning: \n",
      "A value is trying to be set on a copy of a slice from a DataFrame.\n",
      "Try using .loc[row_indexer,col_indexer] = value instead\n",
      "\n",
      "See the caveats in the documentation: https://pandas.pydata.org/pandas-docs/stable/user_guide/indexing.html#returning-a-view-versus-a-copy\n"
     ]
    },
    {
     "name": "stdout",
     "output_type": "stream",
     "text": [
      "expt_label\n",
      "False    1.0\n",
      "True     1.0\n",
      "Name: st_wt, dtype: float64\n"
     ]
    },
    {
     "name": "stderr",
     "output_type": "stream",
     "text": [
      "/users/n323489/.conda/envs/n323489_pyconnect_py37/lib/python3.7/site-packages/ipykernel_launcher.py:22: SettingWithCopyWarning: \n",
      "A value is trying to be set on a copy of a slice from a DataFrame.\n",
      "Try using .loc[row_indexer,col_indexer] = value instead\n",
      "\n",
      "See the caveats in the documentation: https://pandas.pydata.org/pandas-docs/stable/user_guide/indexing.html#returning-a-view-versus-a-copy\n",
      "/users/n323489/.conda/envs/n323489_pyconnect_py37/lib/python3.7/site-packages/ipykernel_launcher.py:24: SettingWithCopyWarning: \n",
      "A value is trying to be set on a copy of a slice from a DataFrame.\n",
      "Try using .loc[row_indexer,col_indexer] = value instead\n",
      "\n",
      "See the caveats in the documentation: https://pandas.pydata.org/pandas-docs/stable/user_guide/indexing.html#returning-a-view-versus-a-copy\n",
      "/users/n323489/.conda/envs/n323489_pyconnect_py37/lib/python3.7/site-packages/ipykernel_launcher.py:25: SettingWithCopyWarning: \n",
      "A value is trying to be set on a copy of a slice from a DataFrame\n",
      "\n",
      "See the caveats in the documentation: https://pandas.pydata.org/pandas-docs/stable/user_guide/indexing.html#returning-a-view-versus-a-copy\n",
      "/users/n323489/.conda/envs/n323489_pyconnect_py37/lib/python3.7/site-packages/pandas/core/generic.py:8767: SettingWithCopyWarning: \n",
      "A value is trying to be set on a copy of a slice from a DataFrame\n",
      "\n",
      "See the caveats in the documentation: https://pandas.pydata.org/pandas-docs/stable/user_guide/indexing.html#returning-a-view-versus-a-copy\n",
      "  self._update_inplace(new_data)\n",
      "/users/n323489/.conda/envs/n323489_pyconnect_py37/lib/python3.7/site-packages/ipykernel_launcher.py:26: SettingWithCopyWarning: \n",
      "A value is trying to be set on a copy of a slice from a DataFrame\n",
      "\n",
      "See the caveats in the documentation: https://pandas.pydata.org/pandas-docs/stable/user_guide/indexing.html#returning-a-view-versus-a-copy\n",
      "/users/n323489/.conda/envs/n323489_pyconnect_py37/lib/python3.7/site-packages/ipykernel_launcher.py:30: SettingWithCopyWarning: \n",
      "A value is trying to be set on a copy of a slice from a DataFrame.\n",
      "Try using .loc[row_indexer,col_indexer] = value instead\n",
      "\n",
      "See the caveats in the documentation: https://pandas.pydata.org/pandas-docs/stable/user_guide/indexing.html#returning-a-view-versus-a-copy\n"
     ]
    }
   ],
   "source": [
    "data_NDP = data[data['sales_channel_updated'] == 'NDP']\n",
    "print(data_NDP.individual_id.count())\n",
    "data_NDP['expt_label'] = data_NDP['experiment_group_type'] == 'T'\n",
    "\n",
    "print(data_NDP['expt_label'].value_counts())\n",
    "\n",
    "all_var = catg_col \n",
    "#converting categorical variables into one-hot vectors\n",
    "X = data_NDP[all_var]\n",
    "X = pd.get_dummies(X, columns = catg_col, prefix = catg_col, drop_first = True)\n",
    "Y = data_NDP['expt_label']\n",
    "\n",
    "import statsmodels.api as sm\n",
    "X_1=sm.add_constant(X)\n",
    "logit_model=sm.Logit(Y,X_1)\n",
    "result1=logit_model.fit()\n",
    "print(result1.summary())\n",
    "\n",
    "col_list = []\n",
    "for i in range(1,len(X_1.columns)):\n",
    "    if result1.pvalues[i] < 0.05:\n",
    "        print (X_1.columns[i])\n",
    "        col_list.append(X_1.columns[i])\n",
    "        \n",
    "data_NDP['p_scores_lr'] = result1.predict(X_1)\n",
    "\n",
    "\n",
    "dfni1 = weightcalc(data_NDP,'p_scores_lr','weight','st_wt')\n",
    "\n",
    "data_NDP['vol_churn_bal'] = data_NDP['vol_churn']*data_NDP['st_wt']\n"
   ]
  },
  {
   "cell_type": "code",
   "execution_count": 56,
   "metadata": {},
   "outputs": [
    {
     "name": "stdout",
     "output_type": "stream",
     "text": [
      "sales_channel_updated  experiment_group_type\n",
      "NDP                    H                        0.061726\n",
      "                       T                        0.061020\n",
      "Name: vol_churn_bal, dtype: float64\n",
      "sales_channel_updated  experiment_group_type\n",
      "NDP                    H                        0.070236\n",
      "                       T                        0.060096\n",
      "Name: vol_churn, dtype: float64\n",
      "0.3980419962172119 -0.2584184326060512\n",
      "Same Prop\n"
     ]
    }
   ],
   "source": [
    "\n",
    "\n",
    "print(data_NDP.groupby(['sales_channel_updated','experiment_group_type']).vol_churn_bal.mean())\n",
    "print(data_NDP.groupby(['sales_channel_updated','experiment_group_type']).vol_churn.mean())\n",
    "\n",
    "\n",
    "ztest_prop(data_NDP)"
   ]
  },
  {
   "cell_type": "code",
   "execution_count": 58,
   "metadata": {},
   "outputs": [
    {
     "name": "stdout",
     "output_type": "stream",
     "text": [
      "sales_channel_updated  experiment_group_type\n",
      "NDP                    H                         521.149932\n",
      "                       T                        5252.532520\n",
      "Name: vol_churn_bal, dtype: float64\n"
     ]
    }
   ],
   "source": [
    "print(data_NDP.groupby(['sales_channel_updated','experiment_group_type']).vol_churn_bal.sum())"
   ]
  },
  {
   "cell_type": "code",
   "execution_count": 57,
   "metadata": {},
   "outputs": [
    {
     "name": "stdout",
     "output_type": "stream",
     "text": [
      "sales_channel_updated  experiment_group_type\n",
      "NDP                    H                         8443\n",
      "                       T                        86079\n",
      "Name: individual_id, dtype: int64\n"
     ]
    }
   ],
   "source": [
    "print(data_NDP.groupby(['sales_channel_updated','experiment_group_type']).individual_id.count())"
   ]
  },
  {
   "cell_type": "markdown",
   "metadata": {},
   "source": [
    "### Strategic"
   ]
  },
  {
   "cell_type": "code",
   "execution_count": 59,
   "metadata": {},
   "outputs": [
    {
     "name": "stdout",
     "output_type": "stream",
     "text": [
      "76330\n",
      "True     52320\n",
      "False    24010\n",
      "Name: expt_label, dtype: int64\n",
      "Optimization terminated successfully.\n",
      "         Current function value: 0.620278\n",
      "         Iterations 5\n"
     ]
    },
    {
     "name": "stderr",
     "output_type": "stream",
     "text": [
      "/users/n323489/.conda/envs/n323489_pyconnect_py37/lib/python3.7/site-packages/ipykernel_launcher.py:3: SettingWithCopyWarning: \n",
      "A value is trying to be set on a copy of a slice from a DataFrame.\n",
      "Try using .loc[row_indexer,col_indexer] = value instead\n",
      "\n",
      "See the caveats in the documentation: https://pandas.pydata.org/pandas-docs/stable/user_guide/indexing.html#returning-a-view-versus-a-copy\n",
      "  This is separate from the ipykernel package so we can avoid doing imports until\n"
     ]
    },
    {
     "name": "stdout",
     "output_type": "stream",
     "text": [
      "                           Logit Regression Results                           \n",
      "==============================================================================\n",
      "Dep. Variable:             expt_label   No. Observations:                76330\n",
      "Model:                          Logit   Df Residuals:                    76319\n",
      "Method:                           MLE   Df Model:                           10\n",
      "Date:                Tue, 13 Apr 2021   Pseudo R-squ.:                0.003885\n",
      "Time:                        08:21:58   Log-Likelihood:                -47346.\n",
      "converged:                       True   LL-Null:                       -47530.\n",
      "Covariance Type:            nonrobust   LLR p-value:                 3.179e-73\n",
      "==============================================================================\n",
      "                 coef    std err          z      P>|z|      [0.025      0.975]\n",
      "------------------------------------------------------------------------------\n",
      "const          0.6948      0.031     22.289      0.000       0.634       0.756\n",
      "decile_1      -0.1441      0.035     -4.160      0.000      -0.212      -0.076\n",
      "decile_10      0.4038      0.817      0.494      0.621      -1.198       2.005\n",
      "decile_2       0.0937      0.035      2.648      0.008       0.024       0.163\n",
      "decile_3       0.1953      0.036      5.364      0.000       0.124       0.267\n",
      "decile_4       0.2205      0.038      5.816      0.000       0.146       0.295\n",
      "decile_5       0.2310      0.041      5.696      0.000       0.152       0.311\n",
      "decile_6       0.2474      0.048      5.124      0.000       0.153       0.342\n",
      "decile_7       0.2655      0.080      3.337      0.001       0.110       0.421\n",
      "decile_8       0.3803      0.179      2.121      0.034       0.029       0.732\n",
      "decile_9       0.4038      0.667      0.605      0.545      -0.904       1.712\n",
      "==============================================================================\n",
      "decile_1\n",
      "decile_2\n",
      "decile_3\n",
      "decile_4\n",
      "decile_5\n",
      "decile_6\n",
      "decile_7\n",
      "decile_8\n"
     ]
    },
    {
     "name": "stderr",
     "output_type": "stream",
     "text": [
      "/users/n323489/.conda/envs/n323489_pyconnect_py37/lib/python3.7/site-packages/ipykernel_launcher.py:24: SettingWithCopyWarning: \n",
      "A value is trying to be set on a copy of a slice from a DataFrame.\n",
      "Try using .loc[row_indexer,col_indexer] = value instead\n",
      "\n",
      "See the caveats in the documentation: https://pandas.pydata.org/pandas-docs/stable/user_guide/indexing.html#returning-a-view-versus-a-copy\n"
     ]
    },
    {
     "name": "stdout",
     "output_type": "stream",
     "text": [
      "expt_label\n",
      "False    1.0\n",
      "True     1.0\n",
      "Name: st_wt, dtype: float64\n"
     ]
    },
    {
     "name": "stderr",
     "output_type": "stream",
     "text": [
      "/users/n323489/.conda/envs/n323489_pyconnect_py37/lib/python3.7/site-packages/ipykernel_launcher.py:22: SettingWithCopyWarning: \n",
      "A value is trying to be set on a copy of a slice from a DataFrame.\n",
      "Try using .loc[row_indexer,col_indexer] = value instead\n",
      "\n",
      "See the caveats in the documentation: https://pandas.pydata.org/pandas-docs/stable/user_guide/indexing.html#returning-a-view-versus-a-copy\n",
      "/users/n323489/.conda/envs/n323489_pyconnect_py37/lib/python3.7/site-packages/ipykernel_launcher.py:25: SettingWithCopyWarning: \n",
      "A value is trying to be set on a copy of a slice from a DataFrame\n",
      "\n",
      "See the caveats in the documentation: https://pandas.pydata.org/pandas-docs/stable/user_guide/indexing.html#returning-a-view-versus-a-copy\n",
      "/users/n323489/.conda/envs/n323489_pyconnect_py37/lib/python3.7/site-packages/pandas/core/generic.py:8767: SettingWithCopyWarning: \n",
      "A value is trying to be set on a copy of a slice from a DataFrame\n",
      "\n",
      "See the caveats in the documentation: https://pandas.pydata.org/pandas-docs/stable/user_guide/indexing.html#returning-a-view-versus-a-copy\n",
      "  self._update_inplace(new_data)\n",
      "/users/n323489/.conda/envs/n323489_pyconnect_py37/lib/python3.7/site-packages/ipykernel_launcher.py:26: SettingWithCopyWarning: \n",
      "A value is trying to be set on a copy of a slice from a DataFrame\n",
      "\n",
      "See the caveats in the documentation: https://pandas.pydata.org/pandas-docs/stable/user_guide/indexing.html#returning-a-view-versus-a-copy\n",
      "/users/n323489/.conda/envs/n323489_pyconnect_py37/lib/python3.7/site-packages/ipykernel_launcher.py:29: SettingWithCopyWarning: \n",
      "A value is trying to be set on a copy of a slice from a DataFrame.\n",
      "Try using .loc[row_indexer,col_indexer] = value instead\n",
      "\n",
      "See the caveats in the documentation: https://pandas.pydata.org/pandas-docs/stable/user_guide/indexing.html#returning-a-view-versus-a-copy\n"
     ]
    }
   ],
   "source": [
    "data_Strategic = data[data['sales_channel_updated'] == 'Strategic']\n",
    "print(data_Strategic.individual_id.count())\n",
    "data_Strategic['expt_label'] = data_Strategic['experiment_group_type'] == 'T'\n",
    "print(data_Strategic['expt_label'].value_counts())\n",
    "\n",
    "all_var = catg_col \n",
    "#converting categorical variables into one-hot vectors\n",
    "X = data_Strategic[all_var]\n",
    "X = pd.get_dummies(X, columns = catg_col, prefix = catg_col, drop_first = True)\n",
    "Y = data_Strategic['expt_label']\n",
    "\n",
    "import statsmodels.api as sm\n",
    "X_1=sm.add_constant(X)\n",
    "logit_model=sm.Logit(Y,X_1)\n",
    "result1=logit_model.fit()\n",
    "print(result1.summary())\n",
    "\n",
    "col_list = []\n",
    "for i in range(1,len(X_1.columns)):\n",
    "    if result1.pvalues[i] < 0.05:\n",
    "        print (X_1.columns[i])\n",
    "        col_list.append(X_1.columns[i])\n",
    "        \n",
    "data_Strategic['p_scores_lr'] = result1.predict(X_1)\n",
    "\n",
    "\n",
    "dfni1 = weightcalc(data_Strategic,'p_scores_lr','weight','st_wt')\n",
    "\n",
    "data_Strategic['vol_churn_bal'] = data_Strategic['vol_churn']*data_Strategic['st_wt']\n",
    "\n"
   ]
  },
  {
   "cell_type": "code",
   "execution_count": 60,
   "metadata": {},
   "outputs": [
    {
     "name": "stdout",
     "output_type": "stream",
     "text": [
      "sales_channel_updated  experiment_group_type\n",
      "Strategic              H                        0.164488\n",
      "                       T                        0.158525\n",
      "Name: vol_churn_bal, dtype: float64\n",
      "sales_channel_updated  experiment_group_type\n",
      "Strategic              H                        0.169971\n",
      "                       T                        0.156231\n",
      "Name: vol_churn, dtype: float64\n",
      "0.018550749148695853 -2.084645420985354\n",
      "significant at 95%\n"
     ]
    }
   ],
   "source": [
    "print(data_Strategic.groupby(['sales_channel_updated','experiment_group_type']).vol_churn_bal.mean())\n",
    "print(data_Strategic.groupby(['sales_channel_updated','experiment_group_type']).vol_churn.mean())\n",
    "\n",
    "\n",
    "ztest_prop(data_Strategic)"
   ]
  },
  {
   "cell_type": "code",
   "execution_count": 61,
   "metadata": {},
   "outputs": [
    {
     "name": "stdout",
     "output_type": "stream",
     "text": [
      "sales_channel_updated  experiment_group_type\n",
      "Strategic              H                        24010\n",
      "                       T                        52320\n",
      "Name: individual_id, dtype: int64\n"
     ]
    }
   ],
   "source": [
    "print(data_Strategic.groupby(['sales_channel_updated','experiment_group_type']).individual_id.count())"
   ]
  },
  {
   "cell_type": "code",
   "execution_count": null,
   "metadata": {},
   "outputs": [],
   "source": []
  },
  {
   "cell_type": "markdown",
   "metadata": {},
   "source": [
    "### Remaining"
   ]
  },
  {
   "cell_type": "code",
   "execution_count": 62,
   "metadata": {},
   "outputs": [
    {
     "name": "stdout",
     "output_type": "stream",
     "text": [
      "47771\n",
      "True     38775\n",
      "False     8996\n",
      "Name: expt_label, dtype: int64\n",
      "Optimization terminated successfully.\n",
      "         Current function value: 0.472687\n",
      "         Iterations 6\n"
     ]
    },
    {
     "name": "stderr",
     "output_type": "stream",
     "text": [
      "/users/n323489/.conda/envs/n323489_pyconnect_py37/lib/python3.7/site-packages/ipykernel_launcher.py:3: SettingWithCopyWarning: \n",
      "A value is trying to be set on a copy of a slice from a DataFrame.\n",
      "Try using .loc[row_indexer,col_indexer] = value instead\n",
      "\n",
      "See the caveats in the documentation: https://pandas.pydata.org/pandas-docs/stable/user_guide/indexing.html#returning-a-view-versus-a-copy\n",
      "  This is separate from the ipykernel package so we can avoid doing imports until\n"
     ]
    },
    {
     "name": "stdout",
     "output_type": "stream",
     "text": [
      "                           Logit Regression Results                           \n",
      "==============================================================================\n",
      "Dep. Variable:             expt_label   No. Observations:                47771\n",
      "Model:                          Logit   Df Residuals:                    47760\n",
      "Method:                           MLE   Df Model:                           10\n",
      "Date:                Tue, 13 Apr 2021   Pseudo R-squ.:                 0.02291\n",
      "Time:                        08:22:52   Log-Likelihood:                -22581.\n",
      "converged:                       True   LL-Null:                       -23110.\n",
      "Covariance Type:            nonrobust   LLR p-value:                3.712e-221\n",
      "==============================================================================\n",
      "                 coef    std err          z      P>|z|      [0.025      0.975]\n",
      "------------------------------------------------------------------------------\n",
      "const          1.6890      0.043     39.041      0.000       1.604       1.774\n",
      "decile_1      -1.1462      0.084    -13.695      0.000      -1.310      -0.982\n",
      "decile_10      0.3210      0.055      5.876      0.000       0.214       0.428\n",
      "decile_2      -0.9933      0.066    -15.049      0.000      -1.123      -0.864\n",
      "decile_3      -0.8128      0.060    -13.545      0.000      -0.930      -0.695\n",
      "decile_4      -0.6107      0.058    -10.565      0.000      -0.724      -0.497\n",
      "decile_5      -0.3991      0.057     -7.022      0.000      -0.511      -0.288\n",
      "decile_6      -0.2665      0.056     -4.773      0.000      -0.376      -0.157\n",
      "decile_7      -0.1611      0.056     -2.868      0.004      -0.271      -0.051\n",
      "decile_8      -0.0887      0.056     -1.588      0.112      -0.198       0.021\n",
      "decile_9       0.0084      0.057      0.148      0.882      -0.103       0.120\n",
      "==============================================================================\n",
      "decile_1\n",
      "decile_10\n",
      "decile_2\n",
      "decile_3\n",
      "decile_4\n",
      "decile_5\n",
      "decile_6\n",
      "decile_7\n"
     ]
    },
    {
     "name": "stderr",
     "output_type": "stream",
     "text": [
      "/users/n323489/.conda/envs/n323489_pyconnect_py37/lib/python3.7/site-packages/ipykernel_launcher.py:25: SettingWithCopyWarning: \n",
      "A value is trying to be set on a copy of a slice from a DataFrame.\n",
      "Try using .loc[row_indexer,col_indexer] = value instead\n",
      "\n",
      "See the caveats in the documentation: https://pandas.pydata.org/pandas-docs/stable/user_guide/indexing.html#returning-a-view-versus-a-copy\n"
     ]
    },
    {
     "name": "stdout",
     "output_type": "stream",
     "text": [
      "expt_label\n",
      "False    1.0\n",
      "True     1.0\n",
      "Name: st_wt, dtype: float64\n"
     ]
    },
    {
     "name": "stderr",
     "output_type": "stream",
     "text": [
      "/users/n323489/.conda/envs/n323489_pyconnect_py37/lib/python3.7/site-packages/ipykernel_launcher.py:22: SettingWithCopyWarning: \n",
      "A value is trying to be set on a copy of a slice from a DataFrame.\n",
      "Try using .loc[row_indexer,col_indexer] = value instead\n",
      "\n",
      "See the caveats in the documentation: https://pandas.pydata.org/pandas-docs/stable/user_guide/indexing.html#returning-a-view-versus-a-copy\n",
      "/users/n323489/.conda/envs/n323489_pyconnect_py37/lib/python3.7/site-packages/ipykernel_launcher.py:24: SettingWithCopyWarning: \n",
      "A value is trying to be set on a copy of a slice from a DataFrame.\n",
      "Try using .loc[row_indexer,col_indexer] = value instead\n",
      "\n",
      "See the caveats in the documentation: https://pandas.pydata.org/pandas-docs/stable/user_guide/indexing.html#returning-a-view-versus-a-copy\n",
      "/users/n323489/.conda/envs/n323489_pyconnect_py37/lib/python3.7/site-packages/ipykernel_launcher.py:25: SettingWithCopyWarning: \n",
      "A value is trying to be set on a copy of a slice from a DataFrame\n",
      "\n",
      "See the caveats in the documentation: https://pandas.pydata.org/pandas-docs/stable/user_guide/indexing.html#returning-a-view-versus-a-copy\n",
      "/users/n323489/.conda/envs/n323489_pyconnect_py37/lib/python3.7/site-packages/pandas/core/generic.py:8767: SettingWithCopyWarning: \n",
      "A value is trying to be set on a copy of a slice from a DataFrame\n",
      "\n",
      "See the caveats in the documentation: https://pandas.pydata.org/pandas-docs/stable/user_guide/indexing.html#returning-a-view-versus-a-copy\n",
      "  self._update_inplace(new_data)\n",
      "/users/n323489/.conda/envs/n323489_pyconnect_py37/lib/python3.7/site-packages/ipykernel_launcher.py:26: SettingWithCopyWarning: \n",
      "A value is trying to be set on a copy of a slice from a DataFrame\n",
      "\n",
      "See the caveats in the documentation: https://pandas.pydata.org/pandas-docs/stable/user_guide/indexing.html#returning-a-view-versus-a-copy\n",
      "/users/n323489/.conda/envs/n323489_pyconnect_py37/lib/python3.7/site-packages/ipykernel_launcher.py:30: SettingWithCopyWarning: \n",
      "A value is trying to be set on a copy of a slice from a DataFrame.\n",
      "Try using .loc[row_indexer,col_indexer] = value instead\n",
      "\n",
      "See the caveats in the documentation: https://pandas.pydata.org/pandas-docs/stable/user_guide/indexing.html#returning-a-view-versus-a-copy\n"
     ]
    }
   ],
   "source": [
    "data_remaining = data[data['sales_channel_updated'] == 'remaining']\n",
    "print(data_remaining.individual_id.count())\n",
    "data_remaining['expt_label'] = data_remaining['experiment_group_type'] == 'T'\n",
    "\n",
    "print(data_remaining['expt_label'].value_counts())\n",
    "\n",
    "all_var = catg_col \n",
    "#converting categorical variables into one-hot vectors\n",
    "X = data_remaining[all_var]\n",
    "X = pd.get_dummies(X, columns = catg_col, prefix = catg_col, drop_first = True)\n",
    "Y = data_remaining['expt_label']\n",
    "\n",
    "import statsmodels.api as sm\n",
    "X_1=sm.add_constant(X)\n",
    "logit_model=sm.Logit(Y,X_1)\n",
    "result1=logit_model.fit()\n",
    "print(result1.summary())\n",
    "\n",
    "col_list = []\n",
    "for i in range(1,len(X_1.columns)):\n",
    "    if result1.pvalues[i] < 0.05:\n",
    "        print (X_1.columns[i])\n",
    "        col_list.append(X_1.columns[i])\n",
    "        \n",
    "data_remaining['p_scores_lr'] = result1.predict(X_1)\n",
    "\n",
    "\n",
    "dfni1 = weightcalc(data_remaining,'p_scores_lr','weight','st_wt')\n",
    "\n",
    "data_remaining['vol_churn_bal'] = data_remaining['vol_churn']*data_remaining['st_wt']\n"
   ]
  },
  {
   "cell_type": "code",
   "execution_count": 63,
   "metadata": {},
   "outputs": [
    {
     "name": "stdout",
     "output_type": "stream",
     "text": [
      "sales_channel_updated  experiment_group_type\n",
      "remaining              H                        0.068793\n",
      "                       T                        0.062808\n",
      "Name: vol_churn_bal, dtype: float64\n",
      "sales_channel_updated  experiment_group_type\n",
      "remaining              H                        0.080591\n",
      "                       T                        0.060039\n",
      "Name: vol_churn, dtype: float64\n",
      "0.018287556631433628 -2.0904754299199855\n",
      "significant at 95%\n"
     ]
    }
   ],
   "source": [
    "print(data_remaining.groupby(['sales_channel_updated','experiment_group_type']).vol_churn_bal.mean())\n",
    "print(data_remaining.groupby(['sales_channel_updated','experiment_group_type']).vol_churn.mean())\n",
    "\n",
    "\n",
    "ztest_prop(data_remaining)"
   ]
  },
  {
   "cell_type": "code",
   "execution_count": 64,
   "metadata": {},
   "outputs": [
    {
     "name": "stdout",
     "output_type": "stream",
     "text": [
      "sales_channel_updated  experiment_group_type\n",
      "remaining              H                         8996\n",
      "                       T                        38775\n",
      "Name: individual_id, dtype: int64\n"
     ]
    }
   ],
   "source": [
    "print(data_remaining.groupby(['sales_channel_updated','experiment_group_type']).individual_id.count())"
   ]
  },
  {
   "cell_type": "markdown",
   "metadata": {},
   "source": [
    "# LIS"
   ]
  },
  {
   "cell_type": "code",
   "execution_count": 65,
   "metadata": {},
   "outputs": [
    {
     "data": {
      "text/plain": [
       "0    183700\n",
       "1     34923\n",
       "Name: lis_ind, dtype: int64"
      ]
     },
     "execution_count": 65,
     "metadata": {},
     "output_type": "execute_result"
    }
   ],
   "source": [
    "data.lis_ind.value_counts()"
   ]
  },
  {
   "cell_type": "code",
   "execution_count": 66,
   "metadata": {},
   "outputs": [
    {
     "name": "stdout",
     "output_type": "stream",
     "text": [
      "34923\n",
      "True     22779\n",
      "False    12144\n",
      "Name: expt_label, dtype: int64\n",
      "Optimization terminated successfully.\n",
      "         Current function value: 0.637942\n",
      "         Iterations 5\n"
     ]
    },
    {
     "name": "stderr",
     "output_type": "stream",
     "text": [
      "/users/n323489/.conda/envs/n323489_pyconnect_py37/lib/python3.7/site-packages/ipykernel_launcher.py:3: SettingWithCopyWarning: \n",
      "A value is trying to be set on a copy of a slice from a DataFrame.\n",
      "Try using .loc[row_indexer,col_indexer] = value instead\n",
      "\n",
      "See the caveats in the documentation: https://pandas.pydata.org/pandas-docs/stable/user_guide/indexing.html#returning-a-view-versus-a-copy\n",
      "  This is separate from the ipykernel package so we can avoid doing imports until\n"
     ]
    },
    {
     "name": "stdout",
     "output_type": "stream",
     "text": [
      "                           Logit Regression Results                           \n",
      "==============================================================================\n",
      "Dep. Variable:             expt_label   No. Observations:                34923\n",
      "Model:                          Logit   Df Residuals:                    34912\n",
      "Method:                           MLE   Df Model:                           10\n",
      "Date:                Tue, 13 Apr 2021   Pseudo R-squ.:                 0.01253\n",
      "Time:                        08:23:52   Log-Likelihood:                -22279.\n",
      "converged:                       True   LL-Null:                       -22561.\n",
      "Covariance Type:            nonrobust   LLR p-value:                5.075e-115\n",
      "==============================================================================\n",
      "                 coef    std err          z      P>|z|      [0.025      0.975]\n",
      "------------------------------------------------------------------------------\n",
      "const          0.5461      0.041     13.451      0.000       0.467       0.626\n",
      "decile_1      -0.2492      0.046     -5.425      0.000      -0.339      -0.159\n",
      "decile_10      0.3605      0.114      3.165      0.002       0.137       0.584\n",
      "decile_2      -0.0275      0.049     -0.568      0.570      -0.123       0.068\n",
      "decile_3       0.1237      0.050      2.458      0.014       0.025       0.222\n",
      "decile_4       0.2550      0.054      4.740      0.000       0.150       0.360\n",
      "decile_5       0.3939      0.059      6.713      0.000       0.279       0.509\n",
      "decile_6       0.4406      0.064      6.928      0.000       0.316       0.565\n",
      "decile_7       0.5398      0.071      7.607      0.000       0.401       0.679\n",
      "decile_8       0.5997      0.081      7.411      0.000       0.441       0.758\n",
      "decile_9       0.6550      0.104      6.300      0.000       0.451       0.859\n",
      "==============================================================================\n",
      "decile_1\n",
      "decile_10\n",
      "decile_3\n",
      "decile_4\n",
      "decile_5\n",
      "decile_6\n",
      "decile_7\n",
      "decile_8\n",
      "decile_9\n"
     ]
    },
    {
     "name": "stderr",
     "output_type": "stream",
     "text": [
      "/users/n323489/.conda/envs/n323489_pyconnect_py37/lib/python3.7/site-packages/ipykernel_launcher.py:25: SettingWithCopyWarning: \n",
      "A value is trying to be set on a copy of a slice from a DataFrame.\n",
      "Try using .loc[row_indexer,col_indexer] = value instead\n",
      "\n",
      "See the caveats in the documentation: https://pandas.pydata.org/pandas-docs/stable/user_guide/indexing.html#returning-a-view-versus-a-copy\n"
     ]
    },
    {
     "name": "stdout",
     "output_type": "stream",
     "text": [
      "expt_label\n",
      "False    1.0\n",
      "True     1.0\n",
      "Name: st_wt, dtype: float64\n"
     ]
    },
    {
     "name": "stderr",
     "output_type": "stream",
     "text": [
      "/users/n323489/.conda/envs/n323489_pyconnect_py37/lib/python3.7/site-packages/ipykernel_launcher.py:22: SettingWithCopyWarning: \n",
      "A value is trying to be set on a copy of a slice from a DataFrame.\n",
      "Try using .loc[row_indexer,col_indexer] = value instead\n",
      "\n",
      "See the caveats in the documentation: https://pandas.pydata.org/pandas-docs/stable/user_guide/indexing.html#returning-a-view-versus-a-copy\n",
      "/users/n323489/.conda/envs/n323489_pyconnect_py37/lib/python3.7/site-packages/ipykernel_launcher.py:24: SettingWithCopyWarning: \n",
      "A value is trying to be set on a copy of a slice from a DataFrame.\n",
      "Try using .loc[row_indexer,col_indexer] = value instead\n",
      "\n",
      "See the caveats in the documentation: https://pandas.pydata.org/pandas-docs/stable/user_guide/indexing.html#returning-a-view-versus-a-copy\n",
      "/users/n323489/.conda/envs/n323489_pyconnect_py37/lib/python3.7/site-packages/ipykernel_launcher.py:25: SettingWithCopyWarning: \n",
      "A value is trying to be set on a copy of a slice from a DataFrame\n",
      "\n",
      "See the caveats in the documentation: https://pandas.pydata.org/pandas-docs/stable/user_guide/indexing.html#returning-a-view-versus-a-copy\n",
      "/users/n323489/.conda/envs/n323489_pyconnect_py37/lib/python3.7/site-packages/pandas/core/generic.py:8767: SettingWithCopyWarning: \n",
      "A value is trying to be set on a copy of a slice from a DataFrame\n",
      "\n",
      "See the caveats in the documentation: https://pandas.pydata.org/pandas-docs/stable/user_guide/indexing.html#returning-a-view-versus-a-copy\n",
      "  self._update_inplace(new_data)\n",
      "/users/n323489/.conda/envs/n323489_pyconnect_py37/lib/python3.7/site-packages/ipykernel_launcher.py:26: SettingWithCopyWarning: \n",
      "A value is trying to be set on a copy of a slice from a DataFrame\n",
      "\n",
      "See the caveats in the documentation: https://pandas.pydata.org/pandas-docs/stable/user_guide/indexing.html#returning-a-view-versus-a-copy\n",
      "/users/n323489/.conda/envs/n323489_pyconnect_py37/lib/python3.7/site-packages/ipykernel_launcher.py:30: SettingWithCopyWarning: \n",
      "A value is trying to be set on a copy of a slice from a DataFrame.\n",
      "Try using .loc[row_indexer,col_indexer] = value instead\n",
      "\n",
      "See the caveats in the documentation: https://pandas.pydata.org/pandas-docs/stable/user_guide/indexing.html#returning-a-view-versus-a-copy\n"
     ]
    }
   ],
   "source": [
    "data_lis = data[data['lis_ind'] == '1']\n",
    "print(data_lis.individual_id.count())\n",
    "data_lis['expt_label'] = data_lis['experiment_group_type'] == 'T'\n",
    "\n",
    "print(data_lis['expt_label'].value_counts())\n",
    "\n",
    "all_var = catg_col \n",
    "#converting categorical variables into one-hot vectors\n",
    "X = data_lis[all_var]\n",
    "X = pd.get_dummies(X, columns = catg_col, prefix = catg_col, drop_first = True)\n",
    "Y = data_lis['expt_label']\n",
    "\n",
    "import statsmodels.api as sm\n",
    "X_1=sm.add_constant(X)\n",
    "logit_model=sm.Logit(Y,X_1)\n",
    "result1=logit_model.fit()\n",
    "print(result1.summary())\n",
    "\n",
    "col_list = []\n",
    "for i in range(1,len(X_1.columns)):\n",
    "    if result1.pvalues[i] < 0.05:\n",
    "        print (X_1.columns[i])\n",
    "        col_list.append(X_1.columns[i])\n",
    "        \n",
    "data_lis['p_scores_lr'] = result1.predict(X_1)\n",
    "\n",
    "\n",
    "dfni1 = weightcalc(data_lis,'p_scores_lr','weight','st_wt')\n",
    "\n",
    "data_lis['vol_churn_bal'] = data_lis['vol_churn']*data_lis['st_wt']\n"
   ]
  },
  {
   "cell_type": "code",
   "execution_count": 67,
   "metadata": {},
   "outputs": [
    {
     "name": "stdout",
     "output_type": "stream",
     "text": [
      "lis_ind  experiment_group_type\n",
      "1        H                        0.178523\n",
      "         T                        0.172519\n",
      "Name: vol_churn_bal, dtype: float64\n",
      "lis_ind  experiment_group_type\n",
      "1        H                        0.188406\n",
      "         T                        0.167698\n",
      "Name: vol_churn, dtype: float64\n",
      "0.07962234929681095 -1.407616366170736\n",
      "significant at 90%\n"
     ]
    }
   ],
   "source": [
    "print(data_lis.groupby(['lis_ind','experiment_group_type']).vol_churn_bal.mean())\n",
    "print(data_lis.groupby(['lis_ind','experiment_group_type']).vol_churn.mean())\n",
    "\n",
    "\n",
    "ztest_prop(data_lis)"
   ]
  },
  {
   "cell_type": "code",
   "execution_count": 68,
   "metadata": {},
   "outputs": [
    {
     "name": "stdout",
     "output_type": "stream",
     "text": [
      "lis_ind  experiment_group_type\n",
      "1        H                        12144\n",
      "         T                        22779\n",
      "Name: individual_id, dtype: int64\n"
     ]
    }
   ],
   "source": [
    "print(data_lis.groupby(['lis_ind','experiment_group_type']).individual_id.count())"
   ]
  },
  {
   "cell_type": "code",
   "execution_count": null,
   "metadata": {},
   "outputs": [],
   "source": []
  },
  {
   "cell_type": "markdown",
   "metadata": {},
   "source": [
    "# NLIS"
   ]
  },
  {
   "cell_type": "code",
   "execution_count": 69,
   "metadata": {},
   "outputs": [
    {
     "name": "stdout",
     "output_type": "stream",
     "text": [
      "183700\n",
      "True     154395\n",
      "False     29305\n",
      "Name: expt_label, dtype: int64\n"
     ]
    },
    {
     "name": "stderr",
     "output_type": "stream",
     "text": [
      "/users/n323489/.conda/envs/n323489_pyconnect_py37/lib/python3.7/site-packages/ipykernel_launcher.py:3: SettingWithCopyWarning: \n",
      "A value is trying to be set on a copy of a slice from a DataFrame.\n",
      "Try using .loc[row_indexer,col_indexer] = value instead\n",
      "\n",
      "See the caveats in the documentation: https://pandas.pydata.org/pandas-docs/stable/user_guide/indexing.html#returning-a-view-versus-a-copy\n",
      "  This is separate from the ipykernel package so we can avoid doing imports until\n"
     ]
    },
    {
     "name": "stdout",
     "output_type": "stream",
     "text": [
      "Optimization terminated successfully.\n",
      "         Current function value: 0.421025\n",
      "         Iterations 6\n",
      "                           Logit Regression Results                           \n",
      "==============================================================================\n",
      "Dep. Variable:             expt_label   No. Observations:               183700\n",
      "Model:                          Logit   Df Residuals:                   183689\n",
      "Method:                           MLE   Df Model:                           10\n",
      "Date:                Tue, 13 Apr 2021   Pseudo R-squ.:                 0.04069\n",
      "Time:                        08:26:31   Log-Likelihood:                -77342.\n",
      "converged:                       True   LL-Null:                       -80623.\n",
      "Covariance Type:            nonrobust   LLR p-value:                     0.000\n",
      "==============================================================================\n",
      "                 coef    std err          z      P>|z|      [0.025      0.975]\n",
      "------------------------------------------------------------------------------\n",
      "const          1.8975      0.025     74.631      0.000       1.848       1.947\n",
      "decile_1      -1.0689      0.032    -33.060      0.000      -1.132      -1.005\n",
      "decile_10      0.5074      0.037     13.563      0.000       0.434       0.581\n",
      "decile_2      -0.8897      0.032    -28.190      0.000      -0.952      -0.828\n",
      "decile_3      -0.7188      0.032    -22.764      0.000      -0.781      -0.657\n",
      "decile_4      -0.5606      0.032    -17.719      0.000      -0.623      -0.499\n",
      "decile_5      -0.3706      0.032    -11.608      0.000      -0.433      -0.308\n",
      "decile_6      -0.0800      0.033     -2.418      0.016      -0.145      -0.015\n",
      "decile_7       0.2373      0.035      6.871      0.000       0.170       0.305\n",
      "decile_8       0.3472      0.035      9.892      0.000       0.278       0.416\n",
      "decile_9       0.4644      0.037     12.477      0.000       0.391       0.537\n",
      "==============================================================================\n",
      "decile_1\n",
      "decile_10\n",
      "decile_2\n",
      "decile_3\n",
      "decile_4\n",
      "decile_5\n",
      "decile_6\n",
      "decile_7\n",
      "decile_8\n",
      "decile_9\n"
     ]
    },
    {
     "name": "stderr",
     "output_type": "stream",
     "text": [
      "/users/n323489/.conda/envs/n323489_pyconnect_py37/lib/python3.7/site-packages/ipykernel_launcher.py:25: SettingWithCopyWarning: \n",
      "A value is trying to be set on a copy of a slice from a DataFrame.\n",
      "Try using .loc[row_indexer,col_indexer] = value instead\n",
      "\n",
      "See the caveats in the documentation: https://pandas.pydata.org/pandas-docs/stable/user_guide/indexing.html#returning-a-view-versus-a-copy\n"
     ]
    },
    {
     "name": "stdout",
     "output_type": "stream",
     "text": [
      "expt_label\n",
      "False    1.0\n",
      "True     1.0\n",
      "Name: st_wt, dtype: float64\n"
     ]
    },
    {
     "name": "stderr",
     "output_type": "stream",
     "text": [
      "/users/n323489/.conda/envs/n323489_pyconnect_py37/lib/python3.7/site-packages/ipykernel_launcher.py:22: SettingWithCopyWarning: \n",
      "A value is trying to be set on a copy of a slice from a DataFrame.\n",
      "Try using .loc[row_indexer,col_indexer] = value instead\n",
      "\n",
      "See the caveats in the documentation: https://pandas.pydata.org/pandas-docs/stable/user_guide/indexing.html#returning-a-view-versus-a-copy\n",
      "/users/n323489/.conda/envs/n323489_pyconnect_py37/lib/python3.7/site-packages/ipykernel_launcher.py:24: SettingWithCopyWarning: \n",
      "A value is trying to be set on a copy of a slice from a DataFrame.\n",
      "Try using .loc[row_indexer,col_indexer] = value instead\n",
      "\n",
      "See the caveats in the documentation: https://pandas.pydata.org/pandas-docs/stable/user_guide/indexing.html#returning-a-view-versus-a-copy\n",
      "/users/n323489/.conda/envs/n323489_pyconnect_py37/lib/python3.7/site-packages/ipykernel_launcher.py:25: SettingWithCopyWarning: \n",
      "A value is trying to be set on a copy of a slice from a DataFrame\n",
      "\n",
      "See the caveats in the documentation: https://pandas.pydata.org/pandas-docs/stable/user_guide/indexing.html#returning-a-view-versus-a-copy\n",
      "/users/n323489/.conda/envs/n323489_pyconnect_py37/lib/python3.7/site-packages/pandas/core/generic.py:8767: SettingWithCopyWarning: \n",
      "A value is trying to be set on a copy of a slice from a DataFrame\n",
      "\n",
      "See the caveats in the documentation: https://pandas.pydata.org/pandas-docs/stable/user_guide/indexing.html#returning-a-view-versus-a-copy\n",
      "  self._update_inplace(new_data)\n",
      "/users/n323489/.conda/envs/n323489_pyconnect_py37/lib/python3.7/site-packages/ipykernel_launcher.py:26: SettingWithCopyWarning: \n",
      "A value is trying to be set on a copy of a slice from a DataFrame\n",
      "\n",
      "See the caveats in the documentation: https://pandas.pydata.org/pandas-docs/stable/user_guide/indexing.html#returning-a-view-versus-a-copy\n",
      "/users/n323489/.conda/envs/n323489_pyconnect_py37/lib/python3.7/site-packages/ipykernel_launcher.py:30: SettingWithCopyWarning: \n",
      "A value is trying to be set on a copy of a slice from a DataFrame.\n",
      "Try using .loc[row_indexer,col_indexer] = value instead\n",
      "\n",
      "See the caveats in the documentation: https://pandas.pydata.org/pandas-docs/stable/user_guide/indexing.html#returning-a-view-versus-a-copy\n"
     ]
    }
   ],
   "source": [
    "data_nlis = data[data['lis_ind'] == '0']\n",
    "print(data_nlis.individual_id.count())\n",
    "data_nlis['expt_label'] = data_nlis['experiment_group_type'] == 'T'\n",
    "\n",
    "print(data_nlis['expt_label'].value_counts())\n",
    "\n",
    "all_var = catg_col \n",
    "#converting categorical variables into one-hot vectors\n",
    "X = data_nlis[all_var]\n",
    "X = pd.get_dummies(X, columns = catg_col, prefix = catg_col, drop_first = True)\n",
    "Y = data_nlis['expt_label']\n",
    "\n",
    "import statsmodels.api as sm\n",
    "X_1=sm.add_constant(X)\n",
    "logit_model=sm.Logit(Y,X_1)\n",
    "result1=logit_model.fit()\n",
    "print(result1.summary())\n",
    "\n",
    "col_nlist = []\n",
    "for i in range(1,len(X_1.columns)):\n",
    "    if result1.pvalues[i] < 0.05:\n",
    "        print (X_1.columns[i])\n",
    "        col_nlist.append(X_1.columns[i])\n",
    "        \n",
    "data_nlis['p_scores_lr'] = result1.predict(X_1)\n",
    "\n",
    "\n",
    "dfni1 = weightcalc(data_nlis,'p_scores_lr','weight','st_wt')\n",
    "\n",
    "data_nlis['vol_churn_bal'] = data_nlis['vol_churn']*data_nlis['st_wt']\n"
   ]
  },
  {
   "cell_type": "code",
   "execution_count": null,
   "metadata": {},
   "outputs": [],
   "source": []
  },
  {
   "cell_type": "code",
   "execution_count": 47,
   "metadata": {},
   "outputs": [
    {
     "name": "stdout",
     "output_type": "stream",
     "text": [
      "lis_ind  experiment_group_type\n",
      "0        H                        0.077428\n",
      "         T                        0.078911\n",
      "Name: vol_churn_bal, dtype: float64\n",
      "lis_ind  experiment_group_type\n",
      "0        H                        0.102133\n",
      "         T                        0.073882\n",
      "Name: vol_churn, dtype: float64\n",
      "0.8062335372355678 0.8641000609641126\n",
      "Same Prop\n"
     ]
    }
   ],
   "source": [
    "print(data_nlis.groupby(['lis_ind','experiment_group_type']).vol_churn_bal.mean())\n",
    "print(data_nlis.groupby(['lis_ind','experiment_group_type']).vol_churn.mean())\n",
    "\n",
    "\n",
    "ztest_prop(data_nlis)"
   ]
  },
  {
   "cell_type": "code",
   "execution_count": 71,
   "metadata": {},
   "outputs": [
    {
     "name": "stdout",
     "output_type": "stream",
     "text": [
      "lis_ind  experiment_group_type\n",
      "0        H                         29305\n",
      "         T                        154395\n",
      "Name: individual_id, dtype: int64\n"
     ]
    }
   ],
   "source": [
    "print(data_nlis.groupby(['lis_ind','experiment_group_type']).individual_id.count())"
   ]
  },
  {
   "cell_type": "markdown",
   "metadata": {},
   "source": [
    "# Channel"
   ]
  },
  {
   "cell_type": "code",
   "execution_count": 72,
   "metadata": {},
   "outputs": [
    {
     "data": {
      "text/plain": [
       "DM          140424\n",
       "DM_EMAIL     78199\n",
       "Name: channel, dtype: int64"
      ]
     },
     "execution_count": 72,
     "metadata": {},
     "output_type": "execute_result"
    }
   ],
   "source": [
    "data.channel.value_counts()"
   ]
  },
  {
   "cell_type": "markdown",
   "metadata": {},
   "source": [
    "### DM_email\n"
   ]
  },
  {
   "cell_type": "code",
   "execution_count": 73,
   "metadata": {},
   "outputs": [
    {
     "name": "stdout",
     "output_type": "stream",
     "text": [
      "78199\n",
      "True     62397\n",
      "False    15802\n",
      "Name: expt_label, dtype: int64\n"
     ]
    },
    {
     "name": "stderr",
     "output_type": "stream",
     "text": [
      "/users/n323489/.conda/envs/n323489_pyconnect_py37/lib/python3.7/site-packages/ipykernel_launcher.py:3: SettingWithCopyWarning: \n",
      "A value is trying to be set on a copy of a slice from a DataFrame.\n",
      "Try using .loc[row_indexer,col_indexer] = value instead\n",
      "\n",
      "See the caveats in the documentation: https://pandas.pydata.org/pandas-docs/stable/user_guide/indexing.html#returning-a-view-versus-a-copy\n",
      "  This is separate from the ipykernel package so we can avoid doing imports until\n"
     ]
    },
    {
     "name": "stdout",
     "output_type": "stream",
     "text": [
      "Optimization terminated successfully.\n",
      "         Current function value: 0.479298\n",
      "         Iterations 6\n",
      "                           Logit Regression Results                           \n",
      "==============================================================================\n",
      "Dep. Variable:             expt_label   No. Observations:                78199\n",
      "Model:                          Logit   Df Residuals:                    78188\n",
      "Method:                           MLE   Df Model:                           10\n",
      "Date:                Tue, 13 Apr 2021   Pseudo R-squ.:                 0.04762\n",
      "Time:                        08:30:22   Log-Likelihood:                -37481.\n",
      "converged:                       True   LL-Null:                       -39355.\n",
      "Covariance Type:            nonrobust   LLR p-value:                     0.000\n",
      "==============================================================================\n",
      "                 coef    std err          z      P>|z|      [0.025      0.975]\n",
      "------------------------------------------------------------------------------\n",
      "const          1.5239      0.033     46.523      0.000       1.460       1.588\n",
      "decile_1      -1.0185      0.040    -25.240      0.000      -1.098      -0.939\n",
      "decile_10      0.7553      0.053     14.319      0.000       0.652       0.859\n",
      "decile_2      -0.7047      0.041    -17.093      0.000      -0.785      -0.624\n",
      "decile_3      -0.5691      0.042    -13.573      0.000      -0.651      -0.487\n",
      "decile_4      -0.3524      0.043     -8.222      0.000      -0.436      -0.268\n",
      "decile_5      -0.1689      0.043     -3.883      0.000      -0.254      -0.084\n",
      "decile_6       0.1337      0.046      2.934      0.003       0.044       0.223\n",
      "decile_7       0.4068      0.048      8.433      0.000       0.312       0.501\n",
      "decile_8       0.4645      0.049      9.443      0.000       0.368       0.561\n",
      "decile_9       0.6496      0.054     12.132      0.000       0.545       0.754\n",
      "==============================================================================\n",
      "decile_1\n",
      "decile_10\n",
      "decile_2\n",
      "decile_3\n",
      "decile_4\n",
      "decile_5\n",
      "decile_6\n",
      "decile_7\n",
      "decile_8\n",
      "decile_9\n"
     ]
    },
    {
     "name": "stderr",
     "output_type": "stream",
     "text": [
      "/users/n323489/.conda/envs/n323489_pyconnect_py37/lib/python3.7/site-packages/ipykernel_launcher.py:25: SettingWithCopyWarning: \n",
      "A value is trying to be set on a copy of a slice from a DataFrame.\n",
      "Try using .loc[row_indexer,col_indexer] = value instead\n",
      "\n",
      "See the caveats in the documentation: https://pandas.pydata.org/pandas-docs/stable/user_guide/indexing.html#returning-a-view-versus-a-copy\n"
     ]
    },
    {
     "name": "stdout",
     "output_type": "stream",
     "text": [
      "expt_label\n",
      "False    1.0\n",
      "True     1.0\n",
      "Name: st_wt, dtype: float64\n"
     ]
    },
    {
     "name": "stderr",
     "output_type": "stream",
     "text": [
      "/users/n323489/.conda/envs/n323489_pyconnect_py37/lib/python3.7/site-packages/ipykernel_launcher.py:22: SettingWithCopyWarning: \n",
      "A value is trying to be set on a copy of a slice from a DataFrame.\n",
      "Try using .loc[row_indexer,col_indexer] = value instead\n",
      "\n",
      "See the caveats in the documentation: https://pandas.pydata.org/pandas-docs/stable/user_guide/indexing.html#returning-a-view-versus-a-copy\n",
      "/users/n323489/.conda/envs/n323489_pyconnect_py37/lib/python3.7/site-packages/ipykernel_launcher.py:24: SettingWithCopyWarning: \n",
      "A value is trying to be set on a copy of a slice from a DataFrame.\n",
      "Try using .loc[row_indexer,col_indexer] = value instead\n",
      "\n",
      "See the caveats in the documentation: https://pandas.pydata.org/pandas-docs/stable/user_guide/indexing.html#returning-a-view-versus-a-copy\n",
      "/users/n323489/.conda/envs/n323489_pyconnect_py37/lib/python3.7/site-packages/ipykernel_launcher.py:25: SettingWithCopyWarning: \n",
      "A value is trying to be set on a copy of a slice from a DataFrame\n",
      "\n",
      "See the caveats in the documentation: https://pandas.pydata.org/pandas-docs/stable/user_guide/indexing.html#returning-a-view-versus-a-copy\n",
      "/users/n323489/.conda/envs/n323489_pyconnect_py37/lib/python3.7/site-packages/pandas/core/generic.py:8767: SettingWithCopyWarning: \n",
      "A value is trying to be set on a copy of a slice from a DataFrame\n",
      "\n",
      "See the caveats in the documentation: https://pandas.pydata.org/pandas-docs/stable/user_guide/indexing.html#returning-a-view-versus-a-copy\n",
      "  self._update_inplace(new_data)\n",
      "/users/n323489/.conda/envs/n323489_pyconnect_py37/lib/python3.7/site-packages/ipykernel_launcher.py:26: SettingWithCopyWarning: \n",
      "A value is trying to be set on a copy of a slice from a DataFrame\n",
      "\n",
      "See the caveats in the documentation: https://pandas.pydata.org/pandas-docs/stable/user_guide/indexing.html#returning-a-view-versus-a-copy\n",
      "/users/n323489/.conda/envs/n323489_pyconnect_py37/lib/python3.7/site-packages/ipykernel_launcher.py:30: SettingWithCopyWarning: \n",
      "A value is trying to be set on a copy of a slice from a DataFrame.\n",
      "Try using .loc[row_indexer,col_indexer] = value instead\n",
      "\n",
      "See the caveats in the documentation: https://pandas.pydata.org/pandas-docs/stable/user_guide/indexing.html#returning-a-view-versus-a-copy\n"
     ]
    }
   ],
   "source": [
    "data_dm_email = data[data['channel'] == 'DM_EMAIL']\n",
    "print(data_dm_email.individual_id.count())\n",
    "data_dm_email['expt_label'] = data_dm_email['experiment_group_type'] == 'T'\n",
    "\n",
    "print(data_dm_email['expt_label'].value_counts())\n",
    "\n",
    "all_var = catg_col \n",
    "#converting categorical variables into one-hot vectors\n",
    "X = data_dm_email[all_var]\n",
    "X = pd.get_dummies(X, columns = catg_col, prefix = catg_col, drop_first = True)\n",
    "Y = data_dm_email['expt_label']\n",
    "\n",
    "import statsmodels.api as sm\n",
    "X_1=sm.add_constant(X)\n",
    "logit_model=sm.Logit(Y,X_1)\n",
    "result1=logit_model.fit()\n",
    "print(result1.summary())\n",
    "\n",
    "col_dm_emailt = []\n",
    "for i in range(1,len(X_1.columns)):\n",
    "    if result1.pvalues[i] < 0.05:\n",
    "        print (X_1.columns[i])\n",
    "        col_dm_emailt.append(X_1.columns[i])\n",
    "        \n",
    "data_dm_email['p_scores_lr'] = result1.predict(X_1)\n",
    "\n",
    "\n",
    "dfni1 = weightcalc(data_dm_email,'p_scores_lr','weight','st_wt')\n",
    "\n",
    "data_dm_email['vol_churn_bal'] = data_dm_email['vol_churn']*data_dm_email['st_wt']"
   ]
  },
  {
   "cell_type": "code",
   "execution_count": 74,
   "metadata": {},
   "outputs": [
    {
     "name": "stdout",
     "output_type": "stream",
     "text": [
      "channel   experiment_group_type\n",
      "DM_EMAIL  H                        0.09158\n",
      "          T                        0.08093\n",
      "Name: vol_churn_bal, dtype: float64\n",
      "channel   experiment_group_type\n",
      "DM_EMAIL  H                        0.11739\n",
      "          T                        0.07494\n",
      "Name: vol_churn, dtype: float64\n",
      "7.36367284947863e-06 -4.332727342434317\n",
      "significant at 95%\n"
     ]
    }
   ],
   "source": [
    "print(data_dm_email.groupby(['channel','experiment_group_type']).vol_churn_bal.mean())\n",
    "print(data_dm_email.groupby(['channel','experiment_group_type']).vol_churn.mean())\n",
    "\n",
    "\n",
    "ztest_prop(data_dm_email)"
   ]
  },
  {
   "cell_type": "code",
   "execution_count": 75,
   "metadata": {},
   "outputs": [
    {
     "name": "stdout",
     "output_type": "stream",
     "text": [
      "channel   experiment_group_type\n",
      "DM_EMAIL  H                        15802\n",
      "          T                        62397\n",
      "Name: individual_id, dtype: int64\n"
     ]
    }
   ],
   "source": [
    "print(data_dm_email.groupby(['channel','experiment_group_type']).individual_id.count())"
   ]
  },
  {
   "cell_type": "markdown",
   "metadata": {},
   "source": [
    "### DM\n"
   ]
  },
  {
   "cell_type": "code",
   "execution_count": 76,
   "metadata": {},
   "outputs": [
    {
     "name": "stdout",
     "output_type": "stream",
     "text": [
      "140424\n",
      "True     114777\n",
      "False     25647\n",
      "Name: expt_label, dtype: int64\n"
     ]
    },
    {
     "name": "stderr",
     "output_type": "stream",
     "text": [
      "/users/n323489/.conda/envs/n323489_pyconnect_py37/lib/python3.7/site-packages/ipykernel_launcher.py:3: SettingWithCopyWarning: \n",
      "A value is trying to be set on a copy of a slice from a DataFrame.\n",
      "Try using .loc[row_indexer,col_indexer] = value instead\n",
      "\n",
      "See the caveats in the documentation: https://pandas.pydata.org/pandas-docs/stable/user_guide/indexing.html#returning-a-view-versus-a-copy\n",
      "  This is separate from the ipykernel package so we can avoid doing imports until\n"
     ]
    },
    {
     "name": "stdout",
     "output_type": "stream",
     "text": [
      "Optimization terminated successfully.\n",
      "         Current function value: 0.451756\n",
      "         Iterations 6\n",
      "                           Logit Regression Results                           \n",
      "==============================================================================\n",
      "Dep. Variable:             expt_label   No. Observations:               140424\n",
      "Model:                          Logit   Df Residuals:                   140413\n",
      "Method:                           MLE   Df Model:                           10\n",
      "Date:                Tue, 13 Apr 2021   Pseudo R-squ.:                 0.04968\n",
      "Time:                        08:32:42   Log-Likelihood:                -63437.\n",
      "converged:                       True   LL-Null:                       -66754.\n",
      "Covariance Type:            nonrobust   LLR p-value:                     0.000\n",
      "==============================================================================\n",
      "                 coef    std err          z      P>|z|      [0.025      0.975]\n",
      "------------------------------------------------------------------------------\n",
      "const          1.6460      0.027     60.320      0.000       1.592       1.699\n",
      "decile_1      -1.0024      0.033    -30.437      0.000      -1.067      -0.938\n",
      "decile_10      0.7370      0.044     16.801      0.000       0.651       0.823\n",
      "decile_2      -0.7711      0.033    -23.138      0.000      -0.836      -0.706\n",
      "decile_3      -0.5517      0.034    -16.375      0.000      -0.618      -0.486\n",
      "decile_4      -0.3853      0.034    -11.259      0.000      -0.452      -0.318\n",
      "decile_5      -0.1604      0.035     -4.565      0.000      -0.229      -0.092\n",
      "decile_6       0.0941      0.037      2.575      0.010       0.022       0.166\n",
      "decile_7       0.4294      0.038     11.155      0.000       0.354       0.505\n",
      "decile_8       0.6074      0.040     15.250      0.000       0.529       0.685\n",
      "decile_9       0.7249      0.043     16.918      0.000       0.641       0.809\n",
      "==============================================================================\n",
      "decile_1\n",
      "decile_10\n",
      "decile_2\n",
      "decile_3\n",
      "decile_4\n",
      "decile_5\n",
      "decile_6\n",
      "decile_7\n",
      "decile_8\n",
      "decile_9\n"
     ]
    },
    {
     "name": "stderr",
     "output_type": "stream",
     "text": [
      "/users/n323489/.conda/envs/n323489_pyconnect_py37/lib/python3.7/site-packages/ipykernel_launcher.py:25: SettingWithCopyWarning: \n",
      "A value is trying to be set on a copy of a slice from a DataFrame.\n",
      "Try using .loc[row_indexer,col_indexer] = value instead\n",
      "\n",
      "See the caveats in the documentation: https://pandas.pydata.org/pandas-docs/stable/user_guide/indexing.html#returning-a-view-versus-a-copy\n"
     ]
    },
    {
     "name": "stdout",
     "output_type": "stream",
     "text": [
      "expt_label\n",
      "False    1.0\n",
      "True     1.0\n",
      "Name: st_wt, dtype: float64\n"
     ]
    },
    {
     "name": "stderr",
     "output_type": "stream",
     "text": [
      "/users/n323489/.conda/envs/n323489_pyconnect_py37/lib/python3.7/site-packages/ipykernel_launcher.py:22: SettingWithCopyWarning: \n",
      "A value is trying to be set on a copy of a slice from a DataFrame.\n",
      "Try using .loc[row_indexer,col_indexer] = value instead\n",
      "\n",
      "See the caveats in the documentation: https://pandas.pydata.org/pandas-docs/stable/user_guide/indexing.html#returning-a-view-versus-a-copy\n",
      "/users/n323489/.conda/envs/n323489_pyconnect_py37/lib/python3.7/site-packages/ipykernel_launcher.py:24: SettingWithCopyWarning: \n",
      "A value is trying to be set on a copy of a slice from a DataFrame.\n",
      "Try using .loc[row_indexer,col_indexer] = value instead\n",
      "\n",
      "See the caveats in the documentation: https://pandas.pydata.org/pandas-docs/stable/user_guide/indexing.html#returning-a-view-versus-a-copy\n",
      "/users/n323489/.conda/envs/n323489_pyconnect_py37/lib/python3.7/site-packages/ipykernel_launcher.py:25: SettingWithCopyWarning: \n",
      "A value is trying to be set on a copy of a slice from a DataFrame\n",
      "\n",
      "See the caveats in the documentation: https://pandas.pydata.org/pandas-docs/stable/user_guide/indexing.html#returning-a-view-versus-a-copy\n",
      "/users/n323489/.conda/envs/n323489_pyconnect_py37/lib/python3.7/site-packages/pandas/core/generic.py:8767: SettingWithCopyWarning: \n",
      "A value is trying to be set on a copy of a slice from a DataFrame\n",
      "\n",
      "See the caveats in the documentation: https://pandas.pydata.org/pandas-docs/stable/user_guide/indexing.html#returning-a-view-versus-a-copy\n",
      "  self._update_inplace(new_data)\n",
      "/users/n323489/.conda/envs/n323489_pyconnect_py37/lib/python3.7/site-packages/ipykernel_launcher.py:26: SettingWithCopyWarning: \n",
      "A value is trying to be set on a copy of a slice from a DataFrame\n",
      "\n",
      "See the caveats in the documentation: https://pandas.pydata.org/pandas-docs/stable/user_guide/indexing.html#returning-a-view-versus-a-copy\n",
      "/users/n323489/.conda/envs/n323489_pyconnect_py37/lib/python3.7/site-packages/ipykernel_launcher.py:30: SettingWithCopyWarning: \n",
      "A value is trying to be set on a copy of a slice from a DataFrame.\n",
      "Try using .loc[row_indexer,col_indexer] = value instead\n",
      "\n",
      "See the caveats in the documentation: https://pandas.pydata.org/pandas-docs/stable/user_guide/indexing.html#returning-a-view-versus-a-copy\n"
     ]
    }
   ],
   "source": [
    "data_dm = data[data['channel'] == 'DM']\n",
    "print(data_dm.individual_id.count())\n",
    "data_dm['expt_label'] = data_dm['experiment_group_type'] == 'T'\n",
    "\n",
    "print(data_dm['expt_label'].value_counts())\n",
    "\n",
    "all_var = catg_col \n",
    "#converting categorical variables into one-hot vectors\n",
    "X = data_dm[all_var]\n",
    "X = pd.get_dummies(X, columns = catg_col, prefix = catg_col, drop_first = True)\n",
    "Y = data_dm['expt_label']\n",
    "\n",
    "import statsmodels.api as sm\n",
    "X_1=sm.add_constant(X)\n",
    "logit_model=sm.Logit(Y,X_1)\n",
    "result1=logit_model.fit()\n",
    "print(result1.summary())\n",
    "\n",
    "col_dmt = []\n",
    "for i in range(1,len(X_1.columns)):\n",
    "    if result1.pvalues[i] < 0.05:\n",
    "        print (X_1.columns[i])\n",
    "        col_dmt.append(X_1.columns[i])\n",
    "        \n",
    "data_dm['p_scores_lr'] = result1.predict(X_1)\n",
    "\n",
    "\n",
    "dfni1 = weightcalc(data_dm,'p_scores_lr','weight','st_wt')\n",
    "\n",
    "data_dm['vol_churn_bal'] = data_dm['vol_churn']*data_dm['st_wt']"
   ]
  },
  {
   "cell_type": "code",
   "execution_count": 78,
   "metadata": {},
   "outputs": [
    {
     "name": "stdout",
     "output_type": "stream",
     "text": [
      "channel  experiment_group_type\n",
      "DM       H                        0.110070\n",
      "         T                        0.102192\n",
      "Name: vol_churn_bal, dtype: float64\n",
      "channel  experiment_group_type\n",
      "DM       H                        0.138184\n",
      "         T                        0.095829\n",
      "Name: vol_churn, dtype: float64\n",
      "channel  experiment_group_type\n",
      "DM       H                         25647\n",
      "         T                        114777\n",
      "Name: individual_id, dtype: int64\n",
      "9.118783327663841e-05 -3.7422558855412897\n",
      "significant at 95%\n"
     ]
    }
   ],
   "source": [
    "print(data_dm.groupby(['channel','experiment_group_type']).vol_churn_bal.mean())\n",
    "print(data_dm.groupby(['channel','experiment_group_type']).vol_churn.mean())\n",
    "\n",
    "print(data_dm.groupby(['channel','experiment_group_type']).individual_id.count())\n",
    "\n",
    "\n",
    "ztest_prop(data_dm)"
   ]
  },
  {
   "cell_type": "code",
   "execution_count": null,
   "metadata": {},
   "outputs": [],
   "source": []
  },
  {
   "cell_type": "code",
   "execution_count": null,
   "metadata": {},
   "outputs": [],
   "source": []
  },
  {
   "cell_type": "markdown",
   "metadata": {},
   "source": [
    "# DM+EMAIL FOCUS "
   ]
  },
  {
   "cell_type": "code",
   "execution_count": 34,
   "metadata": {},
   "outputs": [],
   "source": [
    "data_dm_email = hc.sql(\"\"\" select * from cust_exp_Enc.n323489_pods_v1 where trim(channel) = 'DM_EMAIL' \"\"\").toPandas()"
   ]
  },
  {
   "cell_type": "code",
   "execution_count": 35,
   "metadata": {},
   "outputs": [
    {
     "data": {
      "text/plain": [
       "78199"
      ]
     },
     "execution_count": 35,
     "metadata": {},
     "output_type": "execute_result"
    }
   ],
   "source": [
    "data_dm_email.individual_id.count()"
   ]
  },
  {
   "cell_type": "code",
   "execution_count": 36,
   "metadata": {},
   "outputs": [
    {
     "name": "stdout",
     "output_type": "stream",
     "text": [
      "lis_ind  experiment_group_type\n",
      "0        H                        0.095278\n",
      "         T                        0.063000\n",
      "1        H                        0.171222\n",
      "         T                        0.151139\n",
      "Name: vol_churn, dtype: float64\n"
     ]
    }
   ],
   "source": [
    "print(data_dm_email.groupby(['lis_ind', 'experiment_group_type']).vol_churn.mean())"
   ]
  },
  {
   "cell_type": "code",
   "execution_count": 37,
   "metadata": {},
   "outputs": [
    {
     "name": "stdout",
     "output_type": "stream",
     "text": [
      "lis_ind  experiment_group_type\n",
      "0        H                        1150\n",
      "         T                        3530\n",
      "1        H                         639\n",
      "         T                         962\n",
      "Name: vol_churn, dtype: int64\n"
     ]
    }
   ],
   "source": [
    "print(data_dm_email.groupby(['lis_ind', 'experiment_group_type']).vol_churn.sum())"
   ]
  },
  {
   "cell_type": "code",
   "execution_count": 38,
   "metadata": {},
   "outputs": [],
   "source": [
    "catg_col = ['decile', 'sales_channel_updated', 'new_segment', 'lis_ind']"
   ]
  },
  {
   "cell_type": "code",
   "execution_count": 39,
   "metadata": {},
   "outputs": [
    {
     "data": {
      "text/plain": [
       "0    68102\n",
       "1    10097\n",
       "Name: lis_ind, dtype: int64"
      ]
     },
     "execution_count": 39,
     "metadata": {},
     "output_type": "execute_result"
    }
   ],
   "source": [
    "data_dm_email.lis_ind.value_counts()"
   ]
  },
  {
   "cell_type": "code",
   "execution_count": 40,
   "metadata": {},
   "outputs": [
    {
     "name": "stderr",
     "output_type": "stream",
     "text": [
      "/users/n323489/.conda/envs/n323489_pyconnect_py37/lib/python3.7/site-packages/ipykernel_launcher.py:2: SettingWithCopyWarning: \n",
      "A value is trying to be set on a copy of a slice from a DataFrame.\n",
      "Try using .loc[row_indexer,col_indexer] = value instead\n",
      "\n",
      "See the caveats in the documentation: https://pandas.pydata.org/pandas-docs/stable/user_guide/indexing.html#returning-a-view-versus-a-copy\n",
      "  \n"
     ]
    },
    {
     "name": "stdout",
     "output_type": "stream",
     "text": [
      "True     56032\n",
      "False    12070\n",
      "Name: expt_label, dtype: int64\n",
      "Optimization terminated successfully.\n",
      "         Current function value: 0.423518\n",
      "         Iterations 6\n",
      "                           Logit Regression Results                           \n",
      "==============================================================================\n",
      "Dep. Variable:             expt_label   No. Observations:                68102\n",
      "Model:                          Logit   Df Residuals:                    68087\n",
      "Method:                           MLE   Df Model:                           14\n",
      "Date:                Wed, 07 Apr 2021   Pseudo R-squ.:                 0.09345\n",
      "Time:                        05:47:51   Log-Likelihood:                -28842.\n",
      "converged:                       True   LL-Null:                       -31815.\n",
      "Covariance Type:            nonrobust   LLR p-value:                     0.000\n",
      "===================================================================================================\n",
      "                                      coef    std err          z      P>|z|      [0.025      0.975]\n",
      "---------------------------------------------------------------------------------------------------\n",
      "const                               1.8824      0.047     40.152      0.000       1.790       1.974\n",
      "decile_1                            0.0682      0.058      1.184      0.236      -0.045       0.181\n",
      "decile_10                           0.0658      0.061      1.078      0.281      -0.054       0.185\n",
      "decile_2                            0.0298      0.055      0.539      0.590      -0.078       0.138\n",
      "decile_3                           -0.0804      0.054     -1.501      0.133      -0.185       0.025\n",
      "decile_4                           -0.1222      0.052     -2.338      0.019      -0.225      -0.020\n",
      "decile_5                           -0.1961      0.051     -3.808      0.000      -0.297      -0.095\n",
      "decile_6                           -0.1008      0.053     -1.891      0.059      -0.205       0.004\n",
      "decile_7                           -0.0631      0.057     -1.111      0.267      -0.174       0.048\n",
      "decile_8                           -0.1452      0.057     -2.526      0.012      -0.258      -0.033\n",
      "decile_9                           -0.0356      0.062     -0.579      0.563      -0.156       0.085\n",
      "sales_channel_updated_Strategic    -1.5476      0.034    -45.036      0.000      -1.615      -1.480\n",
      "sales_channel_updated_remaining    -0.8633      0.030    -28.330      0.000      -0.923      -0.804\n",
      "new_segment_New to MAPD             0.8412      0.029     29.187      0.000       0.785       0.898\n",
      "new_segment_PPO                     1.1218      0.027     40.890      0.000       1.068       1.176\n",
      "===================================================================================================\n",
      "decile_4\n",
      "decile_5\n",
      "decile_8\n",
      "sales_channel_updated_Strategic\n",
      "sales_channel_updated_remaining\n",
      "new_segment_New to MAPD\n",
      "new_segment_PPO\n"
     ]
    },
    {
     "name": "stderr",
     "output_type": "stream",
     "text": [
      "/users/n323489/.conda/envs/n323489_pyconnect_py37/lib/python3.7/site-packages/ipykernel_launcher.py:24: SettingWithCopyWarning: \n",
      "A value is trying to be set on a copy of a slice from a DataFrame.\n",
      "Try using .loc[row_indexer,col_indexer] = value instead\n",
      "\n",
      "See the caveats in the documentation: https://pandas.pydata.org/pandas-docs/stable/user_guide/indexing.html#returning-a-view-versus-a-copy\n"
     ]
    },
    {
     "name": "stdout",
     "output_type": "stream",
     "text": [
      "expt_label\n",
      "False    1.0\n",
      "True     1.0\n",
      "Name: st_wt, dtype: float64\n"
     ]
    },
    {
     "name": "stderr",
     "output_type": "stream",
     "text": [
      "/users/n323489/.conda/envs/n323489_pyconnect_py37/lib/python3.7/site-packages/ipykernel_launcher.py:20: SettingWithCopyWarning: \n",
      "A value is trying to be set on a copy of a slice from a DataFrame.\n",
      "Try using .loc[row_indexer,col_indexer] = value instead\n",
      "\n",
      "See the caveats in the documentation: https://pandas.pydata.org/pandas-docs/stable/user_guide/indexing.html#returning-a-view-versus-a-copy\n",
      "/users/n323489/.conda/envs/n323489_pyconnect_py37/lib/python3.7/site-packages/ipykernel_launcher.py:22: SettingWithCopyWarning: \n",
      "A value is trying to be set on a copy of a slice from a DataFrame.\n",
      "Try using .loc[row_indexer,col_indexer] = value instead\n",
      "\n",
      "See the caveats in the documentation: https://pandas.pydata.org/pandas-docs/stable/user_guide/indexing.html#returning-a-view-versus-a-copy\n",
      "/users/n323489/.conda/envs/n323489_pyconnect_py37/lib/python3.7/site-packages/ipykernel_launcher.py:23: SettingWithCopyWarning: \n",
      "A value is trying to be set on a copy of a slice from a DataFrame\n",
      "\n",
      "See the caveats in the documentation: https://pandas.pydata.org/pandas-docs/stable/user_guide/indexing.html#returning-a-view-versus-a-copy\n",
      "/users/n323489/.conda/envs/n323489_pyconnect_py37/lib/python3.7/site-packages/pandas/core/generic.py:8767: SettingWithCopyWarning: \n",
      "A value is trying to be set on a copy of a slice from a DataFrame\n",
      "\n",
      "See the caveats in the documentation: https://pandas.pydata.org/pandas-docs/stable/user_guide/indexing.html#returning-a-view-versus-a-copy\n",
      "  self._update_inplace(new_data)\n",
      "/users/n323489/.conda/envs/n323489_pyconnect_py37/lib/python3.7/site-packages/ipykernel_launcher.py:24: SettingWithCopyWarning: \n",
      "A value is trying to be set on a copy of a slice from a DataFrame\n",
      "\n",
      "See the caveats in the documentation: https://pandas.pydata.org/pandas-docs/stable/user_guide/indexing.html#returning-a-view-versus-a-copy\n",
      "/users/n323489/.conda/envs/n323489_pyconnect_py37/lib/python3.7/site-packages/ipykernel_launcher.py:29: SettingWithCopyWarning: \n",
      "A value is trying to be set on a copy of a slice from a DataFrame.\n",
      "Try using .loc[row_indexer,col_indexer] = value instead\n",
      "\n",
      "See the caveats in the documentation: https://pandas.pydata.org/pandas-docs/stable/user_guide/indexing.html#returning-a-view-versus-a-copy\n"
     ]
    }
   ],
   "source": [
    "data_nlis = data_dm_email[data_dm_email['lis_ind'] == '0' ]\n",
    "data_nlis['expt_label'] = data_nlis['experiment_group_type'] == 'T'\n",
    "\n",
    "print(data_nlis['expt_label'].value_counts())\n",
    "\n",
    "all_var = catg_col \n",
    "#converting categorical variables into one-hot vectors\n",
    "X = data_nlis[all_var]\n",
    "X = pd.get_dummies(X, columns = catg_col, prefix = catg_col, drop_first = True)\n",
    "Y = data_nlis['expt_label']\n",
    "\n",
    "import statsmodels.api as sm\n",
    "X_1=sm.add_constant(X)\n",
    "logit_model=sm.Logit(Y,X_1)\n",
    "result1=logit_model.fit()\n",
    "print(result1.summary())\n",
    "\n",
    "col_dmt = []\n",
    "for i in range(1,len(X_1.columns)):\n",
    "    if result1.pvalues[i] < 0.05:\n",
    "        print (X_1.columns[i])\n",
    "        col_dmt.append(X_1.columns[i])\n",
    "        \n",
    "data_nlis['p_scores_lr'] = result1.predict(X_1)\n",
    "\n",
    "\n",
    "dfni1 = weightcalc(data_nlis,'p_scores_lr','weight','st_wt')\n",
    "\n",
    "data_nlis['vol_churn_bal'] = data_nlis['vol_churn']*data_nlis['st_wt']"
   ]
  },
  {
   "cell_type": "code",
   "execution_count": 41,
   "metadata": {},
   "outputs": [
    {
     "name": "stdout",
     "output_type": "stream",
     "text": [
      "channel   experiment_group_type\n",
      "DM_EMAIL  H                        0.072519\n",
      "          T                        0.068339\n",
      "Name: vol_churn_bal, dtype: float64\n",
      "channel   experiment_group_type\n",
      "DM_EMAIL  H                        0.095278\n",
      "          T                        0.063000\n",
      "Name: vol_churn, dtype: float64\n",
      "0.050246854514816135 -1.6424648300907363\n",
      "significant at 90%\n"
     ]
    }
   ],
   "source": [
    "print(data_nlis.groupby(['channel','experiment_group_type']).vol_churn_bal.mean())\n",
    "print(data_nlis.groupby(['channel','experiment_group_type']).vol_churn.mean())\n",
    "\n",
    "\n",
    "ztest_prop(data_nlis)"
   ]
  },
  {
   "cell_type": "code",
   "execution_count": 46,
   "metadata": {},
   "outputs": [
    {
     "name": "stdout",
     "output_type": "stream",
     "text": [
      "channel   experiment_group_type\n",
      "DM_EMAIL  H                         875.302068\n",
      "          T                        3829.181768\n",
      "Name: vol_churn_bal, dtype: float64\n"
     ]
    }
   ],
   "source": [
    "print(data_nlis.groupby(['channel','experiment_group_type']).vol_churn_bal.sum())"
   ]
  },
  {
   "cell_type": "code",
   "execution_count": 65,
   "metadata": {},
   "outputs": [
    {
     "name": "stdout",
     "output_type": "stream",
     "text": [
      "channel   experiment_group_type\n",
      "DM_EMAIL  H                        12070\n",
      "          T                        56032\n",
      "Name: individual_id, dtype: int64\n"
     ]
    }
   ],
   "source": [
    "print(data_nlis.groupby(['channel','experiment_group_type']).individual_id.count())"
   ]
  },
  {
   "cell_type": "code",
   "execution_count": 42,
   "metadata": {},
   "outputs": [
    {
     "name": "stderr",
     "output_type": "stream",
     "text": [
      "/users/n323489/.conda/envs/n323489_pyconnect_py37/lib/python3.7/site-packages/ipykernel_launcher.py:2: SettingWithCopyWarning: \n",
      "A value is trying to be set on a copy of a slice from a DataFrame.\n",
      "Try using .loc[row_indexer,col_indexer] = value instead\n",
      "\n",
      "See the caveats in the documentation: https://pandas.pydata.org/pandas-docs/stable/user_guide/indexing.html#returning-a-view-versus-a-copy\n",
      "  \n",
      "/users/n323489/.conda/envs/n323489_pyconnect_py37/lib/python3.7/site-packages/ipykernel_launcher.py:24: SettingWithCopyWarning: \n",
      "A value is trying to be set on a copy of a slice from a DataFrame.\n",
      "Try using .loc[row_indexer,col_indexer] = value instead\n",
      "\n",
      "See the caveats in the documentation: https://pandas.pydata.org/pandas-docs/stable/user_guide/indexing.html#returning-a-view-versus-a-copy\n"
     ]
    },
    {
     "name": "stdout",
     "output_type": "stream",
     "text": [
      "True     6365\n",
      "False    3732\n",
      "Name: expt_label, dtype: int64\n",
      "Optimization terminated successfully.\n",
      "         Current function value: 0.629812\n",
      "         Iterations 5\n",
      "                           Logit Regression Results                           \n",
      "==============================================================================\n",
      "Dep. Variable:             expt_label   No. Observations:                10097\n",
      "Model:                          Logit   Df Residuals:                    10082\n",
      "Method:                           MLE   Df Model:                           14\n",
      "Date:                Wed, 07 Apr 2021   Pseudo R-squ.:                 0.04393\n",
      "Time:                        05:48:03   Log-Likelihood:                -6359.2\n",
      "converged:                       True   LL-Null:                       -6651.4\n",
      "Covariance Type:            nonrobust   LLR p-value:                1.118e-115\n",
      "===================================================================================================\n",
      "                                      coef    std err          z      P>|z|      [0.025      0.975]\n",
      "---------------------------------------------------------------------------------------------------\n",
      "const                               1.3875      0.090     15.433      0.000       1.211       1.564\n",
      "decile_1                           -0.0017      0.082     -0.020      0.984      -0.161       0.158\n",
      "decile_10                          -0.1130      0.274     -0.412      0.680      -0.650       0.424\n",
      "decile_2                            0.1072      0.085      1.260      0.208      -0.060       0.274\n",
      "decile_3                            0.0673      0.091      0.744      0.457      -0.110       0.245\n",
      "decile_4                            0.0913      0.104      0.880      0.379      -0.112       0.295\n",
      "decile_5                            0.1560      0.117      1.333      0.182      -0.073       0.385\n",
      "decile_6                            0.0797      0.137      0.580      0.562      -0.190       0.349\n",
      "decile_7                           -0.0636      0.152     -0.417      0.676      -0.362       0.235\n",
      "decile_8                            0.1269      0.195      0.651      0.515      -0.255       0.509\n",
      "decile_9                           -0.0527      0.241     -0.219      0.827      -0.524       0.419\n",
      "sales_channel_updated_Strategic    -1.2690      0.066    -19.116      0.000      -1.399      -1.139\n",
      "sales_channel_updated_remaining    -1.0894      0.068    -15.946      0.000      -1.223      -0.955\n",
      "new_segment_New to MAPD             0.1240      0.079      1.569      0.117      -0.031       0.279\n",
      "new_segment_PPO                     0.1313      0.049      2.698      0.007       0.036       0.227\n",
      "===================================================================================================\n",
      "sales_channel_updated_Strategic\n",
      "sales_channel_updated_remaining\n",
      "new_segment_PPO\n",
      "expt_label\n",
      "False    1.0\n",
      "True     1.0\n",
      "Name: st_wt, dtype: float64\n"
     ]
    },
    {
     "name": "stderr",
     "output_type": "stream",
     "text": [
      "/users/n323489/.conda/envs/n323489_pyconnect_py37/lib/python3.7/site-packages/ipykernel_launcher.py:20: SettingWithCopyWarning: \n",
      "A value is trying to be set on a copy of a slice from a DataFrame.\n",
      "Try using .loc[row_indexer,col_indexer] = value instead\n",
      "\n",
      "See the caveats in the documentation: https://pandas.pydata.org/pandas-docs/stable/user_guide/indexing.html#returning-a-view-versus-a-copy\n",
      "/users/n323489/.conda/envs/n323489_pyconnect_py37/lib/python3.7/site-packages/ipykernel_launcher.py:22: SettingWithCopyWarning: \n",
      "A value is trying to be set on a copy of a slice from a DataFrame.\n",
      "Try using .loc[row_indexer,col_indexer] = value instead\n",
      "\n",
      "See the caveats in the documentation: https://pandas.pydata.org/pandas-docs/stable/user_guide/indexing.html#returning-a-view-versus-a-copy\n",
      "/users/n323489/.conda/envs/n323489_pyconnect_py37/lib/python3.7/site-packages/ipykernel_launcher.py:23: SettingWithCopyWarning: \n",
      "A value is trying to be set on a copy of a slice from a DataFrame\n",
      "\n",
      "See the caveats in the documentation: https://pandas.pydata.org/pandas-docs/stable/user_guide/indexing.html#returning-a-view-versus-a-copy\n",
      "/users/n323489/.conda/envs/n323489_pyconnect_py37/lib/python3.7/site-packages/pandas/core/generic.py:8767: SettingWithCopyWarning: \n",
      "A value is trying to be set on a copy of a slice from a DataFrame\n",
      "\n",
      "See the caveats in the documentation: https://pandas.pydata.org/pandas-docs/stable/user_guide/indexing.html#returning-a-view-versus-a-copy\n",
      "  self._update_inplace(new_data)\n",
      "/users/n323489/.conda/envs/n323489_pyconnect_py37/lib/python3.7/site-packages/ipykernel_launcher.py:24: SettingWithCopyWarning: \n",
      "A value is trying to be set on a copy of a slice from a DataFrame\n",
      "\n",
      "See the caveats in the documentation: https://pandas.pydata.org/pandas-docs/stable/user_guide/indexing.html#returning-a-view-versus-a-copy\n",
      "/users/n323489/.conda/envs/n323489_pyconnect_py37/lib/python3.7/site-packages/ipykernel_launcher.py:29: SettingWithCopyWarning: \n",
      "A value is trying to be set on a copy of a slice from a DataFrame.\n",
      "Try using .loc[row_indexer,col_indexer] = value instead\n",
      "\n",
      "See the caveats in the documentation: https://pandas.pydata.org/pandas-docs/stable/user_guide/indexing.html#returning-a-view-versus-a-copy\n"
     ]
    }
   ],
   "source": [
    "data_lis = data_dm_email[data_dm_email['lis_ind'] == '1' ]\n",
    "data_lis['expt_label'] = data_lis['experiment_group_type'] == 'T'\n",
    "\n",
    "print(data_lis['expt_label'].value_counts())\n",
    "\n",
    "all_var = catg_col \n",
    "#converting categorical variables into one-hot vectors\n",
    "X = data_lis[all_var]\n",
    "X = pd.get_dummies(X, columns = catg_col, prefix = catg_col, drop_first = True)\n",
    "Y = data_lis['expt_label']\n",
    "\n",
    "import statsmodels.api as sm\n",
    "X_1=sm.add_constant(X)\n",
    "logit_model=sm.Logit(Y,X_1)\n",
    "result1=logit_model.fit()\n",
    "print(result1.summary())\n",
    "\n",
    "col_dmt = []\n",
    "for i in range(1,len(X_1.columns)):\n",
    "    if result1.pvalues[i] < 0.05:\n",
    "        print (X_1.columns[i])\n",
    "        col_dmt.append(X_1.columns[i])\n",
    "        \n",
    "data_lis['p_scores_lr'] = result1.predict(X_1)\n",
    "\n",
    "\n",
    "dfni1 = weightcalc(data_lis,'p_scores_lr','weight','st_wt')\n",
    "\n",
    "data_lis['vol_churn_bal'] = data_lis['vol_churn']*data_lis['st_wt']"
   ]
  },
  {
   "cell_type": "code",
   "execution_count": 31,
   "metadata": {},
   "outputs": [
    {
     "name": "stdout",
     "output_type": "stream",
     "text": [
      "channel   experiment_group_type\n",
      "DM_EMAIL  H                        0.158660\n",
      "          T                        0.156577\n",
      "Name: vol_churn_bal, dtype: float64\n",
      "channel   experiment_group_type\n",
      "DM_EMAIL  H                        0.171222\n",
      "          T                        0.151139\n",
      "Name: vol_churn, dtype: float64\n",
      "0.3906903362926505 -0.2775202322739435\n",
      "Same Prop\n"
     ]
    }
   ],
   "source": [
    "print(data_lis.groupby(['channel','experiment_group_type']).vol_churn_bal.mean())\n",
    "print(data_lis.groupby(['channel','experiment_group_type']).vol_churn.mean())\n",
    "\n",
    "\n",
    "ztest_prop(data_lis)"
   ]
  },
  {
   "cell_type": "code",
   "execution_count": 44,
   "metadata": {},
   "outputs": [
    {
     "name": "stdout",
     "output_type": "stream",
     "text": [
      "channel   experiment_group_type\n",
      "DM_EMAIL  H                        3732\n",
      "          T                        6365\n",
      "Name: individual_id, dtype: int64\n"
     ]
    }
   ],
   "source": [
    "print(data_lis.groupby(['channel','experiment_group_type']).individual_id.count())"
   ]
  },
  {
   "cell_type": "code",
   "execution_count": null,
   "metadata": {},
   "outputs": [],
   "source": []
  },
  {
   "cell_type": "markdown",
   "metadata": {},
   "source": [
    "Sales Channel"
   ]
  },
  {
   "cell_type": "code",
   "execution_count": 34,
   "metadata": {},
   "outputs": [
    {
     "name": "stdout",
     "output_type": "stream",
     "text": [
      "sales_channel_updated  experiment_group_type\n",
      "NDP                    H                        0.057410\n",
      "                       T                        0.046973\n",
      "Strategic              H                        0.150884\n",
      "                       T                        0.128313\n",
      "remaining              H                        0.064286\n",
      "                       T                        0.047697\n",
      "Name: vol_churn, dtype: float64\n"
     ]
    }
   ],
   "source": [
    "print(data_dm_email.groupby(['sales_channel_updated','experiment_group_type']).vol_churn.mean())"
   ]
  },
  {
   "cell_type": "code",
   "execution_count": 66,
   "metadata": {},
   "outputs": [
    {
     "name": "stderr",
     "output_type": "stream",
     "text": [
      "/users/n323489/.conda/envs/n323489_pyconnect_py37/lib/python3.7/site-packages/ipykernel_launcher.py:2: SettingWithCopyWarning: \n",
      "A value is trying to be set on a copy of a slice from a DataFrame.\n",
      "Try using .loc[row_indexer,col_indexer] = value instead\n",
      "\n",
      "See the caveats in the documentation: https://pandas.pydata.org/pandas-docs/stable/user_guide/indexing.html#returning-a-view-versus-a-copy\n",
      "  \n",
      "/users/n323489/.conda/envs/n323489_pyconnect_py37/lib/python3.7/site-packages/ipykernel_launcher.py:24: SettingWithCopyWarning: \n",
      "A value is trying to be set on a copy of a slice from a DataFrame.\n",
      "Try using .loc[row_indexer,col_indexer] = value instead\n",
      "\n",
      "See the caveats in the documentation: https://pandas.pydata.org/pandas-docs/stable/user_guide/indexing.html#returning-a-view-versus-a-copy\n"
     ]
    },
    {
     "name": "stdout",
     "output_type": "stream",
     "text": [
      "True     28016\n",
      "False     2996\n",
      "Name: expt_label, dtype: int64\n",
      "Optimization terminated successfully.\n",
      "         Current function value: 0.302063\n",
      "         Iterations 7\n",
      "decile_10\n",
      "decile_9\n",
      "new_segment_New to MAPD\n",
      "new_segment_PPO\n",
      "lis_ind_1\n",
      "expt_label\n",
      "False    1.0\n",
      "True     1.0\n",
      "Name: st_wt, dtype: float64\n",
      "channel   experiment_group_type\n",
      "DM_EMAIL  H                        0.051907\n",
      "          T                        0.048114\n",
      "Name: vol_churn_bal, dtype: float64\n",
      "channel   experiment_group_type\n",
      "DM_EMAIL  H                        0.057410\n",
      "          T                        0.046973\n",
      "Name: vol_churn, dtype: float64\n",
      "0.17915156859871068 -0.9186032389989253\n",
      "significant at 80%\n"
     ]
    },
    {
     "name": "stderr",
     "output_type": "stream",
     "text": [
      "/users/n323489/.conda/envs/n323489_pyconnect_py37/lib/python3.7/site-packages/ipykernel_launcher.py:7: SettingWithCopyWarning: \n",
      "A value is trying to be set on a copy of a slice from a DataFrame.\n",
      "Try using .loc[row_indexer,col_indexer] = value instead\n",
      "\n",
      "See the caveats in the documentation: https://pandas.pydata.org/pandas-docs/stable/user_guide/indexing.html#returning-a-view-versus-a-copy\n",
      "  import sys\n",
      "/users/n323489/.conda/envs/n323489_pyconnect_py37/lib/python3.7/site-packages/ipykernel_launcher.py:9: SettingWithCopyWarning: \n",
      "A value is trying to be set on a copy of a slice from a DataFrame.\n",
      "Try using .loc[row_indexer,col_indexer] = value instead\n",
      "\n",
      "See the caveats in the documentation: https://pandas.pydata.org/pandas-docs/stable/user_guide/indexing.html#returning-a-view-versus-a-copy\n",
      "  if __name__ == '__main__':\n",
      "/users/n323489/.conda/envs/n323489_pyconnect_py37/lib/python3.7/site-packages/ipykernel_launcher.py:10: SettingWithCopyWarning: \n",
      "A value is trying to be set on a copy of a slice from a DataFrame\n",
      "\n",
      "See the caveats in the documentation: https://pandas.pydata.org/pandas-docs/stable/user_guide/indexing.html#returning-a-view-versus-a-copy\n",
      "  # Remove the CWD from sys.path while we load stuff.\n",
      "/users/n323489/.conda/envs/n323489_pyconnect_py37/lib/python3.7/site-packages/pandas/core/generic.py:8767: SettingWithCopyWarning: \n",
      "A value is trying to be set on a copy of a slice from a DataFrame\n",
      "\n",
      "See the caveats in the documentation: https://pandas.pydata.org/pandas-docs/stable/user_guide/indexing.html#returning-a-view-versus-a-copy\n",
      "  self._update_inplace(new_data)\n",
      "/users/n323489/.conda/envs/n323489_pyconnect_py37/lib/python3.7/site-packages/ipykernel_launcher.py:11: SettingWithCopyWarning: \n",
      "A value is trying to be set on a copy of a slice from a DataFrame\n",
      "\n",
      "See the caveats in the documentation: https://pandas.pydata.org/pandas-docs/stable/user_guide/indexing.html#returning-a-view-versus-a-copy\n",
      "  # This is added back by InteractiveShellApp.init_path()\n",
      "/users/n323489/.conda/envs/n323489_pyconnect_py37/lib/python3.7/site-packages/ipykernel_launcher.py:29: SettingWithCopyWarning: \n",
      "A value is trying to be set on a copy of a slice from a DataFrame.\n",
      "Try using .loc[row_indexer,col_indexer] = value instead\n",
      "\n",
      "See the caveats in the documentation: https://pandas.pydata.org/pandas-docs/stable/user_guide/indexing.html#returning-a-view-versus-a-copy\n"
     ]
    }
   ],
   "source": [
    "data_ndp = data_dm_email[data_dm_email['sales_channel_updated'] == 'NDP' ]\n",
    "data_ndp['expt_label'] = data_ndp['experiment_group_type'] == 'T'\n",
    "\n",
    "print(data_ndp['expt_label'].value_counts())\n",
    "\n",
    "all_var = catg_col \n",
    "#converting categorical variables into one-hot vectors\n",
    "X = data_ndp[all_var]\n",
    "X = pd.get_dummies(X, columns = catg_col, prefix = catg_col, drop_first = True)\n",
    "Y = data_ndp['expt_label']\n",
    "\n",
    "import statsmodels.api as sm\n",
    "X_1=sm.add_constant(X)\n",
    "logit_model=sm.Logit(Y,X_1)\n",
    "result1=logit_model.fit()\n",
    "#print(result1.summary())\n",
    "\n",
    "col_dmt = []\n",
    "for i in range(1,len(X_1.columns)):\n",
    "    if result1.pvalues[i] < 0.05:\n",
    "        print (X_1.columns[i])\n",
    "        col_dmt.append(X_1.columns[i])\n",
    "        \n",
    "data_ndp['p_scores_lr'] = result1.predict(X_1)\n",
    "\n",
    "\n",
    "dfni1 = weightcalc(data_ndp,'p_scores_lr','weight','st_wt')\n",
    "\n",
    "data_ndp['vol_churn_bal'] = data_ndp['vol_churn']*data_ndp['st_wt']\n",
    "\n",
    "print(data_ndp.groupby(['channel','experiment_group_type']).vol_churn_bal.mean())\n",
    "print(data_ndp.groupby(['channel','experiment_group_type']).vol_churn.mean())\n",
    "ztest_prop(data_ndp)"
   ]
  },
  {
   "cell_type": "code",
   "execution_count": 68,
   "metadata": {},
   "outputs": [
    {
     "name": "stdout",
     "output_type": "stream",
     "text": [
      "channel   experiment_group_type\n",
      "DM_EMAIL  H                         2996\n",
      "          T                        28016\n",
      "Name: individual_id, dtype: int64\n"
     ]
    }
   ],
   "source": [
    "\n",
    "print(data_ndp.groupby(['channel','experiment_group_type']).individual_id.count())"
   ]
  },
  {
   "cell_type": "code",
   "execution_count": 67,
   "metadata": {},
   "outputs": [
    {
     "data": {
      "text/plain": [
       "NDP          31012\n",
       "Strategic    28221\n",
       "remaining    18966\n",
       "Name: sales_channel_updated, dtype: int64"
      ]
     },
     "execution_count": 67,
     "metadata": {},
     "output_type": "execute_result"
    }
   ],
   "source": [
    "data_dm_email.sales_channel_updated.value_counts()"
   ]
  },
  {
   "cell_type": "code",
   "execution_count": 71,
   "metadata": {},
   "outputs": [
    {
     "name": "stderr",
     "output_type": "stream",
     "text": [
      "/users/n323489/.conda/envs/n323489_pyconnect_py37/lib/python3.7/site-packages/ipykernel_launcher.py:2: SettingWithCopyWarning: \n",
      "A value is trying to be set on a copy of a slice from a DataFrame.\n",
      "Try using .loc[row_indexer,col_indexer] = value instead\n",
      "\n",
      "See the caveats in the documentation: https://pandas.pydata.org/pandas-docs/stable/user_guide/indexing.html#returning-a-view-versus-a-copy\n",
      "  \n"
     ]
    },
    {
     "name": "stdout",
     "output_type": "stream",
     "text": [
      "True     19055\n",
      "False     9166\n",
      "Name: expt_label, dtype: int64\n",
      "Warning: Maximum number of iterations has been exceeded.\n",
      "         Current function value: 0.614611\n",
      "         Iterations: 35\n",
      "decile_6\n",
      "new_segment_New to MAPD\n",
      "new_segment_PPO\n",
      "lis_ind_1\n"
     ]
    },
    {
     "name": "stderr",
     "output_type": "stream",
     "text": [
      "/users/n323489/.conda/envs/n323489_pyconnect_py37/lib/python3.7/site-packages/statsmodels/base/model.py:568: ConvergenceWarning: Maximum Likelihood optimization failed to converge. Check mle_retvals\n",
      "  \"Check mle_retvals\", ConvergenceWarning)\n",
      "/users/n323489/.conda/envs/n323489_pyconnect_py37/lib/python3.7/site-packages/ipykernel_launcher.py:24: SettingWithCopyWarning: \n",
      "A value is trying to be set on a copy of a slice from a DataFrame.\n",
      "Try using .loc[row_indexer,col_indexer] = value instead\n",
      "\n",
      "See the caveats in the documentation: https://pandas.pydata.org/pandas-docs/stable/user_guide/indexing.html#returning-a-view-versus-a-copy\n"
     ]
    },
    {
     "name": "stdout",
     "output_type": "stream",
     "text": [
      "expt_label\n",
      "False    1.0\n",
      "True     1.0\n",
      "Name: st_wt, dtype: float64\n",
      "channel   experiment_group_type\n",
      "DM_EMAIL  H                        0.140075\n",
      "          T                        0.133134\n",
      "Name: vol_churn_bal, dtype: float64\n",
      "channel   experiment_group_type\n",
      "DM_EMAIL  H                        0.150884\n",
      "          T                        0.128313\n",
      "Name: vol_churn, dtype: float64\n",
      "channel   experiment_group_type\n",
      "DM_EMAIL  H                         9166\n",
      "          T                        19055\n",
      "Name: individual_id, dtype: int64\n",
      "0.05523968595846322 -1.5960421999544536\n",
      "significant at 90%\n"
     ]
    },
    {
     "name": "stderr",
     "output_type": "stream",
     "text": [
      "/users/n323489/.conda/envs/n323489_pyconnect_py37/lib/python3.7/site-packages/ipykernel_launcher.py:7: SettingWithCopyWarning: \n",
      "A value is trying to be set on a copy of a slice from a DataFrame.\n",
      "Try using .loc[row_indexer,col_indexer] = value instead\n",
      "\n",
      "See the caveats in the documentation: https://pandas.pydata.org/pandas-docs/stable/user_guide/indexing.html#returning-a-view-versus-a-copy\n",
      "  import sys\n",
      "/users/n323489/.conda/envs/n323489_pyconnect_py37/lib/python3.7/site-packages/ipykernel_launcher.py:9: SettingWithCopyWarning: \n",
      "A value is trying to be set on a copy of a slice from a DataFrame.\n",
      "Try using .loc[row_indexer,col_indexer] = value instead\n",
      "\n",
      "See the caveats in the documentation: https://pandas.pydata.org/pandas-docs/stable/user_guide/indexing.html#returning-a-view-versus-a-copy\n",
      "  if __name__ == '__main__':\n",
      "/users/n323489/.conda/envs/n323489_pyconnect_py37/lib/python3.7/site-packages/ipykernel_launcher.py:10: SettingWithCopyWarning: \n",
      "A value is trying to be set on a copy of a slice from a DataFrame\n",
      "\n",
      "See the caveats in the documentation: https://pandas.pydata.org/pandas-docs/stable/user_guide/indexing.html#returning-a-view-versus-a-copy\n",
      "  # Remove the CWD from sys.path while we load stuff.\n",
      "/users/n323489/.conda/envs/n323489_pyconnect_py37/lib/python3.7/site-packages/pandas/core/generic.py:8767: SettingWithCopyWarning: \n",
      "A value is trying to be set on a copy of a slice from a DataFrame\n",
      "\n",
      "See the caveats in the documentation: https://pandas.pydata.org/pandas-docs/stable/user_guide/indexing.html#returning-a-view-versus-a-copy\n",
      "  self._update_inplace(new_data)\n",
      "/users/n323489/.conda/envs/n323489_pyconnect_py37/lib/python3.7/site-packages/ipykernel_launcher.py:11: SettingWithCopyWarning: \n",
      "A value is trying to be set on a copy of a slice from a DataFrame\n",
      "\n",
      "See the caveats in the documentation: https://pandas.pydata.org/pandas-docs/stable/user_guide/indexing.html#returning-a-view-versus-a-copy\n",
      "  # This is added back by InteractiveShellApp.init_path()\n",
      "/users/n323489/.conda/envs/n323489_pyconnect_py37/lib/python3.7/site-packages/ipykernel_launcher.py:29: SettingWithCopyWarning: \n",
      "A value is trying to be set on a copy of a slice from a DataFrame.\n",
      "Try using .loc[row_indexer,col_indexer] = value instead\n",
      "\n",
      "See the caveats in the documentation: https://pandas.pydata.org/pandas-docs/stable/user_guide/indexing.html#returning-a-view-versus-a-copy\n"
     ]
    }
   ],
   "source": [
    "data_remaining= data_dm_email[data_dm_email['sales_channel_updated'] == 'Strategic' ]\n",
    "data_remaining['expt_label'] = data_remaining['experiment_group_type'] == 'T'\n",
    "\n",
    "print(data_remaining['expt_label'].value_counts())\n",
    "\n",
    "all_var = catg_col \n",
    "#converting categorical variables into one-hot vectors\n",
    "X = data_remaining[all_var]\n",
    "X = pd.get_dummies(X, columns = catg_col, prefix = catg_col, drop_first = True)\n",
    "Y = data_remaining['expt_label']\n",
    "\n",
    "import statsmodels.api as sm\n",
    "X_1=sm.add_constant(X)\n",
    "logit_model=sm.Logit(Y,X_1)\n",
    "result1=logit_model.fit()\n",
    "#print(result1.summary())\n",
    "\n",
    "col_dmt = []\n",
    "for i in range(1,len(X_1.columns)):\n",
    "    if result1.pvalues[i] < 0.05:\n",
    "        print (X_1.columns[i])\n",
    "        col_dmt.append(X_1.columns[i])\n",
    "        \n",
    "data_remaining['p_scores_lr'] = result1.predict(X_1)\n",
    "\n",
    "\n",
    "dfni1 = weightcalc(data_remaining,'p_scores_lr','weight','st_wt')\n",
    "\n",
    "data_remaining['vol_churn_bal'] = data_remaining['vol_churn']*data_remaining['st_wt']\n",
    "\n",
    "print(data_remaining.groupby(['channel','experiment_group_type']).vol_churn_bal.mean())\n",
    "print(data_remaining.groupby(['channel','experiment_group_type']).vol_churn.mean())\n",
    "\n",
    "\n",
    "print(data_remaining.groupby(['channel','experiment_group_type']).individual_id.count())\n",
    "ztest_prop(data_remaining)\n",
    "\n",
    "\n",
    "\n",
    "\n"
   ]
  },
  {
   "cell_type": "code",
   "execution_count": null,
   "metadata": {},
   "outputs": [],
   "source": []
  },
  {
   "cell_type": "code",
   "execution_count": 70,
   "metadata": {},
   "outputs": [
    {
     "name": "stderr",
     "output_type": "stream",
     "text": [
      "/users/n323489/.conda/envs/n323489_pyconnect_py37/lib/python3.7/site-packages/ipykernel_launcher.py:2: SettingWithCopyWarning: \n",
      "A value is trying to be set on a copy of a slice from a DataFrame.\n",
      "Try using .loc[row_indexer,col_indexer] = value instead\n",
      "\n",
      "See the caveats in the documentation: https://pandas.pydata.org/pandas-docs/stable/user_guide/indexing.html#returning-a-view-versus-a-copy\n",
      "  \n",
      "/users/n323489/.conda/envs/n323489_pyconnect_py37/lib/python3.7/site-packages/ipykernel_launcher.py:24: SettingWithCopyWarning: \n",
      "A value is trying to be set on a copy of a slice from a DataFrame.\n",
      "Try using .loc[row_indexer,col_indexer] = value instead\n",
      "\n",
      "See the caveats in the documentation: https://pandas.pydata.org/pandas-docs/stable/user_guide/indexing.html#returning-a-view-versus-a-copy\n"
     ]
    },
    {
     "name": "stdout",
     "output_type": "stream",
     "text": [
      "True     15326\n",
      "False     3640\n",
      "Name: expt_label, dtype: int64\n",
      "Optimization terminated successfully.\n",
      "         Current function value: 0.448907\n",
      "         Iterations 6\n",
      "decile_1\n",
      "decile_9\n",
      "new_segment_New to MAPD\n",
      "new_segment_PPO\n",
      "lis_ind_1\n",
      "expt_label\n",
      "False    1.0\n",
      "True     1.0\n",
      "Name: st_wt, dtype: float64\n",
      "channel   experiment_group_type\n",
      "DM_EMAIL  H                        0.053649\n",
      "          T                        0.051239\n",
      "Name: vol_churn_bal, dtype: float64\n",
      "channel   experiment_group_type\n",
      "DM_EMAIL  H                        0.064286\n",
      "          T                        0.047697\n",
      "Name: vol_churn, dtype: float64\n",
      "channel   experiment_group_type\n",
      "DM_EMAIL  H                         3640\n",
      "          T                        15326\n",
      "Name: individual_id, dtype: int64\n",
      "0.2774573545105731 -0.5904116395234713\n",
      "Same Prop\n"
     ]
    },
    {
     "name": "stderr",
     "output_type": "stream",
     "text": [
      "/users/n323489/.conda/envs/n323489_pyconnect_py37/lib/python3.7/site-packages/ipykernel_launcher.py:7: SettingWithCopyWarning: \n",
      "A value is trying to be set on a copy of a slice from a DataFrame.\n",
      "Try using .loc[row_indexer,col_indexer] = value instead\n",
      "\n",
      "See the caveats in the documentation: https://pandas.pydata.org/pandas-docs/stable/user_guide/indexing.html#returning-a-view-versus-a-copy\n",
      "  import sys\n",
      "/users/n323489/.conda/envs/n323489_pyconnect_py37/lib/python3.7/site-packages/ipykernel_launcher.py:9: SettingWithCopyWarning: \n",
      "A value is trying to be set on a copy of a slice from a DataFrame.\n",
      "Try using .loc[row_indexer,col_indexer] = value instead\n",
      "\n",
      "See the caveats in the documentation: https://pandas.pydata.org/pandas-docs/stable/user_guide/indexing.html#returning-a-view-versus-a-copy\n",
      "  if __name__ == '__main__':\n",
      "/users/n323489/.conda/envs/n323489_pyconnect_py37/lib/python3.7/site-packages/ipykernel_launcher.py:10: SettingWithCopyWarning: \n",
      "A value is trying to be set on a copy of a slice from a DataFrame\n",
      "\n",
      "See the caveats in the documentation: https://pandas.pydata.org/pandas-docs/stable/user_guide/indexing.html#returning-a-view-versus-a-copy\n",
      "  # Remove the CWD from sys.path while we load stuff.\n",
      "/users/n323489/.conda/envs/n323489_pyconnect_py37/lib/python3.7/site-packages/pandas/core/generic.py:8767: SettingWithCopyWarning: \n",
      "A value is trying to be set on a copy of a slice from a DataFrame\n",
      "\n",
      "See the caveats in the documentation: https://pandas.pydata.org/pandas-docs/stable/user_guide/indexing.html#returning-a-view-versus-a-copy\n",
      "  self._update_inplace(new_data)\n",
      "/users/n323489/.conda/envs/n323489_pyconnect_py37/lib/python3.7/site-packages/ipykernel_launcher.py:11: SettingWithCopyWarning: \n",
      "A value is trying to be set on a copy of a slice from a DataFrame\n",
      "\n",
      "See the caveats in the documentation: https://pandas.pydata.org/pandas-docs/stable/user_guide/indexing.html#returning-a-view-versus-a-copy\n",
      "  # This is added back by InteractiveShellApp.init_path()\n",
      "/users/n323489/.conda/envs/n323489_pyconnect_py37/lib/python3.7/site-packages/ipykernel_launcher.py:29: SettingWithCopyWarning: \n",
      "A value is trying to be set on a copy of a slice from a DataFrame.\n",
      "Try using .loc[row_indexer,col_indexer] = value instead\n",
      "\n",
      "See the caveats in the documentation: https://pandas.pydata.org/pandas-docs/stable/user_guide/indexing.html#returning-a-view-versus-a-copy\n"
     ]
    }
   ],
   "source": [
    "data_remaining= data_dm_email[data_dm_email['sales_channel_updated'] == 'remaining' ]\n",
    "data_remaining['expt_label'] = data_remaining['experiment_group_type'] == 'T'\n",
    "\n",
    "print(data_remaining['expt_label'].value_counts())\n",
    "\n",
    "all_var = catg_col \n",
    "#converting categorical variables into one-hot vectors\n",
    "X = data_remaining[all_var]\n",
    "X = pd.get_dummies(X, columns = catg_col, prefix = catg_col, drop_first = True)\n",
    "Y = data_remaining['expt_label']\n",
    "\n",
    "import statsmodels.api as sm\n",
    "X_1=sm.add_constant(X)\n",
    "logit_model=sm.Logit(Y,X_1)\n",
    "result1=logit_model.fit()\n",
    "#print(result1.summary())\n",
    "\n",
    "col_dmt = []\n",
    "for i in range(1,len(X_1.columns)):\n",
    "    if result1.pvalues[i] < 0.05:\n",
    "        print (X_1.columns[i])\n",
    "        col_dmt.append(X_1.columns[i])\n",
    "        \n",
    "data_remaining['p_scores_lr'] = result1.predict(X_1)\n",
    "\n",
    "\n",
    "dfni1 = weightcalc(data_remaining,'p_scores_lr','weight','st_wt')\n",
    "\n",
    "data_remaining['vol_churn_bal'] = data_remaining['vol_churn']*data_remaining['st_wt']\n",
    "\n",
    "print(data_remaining.groupby(['channel','experiment_group_type']).vol_churn_bal.mean())\n",
    "print(data_remaining.groupby(['channel','experiment_group_type']).vol_churn.mean())\n",
    "\n",
    "\n",
    "print(data_remaining.groupby(['channel','experiment_group_type']).individual_id.count())\n",
    "ztest_prop(data_remaining)\n",
    "\n",
    "\n",
    "\n",
    "\n"
   ]
  },
  {
   "cell_type": "code",
   "execution_count": 73,
   "metadata": {},
   "outputs": [
    {
     "name": "stderr",
     "output_type": "stream",
     "text": [
      "/users/n323489/.conda/envs/n323489_pyconnect_py37/lib/python3.7/site-packages/ipykernel_launcher.py:2: SettingWithCopyWarning: \n",
      "A value is trying to be set on a copy of a slice from a DataFrame.\n",
      "Try using .loc[row_indexer,col_indexer] = value instead\n",
      "\n",
      "See the caveats in the documentation: https://pandas.pydata.org/pandas-docs/stable/user_guide/indexing.html#returning-a-view-versus-a-copy\n",
      "  \n",
      "/users/n323489/.conda/envs/n323489_pyconnect_py37/lib/python3.7/site-packages/ipykernel_launcher.py:24: SettingWithCopyWarning: \n",
      "A value is trying to be set on a copy of a slice from a DataFrame.\n",
      "Try using .loc[row_indexer,col_indexer] = value instead\n",
      "\n",
      "See the caveats in the documentation: https://pandas.pydata.org/pandas-docs/stable/user_guide/indexing.html#returning-a-view-versus-a-copy\n"
     ]
    },
    {
     "name": "stdout",
     "output_type": "stream",
     "text": [
      "True     25981\n",
      "False     2549\n",
      "Name: expt_label, dtype: int64\n",
      "Optimization terminated successfully.\n",
      "         Current function value: 0.286082\n",
      "         Iterations 7\n",
      "decile_10\n",
      "decile_7\n",
      "decile_9\n",
      "new_segment_New to MAPD\n",
      "new_segment_PPO\n",
      "expt_label\n",
      "False    1.0\n",
      "True     1.0\n",
      "Name: st_wt, dtype: float64\n",
      "channel   experiment_group_type\n",
      "DM_EMAIL  H                        0.046346\n",
      "          T                        0.041943\n",
      "Name: vol_churn_bal, dtype: float64\n",
      "channel   experiment_group_type\n",
      "DM_EMAIL  H                        0.048647\n",
      "          T                        0.041338\n",
      "Name: vol_churn, dtype: float64\n",
      "channel   experiment_group_type\n",
      "DM_EMAIL  H                         2549\n",
      "          T                        25981\n",
      "Name: individual_id, dtype: int64\n",
      "0.14606413403098512 -1.0534642559140532\n",
      "significant at 80%\n"
     ]
    },
    {
     "name": "stderr",
     "output_type": "stream",
     "text": [
      "/users/n323489/.conda/envs/n323489_pyconnect_py37/lib/python3.7/site-packages/ipykernel_launcher.py:7: SettingWithCopyWarning: \n",
      "A value is trying to be set on a copy of a slice from a DataFrame.\n",
      "Try using .loc[row_indexer,col_indexer] = value instead\n",
      "\n",
      "See the caveats in the documentation: https://pandas.pydata.org/pandas-docs/stable/user_guide/indexing.html#returning-a-view-versus-a-copy\n",
      "  import sys\n",
      "/users/n323489/.conda/envs/n323489_pyconnect_py37/lib/python3.7/site-packages/ipykernel_launcher.py:9: SettingWithCopyWarning: \n",
      "A value is trying to be set on a copy of a slice from a DataFrame.\n",
      "Try using .loc[row_indexer,col_indexer] = value instead\n",
      "\n",
      "See the caveats in the documentation: https://pandas.pydata.org/pandas-docs/stable/user_guide/indexing.html#returning-a-view-versus-a-copy\n",
      "  if __name__ == '__main__':\n",
      "/users/n323489/.conda/envs/n323489_pyconnect_py37/lib/python3.7/site-packages/ipykernel_launcher.py:10: SettingWithCopyWarning: \n",
      "A value is trying to be set on a copy of a slice from a DataFrame\n",
      "\n",
      "See the caveats in the documentation: https://pandas.pydata.org/pandas-docs/stable/user_guide/indexing.html#returning-a-view-versus-a-copy\n",
      "  # Remove the CWD from sys.path while we load stuff.\n",
      "/users/n323489/.conda/envs/n323489_pyconnect_py37/lib/python3.7/site-packages/pandas/core/generic.py:8767: SettingWithCopyWarning: \n",
      "A value is trying to be set on a copy of a slice from a DataFrame\n",
      "\n",
      "See the caveats in the documentation: https://pandas.pydata.org/pandas-docs/stable/user_guide/indexing.html#returning-a-view-versus-a-copy\n",
      "  self._update_inplace(new_data)\n",
      "/users/n323489/.conda/envs/n323489_pyconnect_py37/lib/python3.7/site-packages/ipykernel_launcher.py:11: SettingWithCopyWarning: \n",
      "A value is trying to be set on a copy of a slice from a DataFrame\n",
      "\n",
      "See the caveats in the documentation: https://pandas.pydata.org/pandas-docs/stable/user_guide/indexing.html#returning-a-view-versus-a-copy\n",
      "  # This is added back by InteractiveShellApp.init_path()\n",
      "/users/n323489/.conda/envs/n323489_pyconnect_py37/lib/python3.7/site-packages/ipykernel_launcher.py:29: SettingWithCopyWarning: \n",
      "A value is trying to be set on a copy of a slice from a DataFrame.\n",
      "Try using .loc[row_indexer,col_indexer] = value instead\n",
      "\n",
      "See the caveats in the documentation: https://pandas.pydata.org/pandas-docs/stable/user_guide/indexing.html#returning-a-view-versus-a-copy\n"
     ]
    }
   ],
   "source": [
    "data_nlis_ndp= data_dm_email[(data_dm_email['sales_channel_updated'] == 'NDP')  &  (data_dm_email['lis_ind'] == '0' )]\n",
    "data_nlis_ndp['expt_label'] = data_nlis_ndp['experiment_group_type'] == 'T'\n",
    "\n",
    "print(data_nlis_ndp['expt_label'].value_counts())\n",
    "\n",
    "all_var = catg_col \n",
    "#converting categorical variables into one-hot vectors\n",
    "X = data_nlis_ndp[all_var]\n",
    "X = pd.get_dummies(X, columns = catg_col, prefix = catg_col, drop_first = True)\n",
    "Y = data_nlis_ndp['expt_label']\n",
    "\n",
    "import statsmodels.api as sm\n",
    "X_1=sm.add_constant(X)\n",
    "logit_model=sm.Logit(Y,X_1)\n",
    "result1=logit_model.fit()\n",
    "#print(result1.summary())\n",
    "\n",
    "col_dmt = []\n",
    "for i in range(1,len(X_1.columns)):\n",
    "    if result1.pvalues[i] < 0.05:\n",
    "        print (X_1.columns[i])\n",
    "        col_dmt.append(X_1.columns[i])\n",
    "        \n",
    "data_nlis_ndp['p_scores_lr'] = result1.predict(X_1)\n",
    "\n",
    "\n",
    "dfni1 = weightcalc(data_nlis_ndp,'p_scores_lr','weight','st_wt')\n",
    "\n",
    "data_nlis_ndp['vol_churn_bal'] = data_nlis_ndp['vol_churn']*data_nlis_ndp['st_wt']\n",
    "\n",
    "print(data_nlis_ndp.groupby(['channel','experiment_group_type']).vol_churn_bal.mean())\n",
    "print(data_nlis_ndp.groupby(['channel','experiment_group_type']).vol_churn.mean())\n",
    "\n",
    "\n",
    "print(data_nlis_ndp.groupby(['channel','experiment_group_type']).individual_id.count())\n",
    "ztest_prop(data_nlis_ndp)\n",
    "\n"
   ]
  },
  {
   "cell_type": "markdown",
   "metadata": {},
   "source": [
    "segment"
   ]
  },
  {
   "cell_type": "code",
   "execution_count": 74,
   "metadata": {},
   "outputs": [
    {
     "name": "stdout",
     "output_type": "stream",
     "text": [
      "new_segment  experiment_group_type\n",
      "HMO          H                        0.136532\n",
      "             T                        0.101821\n",
      "New to MAPD  H                        0.070731\n",
      "             T                        0.048534\n",
      "PPO          H                        0.100590\n",
      "             T                        0.063951\n",
      "Name: vol_churn, dtype: float64\n"
     ]
    }
   ],
   "source": [
    "print(data_dm_email.groupby(['new_segment','experiment_group_type']).vol_churn.mean())"
   ]
  },
  {
   "cell_type": "code",
   "execution_count": 76,
   "metadata": {},
   "outputs": [
    {
     "name": "stderr",
     "output_type": "stream",
     "text": [
      "/users/n323489/.conda/envs/n323489_pyconnect_py37/lib/python3.7/site-packages/ipykernel_launcher.py:2: SettingWithCopyWarning: \n",
      "A value is trying to be set on a copy of a slice from a DataFrame.\n",
      "Try using .loc[row_indexer,col_indexer] = value instead\n",
      "\n",
      "See the caveats in the documentation: https://pandas.pydata.org/pandas-docs/stable/user_guide/indexing.html#returning-a-view-versus-a-copy\n",
      "  \n",
      "/users/n323489/.conda/envs/n323489_pyconnect_py37/lib/python3.7/site-packages/ipykernel_launcher.py:23: SettingWithCopyWarning: \n",
      "A value is trying to be set on a copy of a slice from a DataFrame.\n",
      "Try using .loc[row_indexer,col_indexer] = value instead\n",
      "\n",
      "See the caveats in the documentation: https://pandas.pydata.org/pandas-docs/stable/user_guide/indexing.html#returning-a-view-versus-a-copy\n"
     ]
    },
    {
     "name": "stdout",
     "output_type": "stream",
     "text": [
      "True     20536\n",
      "False     8357\n",
      "Name: expt_label, dtype: int64\n",
      "Optimization terminated successfully.\n",
      "         Current function value: 0.567711\n",
      "         Iterations 6\n",
      "sales_channel_updated_Strategic\n",
      "sales_channel_updated_remaining\n",
      "lis_ind_1\n",
      "expt_label\n",
      "False    1.0\n",
      "True     1.0\n",
      "Name: st_wt, dtype: float64\n",
      "channel   experiment_group_type\n",
      "DM_EMAIL  H                        0.114182\n",
      "          T                        0.109308\n",
      "Name: vol_churn_bal, dtype: float64\n",
      "channel   experiment_group_type\n",
      "DM_EMAIL  H                        0.136532\n",
      "          T                        0.101821\n",
      "Name: vol_churn, dtype: float64\n",
      "channel   experiment_group_type\n",
      "DM_EMAIL  H                         8357\n",
      "          T                        20536\n",
      "Name: individual_id, dtype: int64\n",
      "0.11562332530408859 -1.1971537047390148\n",
      "significant at 80%\n"
     ]
    },
    {
     "name": "stderr",
     "output_type": "stream",
     "text": [
      "/users/n323489/.conda/envs/n323489_pyconnect_py37/lib/python3.7/site-packages/ipykernel_launcher.py:7: SettingWithCopyWarning: \n",
      "A value is trying to be set on a copy of a slice from a DataFrame.\n",
      "Try using .loc[row_indexer,col_indexer] = value instead\n",
      "\n",
      "See the caveats in the documentation: https://pandas.pydata.org/pandas-docs/stable/user_guide/indexing.html#returning-a-view-versus-a-copy\n",
      "  import sys\n",
      "/users/n323489/.conda/envs/n323489_pyconnect_py37/lib/python3.7/site-packages/ipykernel_launcher.py:9: SettingWithCopyWarning: \n",
      "A value is trying to be set on a copy of a slice from a DataFrame.\n",
      "Try using .loc[row_indexer,col_indexer] = value instead\n",
      "\n",
      "See the caveats in the documentation: https://pandas.pydata.org/pandas-docs/stable/user_guide/indexing.html#returning-a-view-versus-a-copy\n",
      "  if __name__ == '__main__':\n",
      "/users/n323489/.conda/envs/n323489_pyconnect_py37/lib/python3.7/site-packages/ipykernel_launcher.py:10: SettingWithCopyWarning: \n",
      "A value is trying to be set on a copy of a slice from a DataFrame\n",
      "\n",
      "See the caveats in the documentation: https://pandas.pydata.org/pandas-docs/stable/user_guide/indexing.html#returning-a-view-versus-a-copy\n",
      "  # Remove the CWD from sys.path while we load stuff.\n",
      "/users/n323489/.conda/envs/n323489_pyconnect_py37/lib/python3.7/site-packages/pandas/core/generic.py:8767: SettingWithCopyWarning: \n",
      "A value is trying to be set on a copy of a slice from a DataFrame\n",
      "\n",
      "See the caveats in the documentation: https://pandas.pydata.org/pandas-docs/stable/user_guide/indexing.html#returning-a-view-versus-a-copy\n",
      "  self._update_inplace(new_data)\n",
      "/users/n323489/.conda/envs/n323489_pyconnect_py37/lib/python3.7/site-packages/ipykernel_launcher.py:11: SettingWithCopyWarning: \n",
      "A value is trying to be set on a copy of a slice from a DataFrame\n",
      "\n",
      "See the caveats in the documentation: https://pandas.pydata.org/pandas-docs/stable/user_guide/indexing.html#returning-a-view-versus-a-copy\n",
      "  # This is added back by InteractiveShellApp.init_path()\n",
      "/users/n323489/.conda/envs/n323489_pyconnect_py37/lib/python3.7/site-packages/ipykernel_launcher.py:28: SettingWithCopyWarning: \n",
      "A value is trying to be set on a copy of a slice from a DataFrame.\n",
      "Try using .loc[row_indexer,col_indexer] = value instead\n",
      "\n",
      "See the caveats in the documentation: https://pandas.pydata.org/pandas-docs/stable/user_guide/indexing.html#returning-a-view-versus-a-copy\n"
     ]
    }
   ],
   "source": [
    "data_hmo= data_dm_email[(data_dm_email['new_segment'] == 'HMO')  ]\n",
    "data_hmo['expt_label'] = data_hmo['experiment_group_type'] == 'T'\n",
    "print(data_hmo['expt_label'].value_counts())\n",
    "\n",
    "all_var = catg_col \n",
    "#converting categorical variables into one-hot vectors\n",
    "X = data_hmo[all_var]\n",
    "X = pd.get_dummies(X, columns = catg_col, prefix = catg_col, drop_first = True)\n",
    "Y = data_hmo['expt_label']\n",
    "\n",
    "import statsmodels.api as sm\n",
    "X_1=sm.add_constant(X)\n",
    "logit_model=sm.Logit(Y,X_1)\n",
    "result1=logit_model.fit()\n",
    "#print(result1.summary())\n",
    "\n",
    "col_dmt = []\n",
    "for i in range(1,len(X_1.columns)):\n",
    "    if result1.pvalues[i] < 0.05:\n",
    "        print (X_1.columns[i])\n",
    "        col_dmt.append(X_1.columns[i])\n",
    "        \n",
    "data_hmo['p_scores_lr'] = result1.predict(X_1)\n",
    "\n",
    "\n",
    "dfni1 = weightcalc(data_hmo,'p_scores_lr','weight','st_wt')\n",
    "\n",
    "data_hmo['vol_churn_bal'] = data_hmo['vol_churn']*data_hmo['st_wt']\n",
    "\n",
    "print(data_hmo.groupby(['channel','experiment_group_type']).vol_churn_bal.mean())\n",
    "print(data_hmo.groupby(['channel','experiment_group_type']).vol_churn.mean())\n",
    "\n",
    "print(data_hmo.groupby(['channel','experiment_group_type']).individual_id.count())\n",
    "ztest_prop(data_hmo)\n"
   ]
  },
  {
   "cell_type": "code",
   "execution_count": 77,
   "metadata": {},
   "outputs": [
    {
     "name": "stderr",
     "output_type": "stream",
     "text": [
      "/users/n323489/.conda/envs/n323489_pyconnect_py37/lib/python3.7/site-packages/ipykernel_launcher.py:3: SettingWithCopyWarning: \n",
      "A value is trying to be set on a copy of a slice from a DataFrame.\n",
      "Try using .loc[row_indexer,col_indexer] = value instead\n",
      "\n",
      "See the caveats in the documentation: https://pandas.pydata.org/pandas-docs/stable/user_guide/indexing.html#returning-a-view-versus-a-copy\n",
      "  This is separate from the ipykernel package so we can avoid doing imports until\n",
      "/users/n323489/.conda/envs/n323489_pyconnect_py37/lib/python3.7/site-packages/ipykernel_launcher.py:24: SettingWithCopyWarning: \n",
      "A value is trying to be set on a copy of a slice from a DataFrame.\n",
      "Try using .loc[row_indexer,col_indexer] = value instead\n",
      "\n",
      "See the caveats in the documentation: https://pandas.pydata.org/pandas-docs/stable/user_guide/indexing.html#returning-a-view-versus-a-copy\n"
     ]
    },
    {
     "name": "stdout",
     "output_type": "stream",
     "text": [
      "True     17905\n",
      "False     3379\n",
      "Name: expt_label, dtype: int64\n",
      "Optimization terminated successfully.\n",
      "         Current function value: 0.392873\n",
      "         Iterations 7\n",
      "sales_channel_updated_Strategic\n",
      "sales_channel_updated_remaining\n",
      "lis_ind_1\n",
      "expt_label\n",
      "False    1.0\n",
      "True     1.0\n",
      "Name: st_wt, dtype: float64\n",
      "channel   experiment_group_type\n",
      "DM_EMAIL  H                        0.056055\n",
      "          T                        0.053027\n",
      "Name: vol_churn_bal, dtype: float64\n",
      "channel   experiment_group_type\n",
      "DM_EMAIL  H                        0.070731\n",
      "          T                        0.048534\n",
      "Name: vol_churn, dtype: float64\n",
      "0.23656999120529237 -0.7173794721292527\n",
      "Same Prop\n",
      "channel   experiment_group_type\n",
      "DM_EMAIL  H                         3379\n",
      "          T                        17905\n",
      "Name: individual_id, dtype: int64\n"
     ]
    },
    {
     "name": "stderr",
     "output_type": "stream",
     "text": [
      "/users/n323489/.conda/envs/n323489_pyconnect_py37/lib/python3.7/site-packages/ipykernel_launcher.py:7: SettingWithCopyWarning: \n",
      "A value is trying to be set on a copy of a slice from a DataFrame.\n",
      "Try using .loc[row_indexer,col_indexer] = value instead\n",
      "\n",
      "See the caveats in the documentation: https://pandas.pydata.org/pandas-docs/stable/user_guide/indexing.html#returning-a-view-versus-a-copy\n",
      "  import sys\n",
      "/users/n323489/.conda/envs/n323489_pyconnect_py37/lib/python3.7/site-packages/ipykernel_launcher.py:9: SettingWithCopyWarning: \n",
      "A value is trying to be set on a copy of a slice from a DataFrame.\n",
      "Try using .loc[row_indexer,col_indexer] = value instead\n",
      "\n",
      "See the caveats in the documentation: https://pandas.pydata.org/pandas-docs/stable/user_guide/indexing.html#returning-a-view-versus-a-copy\n",
      "  if __name__ == '__main__':\n",
      "/users/n323489/.conda/envs/n323489_pyconnect_py37/lib/python3.7/site-packages/ipykernel_launcher.py:10: SettingWithCopyWarning: \n",
      "A value is trying to be set on a copy of a slice from a DataFrame\n",
      "\n",
      "See the caveats in the documentation: https://pandas.pydata.org/pandas-docs/stable/user_guide/indexing.html#returning-a-view-versus-a-copy\n",
      "  # Remove the CWD from sys.path while we load stuff.\n",
      "/users/n323489/.conda/envs/n323489_pyconnect_py37/lib/python3.7/site-packages/pandas/core/generic.py:8767: SettingWithCopyWarning: \n",
      "A value is trying to be set on a copy of a slice from a DataFrame\n",
      "\n",
      "See the caveats in the documentation: https://pandas.pydata.org/pandas-docs/stable/user_guide/indexing.html#returning-a-view-versus-a-copy\n",
      "  self._update_inplace(new_data)\n",
      "/users/n323489/.conda/envs/n323489_pyconnect_py37/lib/python3.7/site-packages/ipykernel_launcher.py:11: SettingWithCopyWarning: \n",
      "A value is trying to be set on a copy of a slice from a DataFrame\n",
      "\n",
      "See the caveats in the documentation: https://pandas.pydata.org/pandas-docs/stable/user_guide/indexing.html#returning-a-view-versus-a-copy\n",
      "  # This is added back by InteractiveShellApp.init_path()\n",
      "/users/n323489/.conda/envs/n323489_pyconnect_py37/lib/python3.7/site-packages/ipykernel_launcher.py:29: SettingWithCopyWarning: \n",
      "A value is trying to be set on a copy of a slice from a DataFrame.\n",
      "Try using .loc[row_indexer,col_indexer] = value instead\n",
      "\n",
      "See the caveats in the documentation: https://pandas.pydata.org/pandas-docs/stable/user_guide/indexing.html#returning-a-view-versus-a-copy\n"
     ]
    }
   ],
   "source": [
    "\n",
    "data_mapd= data_dm_email[(data_dm_email['new_segment'] == 'New to MAPD')  ]\n",
    "data_mapd['expt_label'] = data_mapd['experiment_group_type'] == 'T'\n",
    "print(data_mapd['expt_label'].value_counts())\n",
    "\n",
    "all_var = catg_col \n",
    "#converting categorical variables into one-hot vectors\n",
    "X = data_mapd[all_var]\n",
    "X = pd.get_dummies(X, columns = catg_col, prefix = catg_col, drop_first = True)\n",
    "Y = data_mapd['expt_label']\n",
    "\n",
    "import statsmodels.api as sm\n",
    "X_1=sm.add_constant(X)\n",
    "logit_model=sm.Logit(Y,X_1)\n",
    "result1=logit_model.fit()\n",
    "#print(result1.summary())\n",
    "\n",
    "col_dmt = []\n",
    "for i in range(1,len(X_1.columns)):\n",
    "    if result1.pvalues[i] < 0.05:\n",
    "        print (X_1.columns[i])\n",
    "        col_dmt.append(X_1.columns[i])\n",
    "        \n",
    "data_mapd['p_scores_lr'] = result1.predict(X_1)\n",
    "\n",
    "\n",
    "dfni1 = weightcalc(data_mapd,'p_scores_lr','weight','st_wt')\n",
    "\n",
    "data_mapd['vol_churn_bal'] = data_mapd['vol_churn']*data_mapd['st_wt']\n",
    "\n",
    "print(data_mapd.groupby(['channel','experiment_group_type']).vol_churn_bal.mean())\n",
    "print(data_mapd.groupby(['channel','experiment_group_type']).vol_churn.mean())\n",
    "ztest_prop(data_mapd)\n",
    "\n",
    "print(data_mapd.groupby(['channel','experiment_group_type']).individual_id.count())\n"
   ]
  },
  {
   "cell_type": "code",
   "execution_count": 78,
   "metadata": {},
   "outputs": [
    {
     "name": "stderr",
     "output_type": "stream",
     "text": [
      "/users/n323489/.conda/envs/n323489_pyconnect_py37/lib/python3.7/site-packages/ipykernel_launcher.py:3: SettingWithCopyWarning: \n",
      "A value is trying to be set on a copy of a slice from a DataFrame.\n",
      "Try using .loc[row_indexer,col_indexer] = value instead\n",
      "\n",
      "See the caveats in the documentation: https://pandas.pydata.org/pandas-docs/stable/user_guide/indexing.html#returning-a-view-versus-a-copy\n",
      "  This is separate from the ipykernel package so we can avoid doing imports until\n",
      "/users/n323489/.conda/envs/n323489_pyconnect_py37/lib/python3.7/site-packages/ipykernel_launcher.py:24: SettingWithCopyWarning: \n",
      "A value is trying to be set on a copy of a slice from a DataFrame.\n",
      "Try using .loc[row_indexer,col_indexer] = value instead\n",
      "\n",
      "See the caveats in the documentation: https://pandas.pydata.org/pandas-docs/stable/user_guide/indexing.html#returning-a-view-versus-a-copy\n"
     ]
    },
    {
     "name": "stdout",
     "output_type": "stream",
     "text": [
      "True     23956\n",
      "False     4066\n",
      "Name: expt_label, dtype: int64\n",
      "Optimization terminated successfully.\n",
      "         Current function value: 0.368726\n",
      "         Iterations 7\n",
      "sales_channel_updated_Strategic\n",
      "sales_channel_updated_remaining\n",
      "lis_ind_1\n",
      "expt_label\n",
      "False    1.0\n",
      "True     1.0\n",
      "Name: st_wt, dtype: float64\n",
      "channel   experiment_group_type\n",
      "DM_EMAIL  H                        0.072679\n",
      "          T                        0.069270\n",
      "Name: vol_churn_bal, dtype: float64\n",
      "channel   experiment_group_type\n",
      "DM_EMAIL  H                        0.100590\n",
      "          T                        0.063951\n",
      "Name: vol_churn, dtype: float64\n",
      "channel   experiment_group_type\n",
      "DM_EMAIL  H                         4066\n",
      "          T                        23956\n",
      "Name: individual_id, dtype: int64\n",
      "0.21506028900478685 -0.7889853346712806\n",
      "Same Prop\n"
     ]
    },
    {
     "name": "stderr",
     "output_type": "stream",
     "text": [
      "/users/n323489/.conda/envs/n323489_pyconnect_py37/lib/python3.7/site-packages/ipykernel_launcher.py:7: SettingWithCopyWarning: \n",
      "A value is trying to be set on a copy of a slice from a DataFrame.\n",
      "Try using .loc[row_indexer,col_indexer] = value instead\n",
      "\n",
      "See the caveats in the documentation: https://pandas.pydata.org/pandas-docs/stable/user_guide/indexing.html#returning-a-view-versus-a-copy\n",
      "  import sys\n",
      "/users/n323489/.conda/envs/n323489_pyconnect_py37/lib/python3.7/site-packages/ipykernel_launcher.py:9: SettingWithCopyWarning: \n",
      "A value is trying to be set on a copy of a slice from a DataFrame.\n",
      "Try using .loc[row_indexer,col_indexer] = value instead\n",
      "\n",
      "See the caveats in the documentation: https://pandas.pydata.org/pandas-docs/stable/user_guide/indexing.html#returning-a-view-versus-a-copy\n",
      "  if __name__ == '__main__':\n",
      "/users/n323489/.conda/envs/n323489_pyconnect_py37/lib/python3.7/site-packages/ipykernel_launcher.py:10: SettingWithCopyWarning: \n",
      "A value is trying to be set on a copy of a slice from a DataFrame\n",
      "\n",
      "See the caveats in the documentation: https://pandas.pydata.org/pandas-docs/stable/user_guide/indexing.html#returning-a-view-versus-a-copy\n",
      "  # Remove the CWD from sys.path while we load stuff.\n",
      "/users/n323489/.conda/envs/n323489_pyconnect_py37/lib/python3.7/site-packages/pandas/core/generic.py:8767: SettingWithCopyWarning: \n",
      "A value is trying to be set on a copy of a slice from a DataFrame\n",
      "\n",
      "See the caveats in the documentation: https://pandas.pydata.org/pandas-docs/stable/user_guide/indexing.html#returning-a-view-versus-a-copy\n",
      "  self._update_inplace(new_data)\n",
      "/users/n323489/.conda/envs/n323489_pyconnect_py37/lib/python3.7/site-packages/ipykernel_launcher.py:11: SettingWithCopyWarning: \n",
      "A value is trying to be set on a copy of a slice from a DataFrame\n",
      "\n",
      "See the caveats in the documentation: https://pandas.pydata.org/pandas-docs/stable/user_guide/indexing.html#returning-a-view-versus-a-copy\n",
      "  # This is added back by InteractiveShellApp.init_path()\n",
      "/users/n323489/.conda/envs/n323489_pyconnect_py37/lib/python3.7/site-packages/ipykernel_launcher.py:29: SettingWithCopyWarning: \n",
      "A value is trying to be set on a copy of a slice from a DataFrame.\n",
      "Try using .loc[row_indexer,col_indexer] = value instead\n",
      "\n",
      "See the caveats in the documentation: https://pandas.pydata.org/pandas-docs/stable/user_guide/indexing.html#returning-a-view-versus-a-copy\n"
     ]
    }
   ],
   "source": [
    "\n",
    "data_ppo= data_dm_email[(data_dm_email['new_segment'] == 'PPO')  ]\n",
    "data_ppo['expt_label'] = data_ppo['experiment_group_type'] == 'T'\n",
    "print(data_ppo['expt_label'].value_counts())\n",
    "\n",
    "all_var = catg_col \n",
    "#converting categorical variables into one-hot vectors\n",
    "X = data_ppo[all_var]\n",
    "X = pd.get_dummies(X, columns = catg_col, prefix = catg_col, drop_first = True)\n",
    "Y = data_ppo['expt_label']\n",
    "\n",
    "import statsmodels.api as sm\n",
    "X_1=sm.add_constant(X)\n",
    "logit_model=sm.Logit(Y,X_1)\n",
    "result1=logit_model.fit()\n",
    "#print(result1.summary())\n",
    "\n",
    "col_dmt = []\n",
    "for i in range(1,len(X_1.columns)):\n",
    "    if result1.pvalues[i] < 0.05:\n",
    "        print (X_1.columns[i])\n",
    "        col_dmt.append(X_1.columns[i])\n",
    "        \n",
    "data_ppo['p_scores_lr'] = result1.predict(X_1)\n",
    "\n",
    "\n",
    "dfni1 = weightcalc(data_ppo,'p_scores_lr','weight','st_wt')\n",
    "\n",
    "data_ppo['vol_churn_bal'] = data_ppo['vol_churn']*data_ppo['st_wt']\n",
    "\n",
    "print(data_ppo.groupby(['channel','experiment_group_type']).vol_churn_bal.mean())\n",
    "print(data_ppo.groupby(['channel','experiment_group_type']).vol_churn.mean())\n",
    "\n",
    "print(data_ppo.groupby(['channel','experiment_group_type']).individual_id.count())\n",
    "ztest_prop(data_ppo)\n"
   ]
  },
  {
   "cell_type": "markdown",
   "metadata": {},
   "source": [
    "# Pods- Excluding WC + MC"
   ]
  },
  {
   "cell_type": "code",
   "execution_count": 3,
   "metadata": {},
   "outputs": [],
   "source": [
    "data = hc.table('cust_exp_Enc.n323489_pods_v1').toPandas()"
   ]
  },
  {
   "cell_type": "code",
   "execution_count": 4,
   "metadata": {},
   "outputs": [
    {
     "data": {
      "text/plain": [
       "Index(['proxy_id', 'individual_id', 'experiment_group_type', 'test_cell_id',\n",
       "       'run_datetime', 'channel', 'surp_ref', 'cms_county', 'cms_id',\n",
       "       'cms_state', 'dig_flag', 'decile', 'dental_ind', 'hearing_ind',\n",
       "       'otc_ind', 'lis_ind', 'vision_ind', 'lis_flag', 'gender', 'rx_flag',\n",
       "       'plan_type', 'mbr_mths', 'new_market', 'new_segment',\n",
       "       'sales_channel_updated', 'open_access', 'platform',\n",
       "       'welcome_call_holdout', 'welcome_call_treatment', 'mzb_indiv_id',\n",
       "       'vol_churn'],\n",
       "      dtype='object')"
      ]
     },
     "execution_count": 4,
     "metadata": {},
     "output_type": "execute_result"
    }
   ],
   "source": [
    "data.columns"
   ]
  },
  {
   "cell_type": "code",
   "execution_count": 5,
   "metadata": {},
   "outputs": [],
   "source": [
    "data1 = data[(data['welcome_call_holdout'] == '0' ) & (data['welcome_call_treatment'] ==  '0' ) ]"
   ]
  },
  {
   "cell_type": "code",
   "execution_count": 6,
   "metadata": {},
   "outputs": [
    {
     "data": {
      "text/plain": [
       "experiment_group_type\n",
       "H    12827\n",
       "T    74203\n",
       "Name: individual_id, dtype: int64"
      ]
     },
     "execution_count": 6,
     "metadata": {},
     "output_type": "execute_result"
    }
   ],
   "source": [
    "data1.groupby('experiment_group_type').individual_id.count()"
   ]
  },
  {
   "cell_type": "code",
   "execution_count": null,
   "metadata": {},
   "outputs": [],
   "source": []
  },
  {
   "cell_type": "code",
   "execution_count": 8,
   "metadata": {},
   "outputs": [],
   "source": [
    "from statsmodels.stats import weightstats as stests\n",
    "import scipy"
   ]
  },
  {
   "cell_type": "code",
   "execution_count": 9,
   "metadata": {},
   "outputs": [
    {
     "name": "stderr",
     "output_type": "stream",
     "text": [
      "/users/n323489/.conda/envs/n323489_pyconnect_py37/lib/python3.7/site-packages/ipykernel_launcher.py:2: SettingWithCopyWarning: \n",
      "A value is trying to be set on a copy of a slice from a DataFrame.\n",
      "Try using .loc[row_indexer,col_indexer] = value instead\n",
      "\n",
      "See the caveats in the documentation: https://pandas.pydata.org/pandas-docs/stable/user_guide/indexing.html#returning-a-view-versus-a-copy\n",
      "  \n"
     ]
    },
    {
     "name": "stdout",
     "output_type": "stream",
     "text": [
      "Optimization terminated successfully.\n",
      "         Current function value: 0.397619\n",
      "         Iterations 6\n"
     ]
    },
    {
     "name": "stderr",
     "output_type": "stream",
     "text": [
      "/users/n323489/.conda/envs/n323489_pyconnect_py37/lib/python3.7/site-packages/ipykernel_launcher.py:20: SettingWithCopyWarning: \n",
      "A value is trying to be set on a copy of a slice from a DataFrame.\n",
      "Try using .loc[row_indexer,col_indexer] = value instead\n",
      "\n",
      "See the caveats in the documentation: https://pandas.pydata.org/pandas-docs/stable/user_guide/indexing.html#returning-a-view-versus-a-copy\n"
     ]
    },
    {
     "name": "stdout",
     "output_type": "stream",
     "text": [
      "expt_label\n",
      "False    1.0\n",
      "True     1.0\n",
      "Name: st_wt, dtype: float64\n"
     ]
    },
    {
     "name": "stderr",
     "output_type": "stream",
     "text": [
      "/users/n323489/.conda/envs/n323489_pyconnect_py37/lib/python3.7/site-packages/ipykernel_launcher.py:29: SettingWithCopyWarning: \n",
      "A value is trying to be set on a copy of a slice from a DataFrame.\n",
      "Try using .loc[row_indexer,col_indexer] = value instead\n",
      "\n",
      "See the caveats in the documentation: https://pandas.pydata.org/pandas-docs/stable/user_guide/indexing.html#returning-a-view-versus-a-copy\n",
      "/users/n323489/.conda/envs/n323489_pyconnect_py37/lib/python3.7/site-packages/ipykernel_launcher.py:31: SettingWithCopyWarning: \n",
      "A value is trying to be set on a copy of a slice from a DataFrame.\n",
      "Try using .loc[row_indexer,col_indexer] = value instead\n",
      "\n",
      "See the caveats in the documentation: https://pandas.pydata.org/pandas-docs/stable/user_guide/indexing.html#returning-a-view-versus-a-copy\n",
      "/users/n323489/.conda/envs/n323489_pyconnect_py37/lib/python3.7/site-packages/ipykernel_launcher.py:32: SettingWithCopyWarning: \n",
      "A value is trying to be set on a copy of a slice from a DataFrame\n",
      "\n",
      "See the caveats in the documentation: https://pandas.pydata.org/pandas-docs/stable/user_guide/indexing.html#returning-a-view-versus-a-copy\n",
      "/users/n323489/.conda/envs/n323489_pyconnect_py37/lib/python3.7/site-packages/pandas/core/generic.py:8767: SettingWithCopyWarning: \n",
      "A value is trying to be set on a copy of a slice from a DataFrame\n",
      "\n",
      "See the caveats in the documentation: https://pandas.pydata.org/pandas-docs/stable/user_guide/indexing.html#returning-a-view-versus-a-copy\n",
      "  self._update_inplace(new_data)\n",
      "/users/n323489/.conda/envs/n323489_pyconnect_py37/lib/python3.7/site-packages/ipykernel_launcher.py:33: SettingWithCopyWarning: \n",
      "A value is trying to be set on a copy of a slice from a DataFrame\n",
      "\n",
      "See the caveats in the documentation: https://pandas.pydata.org/pandas-docs/stable/user_guide/indexing.html#returning-a-view-versus-a-copy\n",
      "/users/n323489/.conda/envs/n323489_pyconnect_py37/lib/python3.7/site-packages/ipykernel_launcher.py:43: SettingWithCopyWarning: \n",
      "A value is trying to be set on a copy of a slice from a DataFrame.\n",
      "Try using .loc[row_indexer,col_indexer] = value instead\n",
      "\n",
      "See the caveats in the documentation: https://pandas.pydata.org/pandas-docs/stable/user_guide/indexing.html#returning-a-view-versus-a-copy\n"
     ]
    }
   ],
   "source": [
    "catg_col = ['decile']\n",
    "data1['expt_label'] = data1['experiment_group_type'] == 'T'\n",
    "\n",
    "\n",
    "data1['expt_label'].value_counts()\n",
    "\n",
    "all_var = catg_col \n",
    "#converting categorical variables into one-hot vectors\n",
    "X = data1[all_var]\n",
    "X = pd.get_dummies(X, columns = catg_col, prefix = catg_col, drop_first = True)\n",
    "Y = data1['expt_label']\n",
    "\n",
    "import statsmodels.api as sm\n",
    "X_1=sm.add_constant(X)\n",
    "logit_model=sm.Logit(Y,X_1)\n",
    "result1=logit_model.fit()\n",
    "\n",
    "        \n",
    "        \n",
    "data1['p_scores_lr'] = result1.predict(X_1)\n",
    "\n",
    "\n",
    "def treatment(exp_type,p):\n",
    "    if (exp_type):\n",
    "        return 1.0/p\n",
    "    else:\n",
    "        return 1.0/(1-p) \n",
    "def weightcalc(dfg,p_col,wt_col,std_col):\n",
    "    dfg[wt_col] = dfg.apply(lambda x: treatment(x['expt_label'],x['p_scores_lr']),axis=1)\n",
    "    #weight standardization\n",
    "    dfg[std_col] = 1\n",
    "    dfg[std_col][dfg['expt_label']== False] = dfg[wt_col]/dfg[wt_col][dfg['expt_label']== False].mean()\n",
    "    dfg[std_col][dfg['expt_label']== True] = dfg[wt_col]/dfg[wt_col][dfg['expt_label']== True].mean()\n",
    "    df_wt = dfg.groupby('expt_label')[std_col].mean()\n",
    "    print(df_wt)\n",
    "    return dfg\n",
    "\n",
    "\n",
    "dfni1 = weightcalc(data1,'p_scores_lr','weight','st_wt')\n",
    "\n",
    "\n",
    "\n",
    "data1['vol_churn_bal'] = data1['vol_churn']*data1['st_wt']"
   ]
  },
  {
   "cell_type": "code",
   "execution_count": 10,
   "metadata": {},
   "outputs": [
    {
     "data": {
      "text/plain": [
       "experiment_group_type\n",
       "H    0.079902\n",
       "T    0.068094\n",
       "Name: vol_churn_bal, dtype: float64"
      ]
     },
     "execution_count": 10,
     "metadata": {},
     "output_type": "execute_result"
    }
   ],
   "source": [
    "data1.groupby('experiment_group_type').vol_churn_bal.mean()"
   ]
  },
  {
   "cell_type": "code",
   "execution_count": 11,
   "metadata": {},
   "outputs": [
    {
     "data": {
      "text/html": [
       "<div>\n",
       "<style scoped>\n",
       "    .dataframe tbody tr th:only-of-type {\n",
       "        vertical-align: middle;\n",
       "    }\n",
       "\n",
       "    .dataframe tbody tr th {\n",
       "        vertical-align: top;\n",
       "    }\n",
       "\n",
       "    .dataframe thead th {\n",
       "        text-align: right;\n",
       "    }\n",
       "</style>\n",
       "<table border=\"1\" class=\"dataframe\">\n",
       "  <thead>\n",
       "    <tr style=\"text-align: right;\">\n",
       "      <th></th>\n",
       "      <th>proxy_id</th>\n",
       "      <th>individual_id</th>\n",
       "      <th>experiment_group_type</th>\n",
       "      <th>test_cell_id</th>\n",
       "      <th>run_datetime</th>\n",
       "      <th>channel</th>\n",
       "      <th>surp_ref</th>\n",
       "      <th>cms_county</th>\n",
       "      <th>cms_id</th>\n",
       "      <th>cms_state</th>\n",
       "      <th>...</th>\n",
       "      <th>welcome_call_holdout</th>\n",
       "      <th>welcome_call_treatment</th>\n",
       "      <th>mzb_indiv_id</th>\n",
       "      <th>vol_churn</th>\n",
       "      <th>w_ate2</th>\n",
       "      <th>expt_label</th>\n",
       "      <th>p_scores_lr</th>\n",
       "      <th>weight</th>\n",
       "      <th>st_wt</th>\n",
       "      <th>vol_churn_bal</th>\n",
       "    </tr>\n",
       "  </thead>\n",
       "  <tbody>\n",
       "    <tr>\n",
       "      <th>2</th>\n",
       "      <td>000LGRBBBPXY</td>\n",
       "      <td>33208369805108</td>\n",
       "      <td>T</td>\n",
       "      <td>T_HMO_no_LIS_ndp_dm_surprise</td>\n",
       "      <td>2021-01-11 09:19:17</td>\n",
       "      <td>DM</td>\n",
       "      <td>Surprise</td>\n",
       "      <td>MAURY</td>\n",
       "      <td>H3146-012</td>\n",
       "      <td>TN</td>\n",
       "      <td>...</td>\n",
       "      <td>0</td>\n",
       "      <td>0</td>\n",
       "      <td>722763345</td>\n",
       "      <td>0</td>\n",
       "      <td>1</td>\n",
       "      <td>True</td>\n",
       "      <td>0.788014</td>\n",
       "      <td>1.269013</td>\n",
       "      <td>1.081978</td>\n",
       "      <td>0.0</td>\n",
       "    </tr>\n",
       "    <tr>\n",
       "      <th>4</th>\n",
       "      <td>001077BBBPXY</td>\n",
       "      <td>188569349324595</td>\n",
       "      <td>T</td>\n",
       "      <td>T_PPO_no_LIS_remaining_dm_email_surprise</td>\n",
       "      <td>2021-01-11 09:19:15</td>\n",
       "      <td>DM_EMAIL</td>\n",
       "      <td>Surprise</td>\n",
       "      <td>BROWARD</td>\n",
       "      <td>H5521-273</td>\n",
       "      <td>FL</td>\n",
       "      <td>...</td>\n",
       "      <td>0</td>\n",
       "      <td>0</td>\n",
       "      <td>116293617</td>\n",
       "      <td>0</td>\n",
       "      <td>1</td>\n",
       "      <td>True</td>\n",
       "      <td>0.912651</td>\n",
       "      <td>1.095710</td>\n",
       "      <td>0.934217</td>\n",
       "      <td>0.0</td>\n",
       "    </tr>\n",
       "    <tr>\n",
       "      <th>5</th>\n",
       "      <td>001W7QBBBPXZ</td>\n",
       "      <td>3723389140201447</td>\n",
       "      <td>T</td>\n",
       "      <td>T_mapd_no_LIS_ndp_dm_reframe</td>\n",
       "      <td>2021-01-11 09:19:19</td>\n",
       "      <td>DM</td>\n",
       "      <td>Reframe</td>\n",
       "      <td>COVINGTON</td>\n",
       "      <td>H5521-222</td>\n",
       "      <td>AL</td>\n",
       "      <td>...</td>\n",
       "      <td>0</td>\n",
       "      <td>0</td>\n",
       "      <td>586485439</td>\n",
       "      <td>0</td>\n",
       "      <td>1</td>\n",
       "      <td>True</td>\n",
       "      <td>0.834264</td>\n",
       "      <td>1.198662</td>\n",
       "      <td>1.021996</td>\n",
       "      <td>0.0</td>\n",
       "    </tr>\n",
       "    <tr>\n",
       "      <th>6</th>\n",
       "      <td>00237QBBBPXZ</td>\n",
       "      <td>3779217351125188</td>\n",
       "      <td>T</td>\n",
       "      <td>T_PPO_no_LIS_remaining_dm_reframe</td>\n",
       "      <td>2021-01-11 09:19:16</td>\n",
       "      <td>DM</td>\n",
       "      <td>Reframe</td>\n",
       "      <td>LEE</td>\n",
       "      <td>H5521-272</td>\n",
       "      <td>FL</td>\n",
       "      <td>...</td>\n",
       "      <td>0</td>\n",
       "      <td>0</td>\n",
       "      <td>92729448</td>\n",
       "      <td>0</td>\n",
       "      <td>1</td>\n",
       "      <td>True</td>\n",
       "      <td>0.912651</td>\n",
       "      <td>1.095710</td>\n",
       "      <td>0.934217</td>\n",
       "      <td>0.0</td>\n",
       "    </tr>\n",
       "    <tr>\n",
       "      <th>9</th>\n",
       "      <td>002R7QBBBPXZ</td>\n",
       "      <td>81708783834105</td>\n",
       "      <td>T</td>\n",
       "      <td>T_PPO_no_LIS_ndp_dm_reframe</td>\n",
       "      <td>2021-01-11 09:19:17</td>\n",
       "      <td>DM</td>\n",
       "      <td>Reframe</td>\n",
       "      <td>VAN WERT</td>\n",
       "      <td>H5521-088</td>\n",
       "      <td>OH</td>\n",
       "      <td>...</td>\n",
       "      <td>0</td>\n",
       "      <td>0</td>\n",
       "      <td>87091605</td>\n",
       "      <td>0</td>\n",
       "      <td>1</td>\n",
       "      <td>True</td>\n",
       "      <td>0.909739</td>\n",
       "      <td>1.099217</td>\n",
       "      <td>0.937207</td>\n",
       "      <td>0.0</td>\n",
       "    </tr>\n",
       "  </tbody>\n",
       "</table>\n",
       "<p>5 rows × 37 columns</p>\n",
       "</div>"
      ],
      "text/plain": [
       "       proxy_id     individual_id experiment_group_type  \\\n",
       "2  000LGRBBBPXY    33208369805108                     T   \n",
       "4  001077BBBPXY   188569349324595                     T   \n",
       "5  001W7QBBBPXZ  3723389140201447                     T   \n",
       "6  00237QBBBPXZ  3779217351125188                     T   \n",
       "9  002R7QBBBPXZ    81708783834105                     T   \n",
       "\n",
       "                               test_cell_id        run_datetime   channel  \\\n",
       "2              T_HMO_no_LIS_ndp_dm_surprise 2021-01-11 09:19:17        DM   \n",
       "4  T_PPO_no_LIS_remaining_dm_email_surprise 2021-01-11 09:19:15  DM_EMAIL   \n",
       "5              T_mapd_no_LIS_ndp_dm_reframe 2021-01-11 09:19:19        DM   \n",
       "6         T_PPO_no_LIS_remaining_dm_reframe 2021-01-11 09:19:16        DM   \n",
       "9               T_PPO_no_LIS_ndp_dm_reframe 2021-01-11 09:19:17        DM   \n",
       "\n",
       "   surp_ref cms_county     cms_id cms_state  ... welcome_call_holdout  \\\n",
       "2  Surprise      MAURY  H3146-012        TN  ...                    0   \n",
       "4  Surprise    BROWARD  H5521-273        FL  ...                    0   \n",
       "5   Reframe  COVINGTON  H5521-222        AL  ...                    0   \n",
       "6   Reframe        LEE  H5521-272        FL  ...                    0   \n",
       "9   Reframe   VAN WERT  H5521-088        OH  ...                    0   \n",
       "\n",
       "  welcome_call_treatment mzb_indiv_id vol_churn w_ate2 expt_label p_scores_lr  \\\n",
       "2                      0    722763345         0      1       True    0.788014   \n",
       "4                      0    116293617         0      1       True    0.912651   \n",
       "5                      0    586485439         0      1       True    0.834264   \n",
       "6                      0     92729448         0      1       True    0.912651   \n",
       "9                      0     87091605         0      1       True    0.909739   \n",
       "\n",
       "     weight     st_wt vol_churn_bal  \n",
       "2  1.269013  1.081978           0.0  \n",
       "4  1.095710  0.934217           0.0  \n",
       "5  1.198662  1.021996           0.0  \n",
       "6  1.095710  0.934217           0.0  \n",
       "9  1.099217  0.937207           0.0  \n",
       "\n",
       "[5 rows x 37 columns]"
      ]
     },
     "execution_count": 11,
     "metadata": {},
     "output_type": "execute_result"
    }
   ],
   "source": [
    "data1.head()"
   ]
  },
  {
   "cell_type": "code",
   "execution_count": 12,
   "metadata": {},
   "outputs": [],
   "source": [
    "from statsmodels.stats.proportion import proportions_ztest\n",
    "import scipy\n",
    "from scipy import stats\n",
    "from scipy.stats import norm\n",
    "\n",
    "import  numpy as np\n",
    "def ztest_prop(df0 ):\n",
    "    d1 = df0[df0['experiment_group_type']== 'T'  ]\n",
    "    d2 = df0[df0['experiment_group_type']=='H']\n",
    "    count=np.array([d1['vol_churn_bal'].sum(), d2['vol_churn_bal'].sum()])\n",
    "    nobs = np.array([d1['vol_churn_bal'].count(), d2['vol_churn_bal'].count()])\n",
    "    stat, pval = proportions_ztest(count, nobs,alternative='smaller')   #alter : T<H\n",
    "    pval1 = stats.norm.cdf(stat)\n",
    "    print (pval , stat,count,nobs)\n",
    "    if pval < 0.05:\n",
    "        print('significant at 95%')\n",
    "    elif pval>0.05 and pval <= 0.10 :\n",
    "        print('significant at 90%')\n",
    "    elif pval >0.10 and pval<= .20 :\n",
    "        print('significant at 80%')\n",
    "    else:\n",
    "        print('Same Prop')\n"
   ]
  },
  {
   "cell_type": "code",
   "execution_count": 13,
   "metadata": {},
   "outputs": [
    {
     "name": "stdout",
     "output_type": "stream",
     "text": [
      "6.327609562903472e-07 -4.8450933047600175 [5052.77939829 1024.90359919] [74203 12827]\n",
      "significant at 95%\n"
     ]
    }
   ],
   "source": [
    "ztest_prop(data1)"
   ]
  },
  {
   "cell_type": "code",
   "execution_count": 17,
   "metadata": {},
   "outputs": [
    {
     "data": {
      "text/html": [
       "<div>\n",
       "<style scoped>\n",
       "    .dataframe tbody tr th:only-of-type {\n",
       "        vertical-align: middle;\n",
       "    }\n",
       "\n",
       "    .dataframe tbody tr th {\n",
       "        vertical-align: top;\n",
       "    }\n",
       "\n",
       "    .dataframe thead th {\n",
       "        text-align: right;\n",
       "    }\n",
       "</style>\n",
       "<table border=\"1\" class=\"dataframe\">\n",
       "  <thead>\n",
       "    <tr style=\"text-align: right;\">\n",
       "      <th></th>\n",
       "      <th>decile</th>\n",
       "      <th>experiment_group_type</th>\n",
       "      <th>balance</th>\n",
       "      <th>vol_churn_bal</th>\n",
       "    </tr>\n",
       "  </thead>\n",
       "  <tbody>\n",
       "    <tr>\n",
       "      <th>0</th>\n",
       "      <td>0</td>\n",
       "      <td>H</td>\n",
       "      <td>0.101418</td>\n",
       "      <td>265.005256</td>\n",
       "    </tr>\n",
       "    <tr>\n",
       "      <th>1</th>\n",
       "      <td>0</td>\n",
       "      <td>T</td>\n",
       "      <td>0.068765</td>\n",
       "      <td>904.466432</td>\n",
       "    </tr>\n",
       "    <tr>\n",
       "      <th>2</th>\n",
       "      <td>1</td>\n",
       "      <td>H</td>\n",
       "      <td>0.106872</td>\n",
       "      <td>148.231808</td>\n",
       "    </tr>\n",
       "    <tr>\n",
       "      <th>3</th>\n",
       "      <td>1</td>\n",
       "      <td>T</td>\n",
       "      <td>0.327920</td>\n",
       "      <td>778.153133</td>\n",
       "    </tr>\n",
       "    <tr>\n",
       "      <th>4</th>\n",
       "      <td>10</td>\n",
       "      <td>H</td>\n",
       "      <td>0.042814</td>\n",
       "      <td>65.805289</td>\n",
       "    </tr>\n",
       "    <tr>\n",
       "      <th>5</th>\n",
       "      <td>10</td>\n",
       "      <td>T</td>\n",
       "      <td>0.021932</td>\n",
       "      <td>352.199947</td>\n",
       "    </tr>\n",
       "    <tr>\n",
       "      <th>6</th>\n",
       "      <td>2</td>\n",
       "      <td>H</td>\n",
       "      <td>0.096456</td>\n",
       "      <td>107.933938</td>\n",
       "    </tr>\n",
       "    <tr>\n",
       "      <th>7</th>\n",
       "      <td>2</td>\n",
       "      <td>T</td>\n",
       "      <td>0.223095</td>\n",
       "      <td>577.592169</td>\n",
       "    </tr>\n",
       "    <tr>\n",
       "      <th>8</th>\n",
       "      <td>3</td>\n",
       "      <td>H</td>\n",
       "      <td>0.067401</td>\n",
       "      <td>68.209406</td>\n",
       "    </tr>\n",
       "    <tr>\n",
       "      <th>9</th>\n",
       "      <td>3</td>\n",
       "      <td>T</td>\n",
       "      <td>0.160485</td>\n",
       "      <td>443.740742</td>\n",
       "    </tr>\n",
       "    <tr>\n",
       "      <th>10</th>\n",
       "      <td>4</td>\n",
       "      <td>H</td>\n",
       "      <td>0.082847</td>\n",
       "      <td>70.916751</td>\n",
       "    </tr>\n",
       "    <tr>\n",
       "      <th>11</th>\n",
       "      <td>4</td>\n",
       "      <td>T</td>\n",
       "      <td>0.121731</td>\n",
       "      <td>387.348293</td>\n",
       "    </tr>\n",
       "    <tr>\n",
       "      <th>12</th>\n",
       "      <td>5</td>\n",
       "      <td>H</td>\n",
       "      <td>0.070592</td>\n",
       "      <td>58.096930</td>\n",
       "    </tr>\n",
       "    <tr>\n",
       "      <th>13</th>\n",
       "      <td>5</td>\n",
       "      <td>T</td>\n",
       "      <td>0.095653</td>\n",
       "      <td>346.358619</td>\n",
       "    </tr>\n",
       "    <tr>\n",
       "      <th>14</th>\n",
       "      <td>6</td>\n",
       "      <td>H</td>\n",
       "      <td>0.067226</td>\n",
       "      <td>49.209192</td>\n",
       "    </tr>\n",
       "    <tr>\n",
       "      <th>15</th>\n",
       "      <td>6</td>\n",
       "      <td>T</td>\n",
       "      <td>0.063458</td>\n",
       "      <td>263.732643</td>\n",
       "    </tr>\n",
       "    <tr>\n",
       "      <th>16</th>\n",
       "      <td>7</td>\n",
       "      <td>H</td>\n",
       "      <td>0.070463</td>\n",
       "      <td>40.234560</td>\n",
       "    </tr>\n",
       "    <tr>\n",
       "      <th>17</th>\n",
       "      <td>7</td>\n",
       "      <td>T</td>\n",
       "      <td>0.048492</td>\n",
       "      <td>242.265433</td>\n",
       "    </tr>\n",
       "    <tr>\n",
       "      <th>18</th>\n",
       "      <td>8</td>\n",
       "      <td>H</td>\n",
       "      <td>0.086961</td>\n",
       "      <td>51.654560</td>\n",
       "    </tr>\n",
       "    <tr>\n",
       "      <th>19</th>\n",
       "      <td>8</td>\n",
       "      <td>T</td>\n",
       "      <td>0.043698</td>\n",
       "      <td>233.960223</td>\n",
       "    </tr>\n",
       "    <tr>\n",
       "      <th>20</th>\n",
       "      <td>9</td>\n",
       "      <td>H</td>\n",
       "      <td>0.062922</td>\n",
       "      <td>99.605908</td>\n",
       "    </tr>\n",
       "    <tr>\n",
       "      <th>21</th>\n",
       "      <td>9</td>\n",
       "      <td>T</td>\n",
       "      <td>0.032777</td>\n",
       "      <td>522.961764</td>\n",
       "    </tr>\n",
       "  </tbody>\n",
       "</table>\n",
       "</div>"
      ],
      "text/plain": [
       "   decile experiment_group_type   balance  vol_churn_bal\n",
       "0       0                     H  0.101418     265.005256\n",
       "1       0                     T  0.068765     904.466432\n",
       "2       1                     H  0.106872     148.231808\n",
       "3       1                     T  0.327920     778.153133\n",
       "4      10                     H  0.042814      65.805289\n",
       "5      10                     T  0.021932     352.199947\n",
       "6       2                     H  0.096456     107.933938\n",
       "7       2                     T  0.223095     577.592169\n",
       "8       3                     H  0.067401      68.209406\n",
       "9       3                     T  0.160485     443.740742\n",
       "10      4                     H  0.082847      70.916751\n",
       "11      4                     T  0.121731     387.348293\n",
       "12      5                     H  0.070592      58.096930\n",
       "13      5                     T  0.095653     346.358619\n",
       "14      6                     H  0.067226      49.209192\n",
       "15      6                     T  0.063458     263.732643\n",
       "16      7                     H  0.070463      40.234560\n",
       "17      7                     T  0.048492     242.265433\n",
       "18      8                     H  0.086961      51.654560\n",
       "19      8                     T  0.043698     233.960223\n",
       "20      9                     H  0.062922      99.605908\n",
       "21      9                     T  0.032777     522.961764"
      ]
     },
     "execution_count": 17,
     "metadata": {},
     "output_type": "execute_result"
    }
   ],
   "source": [
    "a = pd.DataFrame(data1.groupby(['decile','experiment_group_type']).vol_churn_bal.mean())\n",
    "a.reset_index(inplace=True)\n",
    "a.rename(columns = {'vol_churn_bal' :'balance'},inplace = True)\n",
    "b = pd.DataFrame(data1.groupby(['decile','experiment_group_type']).vol_churn_bal.sum())\n",
    "b.reset_index(inplace=True)\n",
    "c= pd.merge(a,b , how = 'inner')\n",
    "c"
   ]
  },
  {
   "cell_type": "code",
   "execution_count": 14,
   "metadata": {},
   "outputs": [
    {
     "data": {
      "text/html": [
       "<div>\n",
       "<style scoped>\n",
       "    .dataframe tbody tr th:only-of-type {\n",
       "        vertical-align: middle;\n",
       "    }\n",
       "\n",
       "    .dataframe tbody tr th {\n",
       "        vertical-align: top;\n",
       "    }\n",
       "\n",
       "    .dataframe thead th {\n",
       "        text-align: right;\n",
       "    }\n",
       "</style>\n",
       "<table border=\"1\" class=\"dataframe\">\n",
       "  <thead>\n",
       "    <tr style=\"text-align: right;\">\n",
       "      <th></th>\n",
       "      <th>experiment_group_type</th>\n",
       "      <th>vol_churn_bal</th>\n",
       "      <th>vol_churn</th>\n",
       "    </tr>\n",
       "  </thead>\n",
       "  <tbody>\n",
       "    <tr>\n",
       "      <th>0</th>\n",
       "      <td>H</td>\n",
       "      <td>0.079902</td>\n",
       "      <td>0.109301</td>\n",
       "    </tr>\n",
       "    <tr>\n",
       "      <th>1</th>\n",
       "      <td>T</td>\n",
       "      <td>0.068094</td>\n",
       "      <td>0.063394</td>\n",
       "    </tr>\n",
       "  </tbody>\n",
       "</table>\n",
       "</div>"
      ],
      "text/plain": [
       "  experiment_group_type  vol_churn_bal  vol_churn\n",
       "0                     H       0.079902   0.109301\n",
       "1                     T       0.068094   0.063394"
      ]
     },
     "execution_count": 14,
     "metadata": {},
     "output_type": "execute_result"
    }
   ],
   "source": [
    "a = (pd.DataFrame(data1.groupby('experiment_group_type').vol_churn_bal.mean()))\n",
    "b = (pd.DataFrame(data1.groupby(['experiment_group_type']).vol_churn.mean()))\n",
    "a.reset_index(inplace = True)\n",
    "b.reset_index(inplace = True)\n",
    "c = pd.merge(a,b,how = 'inner')\n",
    "\n",
    "c"
   ]
  },
  {
   "cell_type": "code",
   "execution_count": null,
   "metadata": {},
   "outputs": [],
   "source": []
  },
  {
   "cell_type": "code",
   "execution_count": null,
   "metadata": {},
   "outputs": [],
   "source": []
  },
  {
   "cell_type": "code",
   "execution_count": 14,
   "metadata": {},
   "outputs": [
    {
     "data": {
      "text/html": [
       "<div>\n",
       "<style scoped>\n",
       "    .dataframe tbody tr th:only-of-type {\n",
       "        vertical-align: middle;\n",
       "    }\n",
       "\n",
       "    .dataframe tbody tr th {\n",
       "        vertical-align: top;\n",
       "    }\n",
       "\n",
       "    .dataframe thead th {\n",
       "        text-align: right;\n",
       "    }\n",
       "</style>\n",
       "<table border=\"1\" class=\"dataframe\">\n",
       "  <thead>\n",
       "    <tr style=\"text-align: right;\">\n",
       "      <th></th>\n",
       "      <th>proxy_id</th>\n",
       "      <th>individual_id</th>\n",
       "      <th>experiment_group_type</th>\n",
       "      <th>test_cell_id</th>\n",
       "      <th>run_datetime</th>\n",
       "      <th>channel</th>\n",
       "      <th>surp_ref</th>\n",
       "      <th>cms_county</th>\n",
       "      <th>cms_id</th>\n",
       "      <th>cms_state</th>\n",
       "      <th>...</th>\n",
       "      <th>welcome_call_holdout</th>\n",
       "      <th>welcome_call_treatment</th>\n",
       "      <th>mzb_indiv_id</th>\n",
       "      <th>vol_churn</th>\n",
       "      <th>w_ate2</th>\n",
       "      <th>expt_label</th>\n",
       "      <th>p_scores_lr</th>\n",
       "      <th>weight</th>\n",
       "      <th>st_wt</th>\n",
       "      <th>vol_churn_bal</th>\n",
       "    </tr>\n",
       "  </thead>\n",
       "  <tbody>\n",
       "    <tr>\n",
       "      <th>2</th>\n",
       "      <td>000LGRBBBPXY</td>\n",
       "      <td>33208369805108</td>\n",
       "      <td>T</td>\n",
       "      <td>T_HMO_no_LIS_ndp_dm_surprise</td>\n",
       "      <td>2021-01-11 09:19:17</td>\n",
       "      <td>DM</td>\n",
       "      <td>Surprise</td>\n",
       "      <td>MAURY</td>\n",
       "      <td>H3146-012</td>\n",
       "      <td>TN</td>\n",
       "      <td>...</td>\n",
       "      <td>0</td>\n",
       "      <td>0</td>\n",
       "      <td>722763345</td>\n",
       "      <td>0</td>\n",
       "      <td>1</td>\n",
       "      <td>True</td>\n",
       "      <td>0.788014</td>\n",
       "      <td>1.269013</td>\n",
       "      <td>1.081978</td>\n",
       "      <td>0.0</td>\n",
       "    </tr>\n",
       "    <tr>\n",
       "      <th>4</th>\n",
       "      <td>001077BBBPXY</td>\n",
       "      <td>188569349324595</td>\n",
       "      <td>T</td>\n",
       "      <td>T_PPO_no_LIS_remaining_dm_email_surprise</td>\n",
       "      <td>2021-01-11 09:19:15</td>\n",
       "      <td>DM_EMAIL</td>\n",
       "      <td>Surprise</td>\n",
       "      <td>BROWARD</td>\n",
       "      <td>H5521-273</td>\n",
       "      <td>FL</td>\n",
       "      <td>...</td>\n",
       "      <td>0</td>\n",
       "      <td>0</td>\n",
       "      <td>116293617</td>\n",
       "      <td>0</td>\n",
       "      <td>1</td>\n",
       "      <td>True</td>\n",
       "      <td>0.912651</td>\n",
       "      <td>1.095710</td>\n",
       "      <td>0.934217</td>\n",
       "      <td>0.0</td>\n",
       "    </tr>\n",
       "    <tr>\n",
       "      <th>5</th>\n",
       "      <td>001W7QBBBPXZ</td>\n",
       "      <td>3723389140201447</td>\n",
       "      <td>T</td>\n",
       "      <td>T_mapd_no_LIS_ndp_dm_reframe</td>\n",
       "      <td>2021-01-11 09:19:19</td>\n",
       "      <td>DM</td>\n",
       "      <td>Reframe</td>\n",
       "      <td>COVINGTON</td>\n",
       "      <td>H5521-222</td>\n",
       "      <td>AL</td>\n",
       "      <td>...</td>\n",
       "      <td>0</td>\n",
       "      <td>0</td>\n",
       "      <td>586485439</td>\n",
       "      <td>0</td>\n",
       "      <td>1</td>\n",
       "      <td>True</td>\n",
       "      <td>0.834264</td>\n",
       "      <td>1.198662</td>\n",
       "      <td>1.021996</td>\n",
       "      <td>0.0</td>\n",
       "    </tr>\n",
       "    <tr>\n",
       "      <th>6</th>\n",
       "      <td>00237QBBBPXZ</td>\n",
       "      <td>3779217351125188</td>\n",
       "      <td>T</td>\n",
       "      <td>T_PPO_no_LIS_remaining_dm_reframe</td>\n",
       "      <td>2021-01-11 09:19:16</td>\n",
       "      <td>DM</td>\n",
       "      <td>Reframe</td>\n",
       "      <td>LEE</td>\n",
       "      <td>H5521-272</td>\n",
       "      <td>FL</td>\n",
       "      <td>...</td>\n",
       "      <td>0</td>\n",
       "      <td>0</td>\n",
       "      <td>92729448</td>\n",
       "      <td>0</td>\n",
       "      <td>1</td>\n",
       "      <td>True</td>\n",
       "      <td>0.912651</td>\n",
       "      <td>1.095710</td>\n",
       "      <td>0.934217</td>\n",
       "      <td>0.0</td>\n",
       "    </tr>\n",
       "    <tr>\n",
       "      <th>9</th>\n",
       "      <td>002R7QBBBPXZ</td>\n",
       "      <td>81708783834105</td>\n",
       "      <td>T</td>\n",
       "      <td>T_PPO_no_LIS_ndp_dm_reframe</td>\n",
       "      <td>2021-01-11 09:19:17</td>\n",
       "      <td>DM</td>\n",
       "      <td>Reframe</td>\n",
       "      <td>VAN WERT</td>\n",
       "      <td>H5521-088</td>\n",
       "      <td>OH</td>\n",
       "      <td>...</td>\n",
       "      <td>0</td>\n",
       "      <td>0</td>\n",
       "      <td>87091605</td>\n",
       "      <td>0</td>\n",
       "      <td>1</td>\n",
       "      <td>True</td>\n",
       "      <td>0.909739</td>\n",
       "      <td>1.099217</td>\n",
       "      <td>0.937207</td>\n",
       "      <td>0.0</td>\n",
       "    </tr>\n",
       "  </tbody>\n",
       "</table>\n",
       "<p>5 rows × 37 columns</p>\n",
       "</div>"
      ],
      "text/plain": [
       "       proxy_id     individual_id experiment_group_type  \\\n",
       "2  000LGRBBBPXY    33208369805108                     T   \n",
       "4  001077BBBPXY   188569349324595                     T   \n",
       "5  001W7QBBBPXZ  3723389140201447                     T   \n",
       "6  00237QBBBPXZ  3779217351125188                     T   \n",
       "9  002R7QBBBPXZ    81708783834105                     T   \n",
       "\n",
       "                               test_cell_id        run_datetime   channel  \\\n",
       "2              T_HMO_no_LIS_ndp_dm_surprise 2021-01-11 09:19:17        DM   \n",
       "4  T_PPO_no_LIS_remaining_dm_email_surprise 2021-01-11 09:19:15  DM_EMAIL   \n",
       "5              T_mapd_no_LIS_ndp_dm_reframe 2021-01-11 09:19:19        DM   \n",
       "6         T_PPO_no_LIS_remaining_dm_reframe 2021-01-11 09:19:16        DM   \n",
       "9               T_PPO_no_LIS_ndp_dm_reframe 2021-01-11 09:19:17        DM   \n",
       "\n",
       "   surp_ref cms_county     cms_id cms_state  ... welcome_call_holdout  \\\n",
       "2  Surprise      MAURY  H3146-012        TN  ...                    0   \n",
       "4  Surprise    BROWARD  H5521-273        FL  ...                    0   \n",
       "5   Reframe  COVINGTON  H5521-222        AL  ...                    0   \n",
       "6   Reframe        LEE  H5521-272        FL  ...                    0   \n",
       "9   Reframe   VAN WERT  H5521-088        OH  ...                    0   \n",
       "\n",
       "  welcome_call_treatment mzb_indiv_id vol_churn w_ate2 expt_label p_scores_lr  \\\n",
       "2                      0    722763345         0      1       True    0.788014   \n",
       "4                      0    116293617         0      1       True    0.912651   \n",
       "5                      0    586485439         0      1       True    0.834264   \n",
       "6                      0     92729448         0      1       True    0.912651   \n",
       "9                      0     87091605         0      1       True    0.909739   \n",
       "\n",
       "     weight     st_wt vol_churn_bal  \n",
       "2  1.269013  1.081978           0.0  \n",
       "4  1.095710  0.934217           0.0  \n",
       "5  1.198662  1.021996           0.0  \n",
       "6  1.095710  0.934217           0.0  \n",
       "9  1.099217  0.937207           0.0  \n",
       "\n",
       "[5 rows x 37 columns]"
      ]
     },
     "execution_count": 14,
     "metadata": {},
     "output_type": "execute_result"
    }
   ],
   "source": [
    "data1.head()"
   ]
  },
  {
   "cell_type": "code",
   "execution_count": 17,
   "metadata": {},
   "outputs": [
    {
     "data": {
      "text/html": [
       "<div>\n",
       "<style scoped>\n",
       "    .dataframe tbody tr th:only-of-type {\n",
       "        vertical-align: middle;\n",
       "    }\n",
       "\n",
       "    .dataframe tbody tr th {\n",
       "        vertical-align: top;\n",
       "    }\n",
       "\n",
       "    .dataframe thead th {\n",
       "        text-align: right;\n",
       "    }\n",
       "</style>\n",
       "<table border=\"1\" class=\"dataframe\">\n",
       "  <thead>\n",
       "    <tr style=\"text-align: right;\">\n",
       "      <th></th>\n",
       "      <th>experiment_group_type</th>\n",
       "      <th>surp_ref</th>\n",
       "      <th>individual_id</th>\n",
       "      <th>vol_churn_bal</th>\n",
       "      <th>vol_churn</th>\n",
       "    </tr>\n",
       "  </thead>\n",
       "  <tbody>\n",
       "    <tr>\n",
       "      <th>0</th>\n",
       "      <td>H</td>\n",
       "      <td>Holdout</td>\n",
       "      <td>12827</td>\n",
       "      <td>0.079902</td>\n",
       "      <td>0.109301</td>\n",
       "    </tr>\n",
       "    <tr>\n",
       "      <th>1</th>\n",
       "      <td>T</td>\n",
       "      <td>Reframe</td>\n",
       "      <td>37178</td>\n",
       "      <td>0.069350</td>\n",
       "      <td>0.064420</td>\n",
       "    </tr>\n",
       "    <tr>\n",
       "      <th>2</th>\n",
       "      <td>T</td>\n",
       "      <td>Surprise</td>\n",
       "      <td>37025</td>\n",
       "      <td>0.066833</td>\n",
       "      <td>0.062363</td>\n",
       "    </tr>\n",
       "  </tbody>\n",
       "</table>\n",
       "</div>"
      ],
      "text/plain": [
       "  experiment_group_type  surp_ref  individual_id  vol_churn_bal  vol_churn\n",
       "0                     H   Holdout          12827       0.079902   0.109301\n",
       "1                     T   Reframe          37178       0.069350   0.064420\n",
       "2                     T  Surprise          37025       0.066833   0.062363"
      ]
     },
     "execution_count": 17,
     "metadata": {},
     "output_type": "execute_result"
    }
   ],
   "source": [
    "a = (pd.DataFrame(data1.groupby(['experiment_group_type','surp_ref']).vol_churn_bal.mean()))\n",
    "b = (pd.DataFrame(data1.groupby(['experiment_group_type', 'surp_ref']).vol_churn.mean()))\n",
    "a.reset_index(inplace = True)\n",
    "b.reset_index(inplace = True)\n",
    "c = pd.merge(a,b,how = 'inner')\n",
    "d = (pd.DataFrame(data1.groupby(['experiment_group_type', 'surp_ref']).individual_id.count()))\n",
    "d.reset_index(inplace = True)\n",
    "d = pd.merge(d,c,how = 'inner')\n",
    "d"
   ]
  },
  {
   "cell_type": "markdown",
   "metadata": {},
   "source": [
    "# Factors"
   ]
  },
  {
   "cell_type": "code",
   "execution_count": 18,
   "metadata": {},
   "outputs": [],
   "source": [
    "data_frame = hc.sql(\"\"\"  select * from cust_exp_Enc.n323489_pods_v1 where welcome_call_holdout = 0 and welcome_call_treatment = 0\n",
    "              \"\"\").toPandas()"
   ]
  },
  {
   "cell_type": "code",
   "execution_count": 28,
   "metadata": {},
   "outputs": [
    {
     "data": {
      "text/plain": [
       "Index(['proxy_id', 'individual_id', 'experiment_group_type', 'test_cell_id',\n",
       "       'run_datetime', 'channel', 'surp_ref', 'cms_county', 'cms_id',\n",
       "       'cms_state', 'dig_flag', 'decile', 'dental_ind', 'hearing_ind',\n",
       "       'otc_ind', 'lis_ind', 'vision_ind', 'lis_flag', 'gender', 'rx_flag',\n",
       "       'plan_type', 'mbr_mths', 'new_market', 'new_segment',\n",
       "       'sales_channel_updated', 'open_access', 'platform',\n",
       "       'welcome_call_holdout', 'welcome_call_treatment', 'mzb_indiv_id',\n",
       "       'vol_churn'],\n",
       "      dtype='object')"
      ]
     },
     "execution_count": 28,
     "metadata": {},
     "output_type": "execute_result"
    }
   ],
   "source": [
    "data_frame.columns"
   ]
  },
  {
   "cell_type": "code",
   "execution_count": 44,
   "metadata": {},
   "outputs": [],
   "source": [
    "def ztest_prop(df0 ):\n",
    "    d1 = df0[df0['experiment_group_type']== 'T'  ]\n",
    "    d2 = df0[df0['experiment_group_type']=='H']\n",
    "    count=np.array([d1['vol_churn_bal'].sum(), d2['vol_churn_bal'].sum()])\n",
    "    nobs = np.array([d1['vol_churn_bal'].count(), d2['vol_churn_bal'].count()])\n",
    "    stat, pval = proportions_ztest(count, nobs,alternative='smaller')   #alter : T<H\n",
    "    pval1 = stats.norm.cdf(stat)\n",
    "    print (pval , 'T')\n",
    "   "
   ]
  },
  {
   "cell_type": "code",
   "execution_count": 62,
   "metadata": {},
   "outputs": [],
   "source": [
    "def factor(data_frame , factor ,fac_val):\n",
    "    print(factor,fac_val)\n",
    "    data1 = data_frame[data_frame[factor] == fac_val ]\n",
    "\n",
    "    \n",
    "    catg_col = ['decile']\n",
    "    data1['expt_label'] = data1['experiment_group_type'] == 'T'\n",
    "\n",
    "    all_var = catg_col \n",
    "    #converting categorical variables into one-hot vectors\n",
    "    X = data1[all_var]\n",
    "    X = pd.get_dummies(X, columns = catg_col, prefix = catg_col, drop_first = True)\n",
    "    Y = data1['expt_label']\n",
    "\n",
    "    import statsmodels.api as sm\n",
    "    X_1=sm.add_constant(X)\n",
    "    logit_model=sm.Logit(Y,X_1,method='bfgs')\n",
    "    result1=logit_model.fit()\n",
    "\n",
    "\n",
    "\n",
    "    data1['p_scores_lr'] = result1.predict(X_1)\n",
    "\n",
    "\n",
    "    def treatment(exp_type,p):\n",
    "        if (exp_type):\n",
    "            return 1.0/p\n",
    "        else:\n",
    "            return 1.0/(1-p) \n",
    "    def weightcalc(dfg,p_col,wt_col,std_col):\n",
    "        dfg[wt_col] = dfg.apply(lambda x: treatment(x['expt_label'],x['p_scores_lr']),axis=1)\n",
    "        #weight standardization\n",
    "        dfg[std_col] = 1\n",
    "        dfg[std_col][dfg['expt_label']== False] = dfg[wt_col]/dfg[wt_col][dfg['expt_label']== False].mean()\n",
    "        dfg[std_col][dfg['expt_label']== True] = dfg[wt_col]/dfg[wt_col][dfg['expt_label']== True].mean()\n",
    "        df_wt = dfg.groupby('expt_label')[std_col].mean()\n",
    "        print(df_wt)\n",
    "        return dfg\n",
    "\n",
    "\n",
    "    dfni1 = weightcalc(data1,'p_scores_lr','weight','st_wt')\n",
    "    data1['vol_churn_bal'] = data1['vol_churn']*data1['st_wt']\n",
    "    col = ['experiment_group_type' , factor , 'vol_churn_bal', 'vol_churn']\n",
    "    sale = pd.DataFrame(columns = col)\n",
    "    for i in list(data1['sales_channel_updated'].unique()):\n",
    "        a = (pd.DataFrame(data1.groupby(['experiment_group_type',factor]).vol_churn_bal.mean()))\n",
    "        b = (pd.DataFrame(data1.groupby(['experiment_group_type',factor]).vol_churn.mean()))\n",
    "        d = (pd.DataFrame(data1.groupby(['experiment_group_type',factor]).individual_id.count()))\n",
    "        a.reset_index(inplace = True)\n",
    "        b.reset_index(inplace = True)\n",
    "        d.reset_index(inplace=True)\n",
    "        c = pd.merge(a,b,how = 'inner')\n",
    "        d = pd.merge(d,c, how = 'inner')\n",
    "        sale = pd.concat([sale,d], axis = 0)\n",
    "        \n",
    "        \n",
    "        print (ztest_prop(data1 ))\n",
    "        return (sale)\n",
    "    \n"
   ]
  },
  {
   "cell_type": "code",
   "execution_count": 49,
   "metadata": {},
   "outputs": [
    {
     "name": "stdout",
     "output_type": "stream",
     "text": [
      "sales_channel_updated NDP\n",
      "Optimization terminated successfully.\n",
      "         Current function value: 0.264441\n",
      "         Iterations 7\n"
     ]
    },
    {
     "name": "stderr",
     "output_type": "stream",
     "text": [
      "/users/n323489/.conda/envs/n323489_pyconnect_py37/lib/python3.7/site-packages/ipykernel_launcher.py:7: SettingWithCopyWarning: \n",
      "A value is trying to be set on a copy of a slice from a DataFrame.\n",
      "Try using .loc[row_indexer,col_indexer] = value instead\n",
      "\n",
      "See the caveats in the documentation: https://pandas.pydata.org/pandas-docs/stable/user_guide/indexing.html#returning-a-view-versus-a-copy\n",
      "  import sys\n",
      "/users/n323489/.conda/envs/n323489_pyconnect_py37/lib/python3.7/site-packages/ipykernel_launcher.py:22: SettingWithCopyWarning: \n",
      "A value is trying to be set on a copy of a slice from a DataFrame.\n",
      "Try using .loc[row_indexer,col_indexer] = value instead\n",
      "\n",
      "See the caveats in the documentation: https://pandas.pydata.org/pandas-docs/stable/user_guide/indexing.html#returning-a-view-versus-a-copy\n"
     ]
    },
    {
     "name": "stdout",
     "output_type": "stream",
     "text": [
      "expt_label\n",
      "False    1.0\n",
      "True     1.0\n",
      "Name: st_wt, dtype: float64\n",
      "0.32966402618551754 T\n",
      "None\n"
     ]
    },
    {
     "name": "stderr",
     "output_type": "stream",
     "text": [
      "/users/n323489/.conda/envs/n323489_pyconnect_py37/lib/python3.7/site-packages/ipykernel_launcher.py:31: SettingWithCopyWarning: \n",
      "A value is trying to be set on a copy of a slice from a DataFrame.\n",
      "Try using .loc[row_indexer,col_indexer] = value instead\n",
      "\n",
      "See the caveats in the documentation: https://pandas.pydata.org/pandas-docs/stable/user_guide/indexing.html#returning-a-view-versus-a-copy\n",
      "/users/n323489/.conda/envs/n323489_pyconnect_py37/lib/python3.7/site-packages/ipykernel_launcher.py:33: SettingWithCopyWarning: \n",
      "A value is trying to be set on a copy of a slice from a DataFrame.\n",
      "Try using .loc[row_indexer,col_indexer] = value instead\n",
      "\n",
      "See the caveats in the documentation: https://pandas.pydata.org/pandas-docs/stable/user_guide/indexing.html#returning-a-view-versus-a-copy\n",
      "/users/n323489/.conda/envs/n323489_pyconnect_py37/lib/python3.7/site-packages/ipykernel_launcher.py:34: SettingWithCopyWarning: \n",
      "A value is trying to be set on a copy of a slice from a DataFrame\n",
      "\n",
      "See the caveats in the documentation: https://pandas.pydata.org/pandas-docs/stable/user_guide/indexing.html#returning-a-view-versus-a-copy\n",
      "/users/n323489/.conda/envs/n323489_pyconnect_py37/lib/python3.7/site-packages/pandas/core/generic.py:8767: SettingWithCopyWarning: \n",
      "A value is trying to be set on a copy of a slice from a DataFrame\n",
      "\n",
      "See the caveats in the documentation: https://pandas.pydata.org/pandas-docs/stable/user_guide/indexing.html#returning-a-view-versus-a-copy\n",
      "  self._update_inplace(new_data)\n",
      "/users/n323489/.conda/envs/n323489_pyconnect_py37/lib/python3.7/site-packages/ipykernel_launcher.py:35: SettingWithCopyWarning: \n",
      "A value is trying to be set on a copy of a slice from a DataFrame\n",
      "\n",
      "See the caveats in the documentation: https://pandas.pydata.org/pandas-docs/stable/user_guide/indexing.html#returning-a-view-versus-a-copy\n",
      "/users/n323489/.conda/envs/n323489_pyconnect_py37/lib/python3.7/site-packages/ipykernel_launcher.py:42: SettingWithCopyWarning: \n",
      "A value is trying to be set on a copy of a slice from a DataFrame.\n",
      "Try using .loc[row_indexer,col_indexer] = value instead\n",
      "\n",
      "See the caveats in the documentation: https://pandas.pydata.org/pandas-docs/stable/user_guide/indexing.html#returning-a-view-versus-a-copy\n"
     ]
    },
    {
     "data": {
      "text/html": [
       "<div>\n",
       "<style scoped>\n",
       "    .dataframe tbody tr th:only-of-type {\n",
       "        vertical-align: middle;\n",
       "    }\n",
       "\n",
       "    .dataframe tbody tr th {\n",
       "        vertical-align: top;\n",
       "    }\n",
       "\n",
       "    .dataframe thead th {\n",
       "        text-align: right;\n",
       "    }\n",
       "</style>\n",
       "<table border=\"1\" class=\"dataframe\">\n",
       "  <thead>\n",
       "    <tr style=\"text-align: right;\">\n",
       "      <th></th>\n",
       "      <th>experiment_group_type</th>\n",
       "      <th>sales_channel_updated</th>\n",
       "      <th>vol_churn_bal</th>\n",
       "      <th>vol_churn</th>\n",
       "      <th>individual_id</th>\n",
       "    </tr>\n",
       "  </thead>\n",
       "  <tbody>\n",
       "    <tr>\n",
       "      <th>0</th>\n",
       "      <td>H</td>\n",
       "      <td>NDP</td>\n",
       "      <td>0.049619</td>\n",
       "      <td>0.057842</td>\n",
       "      <td>3475.0</td>\n",
       "    </tr>\n",
       "    <tr>\n",
       "      <th>1</th>\n",
       "      <td>T</td>\n",
       "      <td>NDP</td>\n",
       "      <td>0.047955</td>\n",
       "      <td>0.047191</td>\n",
       "      <td>42508.0</td>\n",
       "    </tr>\n",
       "  </tbody>\n",
       "</table>\n",
       "</div>"
      ],
      "text/plain": [
       "  experiment_group_type sales_channel_updated  vol_churn_bal  vol_churn  \\\n",
       "0                     H                   NDP       0.049619   0.057842   \n",
       "1                     T                   NDP       0.047955   0.047191   \n",
       "\n",
       "   individual_id  \n",
       "0         3475.0  \n",
       "1        42508.0  "
      ]
     },
     "execution_count": 49,
     "metadata": {},
     "output_type": "execute_result"
    }
   ],
   "source": [
    "factor(data_frame , 'sales_channel_updated' ,'NDP')"
   ]
  },
  {
   "cell_type": "code",
   "execution_count": 50,
   "metadata": {},
   "outputs": [
    {
     "name": "stdout",
     "output_type": "stream",
     "text": [
      "sales_channel_updated Strategic\n",
      "Optimization terminated successfully.\n",
      "         Current function value: 0.630403\n",
      "         Iterations 6\n"
     ]
    },
    {
     "name": "stderr",
     "output_type": "stream",
     "text": [
      "/users/n323489/.conda/envs/n323489_pyconnect_py37/lib/python3.7/site-packages/ipykernel_launcher.py:7: SettingWithCopyWarning: \n",
      "A value is trying to be set on a copy of a slice from a DataFrame.\n",
      "Try using .loc[row_indexer,col_indexer] = value instead\n",
      "\n",
      "See the caveats in the documentation: https://pandas.pydata.org/pandas-docs/stable/user_guide/indexing.html#returning-a-view-versus-a-copy\n",
      "  import sys\n",
      "/users/n323489/.conda/envs/n323489_pyconnect_py37/lib/python3.7/site-packages/ipykernel_launcher.py:22: SettingWithCopyWarning: \n",
      "A value is trying to be set on a copy of a slice from a DataFrame.\n",
      "Try using .loc[row_indexer,col_indexer] = value instead\n",
      "\n",
      "See the caveats in the documentation: https://pandas.pydata.org/pandas-docs/stable/user_guide/indexing.html#returning-a-view-versus-a-copy\n"
     ]
    },
    {
     "name": "stdout",
     "output_type": "stream",
     "text": [
      "expt_label\n",
      "False    1.0\n",
      "True     1.0\n",
      "Name: st_wt, dtype: float64\n",
      "0.2579141188829034 T\n",
      "None\n"
     ]
    },
    {
     "name": "stderr",
     "output_type": "stream",
     "text": [
      "/users/n323489/.conda/envs/n323489_pyconnect_py37/lib/python3.7/site-packages/ipykernel_launcher.py:31: SettingWithCopyWarning: \n",
      "A value is trying to be set on a copy of a slice from a DataFrame.\n",
      "Try using .loc[row_indexer,col_indexer] = value instead\n",
      "\n",
      "See the caveats in the documentation: https://pandas.pydata.org/pandas-docs/stable/user_guide/indexing.html#returning-a-view-versus-a-copy\n",
      "/users/n323489/.conda/envs/n323489_pyconnect_py37/lib/python3.7/site-packages/ipykernel_launcher.py:33: SettingWithCopyWarning: \n",
      "A value is trying to be set on a copy of a slice from a DataFrame.\n",
      "Try using .loc[row_indexer,col_indexer] = value instead\n",
      "\n",
      "See the caveats in the documentation: https://pandas.pydata.org/pandas-docs/stable/user_guide/indexing.html#returning-a-view-versus-a-copy\n",
      "/users/n323489/.conda/envs/n323489_pyconnect_py37/lib/python3.7/site-packages/ipykernel_launcher.py:34: SettingWithCopyWarning: \n",
      "A value is trying to be set on a copy of a slice from a DataFrame\n",
      "\n",
      "See the caveats in the documentation: https://pandas.pydata.org/pandas-docs/stable/user_guide/indexing.html#returning-a-view-versus-a-copy\n",
      "/users/n323489/.conda/envs/n323489_pyconnect_py37/lib/python3.7/site-packages/pandas/core/generic.py:8767: SettingWithCopyWarning: \n",
      "A value is trying to be set on a copy of a slice from a DataFrame\n",
      "\n",
      "See the caveats in the documentation: https://pandas.pydata.org/pandas-docs/stable/user_guide/indexing.html#returning-a-view-versus-a-copy\n",
      "  self._update_inplace(new_data)\n",
      "/users/n323489/.conda/envs/n323489_pyconnect_py37/lib/python3.7/site-packages/ipykernel_launcher.py:35: SettingWithCopyWarning: \n",
      "A value is trying to be set on a copy of a slice from a DataFrame\n",
      "\n",
      "See the caveats in the documentation: https://pandas.pydata.org/pandas-docs/stable/user_guide/indexing.html#returning-a-view-versus-a-copy\n",
      "/users/n323489/.conda/envs/n323489_pyconnect_py37/lib/python3.7/site-packages/ipykernel_launcher.py:42: SettingWithCopyWarning: \n",
      "A value is trying to be set on a copy of a slice from a DataFrame.\n",
      "Try using .loc[row_indexer,col_indexer] = value instead\n",
      "\n",
      "See the caveats in the documentation: https://pandas.pydata.org/pandas-docs/stable/user_guide/indexing.html#returning-a-view-versus-a-copy\n"
     ]
    },
    {
     "data": {
      "text/html": [
       "<div>\n",
       "<style scoped>\n",
       "    .dataframe tbody tr th:only-of-type {\n",
       "        vertical-align: middle;\n",
       "    }\n",
       "\n",
       "    .dataframe tbody tr th {\n",
       "        vertical-align: top;\n",
       "    }\n",
       "\n",
       "    .dataframe thead th {\n",
       "        text-align: right;\n",
       "    }\n",
       "</style>\n",
       "<table border=\"1\" class=\"dataframe\">\n",
       "  <thead>\n",
       "    <tr style=\"text-align: right;\">\n",
       "      <th></th>\n",
       "      <th>experiment_group_type</th>\n",
       "      <th>sales_channel_updated</th>\n",
       "      <th>vol_churn_bal</th>\n",
       "      <th>vol_churn</th>\n",
       "      <th>individual_id</th>\n",
       "    </tr>\n",
       "  </thead>\n",
       "  <tbody>\n",
       "    <tr>\n",
       "      <th>0</th>\n",
       "      <td>H</td>\n",
       "      <td>Strategic</td>\n",
       "      <td>0.174008</td>\n",
       "      <td>0.180503</td>\n",
       "      <td>5252.0</td>\n",
       "    </tr>\n",
       "    <tr>\n",
       "      <th>1</th>\n",
       "      <td>T</td>\n",
       "      <td>Strategic</td>\n",
       "      <td>0.169885</td>\n",
       "      <td>0.167335</td>\n",
       "      <td>10727.0</td>\n",
       "    </tr>\n",
       "  </tbody>\n",
       "</table>\n",
       "</div>"
      ],
      "text/plain": [
       "  experiment_group_type sales_channel_updated  vol_churn_bal  vol_churn  \\\n",
       "0                     H             Strategic       0.174008   0.180503   \n",
       "1                     T             Strategic       0.169885   0.167335   \n",
       "\n",
       "   individual_id  \n",
       "0         5252.0  \n",
       "1        10727.0  "
      ]
     },
     "execution_count": 50,
     "metadata": {},
     "output_type": "execute_result"
    }
   ],
   "source": [
    "factor(data_frame , 'sales_channel_updated' ,'Strategic')"
   ]
  },
  {
   "cell_type": "code",
   "execution_count": 51,
   "metadata": {},
   "outputs": [
    {
     "name": "stdout",
     "output_type": "stream",
     "text": [
      "sales_channel_updated remaining\n",
      "Optimization terminated successfully.\n",
      "         Current function value: 0.435644\n",
      "         Iterations 6\n"
     ]
    },
    {
     "name": "stderr",
     "output_type": "stream",
     "text": [
      "/users/n323489/.conda/envs/n323489_pyconnect_py37/lib/python3.7/site-packages/ipykernel_launcher.py:7: SettingWithCopyWarning: \n",
      "A value is trying to be set on a copy of a slice from a DataFrame.\n",
      "Try using .loc[row_indexer,col_indexer] = value instead\n",
      "\n",
      "See the caveats in the documentation: https://pandas.pydata.org/pandas-docs/stable/user_guide/indexing.html#returning-a-view-versus-a-copy\n",
      "  import sys\n",
      "/users/n323489/.conda/envs/n323489_pyconnect_py37/lib/python3.7/site-packages/ipykernel_launcher.py:22: SettingWithCopyWarning: \n",
      "A value is trying to be set on a copy of a slice from a DataFrame.\n",
      "Try using .loc[row_indexer,col_indexer] = value instead\n",
      "\n",
      "See the caveats in the documentation: https://pandas.pydata.org/pandas-docs/stable/user_guide/indexing.html#returning-a-view-versus-a-copy\n"
     ]
    },
    {
     "name": "stdout",
     "output_type": "stream",
     "text": [
      "expt_label\n",
      "False    1.0\n",
      "True     1.0\n",
      "Name: st_wt, dtype: float64\n",
      "0.03057885056941803 T\n",
      "None\n"
     ]
    },
    {
     "name": "stderr",
     "output_type": "stream",
     "text": [
      "/users/n323489/.conda/envs/n323489_pyconnect_py37/lib/python3.7/site-packages/ipykernel_launcher.py:31: SettingWithCopyWarning: \n",
      "A value is trying to be set on a copy of a slice from a DataFrame.\n",
      "Try using .loc[row_indexer,col_indexer] = value instead\n",
      "\n",
      "See the caveats in the documentation: https://pandas.pydata.org/pandas-docs/stable/user_guide/indexing.html#returning-a-view-versus-a-copy\n",
      "/users/n323489/.conda/envs/n323489_pyconnect_py37/lib/python3.7/site-packages/ipykernel_launcher.py:33: SettingWithCopyWarning: \n",
      "A value is trying to be set on a copy of a slice from a DataFrame.\n",
      "Try using .loc[row_indexer,col_indexer] = value instead\n",
      "\n",
      "See the caveats in the documentation: https://pandas.pydata.org/pandas-docs/stable/user_guide/indexing.html#returning-a-view-versus-a-copy\n",
      "/users/n323489/.conda/envs/n323489_pyconnect_py37/lib/python3.7/site-packages/ipykernel_launcher.py:34: SettingWithCopyWarning: \n",
      "A value is trying to be set on a copy of a slice from a DataFrame\n",
      "\n",
      "See the caveats in the documentation: https://pandas.pydata.org/pandas-docs/stable/user_guide/indexing.html#returning-a-view-versus-a-copy\n",
      "/users/n323489/.conda/envs/n323489_pyconnect_py37/lib/python3.7/site-packages/pandas/core/generic.py:8767: SettingWithCopyWarning: \n",
      "A value is trying to be set on a copy of a slice from a DataFrame\n",
      "\n",
      "See the caveats in the documentation: https://pandas.pydata.org/pandas-docs/stable/user_guide/indexing.html#returning-a-view-versus-a-copy\n",
      "  self._update_inplace(new_data)\n",
      "/users/n323489/.conda/envs/n323489_pyconnect_py37/lib/python3.7/site-packages/ipykernel_launcher.py:35: SettingWithCopyWarning: \n",
      "A value is trying to be set on a copy of a slice from a DataFrame\n",
      "\n",
      "See the caveats in the documentation: https://pandas.pydata.org/pandas-docs/stable/user_guide/indexing.html#returning-a-view-versus-a-copy\n",
      "/users/n323489/.conda/envs/n323489_pyconnect_py37/lib/python3.7/site-packages/ipykernel_launcher.py:42: SettingWithCopyWarning: \n",
      "A value is trying to be set on a copy of a slice from a DataFrame.\n",
      "Try using .loc[row_indexer,col_indexer] = value instead\n",
      "\n",
      "See the caveats in the documentation: https://pandas.pydata.org/pandas-docs/stable/user_guide/indexing.html#returning-a-view-versus-a-copy\n"
     ]
    },
    {
     "data": {
      "text/html": [
       "<div>\n",
       "<style scoped>\n",
       "    .dataframe tbody tr th:only-of-type {\n",
       "        vertical-align: middle;\n",
       "    }\n",
       "\n",
       "    .dataframe tbody tr th {\n",
       "        vertical-align: top;\n",
       "    }\n",
       "\n",
       "    .dataframe thead th {\n",
       "        text-align: right;\n",
       "    }\n",
       "</style>\n",
       "<table border=\"1\" class=\"dataframe\">\n",
       "  <thead>\n",
       "    <tr style=\"text-align: right;\">\n",
       "      <th></th>\n",
       "      <th>experiment_group_type</th>\n",
       "      <th>sales_channel_updated</th>\n",
       "      <th>vol_churn_bal</th>\n",
       "      <th>vol_churn</th>\n",
       "      <th>individual_id</th>\n",
       "    </tr>\n",
       "  </thead>\n",
       "  <tbody>\n",
       "    <tr>\n",
       "      <th>0</th>\n",
       "      <td>H</td>\n",
       "      <td>remaining</td>\n",
       "      <td>0.051509</td>\n",
       "      <td>0.061707</td>\n",
       "      <td>4100.0</td>\n",
       "    </tr>\n",
       "    <tr>\n",
       "      <th>1</th>\n",
       "      <td>T</td>\n",
       "      <td>remaining</td>\n",
       "      <td>0.044817</td>\n",
       "      <td>0.043066</td>\n",
       "      <td>20968.0</td>\n",
       "    </tr>\n",
       "  </tbody>\n",
       "</table>\n",
       "</div>"
      ],
      "text/plain": [
       "  experiment_group_type sales_channel_updated  vol_churn_bal  vol_churn  \\\n",
       "0                     H             remaining       0.051509   0.061707   \n",
       "1                     T             remaining       0.044817   0.043066   \n",
       "\n",
       "   individual_id  \n",
       "0         4100.0  \n",
       "1        20968.0  "
      ]
     },
     "execution_count": 51,
     "metadata": {},
     "output_type": "execute_result"
    }
   ],
   "source": [
    "factor(data_frame , 'sales_channel_updated' ,'remaining')"
   ]
  },
  {
   "cell_type": "code",
   "execution_count": 52,
   "metadata": {},
   "outputs": [
    {
     "name": "stdout",
     "output_type": "stream",
     "text": [
      "new_segment HMO\n",
      "Optimization terminated successfully.\n",
      "         Current function value: 0.585555\n",
      "         Iterations 5\n"
     ]
    },
    {
     "name": "stderr",
     "output_type": "stream",
     "text": [
      "/users/n323489/.conda/envs/n323489_pyconnect_py37/lib/python3.7/site-packages/ipykernel_launcher.py:7: SettingWithCopyWarning: \n",
      "A value is trying to be set on a copy of a slice from a DataFrame.\n",
      "Try using .loc[row_indexer,col_indexer] = value instead\n",
      "\n",
      "See the caveats in the documentation: https://pandas.pydata.org/pandas-docs/stable/user_guide/indexing.html#returning-a-view-versus-a-copy\n",
      "  import sys\n",
      "/users/n323489/.conda/envs/n323489_pyconnect_py37/lib/python3.7/site-packages/ipykernel_launcher.py:22: SettingWithCopyWarning: \n",
      "A value is trying to be set on a copy of a slice from a DataFrame.\n",
      "Try using .loc[row_indexer,col_indexer] = value instead\n",
      "\n",
      "See the caveats in the documentation: https://pandas.pydata.org/pandas-docs/stable/user_guide/indexing.html#returning-a-view-versus-a-copy\n"
     ]
    },
    {
     "name": "stdout",
     "output_type": "stream",
     "text": [
      "expt_label\n",
      "False    1.0\n",
      "True     1.0\n",
      "Name: st_wt, dtype: float64\n",
      "0.3436061315263308 T\n",
      "None\n"
     ]
    },
    {
     "name": "stderr",
     "output_type": "stream",
     "text": [
      "/users/n323489/.conda/envs/n323489_pyconnect_py37/lib/python3.7/site-packages/ipykernel_launcher.py:31: SettingWithCopyWarning: \n",
      "A value is trying to be set on a copy of a slice from a DataFrame.\n",
      "Try using .loc[row_indexer,col_indexer] = value instead\n",
      "\n",
      "See the caveats in the documentation: https://pandas.pydata.org/pandas-docs/stable/user_guide/indexing.html#returning-a-view-versus-a-copy\n",
      "/users/n323489/.conda/envs/n323489_pyconnect_py37/lib/python3.7/site-packages/ipykernel_launcher.py:33: SettingWithCopyWarning: \n",
      "A value is trying to be set on a copy of a slice from a DataFrame.\n",
      "Try using .loc[row_indexer,col_indexer] = value instead\n",
      "\n",
      "See the caveats in the documentation: https://pandas.pydata.org/pandas-docs/stable/user_guide/indexing.html#returning-a-view-versus-a-copy\n",
      "/users/n323489/.conda/envs/n323489_pyconnect_py37/lib/python3.7/site-packages/ipykernel_launcher.py:34: SettingWithCopyWarning: \n",
      "A value is trying to be set on a copy of a slice from a DataFrame\n",
      "\n",
      "See the caveats in the documentation: https://pandas.pydata.org/pandas-docs/stable/user_guide/indexing.html#returning-a-view-versus-a-copy\n",
      "/users/n323489/.conda/envs/n323489_pyconnect_py37/lib/python3.7/site-packages/pandas/core/generic.py:8767: SettingWithCopyWarning: \n",
      "A value is trying to be set on a copy of a slice from a DataFrame\n",
      "\n",
      "See the caveats in the documentation: https://pandas.pydata.org/pandas-docs/stable/user_guide/indexing.html#returning-a-view-versus-a-copy\n",
      "  self._update_inplace(new_data)\n",
      "/users/n323489/.conda/envs/n323489_pyconnect_py37/lib/python3.7/site-packages/ipykernel_launcher.py:35: SettingWithCopyWarning: \n",
      "A value is trying to be set on a copy of a slice from a DataFrame\n",
      "\n",
      "See the caveats in the documentation: https://pandas.pydata.org/pandas-docs/stable/user_guide/indexing.html#returning-a-view-versus-a-copy\n",
      "/users/n323489/.conda/envs/n323489_pyconnect_py37/lib/python3.7/site-packages/ipykernel_launcher.py:42: SettingWithCopyWarning: \n",
      "A value is trying to be set on a copy of a slice from a DataFrame.\n",
      "Try using .loc[row_indexer,col_indexer] = value instead\n",
      "\n",
      "See the caveats in the documentation: https://pandas.pydata.org/pandas-docs/stable/user_guide/indexing.html#returning-a-view-versus-a-copy\n"
     ]
    },
    {
     "data": {
      "text/html": [
       "<div>\n",
       "<style scoped>\n",
       "    .dataframe tbody tr th:only-of-type {\n",
       "        vertical-align: middle;\n",
       "    }\n",
       "\n",
       "    .dataframe tbody tr th {\n",
       "        vertical-align: top;\n",
       "    }\n",
       "\n",
       "    .dataframe thead th {\n",
       "        text-align: right;\n",
       "    }\n",
       "</style>\n",
       "<table border=\"1\" class=\"dataframe\">\n",
       "  <thead>\n",
       "    <tr style=\"text-align: right;\">\n",
       "      <th></th>\n",
       "      <th>experiment_group_type</th>\n",
       "      <th>new_segment</th>\n",
       "      <th>vol_churn_bal</th>\n",
       "      <th>vol_churn</th>\n",
       "      <th>individual_id</th>\n",
       "    </tr>\n",
       "  </thead>\n",
       "  <tbody>\n",
       "    <tr>\n",
       "      <th>0</th>\n",
       "      <td>H</td>\n",
       "      <td>HMO</td>\n",
       "      <td>0.116195</td>\n",
       "      <td>0.133622</td>\n",
       "      <td>4161.0</td>\n",
       "    </tr>\n",
       "    <tr>\n",
       "      <th>1</th>\n",
       "      <td>T</td>\n",
       "      <td>HMO</td>\n",
       "      <td>0.113848</td>\n",
       "      <td>0.108213</td>\n",
       "      <td>10544.0</td>\n",
       "    </tr>\n",
       "  </tbody>\n",
       "</table>\n",
       "</div>"
      ],
      "text/plain": [
       "  experiment_group_type new_segment  vol_churn_bal  vol_churn  individual_id\n",
       "0                     H         HMO       0.116195   0.133622         4161.0\n",
       "1                     T         HMO       0.113848   0.108213        10544.0"
      ]
     },
     "execution_count": 52,
     "metadata": {},
     "output_type": "execute_result"
    }
   ],
   "source": [
    "factor(data_frame , 'new_segment' ,'HMO')"
   ]
  },
  {
   "cell_type": "code",
   "execution_count": 53,
   "metadata": {},
   "outputs": [
    {
     "name": "stdout",
     "output_type": "stream",
     "text": [
      "new_segment PPO\n",
      "Optimization terminated successfully.\n",
      "         Current function value: 0.356300\n",
      "         Iterations 7\n"
     ]
    },
    {
     "name": "stderr",
     "output_type": "stream",
     "text": [
      "/users/n323489/.conda/envs/n323489_pyconnect_py37/lib/python3.7/site-packages/ipykernel_launcher.py:7: SettingWithCopyWarning: \n",
      "A value is trying to be set on a copy of a slice from a DataFrame.\n",
      "Try using .loc[row_indexer,col_indexer] = value instead\n",
      "\n",
      "See the caveats in the documentation: https://pandas.pydata.org/pandas-docs/stable/user_guide/indexing.html#returning-a-view-versus-a-copy\n",
      "  import sys\n",
      "/users/n323489/.conda/envs/n323489_pyconnect_py37/lib/python3.7/site-packages/ipykernel_launcher.py:22: SettingWithCopyWarning: \n",
      "A value is trying to be set on a copy of a slice from a DataFrame.\n",
      "Try using .loc[row_indexer,col_indexer] = value instead\n",
      "\n",
      "See the caveats in the documentation: https://pandas.pydata.org/pandas-docs/stable/user_guide/indexing.html#returning-a-view-versus-a-copy\n"
     ]
    },
    {
     "name": "stdout",
     "output_type": "stream",
     "text": [
      "expt_label\n",
      "False    1.0\n",
      "True     1.0\n",
      "Name: st_wt, dtype: float64\n",
      "0.005012677407954786 T\n",
      "None\n"
     ]
    },
    {
     "name": "stderr",
     "output_type": "stream",
     "text": [
      "/users/n323489/.conda/envs/n323489_pyconnect_py37/lib/python3.7/site-packages/ipykernel_launcher.py:31: SettingWithCopyWarning: \n",
      "A value is trying to be set on a copy of a slice from a DataFrame.\n",
      "Try using .loc[row_indexer,col_indexer] = value instead\n",
      "\n",
      "See the caveats in the documentation: https://pandas.pydata.org/pandas-docs/stable/user_guide/indexing.html#returning-a-view-versus-a-copy\n",
      "/users/n323489/.conda/envs/n323489_pyconnect_py37/lib/python3.7/site-packages/ipykernel_launcher.py:33: SettingWithCopyWarning: \n",
      "A value is trying to be set on a copy of a slice from a DataFrame.\n",
      "Try using .loc[row_indexer,col_indexer] = value instead\n",
      "\n",
      "See the caveats in the documentation: https://pandas.pydata.org/pandas-docs/stable/user_guide/indexing.html#returning-a-view-versus-a-copy\n",
      "/users/n323489/.conda/envs/n323489_pyconnect_py37/lib/python3.7/site-packages/ipykernel_launcher.py:34: SettingWithCopyWarning: \n",
      "A value is trying to be set on a copy of a slice from a DataFrame\n",
      "\n",
      "See the caveats in the documentation: https://pandas.pydata.org/pandas-docs/stable/user_guide/indexing.html#returning-a-view-versus-a-copy\n",
      "/users/n323489/.conda/envs/n323489_pyconnect_py37/lib/python3.7/site-packages/pandas/core/generic.py:8767: SettingWithCopyWarning: \n",
      "A value is trying to be set on a copy of a slice from a DataFrame\n",
      "\n",
      "See the caveats in the documentation: https://pandas.pydata.org/pandas-docs/stable/user_guide/indexing.html#returning-a-view-versus-a-copy\n",
      "  self._update_inplace(new_data)\n",
      "/users/n323489/.conda/envs/n323489_pyconnect_py37/lib/python3.7/site-packages/ipykernel_launcher.py:35: SettingWithCopyWarning: \n",
      "A value is trying to be set on a copy of a slice from a DataFrame\n",
      "\n",
      "See the caveats in the documentation: https://pandas.pydata.org/pandas-docs/stable/user_guide/indexing.html#returning-a-view-versus-a-copy\n",
      "/users/n323489/.conda/envs/n323489_pyconnect_py37/lib/python3.7/site-packages/ipykernel_launcher.py:42: SettingWithCopyWarning: \n",
      "A value is trying to be set on a copy of a slice from a DataFrame.\n",
      "Try using .loc[row_indexer,col_indexer] = value instead\n",
      "\n",
      "See the caveats in the documentation: https://pandas.pydata.org/pandas-docs/stable/user_guide/indexing.html#returning-a-view-versus-a-copy\n"
     ]
    },
    {
     "data": {
      "text/html": [
       "<div>\n",
       "<style scoped>\n",
       "    .dataframe tbody tr th:only-of-type {\n",
       "        vertical-align: middle;\n",
       "    }\n",
       "\n",
       "    .dataframe tbody tr th {\n",
       "        vertical-align: top;\n",
       "    }\n",
       "\n",
       "    .dataframe thead th {\n",
       "        text-align: right;\n",
       "    }\n",
       "</style>\n",
       "<table border=\"1\" class=\"dataframe\">\n",
       "  <thead>\n",
       "    <tr style=\"text-align: right;\">\n",
       "      <th></th>\n",
       "      <th>experiment_group_type</th>\n",
       "      <th>new_segment</th>\n",
       "      <th>vol_churn_bal</th>\n",
       "      <th>vol_churn</th>\n",
       "      <th>individual_id</th>\n",
       "    </tr>\n",
       "  </thead>\n",
       "  <tbody>\n",
       "    <tr>\n",
       "      <th>0</th>\n",
       "      <td>H</td>\n",
       "      <td>PPO</td>\n",
       "      <td>0.081615</td>\n",
       "      <td>0.115644</td>\n",
       "      <td>5344.0</td>\n",
       "    </tr>\n",
       "    <tr>\n",
       "      <th>1</th>\n",
       "      <td>T</td>\n",
       "      <td>PPO</td>\n",
       "      <td>0.071817</td>\n",
       "      <td>0.067342</td>\n",
       "      <td>37406.0</td>\n",
       "    </tr>\n",
       "  </tbody>\n",
       "</table>\n",
       "</div>"
      ],
      "text/plain": [
       "  experiment_group_type new_segment  vol_churn_bal  vol_churn  individual_id\n",
       "0                     H         PPO       0.081615   0.115644         5344.0\n",
       "1                     T         PPO       0.071817   0.067342        37406.0"
      ]
     },
     "execution_count": 53,
     "metadata": {},
     "output_type": "execute_result"
    }
   ],
   "source": [
    "factor(data_frame , 'new_segment' ,'PPO')"
   ]
  },
  {
   "cell_type": "code",
   "execution_count": 54,
   "metadata": {},
   "outputs": [
    {
     "name": "stdout",
     "output_type": "stream",
     "text": [
      "new_segment New to MAPD\n",
      "Optimization terminated successfully.\n",
      "         Current function value: 0.337145\n",
      "         Iterations 6\n"
     ]
    },
    {
     "name": "stderr",
     "output_type": "stream",
     "text": [
      "/users/n323489/.conda/envs/n323489_pyconnect_py37/lib/python3.7/site-packages/ipykernel_launcher.py:7: SettingWithCopyWarning: \n",
      "A value is trying to be set on a copy of a slice from a DataFrame.\n",
      "Try using .loc[row_indexer,col_indexer] = value instead\n",
      "\n",
      "See the caveats in the documentation: https://pandas.pydata.org/pandas-docs/stable/user_guide/indexing.html#returning-a-view-versus-a-copy\n",
      "  import sys\n",
      "/users/n323489/.conda/envs/n323489_pyconnect_py37/lib/python3.7/site-packages/ipykernel_launcher.py:22: SettingWithCopyWarning: \n",
      "A value is trying to be set on a copy of a slice from a DataFrame.\n",
      "Try using .loc[row_indexer,col_indexer] = value instead\n",
      "\n",
      "See the caveats in the documentation: https://pandas.pydata.org/pandas-docs/stable/user_guide/indexing.html#returning-a-view-versus-a-copy\n"
     ]
    },
    {
     "name": "stdout",
     "output_type": "stream",
     "text": [
      "expt_label\n",
      "False    1.0\n",
      "True     1.0\n",
      "Name: st_wt, dtype: float64\n",
      "3.686125749553089e-05 T\n",
      "None\n"
     ]
    },
    {
     "name": "stderr",
     "output_type": "stream",
     "text": [
      "/users/n323489/.conda/envs/n323489_pyconnect_py37/lib/python3.7/site-packages/ipykernel_launcher.py:31: SettingWithCopyWarning: \n",
      "A value is trying to be set on a copy of a slice from a DataFrame.\n",
      "Try using .loc[row_indexer,col_indexer] = value instead\n",
      "\n",
      "See the caveats in the documentation: https://pandas.pydata.org/pandas-docs/stable/user_guide/indexing.html#returning-a-view-versus-a-copy\n",
      "/users/n323489/.conda/envs/n323489_pyconnect_py37/lib/python3.7/site-packages/ipykernel_launcher.py:33: SettingWithCopyWarning: \n",
      "A value is trying to be set on a copy of a slice from a DataFrame.\n",
      "Try using .loc[row_indexer,col_indexer] = value instead\n",
      "\n",
      "See the caveats in the documentation: https://pandas.pydata.org/pandas-docs/stable/user_guide/indexing.html#returning-a-view-versus-a-copy\n",
      "/users/n323489/.conda/envs/n323489_pyconnect_py37/lib/python3.7/site-packages/ipykernel_launcher.py:34: SettingWithCopyWarning: \n",
      "A value is trying to be set on a copy of a slice from a DataFrame\n",
      "\n",
      "See the caveats in the documentation: https://pandas.pydata.org/pandas-docs/stable/user_guide/indexing.html#returning-a-view-versus-a-copy\n",
      "/users/n323489/.conda/envs/n323489_pyconnect_py37/lib/python3.7/site-packages/pandas/core/generic.py:8767: SettingWithCopyWarning: \n",
      "A value is trying to be set on a copy of a slice from a DataFrame\n",
      "\n",
      "See the caveats in the documentation: https://pandas.pydata.org/pandas-docs/stable/user_guide/indexing.html#returning-a-view-versus-a-copy\n",
      "  self._update_inplace(new_data)\n",
      "/users/n323489/.conda/envs/n323489_pyconnect_py37/lib/python3.7/site-packages/ipykernel_launcher.py:35: SettingWithCopyWarning: \n",
      "A value is trying to be set on a copy of a slice from a DataFrame\n",
      "\n",
      "See the caveats in the documentation: https://pandas.pydata.org/pandas-docs/stable/user_guide/indexing.html#returning-a-view-versus-a-copy\n",
      "/users/n323489/.conda/envs/n323489_pyconnect_py37/lib/python3.7/site-packages/ipykernel_launcher.py:42: SettingWithCopyWarning: \n",
      "A value is trying to be set on a copy of a slice from a DataFrame.\n",
      "Try using .loc[row_indexer,col_indexer] = value instead\n",
      "\n",
      "See the caveats in the documentation: https://pandas.pydata.org/pandas-docs/stable/user_guide/indexing.html#returning-a-view-versus-a-copy\n"
     ]
    },
    {
     "data": {
      "text/html": [
       "<div>\n",
       "<style scoped>\n",
       "    .dataframe tbody tr th:only-of-type {\n",
       "        vertical-align: middle;\n",
       "    }\n",
       "\n",
       "    .dataframe tbody tr th {\n",
       "        vertical-align: top;\n",
       "    }\n",
       "\n",
       "    .dataframe thead th {\n",
       "        text-align: right;\n",
       "    }\n",
       "</style>\n",
       "<table border=\"1\" class=\"dataframe\">\n",
       "  <thead>\n",
       "    <tr style=\"text-align: right;\">\n",
       "      <th></th>\n",
       "      <th>experiment_group_type</th>\n",
       "      <th>new_segment</th>\n",
       "      <th>vol_churn_bal</th>\n",
       "      <th>vol_churn</th>\n",
       "      <th>individual_id</th>\n",
       "    </tr>\n",
       "  </thead>\n",
       "  <tbody>\n",
       "    <tr>\n",
       "      <th>0</th>\n",
       "      <td>H</td>\n",
       "      <td>New to MAPD</td>\n",
       "      <td>0.056349</td>\n",
       "      <td>0.068633</td>\n",
       "      <td>3322.0</td>\n",
       "    </tr>\n",
       "    <tr>\n",
       "      <th>1</th>\n",
       "      <td>T</td>\n",
       "      <td>New to MAPD</td>\n",
       "      <td>0.041512</td>\n",
       "      <td>0.039767</td>\n",
       "      <td>26253.0</td>\n",
       "    </tr>\n",
       "  </tbody>\n",
       "</table>\n",
       "</div>"
      ],
      "text/plain": [
       "  experiment_group_type  new_segment  vol_churn_bal  vol_churn  individual_id\n",
       "0                     H  New to MAPD       0.056349   0.068633         3322.0\n",
       "1                     T  New to MAPD       0.041512   0.039767        26253.0"
      ]
     },
     "execution_count": 54,
     "metadata": {},
     "output_type": "execute_result"
    }
   ],
   "source": [
    "factor(data_frame , 'new_segment' ,'New to MAPD')"
   ]
  },
  {
   "cell_type": "code",
   "execution_count": 57,
   "metadata": {},
   "outputs": [
    {
     "name": "stdout",
     "output_type": "stream",
     "text": [
      "lis_ind 0\n"
     ]
    },
    {
     "name": "stderr",
     "output_type": "stream",
     "text": [
      "/users/n323489/.conda/envs/n323489_pyconnect_py37/lib/python3.7/site-packages/ipykernel_launcher.py:7: SettingWithCopyWarning: \n",
      "A value is trying to be set on a copy of a slice from a DataFrame.\n",
      "Try using .loc[row_indexer,col_indexer] = value instead\n",
      "\n",
      "See the caveats in the documentation: https://pandas.pydata.org/pandas-docs/stable/user_guide/indexing.html#returning-a-view-versus-a-copy\n",
      "  import sys\n"
     ]
    },
    {
     "name": "stdout",
     "output_type": "stream",
     "text": [
      "Optimization terminated successfully.\n",
      "         Current function value: 0.347504\n",
      "         Iterations 6\n"
     ]
    },
    {
     "name": "stderr",
     "output_type": "stream",
     "text": [
      "/users/n323489/.conda/envs/n323489_pyconnect_py37/lib/python3.7/site-packages/ipykernel_launcher.py:22: SettingWithCopyWarning: \n",
      "A value is trying to be set on a copy of a slice from a DataFrame.\n",
      "Try using .loc[row_indexer,col_indexer] = value instead\n",
      "\n",
      "See the caveats in the documentation: https://pandas.pydata.org/pandas-docs/stable/user_guide/indexing.html#returning-a-view-versus-a-copy\n"
     ]
    },
    {
     "name": "stdout",
     "output_type": "stream",
     "text": [
      "expt_label\n",
      "False    1.0\n",
      "True     1.0\n",
      "Name: st_wt, dtype: float64\n",
      "0.006012315651061722 T\n",
      "None\n"
     ]
    },
    {
     "name": "stderr",
     "output_type": "stream",
     "text": [
      "/users/n323489/.conda/envs/n323489_pyconnect_py37/lib/python3.7/site-packages/ipykernel_launcher.py:31: SettingWithCopyWarning: \n",
      "A value is trying to be set on a copy of a slice from a DataFrame.\n",
      "Try using .loc[row_indexer,col_indexer] = value instead\n",
      "\n",
      "See the caveats in the documentation: https://pandas.pydata.org/pandas-docs/stable/user_guide/indexing.html#returning-a-view-versus-a-copy\n",
      "/users/n323489/.conda/envs/n323489_pyconnect_py37/lib/python3.7/site-packages/ipykernel_launcher.py:33: SettingWithCopyWarning: \n",
      "A value is trying to be set on a copy of a slice from a DataFrame.\n",
      "Try using .loc[row_indexer,col_indexer] = value instead\n",
      "\n",
      "See the caveats in the documentation: https://pandas.pydata.org/pandas-docs/stable/user_guide/indexing.html#returning-a-view-versus-a-copy\n",
      "/users/n323489/.conda/envs/n323489_pyconnect_py37/lib/python3.7/site-packages/ipykernel_launcher.py:34: SettingWithCopyWarning: \n",
      "A value is trying to be set on a copy of a slice from a DataFrame\n",
      "\n",
      "See the caveats in the documentation: https://pandas.pydata.org/pandas-docs/stable/user_guide/indexing.html#returning-a-view-versus-a-copy\n",
      "/users/n323489/.conda/envs/n323489_pyconnect_py37/lib/python3.7/site-packages/pandas/core/generic.py:8767: SettingWithCopyWarning: \n",
      "A value is trying to be set on a copy of a slice from a DataFrame\n",
      "\n",
      "See the caveats in the documentation: https://pandas.pydata.org/pandas-docs/stable/user_guide/indexing.html#returning-a-view-versus-a-copy\n",
      "  self._update_inplace(new_data)\n",
      "/users/n323489/.conda/envs/n323489_pyconnect_py37/lib/python3.7/site-packages/ipykernel_launcher.py:35: SettingWithCopyWarning: \n",
      "A value is trying to be set on a copy of a slice from a DataFrame\n",
      "\n",
      "See the caveats in the documentation: https://pandas.pydata.org/pandas-docs/stable/user_guide/indexing.html#returning-a-view-versus-a-copy\n",
      "/users/n323489/.conda/envs/n323489_pyconnect_py37/lib/python3.7/site-packages/ipykernel_launcher.py:42: SettingWithCopyWarning: \n",
      "A value is trying to be set on a copy of a slice from a DataFrame.\n",
      "Try using .loc[row_indexer,col_indexer] = value instead\n",
      "\n",
      "See the caveats in the documentation: https://pandas.pydata.org/pandas-docs/stable/user_guide/indexing.html#returning-a-view-versus-a-copy\n"
     ]
    },
    {
     "data": {
      "text/html": [
       "<div>\n",
       "<style scoped>\n",
       "    .dataframe tbody tr th:only-of-type {\n",
       "        vertical-align: middle;\n",
       "    }\n",
       "\n",
       "    .dataframe tbody tr th {\n",
       "        vertical-align: top;\n",
       "    }\n",
       "\n",
       "    .dataframe thead th {\n",
       "        text-align: right;\n",
       "    }\n",
       "</style>\n",
       "<table border=\"1\" class=\"dataframe\">\n",
       "  <thead>\n",
       "    <tr style=\"text-align: right;\">\n",
       "      <th></th>\n",
       "      <th>experiment_group_type</th>\n",
       "      <th>lis_ind</th>\n",
       "      <th>vol_churn_bal</th>\n",
       "      <th>vol_churn</th>\n",
       "      <th>individual_id</th>\n",
       "    </tr>\n",
       "  </thead>\n",
       "  <tbody>\n",
       "    <tr>\n",
       "      <th>0</th>\n",
       "      <td>H</td>\n",
       "      <td>0</td>\n",
       "      <td>0.060632</td>\n",
       "      <td>0.079112</td>\n",
       "      <td>8608.0</td>\n",
       "    </tr>\n",
       "    <tr>\n",
       "      <th>1</th>\n",
       "      <td>T</td>\n",
       "      <td>0</td>\n",
       "      <td>0.054081</td>\n",
       "      <td>0.051818</td>\n",
       "      <td>66077.0</td>\n",
       "    </tr>\n",
       "  </tbody>\n",
       "</table>\n",
       "</div>"
      ],
      "text/plain": [
       "  experiment_group_type lis_ind  vol_churn_bal  vol_churn  individual_id\n",
       "0                     H       0       0.060632   0.079112         8608.0\n",
       "1                     T       0       0.054081   0.051818        66077.0"
      ]
     },
     "execution_count": 57,
     "metadata": {},
     "output_type": "execute_result"
    }
   ],
   "source": [
    "factor(data_frame , 'lis_ind' ,'0')"
   ]
  },
  {
   "cell_type": "code",
   "execution_count": 66,
   "metadata": {},
   "outputs": [
    {
     "data": {
      "text/plain": [
       "0    74685\n",
       "1    12345\n",
       "Name: lis_ind, dtype: int64"
      ]
     },
     "execution_count": 66,
     "metadata": {},
     "output_type": "execute_result"
    }
   ],
   "source": [
    "data_frame.lis_ind.value_counts()"
   ]
  },
  {
   "cell_type": "code",
   "execution_count": 65,
   "metadata": {},
   "outputs": [],
   "source": [
    "def factor(data_frame , factor ,fac_val):\n",
    "    print(factor,fac_val)\n",
    "    data1 = data_frame[data_frame[factor] != fac_val ]\n",
    "\n",
    "    \n",
    "    catg_col = ['decile']\n",
    "    data1['expt_label'] = data1['experiment_group_type'] == 'T'\n",
    "\n",
    "    all_var = catg_col \n",
    "    #converting categorical variables into one-hot vectors\n",
    "    X = data1[all_var]\n",
    "    X = pd.get_dummies(X, columns = catg_col, prefix = catg_col, drop_first = True)\n",
    "    Y = data1['expt_label']\n",
    "\n",
    "    import statsmodels.api as sm\n",
    "    X_1=sm.add_constant(X)\n",
    "    logit_model=sm.Logit(Y,X_1,method='bfgs')\n",
    "    result1=logit_model.fit()\n",
    "\n",
    "\n",
    "\n",
    "    data1['p_scores_lr'] = result1.predict(X_1)\n",
    "\n",
    "\n",
    "    def treatment(exp_type,p):\n",
    "        if (exp_type):\n",
    "            return 1.0/p\n",
    "        else:\n",
    "            return 1.0/(1-p) \n",
    "    def weightcalc(dfg,p_col,wt_col,std_col):\n",
    "        dfg[wt_col] = dfg.apply(lambda x: treatment(x['expt_label'],x['p_scores_lr']),axis=1)\n",
    "        #weight standardization\n",
    "        dfg[std_col] = 1\n",
    "        dfg[std_col][dfg['expt_label']== False] = dfg[wt_col]/dfg[wt_col][dfg['expt_label']== False].mean()\n",
    "        dfg[std_col][dfg['expt_label']== True] = dfg[wt_col]/dfg[wt_col][dfg['expt_label']== True].mean()\n",
    "        df_wt = dfg.groupby('expt_label')[std_col].mean()\n",
    "        print(df_wt)\n",
    "        return dfg\n",
    "\n",
    "\n",
    "    dfni1 = weightcalc(data1,'p_scores_lr','weight','st_wt')\n",
    "    data1['vol_churn_bal'] = data1['vol_churn']*data1['st_wt']\n",
    "    col = ['experiment_group_type' , factor , 'vol_churn_bal', 'vol_churn']\n",
    "    sale = pd.DataFrame(columns = col)\n",
    "    for i in list(data1['sales_channel_updated'].unique()):\n",
    "        a = (pd.DataFrame(data1.groupby(['experiment_group_type',factor]).vol_churn_bal.mean()))\n",
    "        b = (pd.DataFrame(data1.groupby(['experiment_group_type',factor]).vol_churn.mean()))\n",
    "        d = (pd.DataFrame(data1.groupby(['experiment_group_type',factor]).individual_id.count()))\n",
    "        a.reset_index(inplace = True)\n",
    "        b.reset_index(inplace = True)\n",
    "        d.reset_index(inplace=True)\n",
    "        c = pd.merge(a,b,how = 'inner')\n",
    "        d = pd.merge(d,c, how = 'inner')\n",
    "        sale = pd.concat([sale,d], axis = 0)\n",
    "        \n",
    "        \n",
    "        print (ztest_prop(data1 ))\n",
    "        return (sale)\n",
    "    \n"
   ]
  },
  {
   "cell_type": "code",
   "execution_count": 75,
   "metadata": {},
   "outputs": [
    {
     "name": "stdout",
     "output_type": "stream",
     "text": [
      "lis_ind 0\n",
      "Optimization terminated successfully.\n",
      "         Current function value: 0.635596\n",
      "         Iterations 5\n"
     ]
    },
    {
     "name": "stderr",
     "output_type": "stream",
     "text": [
      "/users/n323489/.conda/envs/n323489_pyconnect_py37/lib/python3.7/site-packages/ipykernel_launcher.py:7: SettingWithCopyWarning: \n",
      "A value is trying to be set on a copy of a slice from a DataFrame.\n",
      "Try using .loc[row_indexer,col_indexer] = value instead\n",
      "\n",
      "See the caveats in the documentation: https://pandas.pydata.org/pandas-docs/stable/user_guide/indexing.html#returning-a-view-versus-a-copy\n",
      "  import sys\n",
      "/users/n323489/.conda/envs/n323489_pyconnect_py37/lib/python3.7/site-packages/ipykernel_launcher.py:22: SettingWithCopyWarning: \n",
      "A value is trying to be set on a copy of a slice from a DataFrame.\n",
      "Try using .loc[row_indexer,col_indexer] = value instead\n",
      "\n",
      "See the caveats in the documentation: https://pandas.pydata.org/pandas-docs/stable/user_guide/indexing.html#returning-a-view-versus-a-copy\n"
     ]
    },
    {
     "name": "stdout",
     "output_type": "stream",
     "text": [
      "expt_label\n",
      "False    1.0\n",
      "True     1.0\n",
      "Name: st_wt, dtype: float64\n",
      "0.473767843760593 T\n",
      "None\n"
     ]
    },
    {
     "name": "stderr",
     "output_type": "stream",
     "text": [
      "/users/n323489/.conda/envs/n323489_pyconnect_py37/lib/python3.7/site-packages/ipykernel_launcher.py:31: SettingWithCopyWarning: \n",
      "A value is trying to be set on a copy of a slice from a DataFrame.\n",
      "Try using .loc[row_indexer,col_indexer] = value instead\n",
      "\n",
      "See the caveats in the documentation: https://pandas.pydata.org/pandas-docs/stable/user_guide/indexing.html#returning-a-view-versus-a-copy\n",
      "/users/n323489/.conda/envs/n323489_pyconnect_py37/lib/python3.7/site-packages/ipykernel_launcher.py:33: SettingWithCopyWarning: \n",
      "A value is trying to be set on a copy of a slice from a DataFrame.\n",
      "Try using .loc[row_indexer,col_indexer] = value instead\n",
      "\n",
      "See the caveats in the documentation: https://pandas.pydata.org/pandas-docs/stable/user_guide/indexing.html#returning-a-view-versus-a-copy\n",
      "/users/n323489/.conda/envs/n323489_pyconnect_py37/lib/python3.7/site-packages/ipykernel_launcher.py:34: SettingWithCopyWarning: \n",
      "A value is trying to be set on a copy of a slice from a DataFrame\n",
      "\n",
      "See the caveats in the documentation: https://pandas.pydata.org/pandas-docs/stable/user_guide/indexing.html#returning-a-view-versus-a-copy\n",
      "/users/n323489/.conda/envs/n323489_pyconnect_py37/lib/python3.7/site-packages/pandas/core/generic.py:8767: SettingWithCopyWarning: \n",
      "A value is trying to be set on a copy of a slice from a DataFrame\n",
      "\n",
      "See the caveats in the documentation: https://pandas.pydata.org/pandas-docs/stable/user_guide/indexing.html#returning-a-view-versus-a-copy\n",
      "  self._update_inplace(new_data)\n",
      "/users/n323489/.conda/envs/n323489_pyconnect_py37/lib/python3.7/site-packages/ipykernel_launcher.py:35: SettingWithCopyWarning: \n",
      "A value is trying to be set on a copy of a slice from a DataFrame\n",
      "\n",
      "See the caveats in the documentation: https://pandas.pydata.org/pandas-docs/stable/user_guide/indexing.html#returning-a-view-versus-a-copy\n",
      "/users/n323489/.conda/envs/n323489_pyconnect_py37/lib/python3.7/site-packages/ipykernel_launcher.py:42: SettingWithCopyWarning: \n",
      "A value is trying to be set on a copy of a slice from a DataFrame.\n",
      "Try using .loc[row_indexer,col_indexer] = value instead\n",
      "\n",
      "See the caveats in the documentation: https://pandas.pydata.org/pandas-docs/stable/user_guide/indexing.html#returning-a-view-versus-a-copy\n"
     ]
    },
    {
     "data": {
      "text/html": [
       "<div>\n",
       "<style scoped>\n",
       "    .dataframe tbody tr th:only-of-type {\n",
       "        vertical-align: middle;\n",
       "    }\n",
       "\n",
       "    .dataframe tbody tr th {\n",
       "        vertical-align: top;\n",
       "    }\n",
       "\n",
       "    .dataframe thead th {\n",
       "        text-align: right;\n",
       "    }\n",
       "</style>\n",
       "<table border=\"1\" class=\"dataframe\">\n",
       "  <thead>\n",
       "    <tr style=\"text-align: right;\">\n",
       "      <th></th>\n",
       "      <th>experiment_group_type</th>\n",
       "      <th>lis_ind</th>\n",
       "      <th>vol_churn_bal</th>\n",
       "      <th>vol_churn</th>\n",
       "      <th>individual_id</th>\n",
       "    </tr>\n",
       "  </thead>\n",
       "  <tbody>\n",
       "    <tr>\n",
       "      <th>0</th>\n",
       "      <td>H</td>\n",
       "      <td>1</td>\n",
       "      <td>0.161594</td>\n",
       "      <td>0.170894</td>\n",
       "      <td>4219.0</td>\n",
       "    </tr>\n",
       "    <tr>\n",
       "      <th>1</th>\n",
       "      <td>T</td>\n",
       "      <td>1</td>\n",
       "      <td>0.161135</td>\n",
       "      <td>0.157519</td>\n",
       "      <td>8126.0</td>\n",
       "    </tr>\n",
       "  </tbody>\n",
       "</table>\n",
       "</div>"
      ],
      "text/plain": [
       "  experiment_group_type lis_ind  vol_churn_bal  vol_churn  individual_id\n",
       "0                     H       1       0.161594   0.170894         4219.0\n",
       "1                     T       1       0.161135   0.157519         8126.0"
      ]
     },
     "execution_count": 75,
     "metadata": {},
     "output_type": "execute_result"
    }
   ],
   "source": [
    "factor(data_frame , 'lis_ind' ,'0')"
   ]
  },
  {
   "cell_type": "code",
   "execution_count": null,
   "metadata": {},
   "outputs": [],
   "source": []
  },
  {
   "cell_type": "markdown",
   "metadata": {},
   "source": [
    "col = ['experiment_group_type' , 'new_segment' , 'vol_churn_bal', 'vol_churn']\n",
    "seg = pd.DataFrame(columns = col)\n",
    "for i in list(data1['new_segment'].unique()):\n",
    "    a = (pd.DataFrame(data1[data1['new_segment']== i ].groupby(['experiment_group_type','new_segment']).vol_churn_bal.mean()))\n",
    "    b = (pd.DataFrame(data1[data1['new_segment']== i ].groupby(['experiment_group_type','new_segment']).vol_churn.mean()))\n",
    "    d = (pd.DataFrame(data1[data1['new_segment']== i ].groupby(['experiment_group_type','new_segment']).individual_id.count()))\n",
    "    a.reset_index(inplace = True)\n",
    "    b.reset_index(inplace = True)\n",
    "    d.reset_index(inplace=True)\n",
    "    c = pd.merge(a,b,how = 'inner')\n",
    "    d = pd.merge(d,c, how = 'inner')\n",
    "    seg = pd.concat([seg,d], axis = 0)"
   ]
  },
  {
   "cell_type": "markdown",
   "metadata": {},
   "source": [
    "col = ['experiment_group_type' , 'lis_ind' , 'vol_churn_bal', 'vol_churn']\n",
    "lis = pd.DataFrame(columns = col)\n",
    "for i in list(data1['lis_ind'].unique()):\n",
    "    a = (pd.DataFrame(data1[data1['lis_ind']== i ].groupby(['experiment_group_type','lis_ind']).vol_churn_bal.mean()))\n",
    "    b = (pd.DataFrame(data1[data1['lis_ind']== i ].groupby(['experiment_group_type','lis_ind']).vol_churn.mean()))\n",
    "    d = (pd.DataFrame(data1[data1['lis_ind']== i ].groupby(['experiment_group_type','lis_ind']).individual_id.count()))\n",
    "    a.reset_index(inplace = True)\n",
    "    b.reset_index(inplace = True)\n",
    "    d.reset_index(inplace=True)\n",
    "    c = pd.merge(a,b,how = 'inner')\n",
    "    d = pd.merge(d,c, how = 'inner')\n",
    "    lis = pd.concat([lis,d], axis = 0)"
   ]
  },
  {
   "cell_type": "markdown",
   "metadata": {},
   "source": [
    "excelfilename = \"test.xlsx\"\n",
    "with pd.ExcelWriter(excelfilename) as writer:\n",
    "    lis.to_excel(writer,sheet_name = 'lis' , startrow = 1  )\n",
    "    seg.to_excel(writer,sheet_name = 'seg' , startrow = len(lis) + 5  )\n",
    "    sale.to_excel(writer,sheet_name = 'ale' , startrow = len(lis) + len(seg) + 5  )"
   ]
  },
  {
   "cell_type": "markdown",
   "metadata": {},
   "source": [
    "from statsmodels.stats.proportion import proportions_ztest\n",
    "import scipy\n",
    "from scipy import stats\n",
    "from scipy.stats import norm\n",
    "\n",
    "import  numpy as np\n",
    "def ztest_prop(df0):\n",
    "    \n",
    "    d1 = df0[df0['experiment_group_type']== 'T'  ]\n",
    "    d2 = df0[df0['experiment_group_type']=='H']\n",
    "    count=np.array([d1['vol_churn_bal'].sum(), d2['vol_churn_bal'].sum()])\n",
    "    nobs = np.array([d1['vol_churn_bal'].count(), d2['vol_churn_bal'].count()])\n",
    "    stat, pval = proportions_ztest(count, nobs,alternative='smaller')   #alter : T<H\n",
    "    pval1 = stats.norm.cdf(stat)\n",
    "    print (pval )\n",
    "\n",
    "\n",
    "for j in list(data1['sales_channel_updated'].unique()):\n",
    "    print(j)\n",
    "    ztest_prop(data1[data1['sales_channel_updated']== j])\n",
    "    \n",
    "for j in list(data1['lis_ind'].unique()):\n",
    "    print(j)\n",
    "    ztest_prop(data1[data1['lis_ind']== j])\n",
    "        \n",
    "for j in list(data1['new_segment'].unique()):\n",
    "    print(j)\n",
    "    ztest_prop(data1[data1['new_segment']== j])\n",
    "    "
   ]
  },
  {
   "cell_type": "code",
   "execution_count": null,
   "metadata": {},
   "outputs": [],
   "source": []
  },
  {
   "cell_type": "code",
   "execution_count": null,
   "metadata": {},
   "outputs": [],
   "source": []
  },
  {
   "cell_type": "code",
   "execution_count": null,
   "metadata": {},
   "outputs": [],
   "source": []
  },
  {
   "cell_type": "code",
   "execution_count": null,
   "metadata": {},
   "outputs": [],
   "source": []
  },
  {
   "cell_type": "code",
   "execution_count": null,
   "metadata": {},
   "outputs": [],
   "source": []
  },
  {
   "cell_type": "markdown",
   "metadata": {},
   "source": [
    "# PODS + MC"
   ]
  },
  {
   "cell_type": "code",
   "execution_count": 4,
   "metadata": {},
   "outputs": [],
   "source": [
    "data3 = hc.sql(\"\"\" select a.*, b.exp_group  as mc_exp_group , concat(experiment_group_type,b.exp_group) as pods_mc_group \n",
    "from cust_exp_Enc.n323489_pods_v1 a \n",
    "inner join (select distinct proxy_id, exp_group from cust_exp_enc.n275675_market_Welcome_call_2021_master_v1) b \n",
    "on a.proxy_id = b.proxy_id\n",
    "\"\"\").toPandas()"
   ]
  },
  {
   "cell_type": "code",
   "execution_count": 5,
   "metadata": {},
   "outputs": [
    {
     "data": {
      "text/plain": [
       "11107"
      ]
     },
     "execution_count": 5,
     "metadata": {},
     "output_type": "execute_result"
    }
   ],
   "source": [
    "data3.proxy_id.nunique()"
   ]
  },
  {
   "cell_type": "code",
   "execution_count": 6,
   "metadata": {},
   "outputs": [
    {
     "data": {
      "text/html": [
       "<div>\n",
       "<style scoped>\n",
       "    .dataframe tbody tr th:only-of-type {\n",
       "        vertical-align: middle;\n",
       "    }\n",
       "\n",
       "    .dataframe tbody tr th {\n",
       "        vertical-align: top;\n",
       "    }\n",
       "\n",
       "    .dataframe thead th {\n",
       "        text-align: right;\n",
       "    }\n",
       "</style>\n",
       "<table border=\"1\" class=\"dataframe\">\n",
       "  <thead>\n",
       "    <tr style=\"text-align: right;\">\n",
       "      <th></th>\n",
       "      <th>proxy_id</th>\n",
       "      <th>individual_id</th>\n",
       "      <th>experiment_group_type</th>\n",
       "      <th>test_cell_id</th>\n",
       "      <th>run_datetime</th>\n",
       "      <th>channel</th>\n",
       "      <th>surp_ref</th>\n",
       "      <th>cms_county</th>\n",
       "      <th>cms_id</th>\n",
       "      <th>cms_state</th>\n",
       "      <th>...</th>\n",
       "      <th>new_segment</th>\n",
       "      <th>sales_channel_updated</th>\n",
       "      <th>open_access</th>\n",
       "      <th>platform</th>\n",
       "      <th>welcome_call_holdout</th>\n",
       "      <th>welcome_call_treatment</th>\n",
       "      <th>mzb_indiv_id</th>\n",
       "      <th>vol_churn</th>\n",
       "      <th>mc_exp_group</th>\n",
       "      <th>pods_mc_group</th>\n",
       "    </tr>\n",
       "  </thead>\n",
       "  <tbody>\n",
       "    <tr>\n",
       "      <th>0</th>\n",
       "      <td>00BHGRBBBPXY</td>\n",
       "      <td>195779190489</td>\n",
       "      <td>T</td>\n",
       "      <td>T_HMO_no_LIS_ndp_dm_email_reframe</td>\n",
       "      <td>2021-01-11 09:19:15</td>\n",
       "      <td>DM_EMAIL</td>\n",
       "      <td>Reframe</td>\n",
       "      <td>ALAMEDA</td>\n",
       "      <td>H4982-005</td>\n",
       "      <td>CA</td>\n",
       "      <td>...</td>\n",
       "      <td>HMO</td>\n",
       "      <td>NDP</td>\n",
       "      <td>PCPRequired/RefRequired</td>\n",
       "      <td>HMO</td>\n",
       "      <td>0</td>\n",
       "      <td>1</td>\n",
       "      <td>676274454</td>\n",
       "      <td>0</td>\n",
       "      <td>T</td>\n",
       "      <td>TT</td>\n",
       "    </tr>\n",
       "    <tr>\n",
       "      <th>1</th>\n",
       "      <td>014T7QBBBPXZ</td>\n",
       "      <td>343791258681468</td>\n",
       "      <td>H</td>\n",
       "      <td>H_HMO_no_LIS_ndp_dm</td>\n",
       "      <td>2021-01-11 09:19:13</td>\n",
       "      <td>DM</td>\n",
       "      <td>Holdout</td>\n",
       "      <td>LOS ANGELES</td>\n",
       "      <td>H4982-001</td>\n",
       "      <td>CA</td>\n",
       "      <td>...</td>\n",
       "      <td>HMO</td>\n",
       "      <td>NDP</td>\n",
       "      <td>PCPRequired/RefRequired</td>\n",
       "      <td>HMO</td>\n",
       "      <td>0</td>\n",
       "      <td>1</td>\n",
       "      <td>814213992</td>\n",
       "      <td>0</td>\n",
       "      <td>T</td>\n",
       "      <td>HT</td>\n",
       "    </tr>\n",
       "    <tr>\n",
       "      <th>2</th>\n",
       "      <td>01BW57BBBPXY</td>\n",
       "      <td>655861603867198</td>\n",
       "      <td>H</td>\n",
       "      <td>H_HMO_no_LIS_strategic_dm</td>\n",
       "      <td>2021-01-11 09:19:21</td>\n",
       "      <td>DM</td>\n",
       "      <td>Holdout</td>\n",
       "      <td>MARIN</td>\n",
       "      <td>H4982-011</td>\n",
       "      <td>CA</td>\n",
       "      <td>...</td>\n",
       "      <td>HMO</td>\n",
       "      <td>Strategic</td>\n",
       "      <td>PCPRequired/RefRequired</td>\n",
       "      <td>HMO</td>\n",
       "      <td>0</td>\n",
       "      <td>1</td>\n",
       "      <td>665322810</td>\n",
       "      <td>1</td>\n",
       "      <td>T</td>\n",
       "      <td>HT</td>\n",
       "    </tr>\n",
       "    <tr>\n",
       "      <th>3</th>\n",
       "      <td>01D9GRBBBPXY</td>\n",
       "      <td>1990179825569</td>\n",
       "      <td>T</td>\n",
       "      <td>T_HMO_no_LIS_ndp_dm_email_surprise</td>\n",
       "      <td>2021-01-11 09:19:16</td>\n",
       "      <td>DM_EMAIL</td>\n",
       "      <td>Surprise</td>\n",
       "      <td>SAN DIEGO</td>\n",
       "      <td>H4982-004</td>\n",
       "      <td>CA</td>\n",
       "      <td>...</td>\n",
       "      <td>HMO</td>\n",
       "      <td>NDP</td>\n",
       "      <td>PCPRequired/RefRequired</td>\n",
       "      <td>HMO</td>\n",
       "      <td>0</td>\n",
       "      <td>1</td>\n",
       "      <td>128920739</td>\n",
       "      <td>0</td>\n",
       "      <td>T</td>\n",
       "      <td>TT</td>\n",
       "    </tr>\n",
       "    <tr>\n",
       "      <th>4</th>\n",
       "      <td>01KG7RBBBPXY</td>\n",
       "      <td>8316365982553</td>\n",
       "      <td>T</td>\n",
       "      <td>T_HMO_LIS_strategic_dm_email_surprise</td>\n",
       "      <td>2021-01-11 09:19:18</td>\n",
       "      <td>DM_EMAIL</td>\n",
       "      <td>Surprise</td>\n",
       "      <td>UNION</td>\n",
       "      <td>H3152-080</td>\n",
       "      <td>NJ</td>\n",
       "      <td>...</td>\n",
       "      <td>HMO</td>\n",
       "      <td>Strategic</td>\n",
       "      <td>PCPNotRequired/RefNotRequired</td>\n",
       "      <td>HMO</td>\n",
       "      <td>0</td>\n",
       "      <td>1</td>\n",
       "      <td>814304141</td>\n",
       "      <td>0</td>\n",
       "      <td>T</td>\n",
       "      <td>TT</td>\n",
       "    </tr>\n",
       "  </tbody>\n",
       "</table>\n",
       "<p>5 rows × 33 columns</p>\n",
       "</div>"
      ],
      "text/plain": [
       "       proxy_id    individual_id experiment_group_type  \\\n",
       "0  00BHGRBBBPXY     195779190489                     T   \n",
       "1  014T7QBBBPXZ  343791258681468                     H   \n",
       "2  01BW57BBBPXY  655861603867198                     H   \n",
       "3  01D9GRBBBPXY    1990179825569                     T   \n",
       "4  01KG7RBBBPXY    8316365982553                     T   \n",
       "\n",
       "                            test_cell_id        run_datetime   channel  \\\n",
       "0      T_HMO_no_LIS_ndp_dm_email_reframe 2021-01-11 09:19:15  DM_EMAIL   \n",
       "1                    H_HMO_no_LIS_ndp_dm 2021-01-11 09:19:13        DM   \n",
       "2              H_HMO_no_LIS_strategic_dm 2021-01-11 09:19:21        DM   \n",
       "3     T_HMO_no_LIS_ndp_dm_email_surprise 2021-01-11 09:19:16  DM_EMAIL   \n",
       "4  T_HMO_LIS_strategic_dm_email_surprise 2021-01-11 09:19:18  DM_EMAIL   \n",
       "\n",
       "   surp_ref   cms_county     cms_id cms_state  ... new_segment  \\\n",
       "0   Reframe      ALAMEDA  H4982-005        CA  ...         HMO   \n",
       "1   Holdout  LOS ANGELES  H4982-001        CA  ...         HMO   \n",
       "2   Holdout        MARIN  H4982-011        CA  ...         HMO   \n",
       "3  Surprise    SAN DIEGO  H4982-004        CA  ...         HMO   \n",
       "4  Surprise        UNION  H3152-080        NJ  ...         HMO   \n",
       "\n",
       "  sales_channel_updated                    open_access platform  \\\n",
       "0                   NDP        PCPRequired/RefRequired      HMO   \n",
       "1                   NDP        PCPRequired/RefRequired      HMO   \n",
       "2             Strategic        PCPRequired/RefRequired      HMO   \n",
       "3                   NDP        PCPRequired/RefRequired      HMO   \n",
       "4             Strategic  PCPNotRequired/RefNotRequired      HMO   \n",
       "\n",
       "  welcome_call_holdout welcome_call_treatment mzb_indiv_id vol_churn  \\\n",
       "0                    0                      1    676274454         0   \n",
       "1                    0                      1    814213992         0   \n",
       "2                    0                      1    665322810         1   \n",
       "3                    0                      1    128920739         0   \n",
       "4                    0                      1    814304141         0   \n",
       "\n",
       "  mc_exp_group pods_mc_group  \n",
       "0            T            TT  \n",
       "1            T            HT  \n",
       "2            T            HT  \n",
       "3            T            TT  \n",
       "4            T            TT  \n",
       "\n",
       "[5 rows x 33 columns]"
      ]
     },
     "execution_count": 6,
     "metadata": {},
     "output_type": "execute_result"
    }
   ],
   "source": [
    "data3.head()"
   ]
  },
  {
   "cell_type": "code",
   "execution_count": 7,
   "metadata": {},
   "outputs": [],
   "source": [
    "import statsmodels.api as sm\n",
    "X = data3[['decile']]\n",
    "catg_col = ['decile']\n",
    "X = pd.get_dummies(X, columns = catg_col, prefix = catg_col, drop_first = True)\n",
    "Y = data3['pods_mc_group']\n",
    "X_1=sm.add_constant(X)"
   ]
  },
  {
   "cell_type": "code",
   "execution_count": 8,
   "metadata": {},
   "outputs": [
    {
     "name": "stdout",
     "output_type": "stream",
     "text": [
      "Optimization terminated successfully.\n",
      "         Current function value: 0.885469\n",
      "         Iterations 7\n",
      "                          MNLogit Regression Results                          \n",
      "==============================================================================\n",
      "Dep. Variable:          pods_mc_group   No. Observations:                11107\n",
      "Model:                        MNLogit   Df Residuals:                    11074\n",
      "Method:                           MLE   Df Model:                           30\n",
      "Date:                Thu, 15 Apr 2021   Pseudo R-squ.:                 0.01979\n",
      "Time:                        06:20:05   Log-Likelihood:                -9834.9\n",
      "converged:                       True   LL-Null:                       -10033.\n",
      "Covariance Type:            nonrobust   LLR p-value:                 1.111e-65\n",
      "====================================================================================\n",
      "pods_mc_group=HT       coef    std err          z      P>|z|      [0.025      0.975]\n",
      "------------------------------------------------------------------------------------\n",
      "const                2.1547      0.373      5.769      0.000       1.423       2.887\n",
      "decile_1             0.1095      0.386      0.283      0.777      -0.648       0.866\n",
      "decile_10            0.0789      0.713      0.111      0.912      -1.319       1.477\n",
      "decile_2            -0.2306      0.401     -0.574      0.566      -1.017       0.556\n",
      "decile_3             0.2693      0.418      0.644      0.519      -0.550       1.088\n",
      "decile_4             0.0812      0.419      0.194      0.846      -0.739       0.902\n",
      "decile_5            -0.0812      0.439     -0.185      0.853      -0.942       0.780\n",
      "decile_6            -0.0185      0.463     -0.040      0.968      -0.925       0.888\n",
      "decile_7             0.4844      0.564      0.859      0.390      -0.621       1.590\n",
      "decile_8            -0.3355      0.577     -0.581      0.561      -1.467       0.796\n",
      "decile_9            -0.4499      0.660     -0.682      0.495      -1.743       0.843\n",
      "------------------------------------------------------------------------------------\n",
      "pods_mc_group=TH       coef    std err          z      P>|z|      [0.025      0.975]\n",
      "------------------------------------------------------------------------------------\n",
      "const                1.2879      0.399      3.225      0.001       0.505       2.071\n",
      "decile_1            -0.7823      0.417     -1.878      0.060      -1.599       0.034\n",
      "decile_10            0.7916      0.731      1.083      0.279      -0.641       2.224\n",
      "decile_2            -0.7364      0.435     -1.693      0.090      -1.589       0.116\n",
      "decile_3             0.1981      0.446      0.444      0.657      -0.676       1.073\n",
      "decile_4             0.1144      0.447      0.256      0.798      -0.761       0.990\n",
      "decile_5             0.2109      0.467      0.452      0.651      -0.704       1.125\n",
      "decile_6             0.1150      0.492      0.233      0.815      -0.850       1.080\n",
      "decile_7             0.2162      0.603      0.359      0.720      -0.965       1.397\n",
      "decile_8             0.0984      0.606      0.162      0.871      -1.090       1.287\n",
      "decile_9             0.5039      0.672      0.750      0.453      -0.813       1.820\n",
      "------------------------------------------------------------------------------------\n",
      "pods_mc_group=TT       coef    std err          z      P>|z|      [0.025      0.975]\n",
      "------------------------------------------------------------------------------------\n",
      "const                3.3586      0.360      9.339      0.000       2.654       4.064\n",
      "decile_1            -0.5932      0.372     -1.593      0.111      -1.323       0.137\n",
      "decile_10            0.9895      0.683      1.448      0.148      -0.350       2.329\n",
      "decile_2            -0.4959      0.386     -1.283      0.199      -1.253       0.261\n",
      "decile_3             0.3164      0.403      0.785      0.432      -0.473       1.106\n",
      "decile_4             0.1847      0.403      0.458      0.647      -0.606       0.975\n",
      "decile_5             0.2182      0.422      0.517      0.605      -0.609       1.046\n",
      "decile_6             0.0966      0.445      0.217      0.828      -0.776       0.969\n",
      "decile_7             0.4331      0.548      0.791      0.429      -0.640       1.506\n",
      "decile_8             0.1479      0.549      0.270      0.787      -0.927       1.223\n",
      "decile_9             0.3671      0.621      0.591      0.554      -0.850       1.584\n",
      "====================================================================================\n"
     ]
    }
   ],
   "source": [
    "mnlogit_model=sm.MNLogit(Y,X_1)\n",
    "result1=mnlogit_model.fit()\n",
    "print(result1.summary())"
   ]
  },
  {
   "cell_type": "code",
   "execution_count": 9,
   "metadata": {},
   "outputs": [],
   "source": [
    "a = pd.DataFrame(result1.predict(X_1))  #HH  HT TH TT "
   ]
  },
  {
   "cell_type": "code",
   "execution_count": 10,
   "metadata": {},
   "outputs": [],
   "source": [
    "a.rename(columns = {0:'HH',1: 'H_Pods_T_MC', 2:'T_pods_H_MC', 3 : 'TT'}, inplace= True)"
   ]
  },
  {
   "cell_type": "code",
   "execution_count": 11,
   "metadata": {},
   "outputs": [],
   "source": [
    "data = pd.concat([data3,a], axis = 1 )"
   ]
  },
  {
   "cell_type": "code",
   "execution_count": 12,
   "metadata": {},
   "outputs": [
    {
     "data": {
      "text/html": [
       "<div>\n",
       "<style scoped>\n",
       "    .dataframe tbody tr th:only-of-type {\n",
       "        vertical-align: middle;\n",
       "    }\n",
       "\n",
       "    .dataframe tbody tr th {\n",
       "        vertical-align: top;\n",
       "    }\n",
       "\n",
       "    .dataframe thead th {\n",
       "        text-align: right;\n",
       "    }\n",
       "</style>\n",
       "<table border=\"1\" class=\"dataframe\">\n",
       "  <thead>\n",
       "    <tr style=\"text-align: right;\">\n",
       "      <th></th>\n",
       "      <th>proxy_id</th>\n",
       "      <th>individual_id</th>\n",
       "      <th>experiment_group_type</th>\n",
       "      <th>test_cell_id</th>\n",
       "      <th>run_datetime</th>\n",
       "      <th>channel</th>\n",
       "      <th>surp_ref</th>\n",
       "      <th>cms_county</th>\n",
       "      <th>cms_id</th>\n",
       "      <th>cms_state</th>\n",
       "      <th>...</th>\n",
       "      <th>welcome_call_holdout</th>\n",
       "      <th>welcome_call_treatment</th>\n",
       "      <th>mzb_indiv_id</th>\n",
       "      <th>vol_churn</th>\n",
       "      <th>mc_exp_group</th>\n",
       "      <th>pods_mc_group</th>\n",
       "      <th>HH</th>\n",
       "      <th>H_Pods_T_MC</th>\n",
       "      <th>T_pods_H_MC</th>\n",
       "      <th>TT</th>\n",
       "    </tr>\n",
       "  </thead>\n",
       "  <tbody>\n",
       "    <tr>\n",
       "      <th>0</th>\n",
       "      <td>00BHGRBBBPXY</td>\n",
       "      <td>195779190489</td>\n",
       "      <td>T</td>\n",
       "      <td>T_HMO_no_LIS_ndp_dm_email_reframe</td>\n",
       "      <td>2021-01-11 09:19:15</td>\n",
       "      <td>DM_EMAIL</td>\n",
       "      <td>Reframe</td>\n",
       "      <td>ALAMEDA</td>\n",
       "      <td>H4982-005</td>\n",
       "      <td>CA</td>\n",
       "      <td>...</td>\n",
       "      <td>0</td>\n",
       "      <td>1</td>\n",
       "      <td>676274454</td>\n",
       "      <td>0</td>\n",
       "      <td>T</td>\n",
       "      <td>TT</td>\n",
       "      <td>0.020329</td>\n",
       "      <td>0.161665</td>\n",
       "      <td>0.090997</td>\n",
       "      <td>0.727009</td>\n",
       "    </tr>\n",
       "    <tr>\n",
       "      <th>1</th>\n",
       "      <td>014T7QBBBPXZ</td>\n",
       "      <td>343791258681468</td>\n",
       "      <td>H</td>\n",
       "      <td>H_HMO_no_LIS_ndp_dm</td>\n",
       "      <td>2021-01-11 09:19:13</td>\n",
       "      <td>DM</td>\n",
       "      <td>Holdout</td>\n",
       "      <td>LOS ANGELES</td>\n",
       "      <td>H4982-001</td>\n",
       "      <td>CA</td>\n",
       "      <td>...</td>\n",
       "      <td>0</td>\n",
       "      <td>1</td>\n",
       "      <td>814213992</td>\n",
       "      <td>0</td>\n",
       "      <td>T</td>\n",
       "      <td>HT</td>\n",
       "      <td>0.020329</td>\n",
       "      <td>0.161665</td>\n",
       "      <td>0.090997</td>\n",
       "      <td>0.727009</td>\n",
       "    </tr>\n",
       "    <tr>\n",
       "      <th>2</th>\n",
       "      <td>01BW57BBBPXY</td>\n",
       "      <td>655861603867198</td>\n",
       "      <td>H</td>\n",
       "      <td>H_HMO_no_LIS_strategic_dm</td>\n",
       "      <td>2021-01-11 09:19:21</td>\n",
       "      <td>DM</td>\n",
       "      <td>Holdout</td>\n",
       "      <td>MARIN</td>\n",
       "      <td>H4982-011</td>\n",
       "      <td>CA</td>\n",
       "      <td>...</td>\n",
       "      <td>0</td>\n",
       "      <td>1</td>\n",
       "      <td>665322810</td>\n",
       "      <td>1</td>\n",
       "      <td>T</td>\n",
       "      <td>HT</td>\n",
       "      <td>0.035503</td>\n",
       "      <td>0.341638</td>\n",
       "      <td>0.058860</td>\n",
       "      <td>0.563999</td>\n",
       "    </tr>\n",
       "    <tr>\n",
       "      <th>3</th>\n",
       "      <td>01D9GRBBBPXY</td>\n",
       "      <td>1990179825569</td>\n",
       "      <td>T</td>\n",
       "      <td>T_HMO_no_LIS_ndp_dm_email_surprise</td>\n",
       "      <td>2021-01-11 09:19:16</td>\n",
       "      <td>DM_EMAIL</td>\n",
       "      <td>Surprise</td>\n",
       "      <td>SAN DIEGO</td>\n",
       "      <td>H4982-004</td>\n",
       "      <td>CA</td>\n",
       "      <td>...</td>\n",
       "      <td>0</td>\n",
       "      <td>1</td>\n",
       "      <td>128920739</td>\n",
       "      <td>0</td>\n",
       "      <td>T</td>\n",
       "      <td>TT</td>\n",
       "      <td>0.022124</td>\n",
       "      <td>0.187316</td>\n",
       "      <td>0.089971</td>\n",
       "      <td>0.700590</td>\n",
       "    </tr>\n",
       "    <tr>\n",
       "      <th>4</th>\n",
       "      <td>01KG7RBBBPXY</td>\n",
       "      <td>8316365982553</td>\n",
       "      <td>T</td>\n",
       "      <td>T_HMO_LIS_strategic_dm_email_surprise</td>\n",
       "      <td>2021-01-11 09:19:18</td>\n",
       "      <td>DM_EMAIL</td>\n",
       "      <td>Surprise</td>\n",
       "      <td>UNION</td>\n",
       "      <td>H3152-080</td>\n",
       "      <td>NJ</td>\n",
       "      <td>...</td>\n",
       "      <td>0</td>\n",
       "      <td>1</td>\n",
       "      <td>814304141</td>\n",
       "      <td>0</td>\n",
       "      <td>T</td>\n",
       "      <td>TT</td>\n",
       "      <td>0.036908</td>\n",
       "      <td>0.252786</td>\n",
       "      <td>0.064067</td>\n",
       "      <td>0.646240</td>\n",
       "    </tr>\n",
       "  </tbody>\n",
       "</table>\n",
       "<p>5 rows × 37 columns</p>\n",
       "</div>"
      ],
      "text/plain": [
       "       proxy_id    individual_id experiment_group_type  \\\n",
       "0  00BHGRBBBPXY     195779190489                     T   \n",
       "1  014T7QBBBPXZ  343791258681468                     H   \n",
       "2  01BW57BBBPXY  655861603867198                     H   \n",
       "3  01D9GRBBBPXY    1990179825569                     T   \n",
       "4  01KG7RBBBPXY    8316365982553                     T   \n",
       "\n",
       "                            test_cell_id        run_datetime   channel  \\\n",
       "0      T_HMO_no_LIS_ndp_dm_email_reframe 2021-01-11 09:19:15  DM_EMAIL   \n",
       "1                    H_HMO_no_LIS_ndp_dm 2021-01-11 09:19:13        DM   \n",
       "2              H_HMO_no_LIS_strategic_dm 2021-01-11 09:19:21        DM   \n",
       "3     T_HMO_no_LIS_ndp_dm_email_surprise 2021-01-11 09:19:16  DM_EMAIL   \n",
       "4  T_HMO_LIS_strategic_dm_email_surprise 2021-01-11 09:19:18  DM_EMAIL   \n",
       "\n",
       "   surp_ref   cms_county     cms_id cms_state  ... welcome_call_holdout  \\\n",
       "0   Reframe      ALAMEDA  H4982-005        CA  ...                    0   \n",
       "1   Holdout  LOS ANGELES  H4982-001        CA  ...                    0   \n",
       "2   Holdout        MARIN  H4982-011        CA  ...                    0   \n",
       "3  Surprise    SAN DIEGO  H4982-004        CA  ...                    0   \n",
       "4  Surprise        UNION  H3152-080        NJ  ...                    0   \n",
       "\n",
       "  welcome_call_treatment mzb_indiv_id vol_churn mc_exp_group pods_mc_group  \\\n",
       "0                      1    676274454         0            T            TT   \n",
       "1                      1    814213992         0            T            HT   \n",
       "2                      1    665322810         1            T            HT   \n",
       "3                      1    128920739         0            T            TT   \n",
       "4                      1    814304141         0            T            TT   \n",
       "\n",
       "         HH H_Pods_T_MC T_pods_H_MC        TT  \n",
       "0  0.020329    0.161665    0.090997  0.727009  \n",
       "1  0.020329    0.161665    0.090997  0.727009  \n",
       "2  0.035503    0.341638    0.058860  0.563999  \n",
       "3  0.022124    0.187316    0.089971  0.700590  \n",
       "4  0.036908    0.252786    0.064067  0.646240  \n",
       "\n",
       "[5 rows x 37 columns]"
      ]
     },
     "execution_count": 12,
     "metadata": {},
     "output_type": "execute_result"
    }
   ],
   "source": [
    "data.head()"
   ]
  },
  {
   "cell_type": "code",
   "execution_count": 13,
   "metadata": {},
   "outputs": [
    {
     "name": "stdout",
     "output_type": "stream",
     "text": [
      "7354 827 2634 292\n"
     ]
    },
    {
     "name": "stderr",
     "output_type": "stream",
     "text": [
      "/users/n323489/.conda/envs/n323489_pyconnect_py37/lib/python3.7/site-packages/ipykernel_launcher.py:3: SettingWithCopyWarning: \n",
      "A value is trying to be set on a copy of a slice from a DataFrame.\n",
      "Try using .loc[row_indexer,col_indexer] = value instead\n",
      "\n",
      "See the caveats in the documentation: https://pandas.pydata.org/pandas-docs/stable/user_guide/indexing.html#returning-a-view-versus-a-copy\n",
      "  This is separate from the ipykernel package so we can avoid doing imports until\n",
      "/users/n323489/.conda/envs/n323489_pyconnect_py37/lib/python3.7/site-packages/ipykernel_launcher.py:6: SettingWithCopyWarning: \n",
      "A value is trying to be set on a copy of a slice from a DataFrame.\n",
      "Try using .loc[row_indexer,col_indexer] = value instead\n",
      "\n",
      "See the caveats in the documentation: https://pandas.pydata.org/pandas-docs/stable/user_guide/indexing.html#returning-a-view-versus-a-copy\n",
      "  \n",
      "/users/n323489/.conda/envs/n323489_pyconnect_py37/lib/python3.7/site-packages/ipykernel_launcher.py:9: SettingWithCopyWarning: \n",
      "A value is trying to be set on a copy of a slice from a DataFrame.\n",
      "Try using .loc[row_indexer,col_indexer] = value instead\n",
      "\n",
      "See the caveats in the documentation: https://pandas.pydata.org/pandas-docs/stable/user_guide/indexing.html#returning-a-view-versus-a-copy\n",
      "  if __name__ == '__main__':\n",
      "/users/n323489/.conda/envs/n323489_pyconnect_py37/lib/python3.7/site-packages/ipykernel_launcher.py:12: SettingWithCopyWarning: \n",
      "A value is trying to be set on a copy of a slice from a DataFrame.\n",
      "Try using .loc[row_indexer,col_indexer] = value instead\n",
      "\n",
      "See the caveats in the documentation: https://pandas.pydata.org/pandas-docs/stable/user_guide/indexing.html#returning-a-view-versus-a-copy\n",
      "  if sys.path[0] == '':\n"
     ]
    }
   ],
   "source": [
    "data1 = data[data['pods_mc_group'] == 'TT']\n",
    "\n",
    "data1['prob'] = data1['TT'].apply(lambda x : x)\n",
    "\n",
    "data2 = data[data['pods_mc_group'] == 'TH']\n",
    "data2['prob'] = data2['T_pods_H_MC'].apply(lambda x : x)\n",
    "\n",
    "data3 = data[data['pods_mc_group'] == 'HT']\n",
    "data3['prob'] = data3['H_Pods_T_MC'].apply(lambda x : x)\n",
    "\n",
    "data4 = data[data['pods_mc_group'] == 'HH']\n",
    "data4['prob'] = data4['HH'].apply(lambda x : x)\n",
    "print(data1.mzb_indiv_id .count(), data2.mzb_indiv_id .count(), data3.mzb_indiv_id .count(), data4.mzb_indiv_id .count())\n"
   ]
  },
  {
   "cell_type": "code",
   "execution_count": 14,
   "metadata": {},
   "outputs": [
    {
     "data": {
      "text/plain": [
       "TT    7354\n",
       "HT    2634\n",
       "TH     827\n",
       "HH     292\n",
       "Name: pods_mc_group, dtype: int64"
      ]
     },
     "execution_count": 14,
     "metadata": {},
     "output_type": "execute_result"
    }
   ],
   "source": [
    "data.pods_mc_group.value_counts()"
   ]
  },
  {
   "cell_type": "code",
   "execution_count": 15,
   "metadata": {},
   "outputs": [],
   "source": [
    "new_data = pd.concat([data1, data2])\n",
    "new_data = pd.concat([new_data, data3])\n",
    "new_data = pd.concat([new_data, data4])"
   ]
  },
  {
   "cell_type": "code",
   "execution_count": 16,
   "metadata": {},
   "outputs": [
    {
     "data": {
      "text/plain": [
       "11107"
      ]
     },
     "execution_count": 16,
     "metadata": {},
     "output_type": "execute_result"
    }
   ],
   "source": [
    "new_data.mzb_indiv_id.count()"
   ]
  },
  {
   "cell_type": "code",
   "execution_count": 17,
   "metadata": {},
   "outputs": [],
   "source": [
    "new_data['weight'] = new_data['prob'].apply(lambda x :1/x)"
   ]
  },
  {
   "cell_type": "code",
   "execution_count": 18,
   "metadata": {},
   "outputs": [],
   "source": [
    "new_data['std_col'] = 1"
   ]
  },
  {
   "cell_type": "code",
   "execution_count": 19,
   "metadata": {},
   "outputs": [
    {
     "name": "stderr",
     "output_type": "stream",
     "text": [
      "/users/n323489/.conda/envs/n323489_pyconnect_py37/lib/python3.7/site-packages/ipykernel_launcher.py:2: SettingWithCopyWarning: \n",
      "A value is trying to be set on a copy of a slice from a DataFrame\n",
      "\n",
      "See the caveats in the documentation: https://pandas.pydata.org/pandas-docs/stable/user_guide/indexing.html#returning-a-view-versus-a-copy\n",
      "  \n",
      "/users/n323489/.conda/envs/n323489_pyconnect_py37/lib/python3.7/site-packages/ipykernel_launcher.py:2: SettingWithCopyWarning: \n",
      "A value is trying to be set on a copy of a slice from a DataFrame\n",
      "\n",
      "See the caveats in the documentation: https://pandas.pydata.org/pandas-docs/stable/user_guide/indexing.html#returning-a-view-versus-a-copy\n",
      "  \n"
     ]
    }
   ],
   "source": [
    "for i in list(new_data['pods_mc_group'].unique()):\n",
    "    new_data['std_col'][new_data['pods_mc_group'] == i ] = new_data['weight']/new_data['weight'][new_data['pods_mc_group'] == i].mean()\n"
   ]
  },
  {
   "cell_type": "code",
   "execution_count": 20,
   "metadata": {},
   "outputs": [
    {
     "data": {
      "text/plain": [
       "pods_mc_group\n",
       "HH    1.0\n",
       "HT    1.0\n",
       "TH    1.0\n",
       "TT    1.0\n",
       "Name: std_col, dtype: float64"
      ]
     },
     "execution_count": 20,
     "metadata": {},
     "output_type": "execute_result"
    }
   ],
   "source": [
    "new_data.groupby('pods_mc_group')['std_col'].mean()"
   ]
  },
  {
   "cell_type": "code",
   "execution_count": 21,
   "metadata": {},
   "outputs": [
    {
     "data": {
      "text/html": [
       "<div>\n",
       "<style scoped>\n",
       "    .dataframe tbody tr th:only-of-type {\n",
       "        vertical-align: middle;\n",
       "    }\n",
       "\n",
       "    .dataframe tbody tr th {\n",
       "        vertical-align: top;\n",
       "    }\n",
       "\n",
       "    .dataframe thead th {\n",
       "        text-align: right;\n",
       "    }\n",
       "</style>\n",
       "<table border=\"1\" class=\"dataframe\">\n",
       "  <thead>\n",
       "    <tr style=\"text-align: right;\">\n",
       "      <th></th>\n",
       "      <th>proxy_id</th>\n",
       "      <th>individual_id</th>\n",
       "      <th>experiment_group_type</th>\n",
       "      <th>test_cell_id</th>\n",
       "      <th>run_datetime</th>\n",
       "      <th>channel</th>\n",
       "      <th>surp_ref</th>\n",
       "      <th>cms_county</th>\n",
       "      <th>cms_id</th>\n",
       "      <th>cms_state</th>\n",
       "      <th>...</th>\n",
       "      <th>vol_churn</th>\n",
       "      <th>mc_exp_group</th>\n",
       "      <th>pods_mc_group</th>\n",
       "      <th>HH</th>\n",
       "      <th>H_Pods_T_MC</th>\n",
       "      <th>T_pods_H_MC</th>\n",
       "      <th>TT</th>\n",
       "      <th>prob</th>\n",
       "      <th>weight</th>\n",
       "      <th>std_col</th>\n",
       "    </tr>\n",
       "  </thead>\n",
       "  <tbody>\n",
       "    <tr>\n",
       "      <th>0</th>\n",
       "      <td>00BHGRBBBPXY</td>\n",
       "      <td>195779190489</td>\n",
       "      <td>T</td>\n",
       "      <td>T_HMO_no_LIS_ndp_dm_email_reframe</td>\n",
       "      <td>2021-01-11 09:19:15</td>\n",
       "      <td>DM_EMAIL</td>\n",
       "      <td>Reframe</td>\n",
       "      <td>ALAMEDA</td>\n",
       "      <td>H4982-005</td>\n",
       "      <td>CA</td>\n",
       "      <td>...</td>\n",
       "      <td>0</td>\n",
       "      <td>T</td>\n",
       "      <td>TT</td>\n",
       "      <td>0.020329</td>\n",
       "      <td>0.161665</td>\n",
       "      <td>0.090997</td>\n",
       "      <td>0.727009</td>\n",
       "      <td>0.727009</td>\n",
       "      <td>1.375499</td>\n",
       "      <td>0.910725</td>\n",
       "    </tr>\n",
       "    <tr>\n",
       "      <th>3</th>\n",
       "      <td>01D9GRBBBPXY</td>\n",
       "      <td>1990179825569</td>\n",
       "      <td>T</td>\n",
       "      <td>T_HMO_no_LIS_ndp_dm_email_surprise</td>\n",
       "      <td>2021-01-11 09:19:16</td>\n",
       "      <td>DM_EMAIL</td>\n",
       "      <td>Surprise</td>\n",
       "      <td>SAN DIEGO</td>\n",
       "      <td>H4982-004</td>\n",
       "      <td>CA</td>\n",
       "      <td>...</td>\n",
       "      <td>0</td>\n",
       "      <td>T</td>\n",
       "      <td>TT</td>\n",
       "      <td>0.022124</td>\n",
       "      <td>0.187316</td>\n",
       "      <td>0.089971</td>\n",
       "      <td>0.700590</td>\n",
       "      <td>0.700590</td>\n",
       "      <td>1.427368</td>\n",
       "      <td>0.945068</td>\n",
       "    </tr>\n",
       "    <tr>\n",
       "      <th>4</th>\n",
       "      <td>01KG7RBBBPXY</td>\n",
       "      <td>8316365982553</td>\n",
       "      <td>T</td>\n",
       "      <td>T_HMO_LIS_strategic_dm_email_surprise</td>\n",
       "      <td>2021-01-11 09:19:18</td>\n",
       "      <td>DM_EMAIL</td>\n",
       "      <td>Surprise</td>\n",
       "      <td>UNION</td>\n",
       "      <td>H3152-080</td>\n",
       "      <td>NJ</td>\n",
       "      <td>...</td>\n",
       "      <td>0</td>\n",
       "      <td>T</td>\n",
       "      <td>TT</td>\n",
       "      <td>0.036908</td>\n",
       "      <td>0.252786</td>\n",
       "      <td>0.064067</td>\n",
       "      <td>0.646240</td>\n",
       "      <td>0.646240</td>\n",
       "      <td>1.547414</td>\n",
       "      <td>1.024550</td>\n",
       "    </tr>\n",
       "    <tr>\n",
       "      <th>5</th>\n",
       "      <td>01N07QBBBPXZ</td>\n",
       "      <td>212120771</td>\n",
       "      <td>T</td>\n",
       "      <td>T_mapd_no_LIS_strategic_dm_surprise</td>\n",
       "      <td>2021-01-11 09:19:13</td>\n",
       "      <td>DM</td>\n",
       "      <td>Surprise</td>\n",
       "      <td>MARIN</td>\n",
       "      <td>H4982-011</td>\n",
       "      <td>CA</td>\n",
       "      <td>...</td>\n",
       "      <td>0</td>\n",
       "      <td>T</td>\n",
       "      <td>TT</td>\n",
       "      <td>0.035503</td>\n",
       "      <td>0.341638</td>\n",
       "      <td>0.058860</td>\n",
       "      <td>0.563999</td>\n",
       "      <td>0.563999</td>\n",
       "      <td>1.773054</td>\n",
       "      <td>1.173948</td>\n",
       "    </tr>\n",
       "    <tr>\n",
       "      <th>6</th>\n",
       "      <td>01RT7QBBBPXZ</td>\n",
       "      <td>85558764769</td>\n",
       "      <td>T</td>\n",
       "      <td>T_HMO_no_LIS_ndp_dm_reframe</td>\n",
       "      <td>2021-01-11 09:19:16</td>\n",
       "      <td>DM</td>\n",
       "      <td>Reframe</td>\n",
       "      <td>FRESNO</td>\n",
       "      <td>H4982-010</td>\n",
       "      <td>CA</td>\n",
       "      <td>...</td>\n",
       "      <td>0</td>\n",
       "      <td>T</td>\n",
       "      <td>TT</td>\n",
       "      <td>0.020329</td>\n",
       "      <td>0.161665</td>\n",
       "      <td>0.090997</td>\n",
       "      <td>0.727009</td>\n",
       "      <td>0.727009</td>\n",
       "      <td>1.375499</td>\n",
       "      <td>0.910725</td>\n",
       "    </tr>\n",
       "  </tbody>\n",
       "</table>\n",
       "<p>5 rows × 40 columns</p>\n",
       "</div>"
      ],
      "text/plain": [
       "       proxy_id  individual_id experiment_group_type  \\\n",
       "0  00BHGRBBBPXY   195779190489                     T   \n",
       "3  01D9GRBBBPXY  1990179825569                     T   \n",
       "4  01KG7RBBBPXY  8316365982553                     T   \n",
       "5  01N07QBBBPXZ      212120771                     T   \n",
       "6  01RT7QBBBPXZ    85558764769                     T   \n",
       "\n",
       "                            test_cell_id        run_datetime   channel  \\\n",
       "0      T_HMO_no_LIS_ndp_dm_email_reframe 2021-01-11 09:19:15  DM_EMAIL   \n",
       "3     T_HMO_no_LIS_ndp_dm_email_surprise 2021-01-11 09:19:16  DM_EMAIL   \n",
       "4  T_HMO_LIS_strategic_dm_email_surprise 2021-01-11 09:19:18  DM_EMAIL   \n",
       "5    T_mapd_no_LIS_strategic_dm_surprise 2021-01-11 09:19:13        DM   \n",
       "6            T_HMO_no_LIS_ndp_dm_reframe 2021-01-11 09:19:16        DM   \n",
       "\n",
       "   surp_ref cms_county     cms_id cms_state  ... vol_churn mc_exp_group  \\\n",
       "0   Reframe    ALAMEDA  H4982-005        CA  ...         0            T   \n",
       "3  Surprise  SAN DIEGO  H4982-004        CA  ...         0            T   \n",
       "4  Surprise      UNION  H3152-080        NJ  ...         0            T   \n",
       "5  Surprise      MARIN  H4982-011        CA  ...         0            T   \n",
       "6   Reframe     FRESNO  H4982-010        CA  ...         0            T   \n",
       "\n",
       "  pods_mc_group        HH H_Pods_T_MC T_pods_H_MC        TT      prob  \\\n",
       "0            TT  0.020329    0.161665    0.090997  0.727009  0.727009   \n",
       "3            TT  0.022124    0.187316    0.089971  0.700590  0.700590   \n",
       "4            TT  0.036908    0.252786    0.064067  0.646240  0.646240   \n",
       "5            TT  0.035503    0.341638    0.058860  0.563999  0.563999   \n",
       "6            TT  0.020329    0.161665    0.090997  0.727009  0.727009   \n",
       "\n",
       "     weight   std_col  \n",
       "0  1.375499  0.910725  \n",
       "3  1.427368  0.945068  \n",
       "4  1.547414  1.024550  \n",
       "5  1.773054  1.173948  \n",
       "6  1.375499  0.910725  \n",
       "\n",
       "[5 rows x 40 columns]"
      ]
     },
     "execution_count": 21,
     "metadata": {},
     "output_type": "execute_result"
    }
   ],
   "source": [
    "new_data.head()"
   ]
  },
  {
   "cell_type": "code",
   "execution_count": 22,
   "metadata": {},
   "outputs": [
    {
     "data": {
      "text/plain": [
       "Index(['proxy_id', 'individual_id', 'experiment_group_type', 'test_cell_id',\n",
       "       'run_datetime', 'channel', 'surp_ref', 'cms_county', 'cms_id',\n",
       "       'cms_state', 'dig_flag', 'decile', 'dental_ind', 'hearing_ind',\n",
       "       'otc_ind', 'lis_ind', 'vision_ind', 'lis_flag', 'gender', 'rx_flag',\n",
       "       'plan_type', 'mbr_mths', 'new_market', 'new_segment',\n",
       "       'sales_channel_updated', 'open_access', 'platform',\n",
       "       'welcome_call_holdout', 'welcome_call_treatment', 'mzb_indiv_id',\n",
       "       'vol_churn', 'mc_exp_group', 'pods_mc_group', 'HH', 'H_Pods_T_MC',\n",
       "       'T_pods_H_MC', 'TT', 'prob', 'weight', 'std_col'],\n",
       "      dtype='object')"
      ]
     },
     "execution_count": 22,
     "metadata": {},
     "output_type": "execute_result"
    }
   ],
   "source": [
    "new_data.columns"
   ]
  },
  {
   "cell_type": "code",
   "execution_count": 23,
   "metadata": {},
   "outputs": [],
   "source": [
    "new_data['churn_after_bal'] = new_data['vol_churn']* new_data['std_col']"
   ]
  },
  {
   "cell_type": "code",
   "execution_count": 24,
   "metadata": {},
   "outputs": [],
   "source": [
    "from statsmodels.stats.proportion import proportions_ztest\n",
    "import scipy\n",
    "from scipy import stats\n",
    "from scipy.stats import norm\n",
    "\n",
    "import  numpy as np\n",
    "def ztest_prop(df0, i ):\n",
    "    d1 = df0[df0['pods_mc_group']== i  ]\n",
    "    d2 = df0[df0['pods_mc_group']=='HH']\n",
    "    count=np.array([d1['churn_after_bal'].sum(), d2['churn_after_bal'].sum()])\n",
    "    nobs = np.array([d1['churn_after_bal'].count(), d2['churn_after_bal'].count()])\n",
    "    stat, pval = proportions_ztest(count, nobs,alternative='smaller')   #alter : T<H\n",
    "    pval1 = stats.norm.cdf(stat)\n",
    "    print (pval , stat,count,nobs)\n",
    "    if pval < 0.05:\n",
    "        print('significant at 95%')\n",
    "    elif pval>0.05 and pval <= 0.10 :\n",
    "        print('significant at 90%')\n",
    "    elif pval >0.10 and pval<= .20 :\n",
    "        print('significant at 80%')\n",
    "    else:\n",
    "        print('Same Prop')\n"
   ]
  },
  {
   "cell_type": "code",
   "execution_count": 25,
   "metadata": {},
   "outputs": [
    {
     "name": "stdout",
     "output_type": "stream",
     "text": [
      "0.7829236905471487 0.7821054247896616 [422.4626864   41.68735069] [2634  292]\n",
      "Same Prop\n",
      "0.6867160654529464 0.48656325440092835 [127.88852283  41.68735069] [827 292]\n",
      "Same Prop\n",
      "0.43609039800973176 -0.16088903827441767 [1025.42716184   41.68735069] [7354  292]\n",
      "Same Prop\n"
     ]
    }
   ],
   "source": [
    "for i in ['HT','TH', 'TT']:\n",
    "    ztest_prop(new_data,i)"
   ]
  },
  {
   "cell_type": "code",
   "execution_count": 84,
   "metadata": {},
   "outputs": [],
   "source": [
    "a = pd.DataFrame(new_data.groupby('pods_mc_group').vol_churn.mean())\n",
    "a.reset_index(inplace=True)\n",
    "\n",
    "b = pd.DataFrame(new_data.groupby('pods_mc_group').vol_churn.sum())\n",
    "b.reset_index(inplace=True)\n",
    "b.rename(columns = {'vol_churn' : 'churn'}, inplace=True)\n",
    "\n",
    "c = pd.DataFrame(new_data.groupby('pods_mc_group').individual_id.count())\n",
    "c.reset_index(inplace=True)\n",
    "\n",
    "\n",
    "d = pd.merge(a,b)\n",
    "d = pd.merge(d,c)\n",
    "d['no_churn'] = d['individual_id'] - d['churn']"
   ]
  },
  {
   "cell_type": "code",
   "execution_count": 85,
   "metadata": {},
   "outputs": [
    {
     "data": {
      "text/html": [
       "<div>\n",
       "<style scoped>\n",
       "    .dataframe tbody tr th:only-of-type {\n",
       "        vertical-align: middle;\n",
       "    }\n",
       "\n",
       "    .dataframe tbody tr th {\n",
       "        vertical-align: top;\n",
       "    }\n",
       "\n",
       "    .dataframe thead th {\n",
       "        text-align: right;\n",
       "    }\n",
       "</style>\n",
       "<table border=\"1\" class=\"dataframe\">\n",
       "  <thead>\n",
       "    <tr style=\"text-align: right;\">\n",
       "      <th></th>\n",
       "      <th>pods_mc_group</th>\n",
       "      <th>vol_churn</th>\n",
       "      <th>churn</th>\n",
       "      <th>individual_id</th>\n",
       "      <th>no_churn</th>\n",
       "    </tr>\n",
       "  </thead>\n",
       "  <tbody>\n",
       "    <tr>\n",
       "      <th>0</th>\n",
       "      <td>HH</td>\n",
       "      <td>0.154110</td>\n",
       "      <td>45</td>\n",
       "      <td>292</td>\n",
       "      <td>247</td>\n",
       "    </tr>\n",
       "    <tr>\n",
       "      <th>1</th>\n",
       "      <td>HT</td>\n",
       "      <td>0.179954</td>\n",
       "      <td>474</td>\n",
       "      <td>2634</td>\n",
       "      <td>2160</td>\n",
       "    </tr>\n",
       "    <tr>\n",
       "      <th>2</th>\n",
       "      <td>TH</td>\n",
       "      <td>0.143894</td>\n",
       "      <td>119</td>\n",
       "      <td>827</td>\n",
       "      <td>708</td>\n",
       "    </tr>\n",
       "    <tr>\n",
       "      <th>3</th>\n",
       "      <td>TT</td>\n",
       "      <td>0.132309</td>\n",
       "      <td>973</td>\n",
       "      <td>7354</td>\n",
       "      <td>6381</td>\n",
       "    </tr>\n",
       "  </tbody>\n",
       "</table>\n",
       "</div>"
      ],
      "text/plain": [
       "  pods_mc_group  vol_churn  churn  individual_id  no_churn\n",
       "0            HH   0.154110     45            292       247\n",
       "1            HT   0.179954    474           2634      2160\n",
       "2            TH   0.143894    119            827       708\n",
       "3            TT   0.132309    973           7354      6381"
      ]
     },
     "execution_count": 85,
     "metadata": {},
     "output_type": "execute_result"
    }
   ],
   "source": [
    "d"
   ]
  },
  {
   "cell_type": "code",
   "execution_count": 86,
   "metadata": {},
   "outputs": [],
   "source": [
    "a = pd.DataFrame(new_data.groupby('pods_mc_group').churn_after_bal.mean())\n",
    "a.reset_index(inplace=True)\n",
    "\n",
    "b = pd.DataFrame(new_data.groupby('pods_mc_group').churn_after_bal.sum())\n",
    "b.reset_index(inplace=True)\n",
    "b.rename(columns = {'churn_after_bal' : 'churn'}, inplace=True)\n",
    "\n",
    "c = pd.DataFrame(new_data.groupby('pods_mc_group').individual_id.count())\n",
    "c.reset_index(inplace=True)\n",
    "\n",
    "\n",
    "d = pd.merge(a,b)\n",
    "d = pd.merge(d,c)\n",
    "d['no_churn'] = d['individual_id'] - d['churn']"
   ]
  },
  {
   "cell_type": "code",
   "execution_count": 87,
   "metadata": {},
   "outputs": [
    {
     "data": {
      "text/html": [
       "<div>\n",
       "<style scoped>\n",
       "    .dataframe tbody tr th:only-of-type {\n",
       "        vertical-align: middle;\n",
       "    }\n",
       "\n",
       "    .dataframe tbody tr th {\n",
       "        vertical-align: top;\n",
       "    }\n",
       "\n",
       "    .dataframe thead th {\n",
       "        text-align: right;\n",
       "    }\n",
       "</style>\n",
       "<table border=\"1\" class=\"dataframe\">\n",
       "  <thead>\n",
       "    <tr style=\"text-align: right;\">\n",
       "      <th></th>\n",
       "      <th>pods_mc_group</th>\n",
       "      <th>churn_after_bal</th>\n",
       "      <th>churn</th>\n",
       "      <th>individual_id</th>\n",
       "      <th>no_churn</th>\n",
       "    </tr>\n",
       "  </thead>\n",
       "  <tbody>\n",
       "    <tr>\n",
       "      <th>0</th>\n",
       "      <td>HH</td>\n",
       "      <td>0.142765</td>\n",
       "      <td>41.687351</td>\n",
       "      <td>292</td>\n",
       "      <td>250.312649</td>\n",
       "    </tr>\n",
       "    <tr>\n",
       "      <th>1</th>\n",
       "      <td>HT</td>\n",
       "      <td>0.160388</td>\n",
       "      <td>422.462686</td>\n",
       "      <td>2634</td>\n",
       "      <td>2211.537314</td>\n",
       "    </tr>\n",
       "    <tr>\n",
       "      <th>2</th>\n",
       "      <td>TH</td>\n",
       "      <td>0.154642</td>\n",
       "      <td>127.888523</td>\n",
       "      <td>827</td>\n",
       "      <td>699.111477</td>\n",
       "    </tr>\n",
       "    <tr>\n",
       "      <th>3</th>\n",
       "      <td>TT</td>\n",
       "      <td>0.139438</td>\n",
       "      <td>1025.427162</td>\n",
       "      <td>7354</td>\n",
       "      <td>6328.572838</td>\n",
       "    </tr>\n",
       "  </tbody>\n",
       "</table>\n",
       "</div>"
      ],
      "text/plain": [
       "  pods_mc_group  churn_after_bal        churn  individual_id     no_churn\n",
       "0            HH         0.142765    41.687351            292   250.312649\n",
       "1            HT         0.160388   422.462686           2634  2211.537314\n",
       "2            TH         0.154642   127.888523            827   699.111477\n",
       "3            TT         0.139438  1025.427162           7354  6328.572838"
      ]
     },
     "execution_count": 87,
     "metadata": {},
     "output_type": "execute_result"
    }
   ],
   "source": [
    "d"
   ]
  },
  {
   "cell_type": "markdown",
   "metadata": {},
   "source": [
    "# PODS - EXCLUDING WC"
   ]
  },
  {
   "cell_type": "code",
   "execution_count": 27,
   "metadata": {},
   "outputs": [],
   "source": [
    "data = hc.sql(\"\"\" select a.* from cust_exp_Enc.n323489_pods_v1 a \n",
    "where a.mzb_indiv_id not in ( select distinct mzb_indiv_id from cust_exp_enc.n275675_Welcome_call_2011_master_v1) \"\"\" ).toPandas()\n"
   ]
  },
  {
   "cell_type": "code",
   "execution_count": 28,
   "metadata": {},
   "outputs": [
    {
     "data": {
      "text/plain": [
       "proxy_id                  98172\n",
       "individual_id             98172\n",
       "experiment_group_type     98172\n",
       "test_cell_id              98172\n",
       "run_datetime              98172\n",
       "channel                   98172\n",
       "surp_ref                  98172\n",
       "cms_county                98172\n",
       "cms_id                    98172\n",
       "cms_state                 98172\n",
       "dig_flag                  98172\n",
       "decile                    98172\n",
       "dental_ind                98172\n",
       "hearing_ind               98172\n",
       "otc_ind                   98172\n",
       "lis_ind                   98172\n",
       "vision_ind                98172\n",
       "lis_flag                  98172\n",
       "gender                    98172\n",
       "rx_flag                   98172\n",
       "plan_type                 98172\n",
       "mbr_mths                  98172\n",
       "new_market                98172\n",
       "new_segment               98172\n",
       "sales_channel_updated     98172\n",
       "open_access               98172\n",
       "platform                  98172\n",
       "welcome_call_holdout      98172\n",
       "welcome_call_treatment    98172\n",
       "mzb_indiv_id              98172\n",
       "vol_churn                 98172\n",
       "dtype: int64"
      ]
     },
     "execution_count": 28,
     "metadata": {},
     "output_type": "execute_result"
    }
   ],
   "source": [
    "data.count()"
   ]
  },
  {
   "cell_type": "code",
   "execution_count": 36,
   "metadata": {},
   "outputs": [
    {
     "data": {
      "text/plain": [
       "Index(['proxy_id', 'individual_id', 'experiment_group_type', 'test_cell_id',\n",
       "       'run_datetime', 'channel', 'surp_ref', 'cms_county', 'cms_id',\n",
       "       'cms_state', 'dig_flag', 'decile', 'dental_ind', 'hearing_ind',\n",
       "       'otc_ind', 'lis_ind', 'vision_ind', 'lis_flag', 'gender', 'rx_flag',\n",
       "       'plan_type', 'mbr_mths', 'new_market', 'new_segment',\n",
       "       'sales_channel_updated', 'open_access', 'platform',\n",
       "       'welcome_call_holdout', 'welcome_call_treatment', 'mzb_indiv_id',\n",
       "       'vol_churn'],\n",
       "      dtype='object')"
      ]
     },
     "execution_count": 36,
     "metadata": {},
     "output_type": "execute_result"
    }
   ],
   "source": [
    "data.columns"
   ]
  },
  {
   "cell_type": "code",
   "execution_count": 39,
   "metadata": {},
   "outputs": [
    {
     "name": "stdout",
     "output_type": "stream",
     "text": [
      "Optimization terminated successfully.\n",
      "         Current function value: 0.416644\n",
      "         Iterations 6\n",
      "expt_label\n",
      "False    1.0\n",
      "True     1.0\n",
      "Name: st_wt, dtype: float64\n"
     ]
    },
    {
     "name": "stderr",
     "output_type": "stream",
     "text": [
      "/users/n323489/.conda/envs/n323489_pyconnect_py37/lib/python3.7/site-packages/ipykernel_launcher.py:36: SettingWithCopyWarning: \n",
      "A value is trying to be set on a copy of a slice from a DataFrame\n",
      "\n",
      "See the caveats in the documentation: https://pandas.pydata.org/pandas-docs/stable/user_guide/indexing.html#returning-a-view-versus-a-copy\n",
      "/users/n323489/.conda/envs/n323489_pyconnect_py37/lib/python3.7/site-packages/ipykernel_launcher.py:37: SettingWithCopyWarning: \n",
      "A value is trying to be set on a copy of a slice from a DataFrame\n",
      "\n",
      "See the caveats in the documentation: https://pandas.pydata.org/pandas-docs/stable/user_guide/indexing.html#returning-a-view-versus-a-copy\n"
     ]
    }
   ],
   "source": [
    "   \n",
    "    \n",
    "catg_col = ['decile']\n",
    "data['expt_label'] = data['experiment_group_type'] == 'T'\n",
    "\n",
    "\n",
    "data['expt_label'].value_counts()\n",
    "\n",
    "all_var = catg_col \n",
    "#converting categorical variables into one-hot vectors\n",
    "X = data[all_var]\n",
    "X = pd.get_dummies(X, columns = catg_col, prefix = catg_col, drop_first = True)\n",
    "Y = data['expt_label']\n",
    "\n",
    "import statsmodels.api as sm\n",
    "X_1=sm.add_constant(X)\n",
    "logit_model=sm.Logit(Y,X_1)\n",
    "result1=logit_model.fit()\n",
    "\n",
    "        \n",
    "        \n",
    "data['p_scores_lr'] = result1.predict(X_1)\n",
    "\n",
    "\n",
    "\n",
    "\n",
    "def treatment(exp_type,p):\n",
    "    if (exp_type):\n",
    "        return 1.0/p\n",
    "    else:\n",
    "        return 1.0/(1-p) \n",
    "def weightcalc(dfg,p_col,wt_col,std_col):\n",
    "    dfg[wt_col] = dfg.apply(lambda x: treatment(x['expt_label'],x['p_scores_lr']),axis=1)\n",
    "    #weight standardization\n",
    "    dfg[std_col] = 1\n",
    "    dfg[std_col][dfg['expt_label']== False] = dfg[wt_col]/dfg[wt_col][dfg['expt_label']== False].mean()\n",
    "    dfg[std_col][dfg['expt_label']== True] = dfg[wt_col]/dfg[wt_col][dfg['expt_label']== True].mean()\n",
    "    df_wt = dfg.groupby('expt_label')[std_col].mean()\n",
    "    print(df_wt)\n",
    "    return dfg\n",
    "\n",
    "\n",
    "dfni1 = weightcalc(data,'p_scores_lr','weight','st_wt')\n",
    "\n",
    "\n",
    "\n",
    "data['vol_churn_bal'] = data['vol_churn']*data['st_wt']"
   ]
  },
  {
   "cell_type": "code",
   "execution_count": 41,
   "metadata": {},
   "outputs": [
    {
     "data": {
      "text/html": [
       "<div>\n",
       "<style scoped>\n",
       "    .dataframe tbody tr th:only-of-type {\n",
       "        vertical-align: middle;\n",
       "    }\n",
       "\n",
       "    .dataframe tbody tr th {\n",
       "        vertical-align: top;\n",
       "    }\n",
       "\n",
       "    .dataframe thead th {\n",
       "        text-align: right;\n",
       "    }\n",
       "</style>\n",
       "<table border=\"1\" class=\"dataframe\">\n",
       "  <thead>\n",
       "    <tr style=\"text-align: right;\">\n",
       "      <th></th>\n",
       "      <th>experiment_group_type</th>\n",
       "      <th>vol_churn_bal</th>\n",
       "      <th>vol_churn</th>\n",
       "    </tr>\n",
       "  </thead>\n",
       "  <tbody>\n",
       "    <tr>\n",
       "      <th>0</th>\n",
       "      <td>H</td>\n",
       "      <td>0.089456</td>\n",
       "      <td>0.121814</td>\n",
       "    </tr>\n",
       "    <tr>\n",
       "      <th>1</th>\n",
       "      <td>T</td>\n",
       "      <td>0.076225</td>\n",
       "      <td>0.070314</td>\n",
       "    </tr>\n",
       "  </tbody>\n",
       "</table>\n",
       "</div>"
      ],
      "text/plain": [
       "  experiment_group_type  vol_churn_bal  vol_churn\n",
       "0                     H       0.089456   0.121814\n",
       "1                     T       0.076225   0.070314"
      ]
     },
     "execution_count": 41,
     "metadata": {},
     "output_type": "execute_result"
    }
   ],
   "source": [
    "a = (pd.DataFrame(data.groupby('experiment_group_type').vol_churn_bal.mean()))\n",
    "b = (pd.DataFrame(data.groupby(['experiment_group_type']).vol_churn.mean()))\n",
    "a.reset_index(inplace = True)\n",
    "b.reset_index(inplace = True)\n",
    "c = pd.merge(a,b,how = 'inner')\n",
    "\n",
    "c"
   ]
  },
  {
   "cell_type": "code",
   "execution_count": 43,
   "metadata": {},
   "outputs": [],
   "source": [
    "from statsmodels.stats.proportion import proportions_ztest\n",
    "import scipy\n",
    "from scipy import stats\n",
    "from scipy.stats import norm\n",
    "\n",
    "import  numpy as np\n",
    "def ztest_prop(df0 ):\n",
    "    d1 = df0[df0['experiment_group_type']== 'T'  ]\n",
    "    d2 = df0[df0['experiment_group_type']=='H']\n",
    "    count=np.array([d1['vol_churn_bal'].sum(), d2['vol_churn_bal'].sum()])\n",
    "    nobs = np.array([d1['vol_churn_bal'].count(), d2['vol_churn_bal'].count()])\n",
    "    stat, pval = proportions_ztest(count, nobs,alternative='smaller')   #alter : T<H\n",
    "    pval1 = stats.norm.cdf(stat)\n",
    "    print (pval , stat,count,nobs)\n",
    "    if pval < 0.05:\n",
    "        print('significant at 95%')\n",
    "    elif pval>0.05 and pval <= 0.10 :\n",
    "        print('significant at 90%')\n",
    "    elif pval >0.10 and pval<= .20 :\n",
    "        print('significant at 80%')\n",
    "    else:\n",
    "        print('Same Prop')\n"
   ]
  },
  {
   "cell_type": "code",
   "execution_count": 44,
   "metadata": {},
   "outputs": [
    {
     "name": "stdout",
     "output_type": "stream",
     "text": [
      "7.350276949687494e-09 -5.665022157456805 [6281.06215749 1410.72533799] [82402 15770]\n",
      "significant at 95%\n"
     ]
    }
   ],
   "source": [
    "ztest_prop(data)"
   ]
  },
  {
   "cell_type": "code",
   "execution_count": 46,
   "metadata": {},
   "outputs": [],
   "source": [
    "col = ['experiment_group_type' , 'sales_channel_updated' , 'vol_churn_bal', 'vol_churn']\n",
    "sale = pd.DataFrame(columns = col)\n",
    "for i in list(data['sales_channel_updated'].unique()):\n",
    "    a = (pd.DataFrame(data[data['sales_channel_updated']== i ].groupby(['experiment_group_type','sales_channel_updated']).vol_churn_bal.mean()))\n",
    "    b = (pd.DataFrame(data[data['sales_channel_updated']== i ].groupby(['experiment_group_type','sales_channel_updated']).vol_churn.mean()))\n",
    "    a.reset_index(inplace = True)\n",
    "    b.reset_index(inplace = True)\n",
    "    c = pd.merge(a,b,how = 'inner')\n",
    "    sale = pd.concat([sale,c], axis = 0)\n",
    "    \n",
    "col = ['experiment_group_type' , 'new_segment' , 'vol_churn_bal', 'vol_churn']\n",
    "seg = pd.DataFrame(columns = col)\n",
    "for i in list(data['new_segment'].unique()):\n",
    "    a = (pd.DataFrame(data[data['new_segment']== i ].groupby(['experiment_group_type','new_segment']).vol_churn_bal.mean()))\n",
    "    b = (pd.DataFrame(data[data['new_segment']== i ].groupby(['experiment_group_type','new_segment']).vol_churn.mean()))\n",
    "    a.reset_index(inplace = True)\n",
    "    b.reset_index(inplace = True)\n",
    "    c = pd.merge(a,b,how = 'inner')\n",
    "    seg = pd.concat([seg,c], axis = 0)\n",
    "    \n",
    "col = ['experiment_group_type' , 'lis_ind' , 'vol_churn_bal', 'vol_churn']\n",
    "lis = pd.DataFrame(columns = col)\n",
    "for i in list(data['lis_ind'].unique()):\n",
    "    a = (pd.DataFrame(data[data['lis_ind']== i ].groupby(['experiment_group_type','lis_ind']).vol_churn_bal.mean()))\n",
    "    b = (pd.DataFrame(data[data['lis_ind']== i ].groupby(['experiment_group_type','lis_ind']).vol_churn.mean()))\n",
    "    a.reset_index(inplace = True)\n",
    "    b.reset_index(inplace = True)\n",
    "    c = pd.merge(a,b,how = 'inner')\n",
    "    lis = pd.concat([lis,c], axis = 0)    \n"
   ]
  },
  {
   "cell_type": "code",
   "execution_count": 47,
   "metadata": {},
   "outputs": [
    {
     "data": {
      "text/html": [
       "<div>\n",
       "<style scoped>\n",
       "    .dataframe tbody tr th:only-of-type {\n",
       "        vertical-align: middle;\n",
       "    }\n",
       "\n",
       "    .dataframe tbody tr th {\n",
       "        vertical-align: top;\n",
       "    }\n",
       "\n",
       "    .dataframe thead th {\n",
       "        text-align: right;\n",
       "    }\n",
       "</style>\n",
       "<table border=\"1\" class=\"dataframe\">\n",
       "  <thead>\n",
       "    <tr style=\"text-align: right;\">\n",
       "      <th></th>\n",
       "      <th>experiment_group_type</th>\n",
       "      <th>lis_ind</th>\n",
       "      <th>vol_churn_bal</th>\n",
       "      <th>vol_churn</th>\n",
       "    </tr>\n",
       "  </thead>\n",
       "  <tbody>\n",
       "    <tr>\n",
       "      <th>0</th>\n",
       "      <td>H</td>\n",
       "      <td>0</td>\n",
       "      <td>0.075358</td>\n",
       "      <td>0.093017</td>\n",
       "    </tr>\n",
       "    <tr>\n",
       "      <th>1</th>\n",
       "      <td>T</td>\n",
       "      <td>0</td>\n",
       "      <td>0.061022</td>\n",
       "      <td>0.057717</td>\n",
       "    </tr>\n",
       "    <tr>\n",
       "      <th>0</th>\n",
       "      <td>H</td>\n",
       "      <td>1</td>\n",
       "      <td>0.119940</td>\n",
       "      <td>0.184079</td>\n",
       "    </tr>\n",
       "    <tr>\n",
       "      <th>1</th>\n",
       "      <td>T</td>\n",
       "      <td>1</td>\n",
       "      <td>0.194918</td>\n",
       "      <td>0.168662</td>\n",
       "    </tr>\n",
       "  </tbody>\n",
       "</table>\n",
       "</div>"
      ],
      "text/plain": [
       "  experiment_group_type lis_ind  vol_churn_bal  vol_churn\n",
       "0                     H       0       0.075358   0.093017\n",
       "1                     T       0       0.061022   0.057717\n",
       "0                     H       1       0.119940   0.184079\n",
       "1                     T       1       0.194918   0.168662"
      ]
     },
     "execution_count": 47,
     "metadata": {},
     "output_type": "execute_result"
    }
   ],
   "source": [
    "lis"
   ]
  },
  {
   "cell_type": "code",
   "execution_count": 48,
   "metadata": {},
   "outputs": [
    {
     "data": {
      "text/html": [
       "<div>\n",
       "<style scoped>\n",
       "    .dataframe tbody tr th:only-of-type {\n",
       "        vertical-align: middle;\n",
       "    }\n",
       "\n",
       "    .dataframe tbody tr th {\n",
       "        vertical-align: top;\n",
       "    }\n",
       "\n",
       "    .dataframe thead th {\n",
       "        text-align: right;\n",
       "    }\n",
       "</style>\n",
       "<table border=\"1\" class=\"dataframe\">\n",
       "  <thead>\n",
       "    <tr style=\"text-align: right;\">\n",
       "      <th></th>\n",
       "      <th>experiment_group_type</th>\n",
       "      <th>sales_channel_updated</th>\n",
       "      <th>vol_churn_bal</th>\n",
       "      <th>vol_churn</th>\n",
       "    </tr>\n",
       "  </thead>\n",
       "  <tbody>\n",
       "    <tr>\n",
       "      <th>0</th>\n",
       "      <td>H</td>\n",
       "      <td>NDP</td>\n",
       "      <td>0.067654</td>\n",
       "      <td>0.066324</td>\n",
       "    </tr>\n",
       "    <tr>\n",
       "      <th>1</th>\n",
       "      <td>T</td>\n",
       "      <td>NDP</td>\n",
       "      <td>0.051577</td>\n",
       "      <td>0.050872</td>\n",
       "    </tr>\n",
       "    <tr>\n",
       "      <th>0</th>\n",
       "      <td>H</td>\n",
       "      <td>remaining</td>\n",
       "      <td>0.069920</td>\n",
       "      <td>0.068392</td>\n",
       "    </tr>\n",
       "    <tr>\n",
       "      <th>1</th>\n",
       "      <td>T</td>\n",
       "      <td>remaining</td>\n",
       "      <td>0.048165</td>\n",
       "      <td>0.047437</td>\n",
       "    </tr>\n",
       "    <tr>\n",
       "      <th>0</th>\n",
       "      <td>H</td>\n",
       "      <td>Strategic</td>\n",
       "      <td>0.115700</td>\n",
       "      <td>0.191143</td>\n",
       "    </tr>\n",
       "    <tr>\n",
       "      <th>1</th>\n",
       "      <td>T</td>\n",
       "      <td>Strategic</td>\n",
       "      <td>0.207036</td>\n",
       "      <td>0.174740</td>\n",
       "    </tr>\n",
       "  </tbody>\n",
       "</table>\n",
       "</div>"
      ],
      "text/plain": [
       "  experiment_group_type sales_channel_updated  vol_churn_bal  vol_churn\n",
       "0                     H                   NDP       0.067654   0.066324\n",
       "1                     T                   NDP       0.051577   0.050872\n",
       "0                     H             remaining       0.069920   0.068392\n",
       "1                     T             remaining       0.048165   0.047437\n",
       "0                     H             Strategic       0.115700   0.191143\n",
       "1                     T             Strategic       0.207036   0.174740"
      ]
     },
     "execution_count": 48,
     "metadata": {},
     "output_type": "execute_result"
    }
   ],
   "source": [
    "sale"
   ]
  },
  {
   "cell_type": "code",
   "execution_count": 49,
   "metadata": {},
   "outputs": [
    {
     "data": {
      "text/html": [
       "<div>\n",
       "<style scoped>\n",
       "    .dataframe tbody tr th:only-of-type {\n",
       "        vertical-align: middle;\n",
       "    }\n",
       "\n",
       "    .dataframe tbody tr th {\n",
       "        vertical-align: top;\n",
       "    }\n",
       "\n",
       "    .dataframe thead th {\n",
       "        text-align: right;\n",
       "    }\n",
       "</style>\n",
       "<table border=\"1\" class=\"dataframe\">\n",
       "  <thead>\n",
       "    <tr style=\"text-align: right;\">\n",
       "      <th></th>\n",
       "      <th>experiment_group_type</th>\n",
       "      <th>new_segment</th>\n",
       "      <th>vol_churn_bal</th>\n",
       "      <th>vol_churn</th>\n",
       "    </tr>\n",
       "  </thead>\n",
       "  <tbody>\n",
       "    <tr>\n",
       "      <th>0</th>\n",
       "      <td>H</td>\n",
       "      <td>HMO</td>\n",
       "      <td>0.095856</td>\n",
       "      <td>0.153717</td>\n",
       "    </tr>\n",
       "    <tr>\n",
       "      <th>1</th>\n",
       "      <td>T</td>\n",
       "      <td>HMO</td>\n",
       "      <td>0.145742</td>\n",
       "      <td>0.124198</td>\n",
       "    </tr>\n",
       "    <tr>\n",
       "      <th>0</th>\n",
       "      <td>H</td>\n",
       "      <td>PPO</td>\n",
       "      <td>0.093252</td>\n",
       "      <td>0.115589</td>\n",
       "    </tr>\n",
       "    <tr>\n",
       "      <th>1</th>\n",
       "      <td>T</td>\n",
       "      <td>PPO</td>\n",
       "      <td>0.071292</td>\n",
       "      <td>0.067912</td>\n",
       "    </tr>\n",
       "    <tr>\n",
       "      <th>0</th>\n",
       "      <td>H</td>\n",
       "      <td>New to MAPD</td>\n",
       "      <td>0.072794</td>\n",
       "      <td>0.075266</td>\n",
       "    </tr>\n",
       "    <tr>\n",
       "      <th>1</th>\n",
       "      <td>T</td>\n",
       "      <td>New to MAPD</td>\n",
       "      <td>0.042327</td>\n",
       "      <td>0.042111</td>\n",
       "    </tr>\n",
       "  </tbody>\n",
       "</table>\n",
       "</div>"
      ],
      "text/plain": [
       "  experiment_group_type  new_segment  vol_churn_bal  vol_churn\n",
       "0                     H          HMO       0.095856   0.153717\n",
       "1                     T          HMO       0.145742   0.124198\n",
       "0                     H          PPO       0.093252   0.115589\n",
       "1                     T          PPO       0.071292   0.067912\n",
       "0                     H  New to MAPD       0.072794   0.075266\n",
       "1                     T  New to MAPD       0.042327   0.042111"
      ]
     },
     "execution_count": 49,
     "metadata": {},
     "output_type": "execute_result"
    }
   ],
   "source": [
    "seg"
   ]
  },
  {
   "cell_type": "code",
   "execution_count": 51,
   "metadata": {},
   "outputs": [
    {
     "data": {
      "text/plain": [
       "experiment_group_type\n",
       "H    12843\n",
       "T    74226\n",
       "Name: individual_id, dtype: int64"
      ]
     },
     "execution_count": 51,
     "metadata": {},
     "output_type": "execute_result"
    }
   ],
   "source": [
    "data2.groupby('experiment_group_type').individual_id.count()"
   ]
  },
  {
   "cell_type": "code",
   "execution_count": null,
   "metadata": {},
   "outputs": [],
   "source": []
  },
  {
   "cell_type": "code",
   "execution_count": 34,
   "metadata": {},
   "outputs": [],
   "source": [
    "data2 = hc.sql(\"\"\" select a.* from cust_exp_Enc.n323489_pods_v1 a \n",
    "where a.mzb_indiv_id not in ( select distinct mzb_indiv_id from cust_exp_enc.n275675_Welcome_call_2011_master_v1 union \n",
    " select distinct mzb_indiv_id from cust_exp_enc.n275675_market_Welcome_call_2021_master_v1)\"\"\" ).toPandas()\n"
   ]
  },
  {
   "cell_type": "code",
   "execution_count": 35,
   "metadata": {},
   "outputs": [
    {
     "data": {
      "text/plain": [
       "proxy_id                  87069\n",
       "individual_id             87069\n",
       "experiment_group_type     87069\n",
       "test_cell_id              87069\n",
       "run_datetime              87069\n",
       "channel                   87069\n",
       "surp_ref                  87069\n",
       "cms_county                87069\n",
       "cms_id                    87069\n",
       "cms_state                 87069\n",
       "dig_flag                  87069\n",
       "decile                    87069\n",
       "dental_ind                87069\n",
       "hearing_ind               87069\n",
       "otc_ind                   87069\n",
       "lis_ind                   87069\n",
       "vision_ind                87069\n",
       "lis_flag                  87069\n",
       "gender                    87069\n",
       "rx_flag                   87069\n",
       "plan_type                 87069\n",
       "mbr_mths                  87069\n",
       "new_market                87069\n",
       "new_segment               87069\n",
       "sales_channel_updated     87069\n",
       "open_access               87069\n",
       "platform                  87069\n",
       "welcome_call_holdout      87069\n",
       "welcome_call_treatment    87069\n",
       "mzb_indiv_id              87069\n",
       "vol_churn                 87069\n",
       "dtype: int64"
      ]
     },
     "execution_count": 35,
     "metadata": {},
     "output_type": "execute_result"
    }
   ],
   "source": [
    "data2.count()"
   ]
  },
  {
   "cell_type": "code",
   "execution_count": null,
   "metadata": {},
   "outputs": [],
   "source": []
  }
 ],
 "metadata": {
  "kernelspec": {
   "display_name": "Python 3",
   "language": "python",
   "name": "python3"
  },
  "language_info": {
   "codemirror_mode": {
    "name": "ipython",
    "version": 3
   },
   "file_extension": ".py",
   "mimetype": "text/x-python",
   "name": "python",
   "nbconvert_exporter": "python",
   "pygments_lexer": "ipython3",
   "version": "3.7.0"
  }
 },
 "nbformat": 4,
 "nbformat_minor": 2
}
