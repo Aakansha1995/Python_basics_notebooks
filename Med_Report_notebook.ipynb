{
 "cells": [
  {
   "cell_type": "code",
   "execution_count": 1,
   "metadata": {},
   "outputs": [
    {
     "name": "stdout",
     "output_type": "stream",
     "text": [
      "SparkSession is created.\n",
      "Check http://xhadrevrm2p.aetna.com:10001 for spark job UI\n",
      "\n",
      "The application ID for the spark job is application_1598803737406_922342\n",
      "If you exit without stopping the spark session, use the following command to kill the job:\n",
      "yarn application -kill application_1598803737406_922342\n"
     ]
    }
   ],
   "source": [
    "from pyconnect.spark import SparkCluster\n",
    "sparkcluster = SparkCluster().getOrCreate(\n",
    "  'spark-cluster-pyconnect', \n",
    "  minExecutors=2,\n",
    "  executorMemory = \"4g\",\n",
    "  driverMemory = \"4g\" )\n",
    "\n",
    "from pyspark import SparkContext, SparkConf\n",
    "from pyspark.sql import HiveContext\n",
    "from pyspark.sql import functions as F\n",
    "from pyspark.sql.functions import *\n",
    "from pyspark.sql.types import *\n",
    "from pyspark.sql.window import Window\n",
    "from pyspark.sql.functions import trim\n",
    "\n",
    "from pyspark.sql import SQLContext\n",
    "\n",
    "from pyspark.ml.feature import StandardScaler\n",
    "from pyspark.ml.linalg import Vectors\n",
    "from pyspark.ml.feature import VectorAssembler\n",
    "from pyspark.ml.clustering import KMeans\n",
    "from pyspark.ml.feature import StringIndexer\n",
    "from pyspark.ml.clustering import KMeansModel\n",
    "from pyspark.ml import Pipeline\n",
    "\n",
    "import pandas as pd\n",
    "\n",
    "hc = sparkcluster.session\n"
   ]
  },
  {
   "cell_type": "markdown",
   "metadata": {},
   "source": [
    "Member_Base"
   ]
  },
  {
   "cell_type": "code",
   "execution_count": 3,
   "metadata": {
    "collapsed": true
   },
   "outputs": [],
   "source": [
    "mem = hc.table('cust_exp_enc.n323489_Med_mem').toPandas()"
   ]
  },
  {
   "cell_type": "markdown",
   "metadata": {},
   "source": [
    "Navigator Information"
   ]
  },
  {
   "cell_type": "code",
   "execution_count": 4,
   "metadata": {
    "collapsed": true
   },
   "outputs": [],
   "source": [
    "nav = hc.table('cust_exp_enc.n323489_search').toPandas()"
   ]
  },
  {
   "cell_type": "code",
   "execution_count": 5,
   "metadata": {
    "collapsed": true
   },
   "outputs": [],
   "source": [
    "nav_mem = hc.table(\"cust_exp_enc.n323489_search_mem\").toPandas()"
   ]
  },
  {
   "cell_type": "markdown",
   "metadata": {},
   "source": [
    "Call Info"
   ]
  },
  {
   "cell_type": "code",
   "execution_count": 6,
   "metadata": {
    "collapsed": true
   },
   "outputs": [],
   "source": [
    "call = hc.table('cust_exp_enc.n323489_calls').toPandas()"
   ]
  },
  {
   "cell_type": "markdown",
   "metadata": {},
   "source": [
    "Claims Info"
   ]
  },
  {
   "cell_type": "code",
   "execution_count": 7,
   "metadata": {
    "collapsed": true
   },
   "outputs": [],
   "source": [
    "clm = hc.table(\"\"\"cust_exp_enc.n323489_clm_data\"\"\").select('paid_amt','clm_ln_status_cd','survey_month','member_id','claim_line_id','srv_spclty_ctg_cd_desc','srv_start_dt').toPandas()"
   ]
  },
  {
   "cell_type": "markdown",
   "metadata": {},
   "source": [
    "Outlier Treatment for Paid_amt"
   ]
  },
  {
   "cell_type": "code",
   "execution_count": 8,
   "metadata": {
    "collapsed": true
   },
   "outputs": [],
   "source": [
    "clm['paid_amt']= clm['paid_amt'].apply(pd.to_numeric)\n",
    "\n",
    "import numpy as np\n",
    "per_95 = np.nanpercentile(clm['paid_amt'], 95)\n",
    "\n",
    "udf = lambda x : per_95 if x>= per_95 else x \n",
    "clm['paid_amt']= clm['paid_amt'].apply(udf)"
   ]
  },
  {
   "cell_type": "markdown",
   "metadata": {},
   "source": [
    "Subscriber Level Call and Navigator Info \n",
    "\n"
   ]
  },
  {
   "cell_type": "code",
   "execution_count": 9,
   "metadata": {
    "collapsed": true
   },
   "outputs": [],
   "source": [
    "nav_sub = hc.table('cust_exp_enc.n323489_search_sub').toPandas()\n",
    "nav_mem_sub = hc.table(\"cust_exp_enc.n323489_search_mem_sub\").toPandas()\n",
    "call_sub = hc.table('cust_exp_enc.n323489_calls_sub').toPandas()\n"
   ]
  },
  {
   "cell_type": "markdown",
   "metadata": {},
   "source": [
    "# Validation of MEDS self-reported data "
   ]
  },
  {
   "cell_type": "markdown",
   "metadata": {},
   "source": [
    "# Website Search Question "
   ]
  },
  {
   "cell_type": "code",
   "execution_count": 10,
   "metadata": {
    "collapsed": true
   },
   "outputs": [],
   "source": [
    "website = mem[(~mem['used_website'].isnull() )]    #not null website search ques"
   ]
  },
  {
   "cell_type": "markdown",
   "metadata": {},
   "source": [
    "Grouping by the response "
   ]
  },
  {
   "cell_type": "code",
   "execution_count": 11,
   "metadata": {
    "collapsed": true
   },
   "outputs": [],
   "source": [
    "web = pd.DataFrame(website.groupby(['used_website','survey_month']).member_id.nunique()).reset_index()\n",
    "web['prop_ques_\"used_website\"_response'] = ((web['member_id']/web['member_id'].sum())*100).round(2)\n",
    "web.rename(columns = {'member_id' : 'cnt_members'},inplace=True)"
   ]
  },
  {
   "cell_type": "markdown",
   "metadata": {},
   "source": [
    "looking at clickstream data for these mem"
   ]
  },
  {
   "cell_type": "code",
   "execution_count": 12,
   "metadata": {
    "collapsed": true
   },
   "outputs": [],
   "source": [
    "\n",
    "web_yes_nav = pd.merge(website,nav,on = ['member_id','survey_month'], how = 'inner')\n",
    "\n",
    "abc_no_sub = pd.DataFrame(web_yes_nav.groupby(['survey_month','used_website']).member_id.nunique()).reset_index()\n",
    "abc_no_sub.rename(columns = {'member_id' : 'nav_login_no_sub'},inplace=True)\n"
   ]
  },
  {
   "cell_type": "markdown",
   "metadata": {},
   "source": [
    "looking at clickstream data for the subscribers "
   ]
  },
  {
   "cell_type": "code",
   "execution_count": 13,
   "metadata": {
    "collapsed": true
   },
   "outputs": [],
   "source": [
    "web_yes_nav_sub = pd.merge(website,nav_sub,on = ['member_id','survey_month'], how = 'inner')\n",
    "\n",
    "abc_sub = pd.DataFrame(web_yes_nav_sub.groupby(['survey_month','used_website']).member_id.nunique()).reset_index()\n",
    "abc_sub .rename(columns = {'member_id' : 'nav_login_sub'},inplace=True)\n",
    "\n"
   ]
  },
  {
   "cell_type": "code",
   "execution_count": 14,
   "metadata": {
    "collapsed": true
   },
   "outputs": [],
   "source": [
    "abc = pd.merge(abc_no_sub,abc_sub,on = ['used_website','survey_month'],how='left')\n",
    "abc['nav_login'] = abc['nav_login_no_sub'] + abc['nav_login_sub']\n",
    "abc = abc[['survey_month' , 'used_website','nav_login']]"
   ]
  },
  {
   "cell_type": "code",
   "execution_count": 15,
   "metadata": {
    "collapsed": true
   },
   "outputs": [],
   "source": [
    "web = pd.merge(web,abc,on = ['used_website','survey_month'],how='left')\n",
    "web.fillna(0,inplace=True)\n",
    "web['prop_actually_used_web'] = ((web['nav_login']/web['cnt_members'])*100).round(2)"
   ]
  },
  {
   "cell_type": "code",
   "execution_count": 16,
   "metadata": {
    "collapsed": true
   },
   "outputs": [],
   "source": [
    "udf = lambda x : 'Yes' if x==1 else 'No'\n",
    "web['used_website'] = web['used_website'].apply(udf)\n",
    "web.rename(columns = {'used_website' : 'ques_used_website_response' , 'nav_login' : 'cnt_mbr_nav_login' },inplace=True)"
   ]
  },
  {
   "cell_type": "code",
   "execution_count": 17,
   "metadata": {},
   "outputs": [
    {
     "data": {
      "text/html": [
       "<div>\n",
       "<style>\n",
       "    .dataframe thead tr:only-child th {\n",
       "        text-align: right;\n",
       "    }\n",
       "\n",
       "    .dataframe thead th {\n",
       "        text-align: left;\n",
       "    }\n",
       "\n",
       "    .dataframe tbody tr th {\n",
       "        vertical-align: top;\n",
       "    }\n",
       "</style>\n",
       "<table border=\"1\" class=\"dataframe\">\n",
       "  <thead>\n",
       "    <tr style=\"text-align: right;\">\n",
       "      <th></th>\n",
       "      <th>ques_used_website_response</th>\n",
       "      <th>survey_month</th>\n",
       "      <th>cnt_members</th>\n",
       "      <th>prop_ques_\"used_website\"_response</th>\n",
       "      <th>cnt_mbr_nav_login</th>\n",
       "      <th>prop_actually_used_web</th>\n",
       "    </tr>\n",
       "  </thead>\n",
       "  <tbody>\n",
       "    <tr>\n",
       "      <th>0</th>\n",
       "      <td>Yes</td>\n",
       "      <td>2020-08-01</td>\n",
       "      <td>7480</td>\n",
       "      <td>62.06</td>\n",
       "      <td>3621</td>\n",
       "      <td>48.41</td>\n",
       "    </tr>\n",
       "    <tr>\n",
       "      <th>1</th>\n",
       "      <td>No</td>\n",
       "      <td>2020-08-01</td>\n",
       "      <td>4572</td>\n",
       "      <td>37.94</td>\n",
       "      <td>616</td>\n",
       "      <td>13.47</td>\n",
       "    </tr>\n",
       "  </tbody>\n",
       "</table>\n",
       "</div>"
      ],
      "text/plain": [
       "  ques_used_website_response survey_month  cnt_members  \\\n",
       "0                        Yes   2020-08-01         7480   \n",
       "1                         No   2020-08-01         4572   \n",
       "\n",
       "   prop_ques_\"used_website\"_response  cnt_mbr_nav_login  \\\n",
       "0                              62.06               3621   \n",
       "1                              37.94                616   \n",
       "\n",
       "   prop_actually_used_web  \n",
       "0                   48.41  \n",
       "1                   13.47  "
      ]
     },
     "execution_count": 17,
     "metadata": {},
     "output_type": "execute_result"
    }
   ],
   "source": [
    "web"
   ]
  },
  {
   "cell_type": "markdown",
   "metadata": {},
   "source": [
    "# CALLED CSR"
   ]
  },
  {
   "cell_type": "code",
   "execution_count": 18,
   "metadata": {
    "collapsed": true
   },
   "outputs": [],
   "source": [
    "called = mem[(~mem['called_csr'].isnull() )]"
   ]
  },
  {
   "cell_type": "code",
   "execution_count": 19,
   "metadata": {
    "collapsed": true
   },
   "outputs": [],
   "source": [
    "call_csr = pd.DataFrame(called.groupby(['called_csr','survey_month']).member_id.nunique()).reset_index()\n",
    "call_csr['prop_ques_\"called_csr\"_response'] = ((call_csr['member_id']/call_csr['member_id'].sum())*100).round(2)\n",
    "call_csr.rename(columns = {'member_id' : 'cnt_members'},inplace=True)"
   ]
  },
  {
   "cell_type": "markdown",
   "metadata": {},
   "source": [
    "Joining with ASD Calls data "
   ]
  },
  {
   "cell_type": "code",
   "execution_count": 20,
   "metadata": {
    "collapsed": true
   },
   "outputs": [],
   "source": [
    "calls_no_sub = pd.merge(call,called,on =['member_id'],how='inner')\n",
    "\n",
    "abcd_no_sub = pd.DataFrame(calls_no_sub.groupby(['called_csr']).member_id.nunique()).reset_index()\n",
    "abcd_no_sub.rename(columns = {'member_id' : 'called_aetna_no_sub'},inplace=True)\n"
   ]
  },
  {
   "cell_type": "code",
   "execution_count": 21,
   "metadata": {
    "collapsed": true
   },
   "outputs": [],
   "source": [
    "calls_sub = pd.merge(call_sub,called,on =['member_id'],how='inner')\n",
    "\n",
    "abcd_sub = pd.DataFrame(calls_sub.groupby(['called_csr']).member_id.nunique()).reset_index()\n",
    "abcd_sub.rename(columns = {'member_id' : 'called_aetna_sub'},inplace=True)\n"
   ]
  },
  {
   "cell_type": "code",
   "execution_count": 22,
   "metadata": {
    "collapsed": true
   },
   "outputs": [],
   "source": [
    "abcd = pd.merge(abcd_no_sub,abcd_sub,on = ['called_csr'],how='left')\n",
    "abcd['called_aetna'] = abcd['called_aetna_sub'] + abcd['called_aetna_no_sub']\n",
    "abcd = abcd[['called_csr' ,'called_aetna']]"
   ]
  },
  {
   "cell_type": "code",
   "execution_count": 23,
   "metadata": {
    "collapsed": true
   },
   "outputs": [],
   "source": [
    "call_csr = pd.merge(call_csr,abcd,on = ['called_csr'],how='left')\n",
    "call_csr.fillna(0,inplace=True)\n",
    "call_csr['prop_called_aetna'] = ((call_csr['called_aetna']/call_csr['cnt_members'])*100).round(2)"
   ]
  },
  {
   "cell_type": "code",
   "execution_count": 24,
   "metadata": {
    "collapsed": true
   },
   "outputs": [],
   "source": [
    "call_csr['called_csr'] = call_csr['called_csr'].apply(udf)\n",
    "call_csr.rename(columns = {'called_csr' : 'ques_called_csr_response' , 'called_aetna' : 'cnt_mbr_called_aetna' },inplace=True)"
   ]
  },
  {
   "cell_type": "code",
   "execution_count": 25,
   "metadata": {
    "collapsed": true
   },
   "outputs": [],
   "source": [
    "calls = pd.concat([calls_sub,calls_no_sub])"
   ]
  },
  {
   "cell_type": "markdown",
   "metadata": {},
   "source": [
    "Reason for Call"
   ]
  },
  {
   "cell_type": "code",
   "execution_count": 26,
   "metadata": {
    "collapsed": true
   },
   "outputs": [],
   "source": [
    " calls.dropna(subset=['service_request_type_description','service_request_subtype_description'],inplace=True)"
   ]
  },
  {
   "cell_type": "code",
   "execution_count": 27,
   "metadata": {
    "collapsed": true
   },
   "outputs": [],
   "source": [
    "reason_call= pd.DataFrame(calls.groupby(['service_request_type_description','survey_month_x']).member_id.nunique()).reset_index()\n",
    "Top_reason = reason_call.sort_values(ascending = False, by = (['survey_month_x','member_id'])).head(10)\n",
    "Top_reason.rename(columns = {'member_id' : 'cnt_members','survey_month_x': 'survey_month'},inplace=True)"
   ]
  },
  {
   "cell_type": "code",
   "execution_count": 28,
   "metadata": {
    "collapsed": true
   },
   "outputs": [],
   "source": [
    "reason_call= pd.DataFrame(calls.groupby(['service_request_subtype_description','survey_month_x']).member_id.nunique()).reset_index()\n",
    "Top_sub_reason = reason_call.sort_values(ascending = False, by = (['survey_month_x','member_id'])).head(10)\n",
    "Top_sub_reason.rename(columns = {'member_id' : 'cnt_members','survey_month_x': 'survey_month'},inplace=True)"
   ]
  },
  {
   "cell_type": "markdown",
   "metadata": {},
   "source": [
    "# Each MIP Task"
   ]
  },
  {
   "cell_type": "markdown",
   "metadata": {},
   "source": [
    "Putting all the tasks in a list"
   ]
  },
  {
   "cell_type": "code",
   "execution_count": 29,
   "metadata": {
    "collapsed": true
   },
   "outputs": [],
   "source": [
    "list_1 = ['doctor_search','review_coverage','received_eob','reviewed_claim','filled_prescription','called_csr','used_website']"
   ]
  },
  {
   "cell_type": "markdown",
   "metadata": {},
   "source": [
    "For each task, looking at Yes-No response proportion"
   ]
  },
  {
   "cell_type": "code",
   "execution_count": 30,
   "metadata": {
    "collapsed": true
   },
   "outputs": [],
   "source": [
    "d={'response' :[ 1,2]}\n",
    "task_response = pd.DataFrame(d)\n",
    "for i in range(0,7):\n",
    "        abc = pd.DataFrame(mem.groupby(list_1[i]).member_id.nunique()).reset_index()  \n",
    "        abc.rename(columns = {list_1[i] : 'response' , 'member_id' : list_1[i]+'_mbr_cnt'},inplace=True)\n",
    "        abc[list_1[i]+'_mbr_cnt_prop'] = ((abc[list_1[i]+'_mbr_cnt']/abc[list_1[i]+'_mbr_cnt'].sum())*100).round(2)\n",
    "        task_response = pd.merge(task_response,abc)\n",
    "        \n",
    "task_response['response'] = task_response['response'].apply(udf)\n",
    "date = pd.DataFrame([mem.survey_month.unique()]*len(task_response),columns = {'survey_month'})\n",
    "task_response['survey_month'] = date['survey_month']\n"
   ]
  },
  {
   "cell_type": "code",
   "execution_count": 31,
   "metadata": {},
   "outputs": [
    {
     "data": {
      "text/html": [
       "<div>\n",
       "<style>\n",
       "    .dataframe thead tr:only-child th {\n",
       "        text-align: right;\n",
       "    }\n",
       "\n",
       "    .dataframe thead th {\n",
       "        text-align: left;\n",
       "    }\n",
       "\n",
       "    .dataframe tbody tr th {\n",
       "        vertical-align: top;\n",
       "    }\n",
       "</style>\n",
       "<table border=\"1\" class=\"dataframe\">\n",
       "  <thead>\n",
       "    <tr style=\"text-align: right;\">\n",
       "      <th></th>\n",
       "      <th>response</th>\n",
       "      <th>doctor_search_mbr_cnt</th>\n",
       "      <th>doctor_search_mbr_cnt_prop</th>\n",
       "      <th>review_coverage_mbr_cnt</th>\n",
       "      <th>review_coverage_mbr_cnt_prop</th>\n",
       "      <th>received_eob_mbr_cnt</th>\n",
       "      <th>received_eob_mbr_cnt_prop</th>\n",
       "      <th>reviewed_claim_mbr_cnt</th>\n",
       "      <th>reviewed_claim_mbr_cnt_prop</th>\n",
       "      <th>filled_prescription_mbr_cnt</th>\n",
       "      <th>filled_prescription_mbr_cnt_prop</th>\n",
       "      <th>called_csr_mbr_cnt</th>\n",
       "      <th>called_csr_mbr_cnt_prop</th>\n",
       "      <th>used_website_mbr_cnt</th>\n",
       "      <th>used_website_mbr_cnt_prop</th>\n",
       "      <th>survey_month</th>\n",
       "    </tr>\n",
       "  </thead>\n",
       "  <tbody>\n",
       "    <tr>\n",
       "      <th>0</th>\n",
       "      <td>Yes</td>\n",
       "      <td>4898</td>\n",
       "      <td>40.64</td>\n",
       "      <td>6496</td>\n",
       "      <td>53.9</td>\n",
       "      <td>8902</td>\n",
       "      <td>73.86</td>\n",
       "      <td>7001</td>\n",
       "      <td>58.09</td>\n",
       "      <td>10213</td>\n",
       "      <td>84.74</td>\n",
       "      <td>5000</td>\n",
       "      <td>41.49</td>\n",
       "      <td>7480</td>\n",
       "      <td>62.06</td>\n",
       "      <td>2020-08-01</td>\n",
       "    </tr>\n",
       "    <tr>\n",
       "      <th>1</th>\n",
       "      <td>No</td>\n",
       "      <td>7154</td>\n",
       "      <td>59.36</td>\n",
       "      <td>5556</td>\n",
       "      <td>46.1</td>\n",
       "      <td>3150</td>\n",
       "      <td>26.14</td>\n",
       "      <td>5051</td>\n",
       "      <td>41.91</td>\n",
       "      <td>1839</td>\n",
       "      <td>15.26</td>\n",
       "      <td>7052</td>\n",
       "      <td>58.51</td>\n",
       "      <td>4572</td>\n",
       "      <td>37.94</td>\n",
       "      <td>2020-08-01</td>\n",
       "    </tr>\n",
       "  </tbody>\n",
       "</table>\n",
       "</div>"
      ],
      "text/plain": [
       "  response  doctor_search_mbr_cnt  doctor_search_mbr_cnt_prop  \\\n",
       "0      Yes                   4898                       40.64   \n",
       "1       No                   7154                       59.36   \n",
       "\n",
       "   review_coverage_mbr_cnt  review_coverage_mbr_cnt_prop  \\\n",
       "0                     6496                          53.9   \n",
       "1                     5556                          46.1   \n",
       "\n",
       "   received_eob_mbr_cnt  received_eob_mbr_cnt_prop  reviewed_claim_mbr_cnt  \\\n",
       "0                  8902                      73.86                    7001   \n",
       "1                  3150                      26.14                    5051   \n",
       "\n",
       "   reviewed_claim_mbr_cnt_prop  filled_prescription_mbr_cnt  \\\n",
       "0                        58.09                        10213   \n",
       "1                        41.91                         1839   \n",
       "\n",
       "   filled_prescription_mbr_cnt_prop  called_csr_mbr_cnt  \\\n",
       "0                             84.74                5000   \n",
       "1                             15.26                7052   \n",
       "\n",
       "   called_csr_mbr_cnt_prop  used_website_mbr_cnt  used_website_mbr_cnt_prop  \\\n",
       "0                    41.49                  7480                      62.06   \n",
       "1                    58.51                  4572                      37.94   \n",
       "\n",
       "  survey_month  \n",
       "0   2020-08-01  \n",
       "1   2020-08-01  "
      ]
     },
     "execution_count": 31,
     "metadata": {},
     "output_type": "execute_result"
    }
   ],
   "source": [
    "task_response"
   ]
  },
  {
   "cell_type": "markdown",
   "metadata": {},
   "source": [
    "# MIP Tasks"
   ]
  },
  {
   "cell_type": "code",
   "execution_count": 32,
   "metadata": {
    "collapsed": true
   },
   "outputs": [],
   "source": [
    "TB = lambda x : '  Top' if x == 5 else '  Bottom'"
   ]
  },
  {
   "cell_type": "markdown",
   "metadata": {},
   "source": [
    "Grouping by all tasks and looking at members with different customer satisfaction scores"
   ]
  },
  {
   "cell_type": "code",
   "execution_count": 33,
   "metadata": {
    "collapsed": true
   },
   "outputs": [],
   "source": [
    "def cs(sat_metric):   \n",
    "    query1=\"\"\"\n",
    "    select {0} ,survey_month,\n",
    "    count(distinct case when customer_satisfaction = 1 then member_id end  ) as CSAT_not_at_all_satisfied,\n",
    "    count(distinct case when customer_satisfaction = 2 then member_id end ) as CSAT_not_too_satisfied,\n",
    "    count(distinct case when customer_satisfaction = 3 then member_id end ) as CSAT_somewhat_satisfied,\n",
    "    count(distinct case when customer_satisfaction = 4 then member_id end  ) as CSAT_very_satisfied,\n",
    "    count(distinct case when customer_satisfaction = 5 then member_id end ) as CSAT_completely_satisfied\n",
    "    from cust_exp_enc.n323489_Med_mem\n",
    "    where {0} in (1,5)\n",
    "    group by {0},survey_month\n",
    "    \"\"\".format(sat_metric) \n",
    "    test=hc.sql(query1)\n",
    "    test1=test.toPandas()\n",
    "    test1['satisfaction'] = test1[sat_metric].apply(TB)\n",
    "    test1['question'] =  [sat_metric,sat_metric]    +test1['satisfaction']\n",
    "    #test1['question'] =  test1[sat_metric].astype('str')+  [' ',' '] +  [sat_metric,sat_metric] \n",
    "    test1.drop([sat_metric],axis = 1,inplace = True) \n",
    "    return test1 "
   ]
  },
  {
   "cell_type": "markdown",
   "metadata": {},
   "source": [
    "# Key Metrices"
   ]
  },
  {
   "cell_type": "code",
   "execution_count": 34,
   "metadata": {
    "collapsed": true
   },
   "outputs": [],
   "source": [
    "def func(question) :\n",
    "    \n",
    "    #taking Top bottom satisfaction members\n",
    "    a = [1.0,5.0]\n",
    "    doc = mem[mem[question].isin(a)]     \n",
    "\n",
    "    mem_doc = pd.DataFrame(doc[question].value_counts()).reset_index()\n",
    "    mem_doc.rename(columns = {'index' : question, question :'cnt_mbrs'},inplace= True)\n",
    "\n",
    "    #Customer Satisfaction  \n",
    "\n",
    "    cs = pd.DataFrame(doc.groupby([question]).customer_satisfaction.mean().round(2)).reset_index()\n",
    "    cs.rename(columns = {'customer_satisfaction' : 'avg_customer_satisfaction_score'},inplace=True)\n",
    "\n",
    "    doctor = pd.merge(mem_doc,cs,on = [question])\n",
    "    \n",
    "    doctor['satisfaction'] = doctor[question].apply(TB)\n",
    "    doctor['question'] =   [question,question] + doctor['satisfaction']\n",
    "    #doctor['question'] = doctor[question].astype('str') + [' ',' '] + [question,question]\n",
    "\n",
    "    doctor['survey_month'] = date['survey_month']\n",
    "    doctor = doctor[['question',question,'survey_month','cnt_mbrs','avg_customer_satisfaction_score']]\n",
    "    #Navigator Login     \n",
    "\n",
    "    doc_nav = pd.merge(doc,nav_mem,on = ['member_id'], how ='inner')\n",
    "\n",
    "    login_cnt = pd.DataFrame(doc_nav.groupby([question]).login_count.sum()).reset_index()\n",
    "    login_cnt.rename(columns = {'member_id' :'number_of_logins'},inplace=True)\n",
    "\n",
    "    login_mem = pd.DataFrame(doc_nav.groupby([question]).member_id.nunique()).reset_index()\n",
    "    login_mem.rename(columns = {'member_id' :'mbrs_nav_login'},inplace=True)\n",
    "\n",
    "    login_con = pd.merge(login_mem,login_cnt,on = [question])\n",
    "    login_con['avg_login_per_mbr'] = (login_con['login_count']/login_con['mbrs_nav_login']).round(2)\n",
    "\n",
    "    doctor = pd.merge(doctor,login_con,on = [question])\n",
    "    \n",
    "    #Claims Data\n",
    "\n",
    "    doc_clm = pd.merge(doc,clm,on = ['member_id'], how ='inner')\n",
    "    doc_clm['concat'] = doc_clm.member_id.astype(str) + doc_clm.srv_start_dt.astype(str)\n",
    "\n",
    "    clm_cnt_paid = pd.DataFrame(doc_clm[doc_clm['clm_ln_status_cd'] == 'P'].groupby([question]).concat.nunique()).reset_index()\n",
    "    clm_cnt_paid.rename(columns = {'concat' :'total_paid_clm'},inplace=True)\n",
    "\n",
    "    clm_mem_paid = pd.DataFrame(doc_clm[doc_clm['clm_ln_status_cd'] == 'P'].groupby([question]).member_id.nunique()).reset_index()\n",
    "    clm_mem_paid.rename(columns = {'member_id' :'mbrs_clm_paid'},inplace=True)\n",
    "\n",
    "    clm_con_paid = pd.merge(clm_mem_paid,clm_cnt_paid,on = [question])\n",
    "    clm_con_paid['avg_paid_clm_per_mem'] = (clm_con_paid['total_paid_clm']/clm_con_paid['mbrs_clm_paid']).round(2)\n",
    "    \n",
    "    clm_cnt_den = pd.DataFrame(doc_clm[doc_clm['clm_ln_status_cd'] == 'D'].groupby([question]).concat.nunique()).reset_index()\n",
    "    clm_cnt_den.rename(columns = {'concat' :'total_den_clm'},inplace=True)\n",
    "\n",
    "    clm_mem_den = pd.DataFrame(doc_clm[doc_clm['clm_ln_status_cd'] == 'D'].groupby([question]).member_id.nunique()).reset_index()\n",
    "    clm_mem_den.rename(columns = {'member_id' :'mbrs_clm_den'},inplace=True)\n",
    "\n",
    "    clm_con_den = pd.merge(clm_mem_den,clm_cnt_den,on = [question])\n",
    "    clm_con_den['avg_den_clm_per_mem'] = (clm_con_den['total_den_clm']/clm_con_den['mbrs_clm_den']).round(2)\n",
    "    \n",
    "    clm_concat = pd.merge(clm_con_den ,clm_con_paid)\n",
    "    \n",
    "    paid_amt_avg = pd.DataFrame(doc_clm[doc_clm['clm_ln_status_cd'] == 'P'].groupby([question]).paid_amt.mean().round(2)).reset_index()\n",
    "    paid_amt_avg.rename(columns = {'paid_amt' :'avg_paid_amt'},inplace=True)\n",
    "    \n",
    "    paid_amt_median = pd.DataFrame(doc_clm[doc_clm['clm_ln_status_cd'] == 'P'].groupby([question]).paid_amt.median().round(2)).reset_index()\n",
    "    paid_amt_median.rename(columns = {'paid_amt' :'median_paid_amt'},inplace=True)\n",
    "    \n",
    "    paid_con = pd.merge(paid_amt_avg ,paid_amt_median)\n",
    "    \n",
    "    clm_con = pd.merge(clm_concat ,paid_con)\n",
    "    \n",
    "    doctor = pd.merge(doctor,clm_con, on = [question])\n",
    "    #Calls\n",
    "\n",
    "    doc_call = pd.merge(doc,call,on = ['member_id' ], how ='inner')\n",
    "\n",
    "    call_cnt = pd.DataFrame(doc_call.groupby([question]).event_identifier.nunique()).reset_index()\n",
    "    call_cnt.rename(columns = {'event_identifier' :'total_calls'},inplace=True)\n",
    "\n",
    "    call_mem = pd.DataFrame(doc_call.groupby([question]).member_id.nunique()).reset_index()\n",
    "    call_mem.rename(columns = {'member_id' :'total_mem_called'},inplace=True)\n",
    "\n",
    "    call_con = pd.merge(call_mem,call_cnt,on = [question])\n",
    "    call_con['avg_call_per_mem'] = (call_con['total_calls']/call_con['total_mem_called']).round(2)\n",
    "\n",
    "    doctor = pd.merge(doctor,call_con, on = [question])\n",
    "    doctor.drop([question],axis = 1,inplace = True)\n",
    "    return doctor"
   ]
  },
  {
   "cell_type": "markdown",
   "metadata": {},
   "source": [
    "# Specialities"
   ]
  },
  {
   "cell_type": "code",
   "execution_count": 35,
   "metadata": {
    "collapsed": true
   },
   "outputs": [],
   "source": [
    "def speciality_top(question) :\n",
    "    \n",
    "        #taking Top bottom satisfaction members\n",
    "        a = [1.0,5.0]\n",
    "        doc = mem[mem[question].isin(a)]     \n",
    "        \n",
    "        #Claims Data - Top specialities\n",
    "        clm_paid= clm[clm['clm_ln_status_cd'] == 'P']\n",
    "        \n",
    "        doc_clm = pd.merge(doc,clm_paid,on = ['member_id'], how ='inner')\n",
    "\n",
    "        bottom = pd.DataFrame(doc_clm[doc_clm[question]== 1.0].groupby(['srv_spclty_ctg_cd_desc','survey_month_x']).member_id.nunique()).reset_index()\n",
    "        bottom.rename(columns = {'survey_month_x': 'survey_month','member_id' : 'bottom_mbr_cnt'},inplace=True)\n",
    "\n",
    "        top = pd.DataFrame(doc_clm[doc_clm[question]== 5.0].groupby(['srv_spclty_ctg_cd_desc','survey_month_x']).member_id.nunique()).reset_index()\n",
    "        top.rename(columns = {'survey_month_x': 'survey_month','member_id' : 'top_mbr_cnt'},inplace=True)\n",
    "\n",
    "        specialities = pd.merge(top,bottom,how='outer')\n",
    "        specialities['total_mem'] = specialities['bottom_mbr_cnt'] + specialities['top_mbr_cnt']\n",
    "\n",
    "        specialities['bottom_prop'] = ((specialities['bottom_mbr_cnt']/specialities['total_mem'])*100).round(2)\n",
    "\n",
    "        sum_mbr = (doc.member_id.nunique())*.02\n",
    "\n",
    "        specialities = specialities[specialities['total_mem'] >= sum_mbr]\n",
    "        specialities.sort_values(ascending = False,by = 'bottom_prop',inplace=True)\n",
    "        specialities.rename(columns = {'bottom_prop' : 'bottom_prop' + '_' + str(question)},inplace=True)\n",
    "        return specialities[['survey_month','srv_spclty_ctg_cd_desc','bottom_prop' + '_' + str(question)]].head(10)"
   ]
  },
  {
   "cell_type": "markdown",
   "metadata": {},
   "source": [
    "Putting all the data into different dataframes"
   ]
  },
  {
   "cell_type": "code",
   "execution_count": 36,
   "metadata": {
    "collapsed": true
   },
   "outputs": [],
   "source": [
    "c = []\n",
    "speciality = pd.DataFrame(columns = speciality_top('sat_doctor_search').columns)\n",
    "\n",
    "abc = ['sat_doctor_search', 'sat_review_coverage', 'sat_received_eob','sat_reviewed_claim', 'sat_filled_prescription', 'sat_called_csr','sat_used_website']\n",
    "for i in abc :\n",
    "    abcd = speciality_top(i)\n",
    "    speciality = pd.merge(speciality,abcd,how = 'outer')\n"
   ]
  },
  {
   "cell_type": "code",
   "execution_count": 37,
   "metadata": {
    "collapsed": true
   },
   "outputs": [],
   "source": [
    "c = []\n",
    "df = pd.DataFrame(columns = func('sat_doctor_search').columns)\n",
    "\n",
    "abc = ['sat_doctor_search', 'sat_review_coverage', 'sat_received_eob','sat_reviewed_claim', 'sat_filled_prescription', 'sat_called_csr','sat_used_website']\n",
    "for i in abc :\n",
    "    abcd = func(i)\n",
    "    df = pd.concat([df,abcd])"
   ]
  },
  {
   "cell_type": "code",
   "execution_count": 38,
   "metadata": {
    "collapsed": true
   },
   "outputs": [],
   "source": [
    "c = []\n",
    "satisfaction = pd.DataFrame(columns = cs('sat_doctor_search').columns)\n",
    "\n",
    "abc = ['sat_doctor_search', 'sat_review_coverage', 'sat_received_eob','sat_reviewed_claim', 'sat_filled_prescription', 'sat_called_csr','sat_used_website']\n",
    "for i in abc :\n",
    "    abcd = cs(i)\n",
    "    satisfaction = pd.concat([satisfaction,abcd])\n",
    "    "
   ]
  },
  {
   "cell_type": "markdown",
   "metadata": {},
   "source": [
    "Storing these into temp tables in hive"
   ]
  },
  {
   "cell_type": "code",
   "execution_count": 39,
   "metadata": {
    "collapsed": true
   },
   "outputs": [],
   "source": [
    "#----First Tab\n",
    "\n",
    "web = hc.createDataFrame(web)\n",
    "call_csr = hc.createDataFrame(call_csr)\n",
    "Top_reason = hc.createDataFrame(Top_reason)\n",
    "Top_sub_reason = hc.createDataFrame(Top_sub_reason)\n",
    "\n",
    "#--Second Tab \n",
    "\n",
    "task_response = hc.createDataFrame(task_response)\n",
    "satisfaction = hc.createDataFrame(satisfaction)\n",
    "\n",
    "#--Third Tab\n",
    "\n",
    "df = hc.createDataFrame(df)\n",
    "\n",
    "#--Fouth Tab\n",
    "\n",
    "speciality = hc.createDataFrame(speciality)"
   ]
  },
  {
   "cell_type": "markdown",
   "metadata": {},
   "source": [
    "web.write.mode(\"overwrite\").saveAsTable('cust_exp_enc.n323489_web')\n",
    "call_csr.write.mode(\"overwrite\").saveAsTable('cust_exp_enc.n323489_call_csr')\n",
    "Top_reason.write.mode(\"overwrite\").saveAsTable('cust_exp_enc.n323489_top_reason')\n",
    "Top_sub_reason.write.mode(\"overwrite\").saveAsTable('cust_exp_enc.n323489_top_sub_reason')\n",
    "\n",
    "task_response.write.mode(\"overwrite\").saveAsTable('cust_exp_enc.n323489_task_response')\n",
    "satisfaction.write.mode(\"overwrite\").saveAsTable('cust_exp_enc.n323489_satisfaction')\n",
    "\n",
    "df.write.mode(\"overwrite\").saveAsTable('cust_exp_enc.n323489_question')\n",
    "speciality.write.mode(\"overwrite\").saveAsTable('cust_exp_enc.n323489_speciality')\n"
   ]
  },
  {
   "cell_type": "code",
   "execution_count": 40,
   "metadata": {
    "collapsed": true
   },
   "outputs": [],
   "source": [
    "web.write.mode(\"overwrite\").saveAsTable('cust_exp_enc.n323489_web_temp')"
   ]
  },
  {
   "cell_type": "code",
   "execution_count": 41,
   "metadata": {
    "collapsed": true
   },
   "outputs": [],
   "source": [
    "call_csr.write.mode(\"overwrite\").saveAsTable('cust_exp_enc.n323489_call_csr_temp')"
   ]
  },
  {
   "cell_type": "code",
   "execution_count": 42,
   "metadata": {
    "collapsed": true
   },
   "outputs": [],
   "source": [
    "Top_reason.write.mode(\"overwrite\").saveAsTable('cust_exp_enc.n323489_top_reason_temp')"
   ]
  },
  {
   "cell_type": "code",
   "execution_count": 43,
   "metadata": {
    "collapsed": true
   },
   "outputs": [],
   "source": [
    "Top_sub_reason.write.mode(\"overwrite\").saveAsTable('cust_exp_enc.n323489_top_sub_reason_temp')"
   ]
  },
  {
   "cell_type": "code",
   "execution_count": 44,
   "metadata": {
    "collapsed": true
   },
   "outputs": [],
   "source": [
    "task_response.write.mode(\"overwrite\").saveAsTable('cust_exp_enc.n323489_task_response_temp')"
   ]
  },
  {
   "cell_type": "code",
   "execution_count": 45,
   "metadata": {
    "collapsed": true
   },
   "outputs": [],
   "source": [
    "satisfaction.write.mode(\"overwrite\").saveAsTable('cust_exp_enc.n323489_satisfaction_temp')"
   ]
  },
  {
   "cell_type": "code",
   "execution_count": 46,
   "metadata": {
    "collapsed": true
   },
   "outputs": [],
   "source": [
    "df.write.mode(\"overwrite\").saveAsTable('cust_exp_enc.n323489_question_temp')"
   ]
  },
  {
   "cell_type": "code",
   "execution_count": 47,
   "metadata": {
    "collapsed": true
   },
   "outputs": [],
   "source": [
    "speciality.write.mode(\"overwrite\").saveAsTable('cust_exp_enc.n323489_speciality_temp')"
   ]
  },
  {
   "cell_type": "markdown",
   "metadata": {},
   "source": [
    "Insert these temp tables into hive"
   ]
  },
  {
   "cell_type": "code",
   "execution_count": 48,
   "metadata": {
    "collapsed": true
   },
   "outputs": [],
   "source": [
    "def data_ingest_to_hive(insert_table,drop_table): \n",
    "    query1=\"\"\"\n",
    "        insert into table {0}\n",
    "        Select  * from {1}\n",
    "        \"\"\".format(insert_table,drop_table)\n",
    "    hc.sql(query1)"
   ]
  },
  {
   "cell_type": "code",
   "execution_count": 49,
   "metadata": {
    "collapsed": true
   },
   "outputs": [],
   "source": [
    "data_ingest_to_hive('cust_exp_enc.n323489_web','cust_exp_enc.n323489_web_temp')\n",
    "data_ingest_to_hive('cust_exp_enc.n323489_call_csr','cust_exp_enc.n323489_call_csr_temp')\n",
    "data_ingest_to_hive('cust_exp_enc.n323489_top_reason','cust_exp_enc.n323489_top_reason_temp')\n",
    "data_ingest_to_hive('cust_exp_enc.n323489_top_sub_reason','cust_exp_enc.n323489_top_sub_reason_temp')\n",
    "\n",
    "data_ingest_to_hive('cust_exp_enc.n323489_task_response','cust_exp_enc.n323489_task_response_temp')\n",
    "data_ingest_to_hive('cust_exp_enc.n323489_satisfaction','cust_exp_enc.n323489_satisfaction_temp')\n",
    "\n",
    "data_ingest_to_hive('cust_exp_enc.n323489_question','cust_exp_enc.n323489_question_temp')\n",
    "\n",
    "data_ingest_to_hive('cust_exp_enc.n323489_speciality','cust_exp_enc.n323489_speciality_temp')"
   ]
  },
  {
   "cell_type": "markdown",
   "metadata": {},
   "source": [
    "Now loading these tables back here to export in excel"
   ]
  },
  {
   "cell_type": "code",
   "execution_count": 32,
   "metadata": {
    "collapsed": true
   },
   "outputs": [],
   "source": [
    "list2 = ['web','call_csr','top_reason','top_sub_reason','task_response','question','satisfaction','speciality']\n",
    "for i in range(0,8):\n",
    "    list2[i] = hc.table('cust_exp_enc.n323489_' + str(list2[i])).toPandas()\n",
    "    \n",
    "for i in range(5,7):\n",
    "    list2[i].sort_values(by = ['question','survey_month'],inplace = True)\n",
    "    \n",
    "for i in range(0,2):\n",
    "    list2[i].sort_values(by = ['survey_month'],inplace = True,ascending= [True])\n",
    "    \n",
    "for i in range(2,4):\n",
    "    list2[i].sort_values(by = ['survey_month','cnt_members'],inplace = True,ascending= [True,False])\n",
    "    \n",
    "list2[4].sort_values(by = ['survey_month'],inplace = True,ascending= [True])\n",
    "list2[7].sort_values(by = ['survey_month'],inplace = True,ascending= [True])"
   ]
  },
  {
   "cell_type": "markdown",
   "metadata": {},
   "source": [
    "list2 -- list of dataframes"
   ]
  },
  {
   "cell_type": "markdown",
   "metadata": {},
   "source": [
    "# OVERALL LEVEL ANALYSIS"
   ]
  },
  {
   "cell_type": "markdown",
   "metadata": {},
   "source": [
    "#Used Website\n",
    "\n",
    "used_website = pd.DataFrame(list2[0].copy().groupby('ques_used_website_response').sum()).reset_index()\n",
    "\n",
    "used_website['prop_ques_\"used_website\"_response'] = ((used_website['cnt_members']/used_website['cnt_members'].sum())*100).round(2)\n",
    "used_website['prop_actually_used_web'] = ((used_website['cnt_mbr_nav_login']/used_website['cnt_members'])*100).round(2)\n",
    "\n",
    "col1 = list(list2[0].columns)\n",
    "col1.remove('survey_month')\n",
    "\n",
    "used_website = used_website[col1]\n",
    "\n",
    "#called csr\n",
    "\n",
    "called_csr = list2[1].copy()\n",
    "\n",
    "called_csr['called'] =  (called_csr['prop_ques_\"called_csr\"_response']* called_csr['cnt_members']*.01).round()\n",
    "\n",
    "called_csr.drop(['prop_ques_\"called_csr\"_response' ,'prop_called_aetna'], axis = 1,inplace=True )\n",
    "called_csr = pd.DataFrame(called_csr.groupby('ques_called_csr_response').sum()).reset_index()\n",
    "\n",
    "called_csr['prop_ques_\"called_csr\"_response'] = ((called_csr['cnt_members']/called_csr['cnt_members'].sum())*100).round(2)\n",
    "called_csr['prop_called_aetna'] = ((called_csr['cnt_mbr_called_aetna']/called_csr['cnt_members'])*100).round(2)\n",
    "\n",
    "col3 = list(list2[1].columns)\n",
    "col3.remove('survey_month')\n",
    "called_csr = called_csr[col3]\n",
    "\n",
    "\n",
    "#Response\n",
    "\n",
    "response = list2[4].copy()\n",
    "\n",
    "response = pd.DataFrame(response.groupby('response').sum()).reset_index()\n",
    "\n",
    "list_1 = ['doctor_search','review_coverage','received_eob','reviewed_claim','filled_prescription','called_csr','used_website']\n",
    "for i in range(0,7):\n",
    "    response[list_1[i]+'_mbr_cnt_prop'] = ((response[list_1[i]+'_mbr_cnt']/response[list_1[i]+'_mbr_cnt'].sum())*100).round(2)\n",
    "    \n",
    "#Rating\n",
    "\n",
    "rating = list2[6].copy()\n",
    "rating = pd.DataFrame(rating.groupby('question').sum()).reset_index()\n",
    "\n",
    "\n",
    "#Task Sepcific Metrics\n",
    "\n",
    "task_overall = list2[5].copy()\n",
    "task_overall['customer_satisfaction'] = task_overall['avg_customer_satisfaction_score'] *task_overall['cnt_mbrs'] \n",
    "task_overall['paid_amt'] = task_overall['avg_paid_amt'] *task_overall['mbrs_clm_paid'] \n",
    "\n",
    "\n",
    "task_overall.drop(['avg_customer_satisfaction_score','avg_login_per_mbr', 'avg_den_clm_per_mem' , 'avg_paid_clm_per_mem','avg_paid_amt','median_paid_amt','avg_call_per_mem'],axis = 1,inplace=True )\n",
    "\n",
    "task_overall = pd.DataFrame(task_overall.groupby('question').sum()).reset_index()\n",
    "\n",
    "task_overall['avg_customer_satisfaction_score'] = task_overall['customer_satisfaction']/task_overall['cnt_mbrs']\n",
    "task_overall['avg_login_per_mbr']= task_overall['login_count']/task_overall['mbrs_nav_login']\n",
    "task_overall['avg_den_clm_per_mem']= task_overall['total_den_clm']/task_overall['mbrs_clm_den']\n",
    "task_overall['avg_paid_clm_per_mem']= task_overall['total_paid_clm']/task_overall['mbrs_clm_paid']\n",
    "task_overall['avg_paid_amt']= task_overall['paid_amt']/task_overall['mbrs_clm_paid']\n",
    "task_overall['avg_call_per_mem']= task_overall['total_calls']/task_overall['total_mem_called']\n",
    "\n",
    "col = list(list2[5].columns)\n",
    "col.remove('median_paid_amt')\n",
    "col.remove('survey_month')\n",
    "\n",
    "task_overall = task_overall[col]"
   ]
  },
  {
   "cell_type": "code",
   "execution_count": 51,
   "metadata": {
    "collapsed": true
   },
   "outputs": [],
   "source": [
    "import time\n",
    "TodaysDate = time.strftime(\"%d-%m-%Y\")\n",
    "excelfilename = \"MED_REPORT_\" + TodaysDate +\".xlsx\"\n",
    "\n",
    "with pd.ExcelWriter(excelfilename) as writer:\n",
    "\n",
    "    list2[0].to_excel(writer,sheet_name = 'med_csr_digital_interaction' , startrow = 1)\n",
    "    list2[1].to_excel(writer,sheet_name = 'med_csr_digital_interaction' , startrow = len(list2[0]) + 3 )\n",
    "    list2[2].to_excel(writer,sheet_name = 'med_csr_digital_interaction' , startrow = len(list2[0]) + len(list2[1]) + 5)\n",
    "    list2[3].to_excel(writer,sheet_name = 'med_csr_digital_interaction' , startrow = len(list2[0]) + len(list2[1]) + 5, startcol = 5)\n",
    "    \n",
    "    list2[4].to_excel(writer,sheet_name = 'Response' , startrow = 1)\n",
    "    list2[6].to_excel(writer,sheet_name = 'Response' , startrow = len(list2[4]) + 4 )\n",
    "\n",
    "    \n",
    "    list2[5].to_excel(writer,sheet_name = 'Task_specific_Metrices' , startrow = 1)\n",
    "    \n",
    "    list2[7].to_excel(writer,sheet_name = 'Top_speciality' , startrow = 1)\n",
    "    \n",
    "    #overall metrices\n",
    "    \n",
    "    #used_website.to_excel(writer,sheet_name = 'Month_consolidated', startrow = 1)\n",
    "    #called_csr.to_excel(writer,sheet_name =  'Month_consolidated', startrow = len(used_website) + 3 )\n",
    "    #response.to_excel(writer,sheet_name =  'Month_consolidated', startrow = len(used_website) + 5 + len(called_csr) )\n",
    "    #rating.to_excel(writer,sheet_name =  'Month_consolidated', startrow = len(used_website) + 6 + len(response) + len ( called_csr))\n",
    "    \n",
    "    #task_overall.to_excel(writer,sheet_name = 'Month_consolidated_metrices', startrow = 1)"
   ]
  },
  {
   "cell_type": "markdown",
   "metadata": {
    "collapsed": true
   },
   "source": [
    "list2 = ['web','call_csr','top_reason','top_sub_reason','task_response','question','satisfaction','speciality']\n",
    "for i in range(0,8):\n",
    "    list2[i] = hc.table('cust_exp_enc.n323489_' + str(list2[i])).toPandas()\n",
    "    \n",
    "    Month = list(list2[5].survey_month.unique())\n",
    "with pd.ExcelWriter('MED_REPORT.xlsx') as writer:\n",
    "\n",
    "    list2[0].to_excel(writer,sheet_name = 'Med_data_validation' , startrow = 1)\n",
    "    list2[1].to_excel(writer,sheet_name = 'Med_data_validation' , startrow = len(list2[0]) + 3 )\n",
    "    list2[2].to_excel(writer,sheet_name = 'Med_data_validation' , startrow = len(list2[0]) + len(list2[1]) + 5)\n",
    "    list2[3].to_excel(writer,sheet_name = 'Med_data_validation' , startrow = len(list2[0]) + len(list2[1]) + 5, startcol = 5)\n",
    "    \n",
    "    list2[4].to_excel(writer,sheet_name = 'Response' , startrow = 1)\n",
    "    for i in range(0,len(Month)):  \n",
    "        \n",
    "        list2[6][list2[6]['survey_month'] == Month[i]].to_excel(writer,sheet_name = 'Response' , startrow = len(list2[4]) + 4 ,startcol = len(list2[5].columns)* i + 3 )\n",
    "\n",
    "    \n",
    "    for i in range(0,len(Month)):  \n",
    "        list2[5][list2[5]['survey_month'] == Month[i]].to_excel(writer,sheet_name = 'Task_specific_Metrices' , startrow = 1,startcol = len(list2[5].columns)* i + 3)\n",
    "      \n",
    "        list2[7].to_excel(writer,sheet_name = 'Top_speciality' , startrow = 1)\n",
    "    "
   ]
  }
 ],
 "metadata": {
  "kernelspec": {
   "display_name": "Python 2",
   "language": "python",
   "name": "python2"
  },
  "language_info": {
   "codemirror_mode": {
    "name": "ipython",
    "version": 2
   },
   "file_extension": ".py",
   "mimetype": "text/x-python",
   "name": "python",
   "nbconvert_exporter": "python",
   "pygments_lexer": "ipython2",
   "version": "2.7.13"
  }
 },
 "nbformat": 4,
 "nbformat_minor": 2
}
